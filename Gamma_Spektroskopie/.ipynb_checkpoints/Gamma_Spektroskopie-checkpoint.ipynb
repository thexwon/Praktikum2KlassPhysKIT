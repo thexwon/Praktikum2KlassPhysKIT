{
 "cells": [
  {
   "cell_type": "markdown",
   "id": "6b209e61-005b-47d8-93bb-bad98b3b846f",
   "metadata": {},
   "source": [
    "<img src=\"./figures/Logo_KIT.svg\" width=\"250\" height=\"250\" style=\"zoom:15%;float:right;\" />\n",
    "\n",
    "# Fakultät für Physik\n",
    "\n",
    "## Physikalisches Praktikum P2 für Studierende der Physik\n",
    "\n",
    "Versuch P2-72, 73, 83 (Stand: April 2023)\n",
    "\n",
    "[Raum F2-19](http://www-ekp.physik.uni-karlsruhe.de/~simonis/praktikum/layoutobjekte/Lageplan_P1.png)"
   ]
  },
  {
   "cell_type": "markdown",
   "id": "8325ca3f-3703-401b-9d86-06365071d964",
   "metadata": {},
   "source": [
    "Name: Schwarz Vorname: Felix E-Mail: unuhz@student.kit.edu\n",
    "\n",
    "\\begin{equation*}\n",
    "\\begin{split}\n",
    "&\\\\\n",
    "&\\\\\n",
    "\\end{split}\n",
    "\\end{equation*}\n",
    "\n",
    "Name: Steib Vorname: Lukas E-Mail: uzmpb@student.kit.edu\n",
    "\n",
    "\\begin{equation*}\n",
    "\\begin{split}\n",
    "&\\\\\n",
    "&\\\\\n",
    "&\\\\\n",
    "\\end{split}\n",
    "\\end{equation*}\n",
    "\n",
    "Gruppennummer: Mo-21\n",
    "\n",
    "\\begin{equation*}\n",
    "\\begin{split}\n",
    "&\\\\\n",
    "&\\\\\n",
    "&\\\\\n",
    "\\end{split}\n",
    "\\end{equation*}\n",
    "\n",
    "\n",
    "Betreuer: Valentin Münz \n",
    "\n",
    "\\begin{equation*}\n",
    "\\begin{split}\n",
    "&\\\\\n",
    "&\\\\\n",
    "&\\\\\n",
    "\\end{split}\n",
    "\\end{equation*}\n",
    "\n",
    "Versuch durchgeführt am: 05.06.2023"
   ]
  },
  {
   "cell_type": "markdown",
   "id": "738d0368-6866-4933-af0b-19fac74143fc",
   "metadata": {},
   "source": [
    "---\n",
    "\n",
    "**Beanstandungen:**\n",
    "\n",
    "\\begin{equation*}\n",
    "\\begin{split}\n",
    "&\\\\\n",
    "&\\\\\n",
    "&\\\\\n",
    "&\\\\\n",
    "&\\\\\n",
    "&\\\\\n",
    "&\\\\\n",
    "&\\\\\n",
    "&\\\\\n",
    "&\\\\\n",
    "\\end{split}\n",
    "%\\text{\\vspace{10cm}}\n",
    "\\end{equation*}\n",
    "\n",
    "<br>\n",
    "Testiert am: __________________ Vermerk: __________________"
   ]
  },
  {
   "cell_type": "markdown",
   "id": "74b4df7b-5b6d-45f6-b73c-f5da2f98cff7",
   "metadata": {},
   "source": [
    "# Gamma Spektroskopie\n",
    "\n",
    "## Motivation\n",
    "\n",
    "Bei Experimenten der Kern- und Elementarteilchenphysik ist neben den Fragen nach Art, Ort und Richtung einer Wechselwirkung die Frage nach dem Impuls und der Energie der Reaktionsprodukte besonders wichtig. In der Teilchenphysik bezeichnet man die Detektoren, die die Energie eines einfallenden Teilchens messen als [Kalorimeter](https://de.wikipedia.org/wiki/Kalorimeter_(Teilchenphysik)). In diesem Versuch untersuchen Sie die Energie hochenergetischer Photonen aus dem $\\gamma$-Zerfall verschiedener radioaktiver Präparate. Der Nachweis erfolgt mit Hilfe eines $\\mathrm{NaI}$-Einkistalls, mit dem Sie die Energie der emittierten Photonen bestimmen können. Bei $\\mathrm{NaI}$ handelt es sich um einen [Szintillator](https://de.wikipedia.org/wiki/Szintillator), der beim Durchgang ionisierender Strahlung (d.h. geladener Teilchen) zum Leuchten (d.h. selbst zur Emission von Photonen) angeregt wird. Diese Eigenschaft kann durch die Dotierung mit Thallium ($\\mathrm{Tl}$) noch verstärkt werden. Die vom Szintillator emittierten Photonen haben eine viel niedrigere Energie $\\Delta E$ im Bereich weniger $\\mathrm{eV}$, deren exakter Wert vom Material des Szintillators abhängt. Aus den elektrisch neutralen Photonen kann im Szintillator durch drei verschiedene Prozesse ionisierende Strahlung entstehen: \n",
    "\n",
    " - [Photoeffekt](https://de.wikipedia.org/wiki/Photoelektrischer_Effekt): das Photon schlägt ein Elektron aus der Hülle eines Atoms aus, dabei geht die gesamte Energie des Photons auf das Elektron über; \n",
    " - [Compton-Effekt](https://de.wikipedia.org/wiki/Compton-Effekt): das Photon wird *quasi-elastisch* an einem Elektron in der Hülle eines Atoms gestreut, d.h. das gestreute Elektron nimmt einen Teil der Energie des einfallenden Photons ($\\gamma$) auf, ein Photon ($\\gamma^{\\prime}$) niedrigerer Energie wird dabei emittiert; und \n",
    " - [Paarbildung](https://de.wikipedia.org/wiki/Paarbildung_(Physik)): das Photon zerfällt, im elektrischen Feld eines Atomkerns, in ein Elektron-Positron-Paar, die Energie des Photons geht dabei im Ruhesystem dieses Prozesses zu gleichen Teilen auf das Elektron und das Positron über. \n",
    "  \n",
    "Je nach Energie tragen diese Prozesse mit unterschiedlich hoher Wahrscheinlichkeit zur Wechselwirkung hochenergetischer Photonen mit Materie bei. In jedem Fall überträgt das Photon seine Energie auf elektrisch geladene Elektronen, die so als ionisierende Strahlung im $\\mathrm{NaI}$-Kristall auftreten und zu Szintillation führen. Ein hochenergetisches Elektron (oder Positron) kann selbst wieder mit einer gewissen Wahrscheinlichkeit (durch [Bremsstrahlung](https://de.wikipedia.org/wiki/Bremsstrahlung)) Photonen abstrahlen, die wiederum, wie oben beschrieben, mit Materie in Wechselwirkung treten. Auf diese Weise entsteht im Material ein sogenannter [elektromagnetischer Schauer](https://de.wikipedia.org/wiki/Elektromagnetischer_Schauer), der am Ende, solange er vollständig im Szintillator zum erliegen kommt (d.h. vollständig absorbiert wird) im statistischen Mittel zur Emission von \n",
    "\n",
    "$$\n",
    "\\langle n_{\\gamma}\\rangle = \\frac{E_{0}}{\\Delta E}\n",
    "$$\n",
    "\n",
    "Szintillationsphotonen führt. Gelingt es diese Photonen einzusammeln und (wiederum durch den Photoeffekt) nachzuweisen lässt sich aus dem so erzeugten Photostrom die Energie $E_{0}$ des einfallenden Teilchens bestimmen. Dies ist bis zum heutigen Tag das Prinzip jedes Szintillations-Kalorimeters in der Teilchenphysik. Am [CMS Experiment](https://cms.cern/detector/measuring-energy/energy-electrons-and-photons-ecal) des LHC verwendet man z.B. Bleiwolframat ($\\mathrm{PbWO_{3}}$)-Einkistalle, um hochenergetische Photonen und Elektronen im entsprechenden Kalorimeter auf die kurze Distanz von $\\approx30\\,\\mathrm{cm}$ möglichst zu stoppen und deren Energie zu bestimmen. Da es sich beim elektromagnetischen Schauer ausschließlich um statistische Prozesse mit festen Übergangswahrschenlichkeiten handelt ist die Anzahl der erzeugten Szintillationsphotonen, auch bei einer festen Energie $E_{0}$ des einfallenden Teilchens immer mit einer statistischen Unsicherheit behaftet, die jedoch nach dem Gesetz der [Poisson-Statistik](https://de.wikipedia.org/wiki/Poisson-Verteilung) abgeschätzt werden kann. \n",
    "\n",
    "## Lernziele\n",
    "\n",
    "Wir listen im Folgenden die wichtigsten **Lernziele** auf, die wir Ihnen mit dem Versuch **Gamma Spektroskopie** vermitteln möchten: \n",
    "\n",
    " - Sie lernen die experimentelle Technik von Szintillationszählern und die zugehörigen elektronischen Geräte kennen. \n",
    " - Sie untersuchen die Formen der Wechselwirkung von Licht mit Materie experimentell und identifizieren die entsprechenden Signaturen im Energiespektrum des Szintillators. \n",
    " - Sie diskutieren den Zusammenhang der Energieauflösung z.B. des Photopeaks mit den statistischen Prozessen eines elektromagnetischen Schauers.\n",
    " - Sie untersuchen die komplexen Energiespektren verschiedener radioaktiver Isotope und können mit Hilfe der aufgenommenen Energiesprektren auf die Struktur der entsprechenden Kerne schließen."
   ]
  },
  {
   "cell_type": "markdown",
   "id": "52fb7145-e4ef-4280-8338-5ea688fb46f9",
   "metadata": {},
   "source": [
    "## Versuchsaufbau\n",
    "\n",
    "Ein typischer Versuchsplatz ist in der folgenden Abbilding gezeigt: ([Link](https://git.scc.kit.edu/etp-lehre/p2-for-students/-/raw/main/Gamma_Spektroskopie/figures/Gammaspektroskopie.jpg))\n",
    "\n",
    "<img src=\"./figures/Gammaspektroskopie.jpg\" width=\"750\" height=\"750\" style=\"zoom:40%;\" />\n",
    "\n",
    "## Wichtige Hinweise\n",
    "\n",
    "- Die Kernphysik-Räume stellen einen innerbetrieblichen Überwachungsbereich dar. Hier gelten nach der Strahlenschutzverordnung besondere Regeln, die unbedingt zu beachten sind.\n",
    "- Kernphysikalische Versuche dürfen erst nach Teilnahme an der Strahlenschutzbelehrung (die im Regelfall während der Vorbesprechung zum Praktikum stattfindet) durchgeführt werden.\n",
    "- Der Zugang zum Bunker für radioaktive Präparate ist nur den Betreuern gestattet.\n",
    "- **Bitte USB-Stick mitbringen, um die Daten bei Bedarf mit nach Hause nehmen zu können.**"
   ]
  },
  {
   "cell_type": "markdown",
   "id": "e13de07e-5451-471b-a22b-1c7905af9470",
   "metadata": {},
   "source": [
    "## Durchführung\n",
    "\n",
    "### Einarbeitung in das CASSY–LAB Systems\n",
    "\n",
    "Die Datenerfassung erfolgt über das Vielkanal-Interface des CASSY–LAB Systems. Das Bedienungshandbuch des CASSY Systems ist vor Ort vorhanden und liegt [hier](https://git.scc.kit.edu/etp-lehre/p2-for-students/-/blob/main/Gamma_Spektroskopie/CassyLab-2-Handbuch.pdf) in elektronischer Form vor.\n",
    "\n",
    "- Zur Durchführung des Versuchs ist die Kenntnis der ersten dreißig Seiten von Nutzen. Diese sollten schon zur Versuchsvorbereitung gelesen werden.\n",
    "- Starten Sie das CASSY Programm und machen Sie sich damit vertraut.\n",
    "- Stellen Sie geeignete Parameter im Messparameterfenster ein. Es empfiehlt sich, dieses Fenster für schnelleres Arbeiten weiterhin offen zu halten.\n",
    "- Der dynamische Bereich des Detektors soll durch geeignete Einstellung der Betriebsspannung am SEV (sehen Sie sich die Ausgangsimpulse des SEV am Oszilloskop an) und der Software-Verstärkung möglichst voll ausgenutzt werden. Die Spannung ist gut eingestellt, wenn die Signale der höchsten Gamma-Linie gerade noch nicht in Sättigung gehen ($\\approx900\\,\\mathrm{V}$).\n",
    "\n",
    "---"
   ]
  },
  {
   "cell_type": "markdown",
   "id": "8b3ad7b9-496e-4423-aff2-42a82fc01d77",
   "metadata": {},
   "source": [
    "### Aufgabe 1: Impulshöhenspektren\n",
    "\n",
    "#### Aufgabe 1.1\n",
    "\n",
    "**Messen Sie das Impulshöhenspektrum der $\\gamma$-Strahlung von $^{137}\\mathrm{Cs}$, $^{22}\\mathrm{Na}$ und $^{60}\\mathrm{Co}$, sowie das Untergrundspektrum mit Hilfe des 1024-Kanalbetriebs des Impulshöhenanalysators.**\n",
    "\n",
    "- Stellen Sie die Programmparameter im *Parameterfenster* entsprechend ein. Der dynamische Detektorbereich soll vom Impulshöhenspektrum der höherenergetischen Strahlung von $^{60}\\mathrm{Co}$ ($1173\\,\\mathrm{keV}$ und $1333\\,\\mathrm{keV}$) ausgenutzt und unverändert auch bei der Messung an $^{137}\\mathrm{Cs}$ ($662\\,\\mathrm{keV}$) und $^{22}\\mathrm{Na}$ ($511\\,\\mathrm{keV}$ und $1275\\,\\mathrm{keV}$) benutzt werden.\n",
    "- Das Entstehen eines Impulshöhenspektrums mit der Zeit kann am Bildschirm verfolgt werden. Der Abstand Präparat - Szintillator soll jeweils so gewählt werden, dass die effektiven Zählraten für $^{60}\\mathrm{Co}$, $^{22}\\mathrm{Na}$ und $^{137}\\mathrm{Cs}$ etwa gleich sind und $400/\\mathrm{s}$ bis $800/\\mathrm{s}$ betragen. Diese effektive Zählrate (Mittel über alle Kanäle) wird im Fenster Eigenschaften angezeigt.\n",
    "- Überprüfen Sie, welchen Einfluss das Untergrundspektrum auf die Messung hat, und korrigieren Sie die Spektren gegebenenfalls.\n",
    "\n",
    "*Hinweis: Bitte vergessen Sie nicht, auch Zwischenergebnisse abzuspeichern, um etwaigem Datenverlust vorzubeugen.*\n",
    "\n",
    "---"
   ]
  },
  {
   "cell_type": "markdown",
   "id": "63cb8265-09bf-4c7c-8026-20d6215cddeb",
   "metadata": {},
   "source": [
    "**Lösung:** \\\n",
    "Mit CASSY wird das Spektrum der Cs-137-Probe, Na-22-Probe und Co-60-Probe aufgenommen. \\\n",
    "Im folgenden ist das Spektrum für die Cs-137-Probe graphisch dargestellt:\\\n",
    "<img src=\"./params/Unbenannt.png\" width=\"750\" height=\"750\" style=\"zoom:20%;\" /> \\\n",
    "Mit schwarz ist das Spektrum für Cs-137 dargestellt, mit rot Na-22 und mit blua Co-60. \\\n",
    "Auf der y-Achse ist Anzahl der Impulse dargestellt und auf der x-Achse die Energie in keV. \\\n",
    "Das Untergrundspektrum kann die Messung beeinflussen mit störendes Rauschen oder Hintergrundsignal. Die Genauigkeit der Messung kann sich verringern. Um den Einfluss des Untergrundspektrums zu minimieren, muss eine lange Messzeiten und Subtraktion des Untergrundsspektrums gewählt werden.\\\n",
    "Es wird eine Spannung von $ 8.44 V $ angelegt. \\\n",
    "A sind die Rönthgenpeaks. \\\n",
    "B sind die Rückstreupeak. \\\n",
    "C sind die Rückstreukanten. \\\n",
    "D sind die Photopeaks. \\\n",
    "Es werden die einzelnen Peaks/Kanten mithilfe von Cassy bestimmt. \\\n",
    "Cäsium: \\\n",
    "$A= 4.08\\pm 1.10 keV $ \\\n",
    "$B= 215.4\\pm 10.25keV$ \\\n",
    "$C= 508.7\\pm 48.2 keV$ \\\n",
    "$D= 662.02 \\pm 9.15 keV$ \\\n",
    "Natrium: \\\n",
    "$C_1= 379.85 \\pm 49.05 keV$ \\\n",
    "$C_2= 1024.95 \\pm 42.35 keV$ \\\n",
    "$B_1= 55.9 \\pm 11.12 keV $\\\n",
    "$B_2= 204.7 \\pm 12.28keV $\\\n",
    "$D_1= 519 \\pm 9.6 keV $ \\\n",
    "$D_2= 1196.01 \\pm 15.79 keV $ \\\n",
    "Kobalt: \\\n",
    "$B_1= 75.14 \\pm 7.41 keV $ \\\n",
    "$B_2= 239.82 \\pm 9.00 keV $\\\n",
    "$C_1= 899.4 \\pm 44.9 keV $\\\n",
    "$C_2= 992.5 \\pm 48.2 keV $ \\\n",
    "$D_1= 1108.32 \\pm 9.37 keV $ \\\n",
    "$D_2= 1245.19 \\pm 9.4 keV $ "
   ]
  },
  {
   "cell_type": "markdown",
   "id": "2e03668a-e1df-4031-be52-f95b9e9b4e23",
   "metadata": {},
   "source": [
    "#### Aufgabe 1.2\n",
    "\n",
    "**Deuten Sie die erhaltenen Impulshöhenspektren aufgrund der verschiedenen Wechselwirkungsprozesse von $\\gamma$-Strahlung mit Materie.**\n",
    "\n",
    "Dazu ist es zweckmäßig, anhand des Photopeaks von $^{137}\\mathrm{Cs}$ eine Energieskalierung vorzunehmen und dann die gemessenen und die berechneten Energien an Stellen, bei denen Besonderheiten im Impulshöhenspektrum zu erwarten sind, zu vergleichen. Berechnen Sie dafür bereits in der Vorbereitung die Energien der [Comptonkanten](https://de.wikipedia.org/wiki/Compton-Effekt).\n",
    "\n",
    "Anm.: Das Programm unterstützt den Benutzer bei der Analyse eines Spektrums: Zeigt der Cursor in das zu analysierende Spektrum und drückt man die rechte Maustaste, so werden verschiedene Analysewerkzeuge angeboten. Zusätzlich können Sie erklärenden Text in die Diagramme einfügen und diese dann ausdrucken.\n",
    "\n",
    "- Diskutieren Sie statistische Effekte, die die \"Verschmierung\" des erhaltenen Impulshöhenspektrums (besonders deutlich bei den Photopeaks) bewirkt haben.\n",
    "- Schätzen Sie die Anzahl der Elektronen $n_\\mathrm{e}$ ab, die bei einem Impuls, der zum Photopeak bei $^{137}\\mathrm{Cs}$ beiträgt, von der Photokathode emittiert wurden. Die Anzahl $n_\\mathrm{e}$ charakterisiert die Auflösung eines Detektors.\n",
    "- Überprüfen Sie die Linearität der Apparatur, indem Sie die Information aus den drei Spektren verwenden.\n",
    "- Mit unveränderten Einstellungen können noch Spektren (oder ein Überlagerungsspektrum) mit weiteren radioaktiven Quellen aufgenommen werden. Geeignet sind $^{241}\\mathrm{Am}$ ($59,5\\,\\mathrm{keV}$) und $^{57}\\mathrm{Co}$ ($122\\,\\mathrm{keV}$). Ihr:e Betreuer:in kann Ihnen diese Quellen aushändigen.\n",
    "\n",
    "---"
   ]
  },
  {
   "cell_type": "markdown",
   "id": "10090dc6-ab5e-471e-8876-bccdd2f340a3",
   "metadata": {},
   "source": [
    "**Lösung:** \\\n",
    "Zur Verschmierung des Impulshöhenspektrums führt in geringem Maß Energieverlust bei der Compton-Streuung, Paarbildung oder Streuung an Atomkernen. \\\n",
    "Die detektierten Ereignisse sind gaußverteilt. Die Impulshöhe eines einzelnen Ereignisses ist mit einer Unsicherheit behaftet. Dies führt zu einer Verschmierung des Spektrums. \\\n",
    "Außerdem besitzt der Detektor ein begrenztes Auflösungsvermögen. Dies führt dazu, dass er die Energie nicht ganz genau messen kann und es zu verschiedenen Energiewerten kommt. Die Werte sind verschmiert.\\\n",
    "Die Comptonkanten treten auf, da es beim Comptoneffekt eine obere Grenze beim Energierübertrag gibt. Die größtmögliche Energie und die Lage der Comptonkante ergbit sich mit der Formel \n",
    "\\begin{align}\n",
    "E_{max} &= E_{\\gamma} \\cdot \\left(1-\\frac{1}{1+\\frac{E_{\\gamma}}{m_{e}\\cdot c^2} \\cdot \\left(1-\\cos\\left(\\varphi\\right)\\right)}\\right) \\\\\n",
    "\\end{align} \n",
    "Die Komptonkante tritt bei einem Winkel von $180^{\\circ}$ auf. Dort wird die meiste Energie übertragen. \\\n",
    "$\\longrightarrow E_{max}=\\frac{E_{\\gamma}}{1+\\frac{m_{e}\\cdot c^2}{2\\cdot E_{\\gamma}}}$"
   ]
  },
  {
   "cell_type": "code",
   "execution_count": 1,
   "id": "858fec22-9427-4ff9-914f-4aed408e8ec4",
   "metadata": {
    "tags": []
   },
   "outputs": [
    {
     "name": "stderr",
     "output_type": "stream",
     "text": [
      "/opt/conda/lib/python3.10/site-packages/kafe2/core/minimizers/__init__.py:34: UserWarning: iminuit is not installed. While not strictly needed its use is heavily recommended for better performance and convergence.\n",
      "  warnings.warn(\n",
      "cling::DynamicLibraryManager::loadLibrary(): libGL.so.1: cannot open shared object file: No such file or directory\n",
      "Error in <AutoloadLibraryMU>: Failed to load library /opt/conda/lib/libEve.so.6.28.00cling JIT session error: Failed to materialize symbols: { (main, { _ZeqRK7TStringRKNSt7__cxx1112basic_stringIcSt11char_traitsIcESaIcEEE }) }\n"
     ]
    },
    {
     "name": "stdout",
     "output_type": "stream",
     "text": [
      "Welcome to JupyROOT 6.28/00\n"
     ]
    }
   ],
   "source": [
    "import numpy as np \n",
    "import matplotlib.pyplot as plt\n",
    "from PhyPraKit import readPicoScope, resample\n",
    "from scipy import signal\n",
    "from scipy import interpolate\n",
    "import sys\n",
    "from kafe2 import  XYContainer, Fit, XYFit, Plot, ContoursProfiler                            \n",
    "from uncertainties import ufloat, unumpy\n",
    "from math import log10, floor\n",
    "import scipy.integrate as integrate\n",
    "import pandas as pd\n",
    "import csv"
   ]
  },
  {
   "cell_type": "code",
   "execution_count": 2,
   "id": "2b839284-47ae-45b2-8d60-878b9eb213cb",
   "metadata": {
    "tags": []
   },
   "outputs": [
    {
     "name": "stdout",
     "output_type": "stream",
     "text": [
      "Energie Comptenkante Cs:  662000.0  eV.\n",
      "Energie Comptenkante Na:  511000.0  eV und  1275000.0  eV.\n",
      "Energie Comptenkante Co:  1173000.0  eV und  1333000.0  eV.\n"
     ]
    }
   ],
   "source": [
    "h=6.62607015*10**(-34)\n",
    "me=9.1093837015*10**(-31)\n",
    "c=299792458\n",
    "E_Cs=662*10**3\n",
    "E_Co=1173*10**3\n",
    "E_Co_2=1333*10**3\n",
    "E_Na=511*10**3\n",
    "E_Na_2=1275*10**3\n",
    "E_max_137_Cs=E_Cs/(1+(me*c**2)/(2*E_Cs))\n",
    "E_max_241_Na=E_Na/(1+(me*c**2)/(2*E_Na))\n",
    "E_max_57_Co=E_Co/(1+(me*c**2)/(2*E_Co))\n",
    "E_max_241_Na_2=E_Na_2/(1+(me*c**2)/(2*E_Na_2))\n",
    "E_max_57_Co_2=E_Co_2/(1+(me*c**2)/(2*E_Co_2))\n",
    "print('Energie Comptenkante Cs: ',E_max_137_Cs,' eV.')\n",
    "print('Energie Comptenkante Na: ',E_max_241_Na,' eV und ',E_max_241_Na_2,' eV.')\n",
    "print('Energie Comptenkante Co: ',E_max_57_Co,' eV und ',E_max_57_Co_2,' eV.')"
   ]
  },
  {
   "cell_type": "markdown",
   "id": "a09b9086-556d-4b45-9602-c5442154eb66",
   "metadata": {},
   "source": [
    "### Aufgabe 2: Aktivität des $^{137}\\mathrm{Cs}$-Präparats\n",
    "\n",
    "**Bestimmen Sie die Aktivität des $^{137}\\mathrm{Cs}$-Präparats.**\n",
    "\n",
    "Verwenden Sie die Zählraten, die vom Programm berechnet und angezeigt werden, und die Nachweiswahrscheinlichkeit (Diagramm \"Quotient Anzahl der ... Quanten\") des benutzten Szintillatorkristalls im gewählten Abstand und bei der betreffenden Strahlungsenergie.\n",
    "\n",
    "- Welche Effekte berücksichtigt das Diagramm, wenn bei seiner Verwendung kein weiterer Effekt mehr in die Rechnung einfließen muss?\n",
    "- Bei wenigstens drei verschiedenen Abständen Quelle-Szintillatorstirnfläche sollte gemessen und ein Ausgleichswert berechnet werden.\n",
    "- Prüfen Sie, ob eine Totzeitkorrektur der Zählraten notwendig ist.\n",
    "\n",
    "---"
   ]
  },
  {
   "cell_type": "markdown",
   "id": "d12e0ce7-4d69-4523-9a0d-c39549ec3d95",
   "metadata": {},
   "source": [
    "**Lösung:**\n",
    "\n",
    "In diesem Teilversuch bestimmen wir die Aktivität des Cäsium-137 Präparats. Dafür führen wir Messungen in verschiedenen Abständen vom Detektor für einen bestimmten Zeitintervall(=60s?) durch. Aus der Summe der gemessenen Impulse innerhalb des Zeitintervalls lässt sich die Zähltrate ermitteln. Die Aktivität lässt sich dann unter Berücksichtigung der Totzeit des Detektors durch folgende Formel ermitteln.\n",
    "\n",
    "$$\n",
    "A = \\frac{N}{T(1-\\tau)\\cdot \\omega}\n",
    "$$"
   ]
  },
  {
   "cell_type": "code",
   "execution_count": 3,
   "id": "b1c45aa5-035d-439e-9c43-dbaf442bd6be",
   "metadata": {},
   "outputs": [
    {
     "ename": "TypeError",
     "evalue": "unsupported operand type(s) for -: 'int' and 'list'",
     "output_type": "error",
     "traceback": [
      "\u001b[0;31m---------------------------------------------------------------------------\u001b[0m",
      "\u001b[0;31mTypeError\u001b[0m                                 Traceback (most recent call last)",
      "Cell \u001b[0;32mIn[3], line 7\u001b[0m\n\u001b[1;32m      4\u001b[0m N \u001b[38;5;241m=\u001b[39m []\n\u001b[1;32m      5\u001b[0m omega \u001b[38;5;241m=\u001b[39m []\n\u001b[0;32m----> 7\u001b[0m A \u001b[38;5;241m=\u001b[39m N\u001b[38;5;241m/\u001b[39m(T\u001b[38;5;241m*\u001b[39m(\u001b[38;5;241;43m1\u001b[39;49m\u001b[38;5;241;43m-\u001b[39;49m\u001b[43mtau\u001b[49m)\u001b[38;5;241m*\u001b[39momega)\n\u001b[1;32m      8\u001b[0m \u001b[38;5;28mprint\u001b[39m(A)\n",
      "\u001b[0;31mTypeError\u001b[0m: unsupported operand type(s) for -: 'int' and 'list'"
     ]
    }
   ],
   "source": [
    "abstand = []\n",
    "T = []\n",
    "tau = []\n",
    "N = []\n",
    "omega = []\n",
    "\n",
    "A = N/(T*(1-tau)*omega)\n",
    "print(A)"
   ]
  },
  {
   "cell_type": "markdown",
   "id": "e7581e72-1067-4288-8580-51a6d3d31430",
   "metadata": {},
   "source": [
    "Aus den Messwerten ergibt sich:\n",
    "\n",
    "<table>\n",
    "    <tr>\n",
    "        <td>Abstand in cm</td>\n",
    "        <td>Totzeit $\\tau$ in %</td>\n",
    "        <td>Impulse N</td>\n",
    "        <td>Detektionswahrs. $\\omega$</td>\n",
    "    </tr>\n",
    "    <tr>\n",
    "        <td>0</td>\n",
    "        <td>39</td>\n",
    "        <td>520697</td>\n",
    "        <td>0.19</td>      \n",
    "    </tr>\n",
    "    <tr>\n",
    "       <td>0.75</td>\n",
    "        <td>24</td>\n",
    "        <td>330738</td>\n",
    "        <td>0.068</td>\n",
    "    </tr>\n",
    "    <tr>\n",
    "       <td>6.25</td>\n",
    "        <td>3</td>\n",
    "        <td>38210</td>\n",
    "        <td>0.0039</td>\n",
    "    </tr>\n",
    "    <tr>\n",
    "       <td>10.25</td>\n",
    "        <td>1</td>\n",
    "        <td>18951</td>\n",
    "        <td>0.0016</td>\n",
    "    </tr>\n",
    "<table>"
   ]
  },
  {
   "cell_type": "markdown",
   "id": "43b99a40-8f70-4c66-95c9-6c4fc1a35785",
   "metadata": {},
   "source": [
    "### Aufgabe 3: Röntgenemission\n",
    "\n",
    "Verwenden Sie die $^{137}\\mathrm{Cs}$-Quelle um an Materialien mit großer Kernladungszahl $Z$ Röntgenemission zu erzeugen. Legen Sie dazu die entsprechenden Materialien direkt auf den Szintillator. Erhöhen Sie die Messgenauigkeit für niedrige Energien durch Erhöhen der Detektorspannung. Zur genauen Peakbestimmung sollte ein Gaussfit verwendet werden.\n",
    "\n",
    "#### Aufgabe 3.1\n",
    "\n",
    "**Führen Sie eine Energiekalibration anhand der $\\mathrm{Ba-}K_\\alpha$ und $\\mathrm{Pb-}K_\\alpha$ Röntgenlinie durch und stellen Sie die gemessene Energie gegen $Z^2$ für alle vorhandenen Elemente auf**\n",
    "\n",
    "Informationen zum Moseleyschen Gesetz befinden sich [hier](https://de.wikipedia.org/wiki/Moseleysches_Gesetz) und eine Tabelle der $K_\\alpha$-Übergangsenergien ist in [`params/Moseley-Gesetz.csv`](https://git.scc.kit.edu/etp-lehre/p2-for-students/-/blob/main/Gamma_Spektroskopie_und_Statistik/params/Moseley.csv) gegeben.\n",
    "\n",
    "---"
   ]
  },
  {
   "cell_type": "markdown",
   "id": "03aebba2-d3ee-4201-a13d-9be39898415b",
   "metadata": {},
   "source": [
    "**Lösung:**\n",
    "Mit dem Cäsium-137 Präparat regen wir verschiede Materialproben zur Röntgenstrahlungsemission an. Aus den aufgenommen Spektren bestimmen wir die Röntgenpeaks. Anhand der bekannten Übergänge der Elemente Ba und Pb erstellen wir einen linearen Zusammenhang zwischen E und Z^2. Aus diesem Zusammenhang lassen sich nun mit der Energie eines Röntgenpeaks auf das Element schließen, welches diese Strahlung emittiert hat. \n",
    "Abstand: 4.3cm\n",
    "Peaks:\n",
    "ohne=32.1+-0.8keV\n",
    "A=66.79+-2.54keV\n",
    "B =52 +- 2.14keV\n",
    "C = 54.02 +- 0keV\n",
    "D = 59.55 +- 1.18keV\n",
    "E = 76.78 +- 0.31keV"
   ]
  },
  {
   "cell_type": "code",
   "execution_count": 1,
   "id": "efdb03a6-adba-410c-a5d4-0fc6e63ecedb",
   "metadata": {
    "tags": []
   },
   "outputs": [
    {
     "ename": "NameError",
     "evalue": "name 'np' is not defined",
     "output_type": "error",
     "traceback": [
      "\u001b[0;31m---------------------------------------------------------------------------\u001b[0m",
      "\u001b[0;31mNameError\u001b[0m                                 Traceback (most recent call last)",
      "Cell \u001b[0;32mIn[1], line 2\u001b[0m\n\u001b[1;32m      1\u001b[0m E \u001b[38;5;241m=\u001b[39m [\u001b[38;5;241m32100\u001b[39m, \u001b[38;5;241m66790\u001b[39m]\n\u001b[0;32m----> 2\u001b[0m Z \u001b[38;5;241m=\u001b[39m \u001b[43mnp\u001b[49m\u001b[38;5;241m.\u001b[39marray([\u001b[38;5;241m56\u001b[39m, \u001b[38;5;241m82\u001b[39m])\n\u001b[1;32m      4\u001b[0m xy_data \u001b[38;5;241m=\u001b[39m XYContainer(Z\u001b[38;5;241m*\u001b[39m\u001b[38;5;241m*\u001b[39m\u001b[38;5;241m2\u001b[39m,E)\n\u001b[1;32m      5\u001b[0m \u001b[38;5;28;01mdef\u001b[39;00m \u001b[38;5;21mlinear\u001b[39m(x,a\u001b[38;5;241m=\u001b[39m\u001b[38;5;241m1.5\u001b[39m,b\u001b[38;5;241m=\u001b[39m\u001b[38;5;241m10\u001b[39m):\n",
      "\u001b[0;31mNameError\u001b[0m: name 'np' is not defined"
     ]
    }
   ],
   "source": [
    "E = [32100, 66790,52000,54020,59550,76780]\n",
    "E_uf = ufloat(E,[0.])\n",
    "Z = np.array([56, 82])\n",
    "\n",
    "xy_data = XYContainer(Z**2,E)\n",
    "def linear(x,a=1.5,b=10):\n",
    "    return a*x + b\n",
    "line_fit=Fit(data=xy_data,model_function=linear)\n",
    "line_fit.do_fit()\n",
    "line_fit.assign_parameter_latex_names(x='Z^2', a='a' , b='b')\n",
    "line_fit.assign_model_function_latex_name('E')\n",
    "line_fit.assign_model_function_latex_expression('{a} \\\\cdot {x} + {b}')\n",
    "\n",
    "\n",
    "line_fit.data_container.label = \"Verwendete Daten\"\n",
    "line_fit.model_label = \"Modellfunktion\"\n",
    "\n",
    "line_fit.data_container.axis_labels = [\"Z^2\", \"Energie in J\"]\n",
    "plot = Plot(fit_objects= line_fit)\n",
    "plot.plot()\n",
    "\n",
    "plt.show()\n",
    "\n",
    "\n"
   ]
  },
  {
   "cell_type": "markdown",
   "id": "f387a7ec-0948-4af4-93e2-7f59fa0be684",
   "metadata": {},
   "source": [
    "#### Aufgabe 3.2\n",
    "\n",
    "**Bestimmen Sie anhand Ihres Diagramms das \"unbekannte Element\".**\n",
    "\n",
    "---"
   ]
  },
  {
   "cell_type": "markdown",
   "id": "708add84-402d-4f1a-9178-10a2c32eb7e5",
   "metadata": {},
   "source": [
    "**Lösung:**\n",
    "\n",
    "Anhand des oben bestimmten Zusammenhangs lassen sich nun die Massenzahlen der unbekannten Elemente bestimmen. \n",
    "Dafür setzen wir die gemessenen Maxima der Röntgenpeaks in die Formel ein:\n",
    "$$\n",
    "Z = \\sqrt{\\frac{E-b}{a}}\n",
    "$$\n",
    "damit ergibt sich für die Proben: \n",
    "<table>\n",
    "    <tr>\n",
    "        <td>Probenbezeichnung</td>\n",
    "        <td>Energie in eV</td>\n",
    "        <td>Massenzahl Z</td>\n",
    "        <td>Zugehöriges Element</td>\n",
    "    </tr>\n",
    "    <tr>\n",
    "        <td></td>\n",
    "        <td></td>\n",
    "        <td></td>\n",
    "        <td></td>\n",
    "    </tr>\n",
    "    <tr>\n",
    "       <td></td>\n",
    "        <td></td>\n",
    "        <td></td>\n",
    "        <td></td>\n",
    "    </tr>\n",
    "    <tr>\n",
    "       <td></td>\n",
    "        <td></td>\n",
    "        <td></td>\n",
    "        <td></td>\n",
    "    </tr>\n",
    "<table>"
   ]
  }
 ],
 "metadata": {
  "kernelspec": {
   "display_name": "Python 3 (ipykernel)",
   "language": "python",
   "name": "python3"
  },
  "language_info": {
   "codemirror_mode": {
    "name": "ipython",
    "version": 3
   },
   "file_extension": ".py",
   "mimetype": "text/x-python",
   "name": "python",
   "nbconvert_exporter": "python",
   "pygments_lexer": "ipython3",
   "version": "3.10.10"
  }
 },
 "nbformat": 4,
 "nbformat_minor": 5
}
