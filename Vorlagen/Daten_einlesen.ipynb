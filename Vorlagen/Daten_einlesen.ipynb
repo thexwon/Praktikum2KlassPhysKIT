{
 "cells": [
  {
   "cell_type": "code",
   "execution_count": null,
   "id": "de39fd9b-7cce-43a3-a962-512b0fe2fdcd",
   "metadata": {},
   "outputs": [],
   "source": [
    "data=pd.read_csv('Messung/Aufgabe1_1.txt',delimiter=';',decimal=\".\",skiprows=2) #importiere Daten\n",
    "data.columns=['N','t']\n",
    "t = data['t'].to_numpy() \n",
    "N = data['N'].to_numpy()\n",
    "# beim Importieren in Klammern (importierende Datei, Trennung zwischen Daten, Komma mit Punkt geschrieben, überspringe erste Zeilen)\n",
    "# speichere Spalten einzeln\n",
    "# führe Spalte in Numpy-Array"
   ]
  }
 ],
 "metadata": {
  "kernelspec": {
   "display_name": "Python 3 (ipykernel)",
   "language": "python",
   "name": "python3"
  },
  "language_info": {
   "codemirror_mode": {
    "name": "ipython",
    "version": 3
   },
   "file_extension": ".py",
   "mimetype": "text/x-python",
   "name": "python",
   "nbconvert_exporter": "python",
   "pygments_lexer": "ipython3",
   "version": "3.10.10"
  }
 },
 "nbformat": 4,
 "nbformat_minor": 5
}
