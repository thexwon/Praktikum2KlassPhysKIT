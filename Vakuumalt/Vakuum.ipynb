{
 "cells": [
  {
   "cell_type": "markdown",
   "id": "05e1625f-ff42-4654-92a6-383a4c558761",
   "metadata": {},
   "source": [
    "<img src=\"./figures/Logo_KIT.svg\"  width=\"250\" height=\"250\" style=\"zoom:15%;float:right;\" />\n",
    "\n",
    "# Fakultät für Physik \n",
    "\n",
    "## Physikalisches Praktikum P2 für Studierende der Physik\n",
    "\n",
    "\n",
    "\n",
    "Versuch P2-41, 42, 44 (Stand: April 2023)\n",
    "\n",
    "[Raum F1-19](http://www-ekp.physik.uni-karlsruhe.de/~simonis/praktikum/layoutobjekte/Lageplan_P1.png)"
   ]
  },
  {
   "cell_type": "markdown",
   "id": "8012ed69-64c9-4225-9edf-923a2d6c9640",
   "metadata": {},
   "source": [
    "<br>\n",
    "Name: __________________ Vorname: __________________\n",
    "<br>\n",
    "<br>\n",
    "Name: __________________ Vorname: __________________\n",
    "<br>\n",
    "<br>\n",
    "<br>\n",
    "Gruppennummer: _____\n",
    "<br>\n",
    "<br>\n",
    "<br>\n",
    "Betreuer: __________________\n",
    "<br>\n",
    "<br>\n",
    "<br>\n",
    "Versuch durchgeführt am: __________________"
   ]
  },
  {
   "cell_type": "markdown",
   "id": "a9644699-e845-4a6b-82e3-3cfb301c2b7d",
   "metadata": {},
   "source": [
    "---\n",
    "\n",
    "**Beanstandungen:**\n",
    "\n",
    "<br>\n",
    "<br>\n",
    "<br>\n",
    "<br>\n",
    "<br>\n",
    "<br>\n",
    "<br>\n",
    "<br>\n",
    "<br>\n",
    "<br>\n",
    "Testiert am: __________________ Vermerk: __________________"
   ]
  },
  {
   "cell_type": "markdown",
   "id": "8fee9571-b5f7-46e9-9313-21405a1c8dd8",
   "metadata": {},
   "source": [
    "# Vakuum\n",
    "\n",
    "## Motivation\n",
    "\n",
    "Die Abwesenheit von Materie im Raum bezeichnen wir als [Vakuum](https://de.wikipedia.org/wiki/Vakuum). Die Vorstellung von Raum ohne Materie wurde sowohl von Platon, als auch von Aristoteles, der eine \"Abneigung der Natur gegen das Leere\" postulierte, die später als *horror vacui* bekannt wurde, abgelehnt. Auch Descarte, der Namensgeber unseres kartesischen Koordinatensystems, war davon überzeugt, dass es keinen materiefreien Raum geben könne. Die Überzeugungen dieser Autoritäten der frühen Wissenschaft wurden nur mühsam durch Experimente im Laufe der Renaissance widerlegt. Sie wirkten noch bis in die Neuzeit und sorgten für Aufsehen über die Ausgänge des Michelson-Morley oder des Rutherford-Experiments.\n",
    "\n",
    "Das erste von Menschen geschaffene Vakuum ist 1644 von [Evangelista Torricelli](https://de.wikipedia.org/wiki/Evangelista_Torricelli) überliefert. Populär wurden die 1657 publikumswirksam von [Otto von Guericke](https://de.wikipedia.org/wiki/Otto_von_Guericke) in Szene gesetzten Experimente mit den evakuierten [Magdeburger Halbkugeln](https://de.wikipedia.org/wiki/Magdeburger_Halbkugeln). Noch bis zum Scheitern des Michelson-Morley Experiments war man von der Existenz eines allumfassenden Äthers überzeugt, in dem sich das Licht ausbreiten sollte. Der Ausgang des Rutherford-Experiments deutete darauf hin, dass sich zwischen dem Atomkern, auf den sich die gesamte Masse des Atoms konzentriert und seiner Hülle im wesentlichen nichts befand. Heute würden wir selbst einen von aller Materie befreiten Raum nicht als \"leer\" bezeichnen, weil er sowohl elektromagnetische Strahlung, Gravitationswellen, als auch allgemeine Quantenfluktuation beinhalten kann, die z.B. durch den [Casimir-Effekt](https://de.wikipedia.org/wiki/Casimir-Effekt) messbar sind. Im bekannten Universum gibt es kein vollständiges Vakuum. \n",
    "\n",
    "Heutzutage ist das Vakuum vor allem von technischer Bedeutung. Es schafft wichtige Voraussetzungen in Industrie und Technik, zur Konservierung von Lebensmitteln und in der Forschung. Man unterscheidet zwischen Grob-, Fein-, Hoch- und Ultrahochvakuum. Im interplanetaren Raum herrscht ein Vakuum mit Drücken von $<10^{-18}\\,\\mathrm{mbar}$ vor. In der [Strahlröhre des LHC](https://home.cern/science/engineering/vacuum-empty-interstellar-space) am CERN in Genf oder im Vakuumtank des [KATRIN Experiments](https://de.wikipedia.org/wiki/KATRIN) herrschen Vakua mit Drücken von $<10^{-10}\\,\\mathrm{mbar}$ vor.\n",
    "\n",
    "Dieser Versuch bietet Ihnen Einblicke in die Prinzipien der Vakuumerzeugung und -vermessung. Sie lernen mit einer Vakuumapparatur umzugehen und einfache Experimente im Vakuum durchzuführen.\n",
    "\n",
    "## Lernziele\n",
    "\n",
    "Wir listen im Folgenden die wichtigsten **Lernziele** auf, die wir Ihnen mit dem Versuch **Vakuum** vermitteln möchten: \n",
    "\n",
    "- Sie lernen den Umgang mit zwei wichtigen Pumpentypen zur Erzeugung von Fein- ($10^{0}-10^{-3}\\,\\mathrm{mbar}$) und Hochvakua ($10^{-3}-10^{-7}\\,\\mathrm{mbar}$).\n",
    "- Sie erzeugen Hochvakua und führen verschiedene Versuche darin durch.\n",
    "- Sie untersuchen Gasentladungen und die Durchschlagfestigkeit zweier Kondensatorkugeln bei variierendem Luftdruck und vergegenwärtigen sich den jeweiligen Zusammenhang mit der mittleren freien Weglänge beschleunigter Ladungen.\n",
    "- Sie überprüfen den Leitwert eines Metallrohrs und die Saugleistung der verwendeten Pumpen. \n",
    "- Als technische Anwendung dampfen Sie bei variierendem Druck Indium auf eine Plexiglasplatte auf."
   ]
  },
  {
   "cell_type": "markdown",
   "id": "316e76ac-54e8-4f31-88d9-ab3dec79f0ed",
   "metadata": {},
   "source": [
    "## Versuchsaufbau\n",
    "\n",
    "Die wichtigsten Elemente des Versuchsaufbaus sind: \n",
    "\n",
    "- Eine [Drehschieberpumpe](https://de.wikipedia.org/wiki/Drehschieberpumpe) (DSP, in der Skizze DP, Saugvermögen $2,5\\,\\mathrm{m^{3}/h}$). \n",
    "\n",
    "- Eine [Turbomolekularpumpe](https://de.wikipedia.org/wiki/Turbomolekularpumpe) (TMP, in der Skizze TP, Saugvermögen $\\geq30\\,\\mathrm{l/s}$, $7200\\,\\mathrm{min}^{-1}$, ca. $2\\,\\mathrm{min}$ Hochlaufzeit).\n",
    "\n",
    "- Drei [Wärmeleitungs-Vakuummeter](https://de.wikipedia.org/wiki/Pirani-Vakuummeter) (T1–T3, Messbereich: $(5\\times10^{-4}-10^{3})\\,\\mathrm{mbar}$). \n",
    "\n",
    "- Ein [Ionisations-Vakuummeter](https://de.wikipedia.org/wiki/Ionisations-Vakuummeter) (IM, Messbereich: $(10^{-9}-10^{-2})\\,\\mathrm{mbar}$). \n",
    "\n",
    "- Metallwellschläuche mit den folgenden Abmessungen: \n",
    "\n",
    "  - $l=510\\,\\mathrm{mm}$ , $d=28\\,\\mathrm{mm}$ (Apparatur 41), \n",
    "  - $l=440\\,\\mathrm{mm}$, $d=21\\,\\mathrm{mm}$ (Apparatur 42), \n",
    "  - $l=530\\,\\mathrm{mm}$, $d=23\\,\\mathrm{mm}$, (Apparatur 44).\n",
    "\n",
    "- Ein dünnes Metallrohr mit $d=2\\,\\mathrm{mm}$\n",
    "\n",
    "- Eine Glasglocke (mit $220\\,\\mathrm{mm}$ Durchmesser und $250\\,\\mathrm{mm}$ Höhe) auf einem Metallteller mit Gummidichtung bildet den *Rezipienten* (RE) in dem verschiedene Versuche durchgeführt werden können. Darin befinden sich zwei elektrisch aufladbare Kugelelektroden (KE) und ein elektrisch direkt beheizbares Verdampferschiffchen (HZ). Der RZ hat jeweils das Volumen:\n",
    "\n",
    "  - $V_{\\mathrm{RZ}} = 10,1\\,\\mathrm{l}$ (Apparatur 41),\n",
    "  - $V_{\\mathrm{RZ}} = 10,0\\,\\mathrm{l}$ (Apparatur 42),\n",
    "  - $V_{\\mathrm{RZ}} = 9,2\\,\\mathrm{l}$ (Apparatur 44),\n",
    "\n",
    "  Die Volumina der Gesamtapparaturen sind jeweils um $0,5\\,\\mathrm{l}$ größer. \n",
    "\n",
    "- Das Referenzvolumen (RV) beträgt für alle Apparaturen $V_{\\mathrm{RV}}=0,034\\,\\mathrm{l}$.\n",
    "\n",
    "Die KE sind an ein Netzgerät für Spannungen bis zu $10\\,\\mathrm{kV}$ angeschlossen. Die Spannung zwischen den KE bei der Gasentladung kann mit einem Digital-Multimeter abgelesen werden. Beachten Sie, dass dem Digital-Multimeter ein Spannungsteiler von $10\\,\\mathrm{M\\Omega}/1\\,\\mathrm{M\\Omega}$ vorgeschaltet ist, die Anzeige auf dem Gerät ist daher durch 10 zu multiplizieren, um die tatsächliche Spannung zu erhalten.  \n",
    "\n",
    "Das HZ ist mit einer Abschirmung mit Lochblende und einer von außen schwenkbaren Plexiglasplatte versehen. Es wird mit einem Netzgerät für $6\\,\\mathrm{V}$ und $50\\,\\mathrm{A}$ Wechselstrom beheizt. \n",
    "\n",
    "<img src=\"./figures/Vakuum.jpg\" width=\"750\" height=\"750\" style=\"zoom:60%;\" />\n",
    "\n",
    "<img src=\"./figures/VakuumSkizze.png\" width=\"750\" height=\"750\" style=\"zoom:60%;\" />\n",
    "\n",
    "## Wichtige Hinweise\n",
    "\n",
    "- Obwohl in diesem Versuch eine splittergeschützte Glasglocke verwendet wird, kann die evakuierte Glasglocke implodieren. Zum Schutz Ihrer Augen müssen Sie daher beim Arbeiten an der evakuierten\n",
    "  Apparatur eine **Schutzbrille** tragen.\n",
    "- Die hier aufgebaute Apparatur ist sehr empfindlich. Bei fehlerhafter Handhabung können teure Schäden entstehen, weshalb die einzelnen Versuchsteile **nur nach Rücksprache mit dem/der Betreuer:in**\n",
    "  gestartet werden dürfen.\n",
    "- Beim Arbeiten am Rezipienteninneren decken Sie die Pumpenöffnung mit der bereitliegenden Plastikkappe ab, um Verunreinigungen zu vermeiden. Vor dem Verbinden von Bauteilen mit Hilfe von Dichtungsringen sollten Sie die Ringe und Dichtflächen ebenfalls **sorgfältig reinigen**.\n",
    "- Die **Turbomolekularpumpe** darf nur bei einem Vorvakuumdruck von weniger als $0,1\\,\\mathrm{mbar}$ eingeschaltet werden. Die Apparatur darf erst dann belüftet werden, wenn der Rotor nach dem Abschalten völlig zum Stillstand gekommen ist. Dies dauert einige Minuten. Ein Lufteinbruch solange der Rotor sich noch bewegt kann die Pumpe zerstören."
   ]
  },
  {
   "cell_type": "markdown",
   "id": "f6193e61-35b0-4147-ba5b-cc9369e5b192",
   "metadata": {},
   "source": [
    "## Durchführung\n",
    "\n",
    "### Vorbereitung\n",
    "\n",
    "Verschaffen Sie sich einen Überblick über die Apparaturen. Verfolgen Sie die Leitungen und identifizieren Sie die verwendeten Elemente aus der obigen Skizze. Sie sollten den Versuchsaufbau wie folgt vorfinden:  \n",
    "\n",
    "- Alle Apparaturen sind bei Atmosphärendruck belüftet. \n",
    "- Das HZ ist mit Indium bestückt.\n",
    "- Die Glasglocke wurde von alten Aufdampfbelägen gereinigt. \n",
    "\n",
    "Die drei Versuchsaufbauten sind fast gleich; Apparatur 44 ist als einzige mit der Gasentladungsröhre für Aufgabe 1 ausgestattet, dafür fehlt dort die Möglichkeit zur Messung der Überschlagsfestigkeit für Aufgabe 6.\n",
    "\n",
    "### Aufgabe 1: Gasentladung (Demonstrationsversuch)\n",
    "\n",
    "Diesen Versuch kann nur an Apparatur 44 durchgeführt werden. Es handelt such um einen Demonstrationsversuch. Evakuieren Sie den Rezipienten und die Gasentladungsröhre gemeinsam mit Hilfe der DSP (Ventile $\\mathrm{V1}$ und $\\mathrm{V2}$ öffnen). Die TMP bleibt für diesen Versuchsteil außer Betrieb. Das Hochspannungsgerät zur Erzeugung der Gasentladungen sollte zu jedem Zeitpunkt eingeschaltet sein. Senken Sie den Druck kontinuierlich, bis die Gasentladung erlischt. Skizzieren und beschreiben Sie die Gasentladung in Abhängigkeit vom Gasdruck. \n",
    "\n",
    "Schließen Sie nach dieser Aufgabe das Ventil zur Gasentladungsröhre für alle folgenden Aufgaben.\n",
    "\n",
    "---"
   ]
  },
  {
   "cell_type": "markdown",
   "id": "75525f71-a209-4396-ba4d-2d3703d63e34",
   "metadata": {},
   "source": [
    "**Lösung:**\n",
    "\n",
    "*Sie können Ihr Protokoll direkt in dieses Dokument einfügen. Wenn Sie dieses Dokument als Grundlage für ein [Jupyter notebook](https://jupyter.org/) verwenden wollen können Sie die Auswertung, Skripte und ggf. bildliche Darstellungen mit Hilfe von [python](https://www.python.org/) ebenfalls hier einfügen. Löschen Sie hierzu diesen kursiv gestellten Text aus dem Dokument.* \n",
    "\n",
    "---"
   ]
  },
  {
   "cell_type": "markdown",
   "id": "3edf8c1a-8093-424d-b71c-ffed083c79a8",
   "metadata": {},
   "source": [
    "### Aufgabe 2: Strömungsleitwert eines Metallrohrs\n",
    "\n",
    "Bei der Verbindungsleitung L in der obigen Skizze handelt es sich um einen Metallwellschlauch. Tauschen Sie diesen gegen das bereitliegende etwa gleichlange Metallrohr mit einem Innendurchmesser von $d=2\\,\\mathrm{mm}$ aus. Zeichnen Sie fünf Minuten lang etwa alle fünf Sekunden den zeitlichen Verlauf des Drucks jeweils bei T1 und T2 auf. Bestimmen Sie aus den aufgezeichneten Daten den Leitwert des Metallrohres und diskutieren Sie Ihr Ergebnis. \n",
    "\n",
    "Schalten Sie nach der Messung die DSP ab, belüften Sie den RZ und tauschen Sie das Metallrohr wieder gegen den Metallwellschlauch aus.\n",
    "\n",
    "---"
   ]
  },
  {
   "cell_type": "markdown",
   "id": "ecb9a1a1-9759-4d7b-ac99-cc455b91f88c",
   "metadata": {},
   "source": [
    "**Lösung:**\n",
    "\n",
    "Um den Leitwert des Metalrohres zu berechnen wird der Druck 5 Minuten lang bei T1 und T2 gemessen. Dies passiert während das System aus Metallrohr, Drehschieberpumpe und Rezipienten vakuuiert wird. Die Zeitmessung erfolgt alle 5 Sekunden. \n",
    "Die gemessenen Daten für die Drücke bei T1 und T2 sind im folgenden graphisch dargestellt:\n"
   ]
  },
  {
   "cell_type": "code",
   "execution_count": 1,
   "id": "14dbb5a9-ecf9-44c7-8db4-0fa7ed363959",
   "metadata": {
    "tags": []
   },
   "outputs": [
    {
     "name": "stderr",
     "output_type": "stream",
     "text": [
      "cling::DynamicLibraryManager::loadLibrary(): libGL.so.1: cannot open shared object file: No such file or directory\n",
      "Error in <AutoloadLibraryMU>: Failed to load library /opt/conda/lib/libEve.so.6.28.00cling JIT session error: Failed to materialize symbols: { (main, { _ZeqRK7TStringRKNSt7__cxx1112basic_stringIcSt11char_traitsIcESaIcEEE }) }\n"
     ]
    },
    {
     "name": "stdout",
     "output_type": "stream",
     "text": [
      "Welcome to JupyROOT 6.28/00\n"
     ]
    }
   ],
   "source": [
    "import numpy as np #Lade Pakete\n",
    "import matplotlib.pyplot as plt\n",
    "from PhyPraKit import readPicoScope, resample\n",
    "from scipy import signal\n",
    "from scipy import interpolate\n",
    "import sys\n",
    "from kafe2 import  XYContainer, Fit, XYFit, Plot, ContoursProfiler                            \n",
    "from uncertainties import ufloat, unumpy\n",
    "from math import log10, floor\n",
    "import scipy.integrate as integrate\n",
    "import pandas as pd\n",
    "import csv"
   ]
  },
  {
   "cell_type": "code",
   "execution_count": 2,
   "id": "1a1a476a-2c9e-4d34-9dff-08b50483b173",
   "metadata": {
    "tags": []
   },
   "outputs": [
    {
     "ename": "TypeError",
     "evalue": "can't multiply sequence by non-int of type 'float'",
     "output_type": "error",
     "traceback": [
      "\u001b[0;31m---------------------------------------------------------------------------\u001b[0m",
      "\u001b[0;31mTypeError\u001b[0m                                 Traceback (most recent call last)",
      "Cell \u001b[0;32mIn[2], line 5\u001b[0m\n\u001b[1;32m      3\u001b[0m t \u001b[38;5;241m=\u001b[39m data[\u001b[38;5;124m'\u001b[39m\u001b[38;5;124mt\u001b[39m\u001b[38;5;124m'\u001b[39m]\u001b[38;5;241m.\u001b[39mto_numpy() \n\u001b[1;32m      4\u001b[0m T1 \u001b[38;5;241m=\u001b[39m data[\u001b[38;5;124m'\u001b[39m\u001b[38;5;124mT1\u001b[39m\u001b[38;5;124m'\u001b[39m]\u001b[38;5;241m.\u001b[39mto_numpy()\u001b[38;5;241m*\u001b[39m\u001b[38;5;241m10\u001b[39m\u001b[38;5;241m*\u001b[39m\u001b[38;5;241m*\u001b[39m(\u001b[38;5;241m-\u001b[39m\u001b[38;5;241m3\u001b[39m)\n\u001b[0;32m----> 5\u001b[0m T2 \u001b[38;5;241m=\u001b[39m \u001b[43mdata\u001b[49m\u001b[43m[\u001b[49m\u001b[38;5;124;43m'\u001b[39;49m\u001b[38;5;124;43mT2\u001b[39;49m\u001b[38;5;124;43m'\u001b[39;49m\u001b[43m]\u001b[49m\u001b[38;5;241;43m.\u001b[39;49m\u001b[43mto_numpy\u001b[49m\u001b[43m(\u001b[49m\u001b[43m)\u001b[49m\u001b[38;5;241;43m*\u001b[39;49m\u001b[38;5;241;43m10\u001b[39;49m\u001b[38;5;241;43m*\u001b[39;49m\u001b[38;5;241;43m*\u001b[39;49m\u001b[43m(\u001b[49m\u001b[38;5;241;43m-\u001b[39;49m\u001b[38;5;241;43m3\u001b[39;49m\u001b[43m)\u001b[49m\n\u001b[1;32m      7\u001b[0m plt\u001b[38;5;241m.\u001b[39mplot(t,T1,label\u001b[38;5;241m=\u001b[39m\u001b[38;5;124m'\u001b[39m\u001b[38;5;124mT1\u001b[39m\u001b[38;5;124m'\u001b[39m,color\u001b[38;5;241m=\u001b[39m\u001b[38;5;124m'\u001b[39m\u001b[38;5;124mblack\u001b[39m\u001b[38;5;124m'\u001b[39m,marker\u001b[38;5;241m=\u001b[39m\u001b[38;5;124m'\u001b[39m\u001b[38;5;124mx\u001b[39m\u001b[38;5;124m'\u001b[39m,linestyle\u001b[38;5;241m=\u001b[39m\u001b[38;5;124m'\u001b[39m\u001b[38;5;124mNone\u001b[39m\u001b[38;5;124m'\u001b[39m) \u001b[38;5;66;03m#mache Plot\u001b[39;00m\n\u001b[1;32m      8\u001b[0m plt\u001b[38;5;241m.\u001b[39mplot(t,T2,label\u001b[38;5;241m=\u001b[39m\u001b[38;5;124m'\u001b[39m\u001b[38;5;124mT2\u001b[39m\u001b[38;5;124m'\u001b[39m,color\u001b[38;5;241m=\u001b[39m\u001b[38;5;124m'\u001b[39m\u001b[38;5;124mblue\u001b[39m\u001b[38;5;124m'\u001b[39m,marker\u001b[38;5;241m=\u001b[39m\u001b[38;5;124m'\u001b[39m\u001b[38;5;124mx\u001b[39m\u001b[38;5;124m'\u001b[39m,linestyle\u001b[38;5;241m=\u001b[39m\u001b[38;5;124m'\u001b[39m\u001b[38;5;124mNone\u001b[39m\u001b[38;5;124m'\u001b[39m)\n",
      "\u001b[0;31mTypeError\u001b[0m: can't multiply sequence by non-int of type 'float'"
     ]
    }
   ],
   "source": [
    "data=pd.read_csv('Messung/Aufgabe2_2.txt',delimiter=';',decimal=\".\",skiprows=1) #importiere Daten\n",
    "data.columns=['t','T1','T2']\n",
    "t = data['t'].to_numpy() \n",
    "T1 = data['T1'].to_numpy()*10**(-3)\n",
    "T2 = data['T2'].to_numpy()*10**(-3)\n",
    "\n",
    "plt.plot(t,T1,label='T1',color='black',marker='x',linestyle='None') #mache Plot\n",
    "plt.plot(t,T2,label='T2',color='blue',marker='x',linestyle='None')\n",
    "plt.xlabel('t[s]')\n",
    "plt.ylabel('p[bar]')\n",
    "plt.legend()\n",
    "plt.savefig('figures/plt2.png')\n",
    "plt.show()"
   ]
  },
  {
   "cell_type": "markdown",
   "id": "2784f1c5-9a74-462f-bbd0-0fb378b39bfc",
   "metadata": {
    "tags": []
   },
   "source": [
    "Um aus den gemessenen Daten die Saugleistung zu erhalten wird die Formel\n",
    "$\\log(\\frac{p_{Ti}}{p_0})=\\frac{S_{i}}{V}\\cdot (t-t_0) $ gebraucht. \n",
    "$S_{i}$ ist die Saugleistung und $V$ ist das zu vakuumierende Volumen.\n",
    "Mit einem linearen Fit lässt sich die Steigung (also $\\frac {S_{i}}{V}$) bestimmen. Der im Fit aufgeführte Parameter a entspricht $\\frac {S_{i}}{V}$."
   ]
  },
  {
   "cell_type": "code",
   "execution_count": null,
   "id": "5d81afa4-a832-4d2e-9cfa-a1994ad06f3c",
   "metadata": {
    "tags": []
   },
   "outputs": [],
   "source": [
    "p0=2\n",
    "t0=-1\n",
    "lnp1 = np.log(T1/p0)\n",
    "lnp2 = np.log(T2/p0)\n",
    "tn= t-t0\n",
    "xy_data = XYContainer(lnp1,tn)\n",
    "def linear(x,a):\n",
    "    return a*x \n",
    "line_fit=Fit(data=xy_data,model_function=linear)\n",
    "line_fit.do_fit()\n",
    "line_fit.assign_parameter_latex_names(x='t-t0', a='a')\n",
    "line_fit.assign_model_function_latex_name('\\log(\\frac{p_{1}}{p_0})')\n",
    "line_fit.assign_model_function_latex_expression('{a} \\\\cdot {x}')\n",
    "\n",
    "\n",
    "line_fit.data_container.label = \"Verwendete Daten\"\n",
    "line_fit.model_label = \"Modellfunktion\"\n",
    "\n",
    "line_fit.data_container.axis_labels = [\"\\log(\\frac{p_{1}}{p_0})\", \"(t-t_0) in s\"]\n",
    "\n",
    "xy_data = XYContainer(lnp2,tn)\n",
    "def linear(x,a):\n",
    "    return a*x \n",
    "line_fit2=Fit(data=xy_data,model_function=linear)\n",
    "line_fit2.do_fit()\n",
    "line_fit2.assign_parameter_latex_names(x='t-t0', a='a')\n",
    "line_fit2.assign_model_function_latex_name('\\log(\\frac{p_{2}}{p_0})')\n",
    "line_fit2.assign_model_function_latex_expression('{a} \\\\cdot {x} ')\n",
    "line_fit2.data_container.label = \"Verwendete Daten\"\n",
    "line_fit2.model_label = \"Modellfunktion\"\n",
    "\n",
    "line_fit2.data_container.axis_labels = [\"\\log(\\frac{p_{2}}{p_0})\", \"(t-t_0) in s\"]\n",
    "plot = Plot(fit_objects=[line_fit,line_fit2])\n",
    "plot.plot()\n",
    "plt.show()"
   ]
  },
  {
   "cell_type": "markdown",
   "id": "50e9e3f8-6f2f-4db2-912e-6836dde6bee7",
   "metadata": {},
   "source": [
    "Um aus der Steigung des linearen Fits die Saugleistungen $S_1$, $S_2$ zu berechnen muss der Wert der Steigung mit dem zu vakuumierenden Volumen multipliziert werden. Das Volumen der Apperatur ist laut x l, zuzüglich des Referenzvolumens von 0,5 l ergibt sich ein Gesamtvolumen von x l. Dieser Wert muss noch in $m^3$ umgerechnet werden, xl entsprechen x $m^3$."
   ]
  },
  {
   "cell_type": "code",
   "execution_count": null,
   "id": "9054a7b1-d206-4f1a-8caa-341f07c9ced9",
   "metadata": {
    "tags": []
   },
   "outputs": [],
   "source": [
    "V=\n",
    "a1=\n",
    "a2=\n",
    "S1=V*a1\n",
    "print(S1)\n",
    "S2=V*a2\n",
    "print(S2)"
   ]
  },
  {
   "cell_type": "markdown",
   "id": "b6bbf7e7-83df-4657-b7d5-fcfa8c88ad6e",
   "metadata": {},
   "source": [
    "Damit ergibt sich $S_1=x \\frac{l}{s}$ und $S_2=x \\frac{l}{s}$. \n",
    "Anschließend lässt sich mit der Formel $L=\\frac{S_1\\cdot S_2}{S_1-S_2}$ noch der Leitwert des Metallrohrs berechnen:"
   ]
  },
  {
   "cell_type": "code",
   "execution_count": null,
   "id": "b1d4c083-8502-4bd2-8277-4c97f4e321f7",
   "metadata": {
    "tags": []
   },
   "outputs": [],
   "source": [
    "L=S1*S2/(S1-S2)"
   ]
  },
  {
   "cell_type": "markdown",
   "id": "d25d679e-4392-45b3-8a30-1d2214bb4887",
   "metadata": {},
   "source": [
    "Das Rohr besitzt einen Leitwert von $x \\frac{l}{s}$.\n"
   ]
  },
  {
   "cell_type": "markdown",
   "id": "8265f1be-61c4-4334-be19-699e469c3398",
   "metadata": {},
   "source": [
    "### Aufgabe 3: Druckabhängiges Saugvermögen der DSP\n",
    "\n",
    "Evakuieren Sie die Apparatur mit Hilfe der DSP. Nehmen Sie dabei den zeitlichen Verlauf des Drucks $p$ bei T1 auf. Nehmen Sie zu gleichen Zeitpunkten fünf Minuten lang alle fünf Sekunden den zeitlichen Verlauf des Drucks an beiden Messstellen T1 und T2 auf und bestimmen Sie das mittlere Saugvermögen $\\overline{S}$. \n",
    "\n",
    "Schalten Sie die DSP nach der Messung ab.\n",
    "\n",
    "---"
   ]
  },
  {
   "cell_type": "markdown",
   "id": "6a8ffea2-c7ee-462d-ba57-737bc48e6bb1",
   "metadata": {},
   "source": [
    "**Lösung:**\n",
    "Zur Bestimmung des Saugvermögens wird identisch zu Aufgabe 2 vorgegangen.\n",
    "Um den Leitwert des Metalrohres zu berechnen wird der Druck 5 Minuten lang bei T1 gemessen. \n",
    "Dies passiert während das System vakuuiert wird. Die Zeitmessung erfolgt alle 5 Sekunden. \n",
    "Die gemessenen Daten für die Drücke bei T1 sind im folgenden graphisch dargestellt:"
   ]
  },
  {
   "cell_type": "code",
   "execution_count": null,
   "id": "fe94697d-c1d2-4ca2-ba58-def249f7f811",
   "metadata": {
    "tags": []
   },
   "outputs": [],
   "source": [
    "data=pd.read_csv('Messung/Aufgabe3.txt',delimiter=';',decimal=\".\",skiprows=1) #importiere Daten\n",
    "data.columns=['t','T1']\n",
    "t = data['t'].to_numpy() \n",
    "T1 = data['T1'].to_numpy()*10**(-3)\n",
    "\n",
    "\n",
    "plt.plot(t,T1,label='T1',color='black',marker='x',linestyle='None') #mache Plot\n",
    "plt.xlabel('t[s]')\n",
    "plt.ylabel('p[bar]')\n",
    "plt.legend()\n",
    "plt.savefig('figures/plt3.png')\n",
    "plt.show()"
   ]
  },
  {
   "cell_type": "markdown",
   "id": "93b085b2-0a2b-4cd6-b30f-6a525cb554e5",
   "metadata": {},
   "source": [
    "Um aus den gemessenen Daten das Saugvermögen $S(p)$ zu erhalten wird die Formel\n",
    "$S(p)=-\\frac{V}{t}\\cdot \\log(p)$ gebraucht. \n",
    "Mit einem linearen Fit lässt sich die Steigung (also $\\frac {V}{t}$) bestimmen. Der im Fit aufgeführte Parameter a entspricht $\\frac {V}{t}$."
   ]
  },
  {
   "cell_type": "code",
   "execution_count": null,
   "id": "8461efbc-2fe1-4cf6-b056-532cfb7497b5",
   "metadata": {
    "tags": []
   },
   "outputs": [],
   "source": [
    "xy_data = XYContainer(t,T2)\n",
    "def linear(x,a):\n",
    "    return a*x \n",
    "line_fit=Fit(data=xy_data,model_function=linear)\n",
    "line_fit.do_fit()\n",
    "line_fit.assign_parameter_latex_names(x='t', a='a')\n",
    "line_fit.assign_model_function_latex_name('T_1')\n",
    "line_fit.assign_model_function_latex_expression('{a} \\\\cdot {x})\n",
    "line_fit.data_container.label = \"Verwendete Daten\"\n",
    "line_fit.model_label = \"Modellfunktion\"\n",
    "\n",
    "line_fit.data_container.axis_labels = [\"t\", \"log(p)\"]\n",
    "\n",
    "plot.plot()\n",
    "plt.show()"
   ]
  },
  {
   "cell_type": "markdown",
   "id": "da824b65-6f01-491b-877a-24c636af67f0",
   "metadata": {},
   "source": [
    "Um aus der Steigung des linearen Fits das mittlere Saugvermögen $S_1$ zu berechnen muss der Wert der Steigung mit dem zu vakuumierenden Volumen multipliziert werden. Das Volumen der Apperatur ist laut x l, zuzüglich des Referenzvolumens von 0,5 l ergibt sich ein Gesamtvolumen von x l. Dieser Wert muss noch in $m^3$ umgerechnet werden, xl entsprechen x $m^3$."
   ]
  },
  {
   "cell_type": "code",
   "execution_count": null,
   "id": "bc25a139-0f03-417a-845e-511b992af947",
   "metadata": {},
   "outputs": [],
   "source": [
    "V=\n",
    "a1=\n",
    "a2=\n",
    "S1=V*a1\n",
    "print(S1)"
   ]
  },
  {
   "cell_type": "markdown",
   "id": "096fbc3b-b1ef-475c-b1fa-4b1ec5a67314",
   "metadata": {},
   "source": [
    "Damit ergibt sich ein mittleres Saugvermögen $S_1=x \\frac{l}{s}$. "
   ]
  },
  {
   "cell_type": "markdown",
   "id": "0ba91206-e004-4c1a-b373-2e67f979a67c",
   "metadata": {},
   "source": [
    "### Aufgabe 4: Saugvermögen der TMP\n",
    "\n",
    "Bestimmen Sie analog zu Aufgabe 3 das Saugvermögen der TMP. Da die TMP bis zur vollen Saugleistung eine Anlaufzeit von ca. $2\\,\\mathrm{min}$ benötigt, sollte sie nicht erst bei sehr niedrigem Druck eingeschaltet werden. Die Apparatur sollte vor Beginn dieses Versuchsteils mindestens bis zu einem Druck von $\\approx0,2\\,\\mathrm{mbar}$ teilbelüftet sein. Evakuieren Sie die Apparatur dann mit der DSP und schalten Sie bei einem Druck von $\\approx0.08\\,\\mathrm{mbar}$ die TMP zu. Lesen Sie den Druck bei IM ab. \n",
    "\n",
    "Beachten Sie die Hinweise des Betreuers bzgl. der TMP und diskutieren Sie die physikalischen Hintergründe. Schätzen Sie ab, mit welcher Kraft die Glasglocke auf die Gummidichtung gedrückt wird. \n",
    "\n",
    "Lassen Sie die TMP für den nächsten Versuchsteil eingeschaltet.\n",
    "\n",
    "---"
   ]
  },
  {
   "cell_type": "markdown",
   "id": "00dec513-7827-45e8-bbae-d639d9ab53dc",
   "metadata": {},
   "source": [
    "**Lösung:**\n",
    "\n",
    "Zur Bestimmung des Saugvermögens wird identisch zu Aufgabe 2 vorgegangen.\n",
    "Um den Leitwert des Metalrohres zu berechnen wird der Druck 5 Minuten lang bei T1 gemessen. \n",
    "Dies passiert während das System vakuuiert wird. Die Zeitmessung erfolgt alle 5 Sekunden. \n",
    "Die gemessenen Daten für die Drücke bei T1 sind im folgenden graphisch dargestellt:"
   ]
  },
  {
   "cell_type": "code",
   "execution_count": null,
   "id": "8e2ccff8-e436-4466-8846-01d193572da1",
   "metadata": {},
   "outputs": [],
   "source": [
    "data=pd.read_csv('Messung/Aufgabe4.txt',delimiter=';',decimal=\".\",skiprows=1) #importiere Daten\n",
    "data.columns=['t','T1']\n",
    "t = data['t'].to_numpy() \n",
    "T1 = data['T1'].to_numpy()*10**(-3)\n",
    "\n",
    "\n",
    "plt.plot(t,T1,label='T1',color='black',marker='x',linestyle='None') #mache Plot\n",
    "plt.xlabel('t[s]')\n",
    "plt.ylabel('p[bar]')\n",
    "plt.legend()\n",
    "plt.savefig('figures/plt4.png')\n",
    "plt.show()"
   ]
  },
  {
   "cell_type": "markdown",
   "id": "f4a21cc3-702f-4b27-a092-e4fb3dfb4d46",
   "metadata": {},
   "source": [
    "Um aus den gemessenen Daten das Saugvermögen $S(p)$ zu erhalten wird die Formel\n",
    "$S(p)=-\\frac{V}{t}\\cdot \\log(p)$ gebraucht. \n",
    "Mit einem linearen Fit lässt sich die Steigung (also $\\frac {V}{t}$) bestimmen. Der im Fit aufgeführte Parameter a entspricht $\\frac {V}{t}$."
   ]
  },
  {
   "cell_type": "code",
   "execution_count": null,
   "id": "7bb51460-89d8-46c1-84a4-d3679a293c58",
   "metadata": {},
   "outputs": [],
   "source": [
    "xy_data = XYContainer(t,T2)\n",
    "def linear(x,a,b):\n",
    "    return a*x \n",
    "line_fit=Fit(data=xy_data,model_function=linear)\n",
    "line_fit.do_fit()\n",
    "line_fit.assign_parameter_latex_names(x='t', a='a')\n",
    "line_fit.assign_model_function_latex_name('T_1')\n",
    "line_fit.assign_model_function_latex_expression('{a} \\\\cdot {x})\n",
    "line_fit.data_container.label = \"Verwendete Daten\"\n",
    "line_fit.model_label = \"Modellfunktion\"\n",
    "\n",
    "line_fit.data_container.axis_labels = [\"t\", \"log(p)\"]\n",
    "\n",
    "plot.plot()\n",
    "plt.show()"
   ]
  },
  {
   "cell_type": "markdown",
   "id": "bc1b8656-d915-430f-a3ba-78f90177485b",
   "metadata": {},
   "source": [
    "Um aus der Steigung des linearen Fits das mittlere Saugvermögen $S_1$ zu berechnen muss der Wert der Steigung mit dem zu vakuumierenden Volumen multipliziert werden. Das Volumen der Apperatur ist laut x l, zuzüglich des Referenzvolumens von 0,5 l ergibt sich ein Gesamtvolumen von x l. Dieser Wert muss noch in $m^3$ umgerechnet werden, xl entsprechen x $m^3$."
   ]
  },
  {
   "cell_type": "code",
   "execution_count": null,
   "id": "2f159942-47cd-4121-a2cf-b0ca72a1c2b8",
   "metadata": {},
   "outputs": [],
   "source": [
    "V=\n",
    "a1=\n",
    "a2=\n",
    "S1=V*a1\n",
    "print(S1)"
   ]
  },
  {
   "cell_type": "markdown",
   "id": "b9ac52a5-04ea-42ca-b91e-ebe33eef0003",
   "metadata": {},
   "source": [
    "Damit ergibt sich ein mittleres Saugvermögen $S_1=x \\frac{l}{s}$. "
   ]
  },
  {
   "cell_type": "markdown",
   "id": "c7b52bb9-ae42-4298-b14a-141cea21fffb",
   "metadata": {},
   "source": [
    "### Aufgabe 5: Statisches Kalibrierungsverfahren\n",
    "\n",
    "Bei diesem Versuchsteil führen Sie, unter Anwendung des Gesetzes von [Boyle-Mariotte](https://en.wikipedia.org/wiki/Boyle%27s_law), ein einstufiges, statisches Kalibrierungsverfahren durch, wie man es z.B. zur Kalibration von Druckmessgeräten verwenden könnte. Gehen Sie hierzu iterativ wie folgt vor:\n",
    "\n",
    "In der Ausgangssituation sollte V3 geschlossen, B2 geöffnet und der RZ mit Hilfe der DSP und der TMP evakuiert sein. Schließen Sie V2 bei einem Druck von $p<10^{-4}\\,\\mathrm{mbar}$ und trennen Sie damit den RZ vom Rest der Apparatur ab. Sie können die beiden Pumpen daraufhin abschalten. \n",
    "\n",
    "1. Schließen Sie B2. Öffnen Sie daraufhin V3 und lesen Sie den sich einstellenden Druck bei T3 ab. \n",
    "2. Schließen Sie V3 und öffnen Sie daraufhin B2 damit sich im kleineren Referenzvolumen (RV in der Skizze) erneut Atmosphärendruck einstellt.\n",
    "\n",
    "Wiederholen Sie diesen Vorgang beginnend mit \"1.\" solange bis sich im RZ ein Druck von $p\\approx80\\,\\mathrm{mbar}$ einstellt. Skizzieren Sie den Druckverlauf als Funktion der durchgeführten Iterationen und bestimmen Sie das Expansionsverhältnis dieses Expansionssystems.\n",
    "\n",
    "---"
   ]
  },
  {
   "cell_type": "markdown",
   "id": "f2c10eed-fd24-4f13-95d8-c751c5c5b23c",
   "metadata": {},
   "source": [
    "**Lösung:** \\\n",
    "Im folgenden wird der gemessene Druckverlauf als Funktion der durchgeführten Iterationen geplottet: "
   ]
  },
  {
   "cell_type": "code",
   "execution_count": null,
   "id": "15c611fd-744f-4ddf-98fc-b827bf0558c0",
   "metadata": {
    "tags": []
   },
   "outputs": [],
   "source": [
    "data=pd.read_csv('Messung/Aufgabe5.txt',delimiter=';',decimal=\".\",skiprows=1) #importiere Daten\n",
    "data.columns=['n','p']\n",
    "n = data['n'].to_numpy() \n",
    "p = data['p'].to_numpy()*10**(-3)\n",
    "\n",
    "\n",
    "plt.plot(n,p,color='black',marker='x',linestyle='None') #mache Plot\n",
    "plt.xlabel('Anzahl durchgeführter Interationen')\n",
    "plt.ylabel('p[bar]')\n",
    "plt.legend()\n",
    "plt.savefig('figures/plt5.png')\n",
    "plt.show()"
   ]
  },
  {
   "cell_type": "markdown",
   "id": "f66dadca-4beb-4109-91fd-6d0ea780c7ae",
   "metadata": {},
   "source": [
    "Desweiteren soll das Expansionsverhältnis $\\epsilon$ dieses Expansionssystems bestimmt werden. \n",
    "Dies erhält man aus dem Verhältnis des Gesamtvolumens zum Kompressionsvolumen.\n",
    "$\\epsilon = \\frac{V_{gesamt}}{V_{komp}} = 1,x$"
   ]
  },
  {
   "cell_type": "code",
   "execution_count": null,
   "id": "9e5bbb53-0289-443e-94e1-e19594df998a",
   "metadata": {},
   "outputs": [],
   "source": [
    "V_hub = \n",
    "V_kompression = \n",
    "epsilon = 1+ V_hub / V_kompression\n",
    "print(epsilon)"
   ]
  },
  {
   "cell_type": "markdown",
   "id": "79a35b76-2580-482e-b90b-a53977b5e53f",
   "metadata": {},
   "source": [
    "### Aufgabe 6: Elektrische Durchschlagfestigkeit\n",
    "\n",
    "Bei dieser Aufgabe bestimmen Sie die elektrische Durchschlagfestigkeit der KE als Funktion des Umgebungsdrucks in Luft. Diese Aufgabe kann nur an den Apparaturen 41 und 42 durchgeführt werden. Schalten Sie hierzu zunächst die TMP aus und evakuieren Sie den RZ nur mit Hilfe der DSP. Schließen Sie nach erreichen des gewünschten Drucks jeweils V1, so dass der Druck im RZ während der sich anschließenden Messung konstant bleibt.\n",
    "\n",
    "Beginnen Sie mit der belüfteten Apparatur bei Atmosphärendruck und erhöhen Sie die Spannung zwischen den KE bis zur Entladung. Evakuieren Sie daraufhin den RZ bis auf halben Atmosphärendruck. Erhöhen Sie die Spannung bis zur Entladung. Wiederholen Sie diese Vorgehensweise bis Sie einen Druck von $p\\approx0,05\\,\\mathrm{mbar}$ erreicht haben. \n",
    "\n",
    "In diesem Druckbereich wird es zunehmend schwieriger den Druck im RZ konstant zu halten. Um leichter und schneller an weitere Messwerte zu gelangen, evakuieren Sie nun zusätzlich und ohne Unterbrechung mit der TMP bis zu einem Druck von $p\\approx 2\\times 10^{-4}\\,\\mathrm{mbar}$. Schalten Sie die TMP aus und schließen Sie V2. Der Druck im RZ wird nun von allein steigen. Nehmen Sie sobald wie möglich (für $U \\leq9\\,\\mathrm{kV}$) weitere Messwerte auf. Die Messreihe endet, wenn ein Druck von $p\\approx0,05\\,\\mathrm{mbar}$ erreicht ist.\n",
    "\n",
    "Diskutieren Sie warum sich der Druck ab einem bestimmten Druckbereich nicht mehr genau einstellen lässt und warum er bei sehr kleinen Werten kontinuierlich steigt. Beschreiben, skizzieren und diskutieren Sie das Ergebnis der Messung und die Art der Gasentladung die Sie in den unterschiedlichen Druckbereichen beobachten.\n",
    "\n",
    "---"
   ]
  },
  {
   "cell_type": "markdown",
   "id": "0276ccbb-9231-498a-b7de-32cc6ce06e99",
   "metadata": {},
   "source": [
    "**Lösung:** \\\n",
    "Im folgenden wird die Entladungsspannung über den Druck geplottet.\n"
   ]
  },
  {
   "cell_type": "code",
   "execution_count": null,
   "id": "594916d4-c3ec-4be8-89b3-d9ee7285ad4c",
   "metadata": {
    "tags": []
   },
   "outputs": [],
   "source": [
    "data=pd.read_csv('Messung/Aufgabe6.txt',delimiter=';',decimal=\".\",skiprows=1) #importiere Daten\n",
    "data.columns=['p','u']\n",
    "n = data['u'].to_numpy() \n",
    "p = data['p'].to_numpy()*10**(-3)\n",
    "\n",
    "\n",
    "plt.plot(n,p,color='black',marker='x',linestyle='None') #mache Plot\n",
    "plt.xlabel('Druck in Bar')\n",
    "plt.ylabel('Spannung in Volt')\n",
    "plt.legend()\n",
    "plt.savefig('figures/plt6.png')\n",
    "plt.show()"
   ]
  },
  {
   "cell_type": "markdown",
   "id": "21028425-06e0-4e28-994a-187646cc8ee1",
   "metadata": {},
   "source": [
    "### Aufgabe 7: Aufdampfen von Indium\n",
    "\n",
    "Bei dieser Aufgabe dampfen Sie bei verschiedenen Drücken jeweils eine Indium-Schicht durch eine Kreisblende auf eine schwenkbare Plexiglasplatte auf. Es soll jeweils ein Fleck bei einem Druck von \n",
    "\n",
    "- $p\\lesssim8\\times 10^{-5}\\,\\mathrm{mbar}$ und \n",
    "- $p\\lesssim10^{-3}\\,\\mathrm{mbar}$ aufgedampft werden. \n",
    "\n",
    "Beobachten den benötigten Heizstrom und diskutieren Sie die Randschärfe der aufgedampften Flecken. Gehen Sie wie dabei wie folgt vor: \n",
    "\n",
    "- Evakuieren Sie den RZ mit der TMP; \n",
    "- schließen Sie V2; \n",
    "- dampfen Sie den ersten Fleck bei minimal erreichbarem Druck ($p\\lesssim8\\times 10^{-5}\\,\\mathrm{mbar}$) auf; \n",
    "- dampfen Sie den zweiten Fleck bei $p\\approx10^{-3}\\,\\mathrm{mbar}$ auf; \n",
    "\n",
    "**Achtung:** Die verfügbare Heizleistung reicht aus, um das HZ vollständig zu zerstören! Der Heizstrom darf daher erst langsam(!) hochgeregelt werden, sobald das gewünschte Vakuum für den ersten Fleck erreicht ist. Beobachten Sie das HZ beim Hochregeln des Heizstroms. Es soll zwar glühen, aber nicht schmelzen.\n",
    "\n",
    "---"
   ]
  },
  {
   "cell_type": "markdown",
   "id": "b91547cb-07ca-4c10-903b-fa357daafcf7",
   "metadata": {},
   "source": [
    "**Lösung:**\n",
    "\n",
    "*Sie können Ihr Protokoll direkt in dieses Dokument einfügen. Wenn Sie dieses Dokument als Grundlage für ein [Jupyter notebook](https://jupyter.org/) verwenden wollen können Sie die Auswertung, Skripte und ggf. bildliche Darstellungen mit Hilfe von [python](https://www.python.org/) ebenfalls hier einfügen. Löschen Sie hierzu diesen kursiv gestellten Text aus dem Dokument.* \n",
    "\n",
    "---"
   ]
  },
  {
   "cell_type": "markdown",
   "id": "37de7ca3-8a11-4358-9fb2-41feab4e9ee6",
   "metadata": {},
   "source": [
    "### Wiederherstellung der Apparatur \n",
    "\n",
    "Stellen Sie nun die Apparatur für Ihre Nachfolger:innen wieder her: \n",
    "\n",
    "- Belüften Sie die Apparatur; \n",
    "- reinigen Sie die Plexiglasplatte und die Glasglocke von eventuellen Aufdampfbelägen; \n",
    "- bestücken Sie das HZ mit etwas Indium (lassen Sie die Menge vom Betreuer überprüfen); und \n",
    "- setzen Sie die Glocke wieder auf den Dichtungsring."
   ]
  }
 ],
 "metadata": {
  "kernelspec": {
   "display_name": "Python 3 (ipykernel)",
   "language": "python",
   "name": "python3"
  },
  "language_info": {
   "codemirror_mode": {
    "name": "ipython",
    "version": 3
   },
   "file_extension": ".py",
   "mimetype": "text/x-python",
   "name": "python",
   "nbconvert_exporter": "python",
   "pygments_lexer": "ipython3",
   "version": "3.10.10"
  }
 },
 "nbformat": 4,
 "nbformat_minor": 5
}
