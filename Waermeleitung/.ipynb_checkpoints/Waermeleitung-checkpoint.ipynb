{
 "cells": [
  {
   "cell_type": "markdown",
   "id": "08eedb79-893e-4cd8-9fd7-330f1352ea87",
   "metadata": {},
   "source": [
    "<img src=\"./figures/Logo_KIT.svg\"  width=\"250\" height=\"250\" style=\"zoom:15%;float:right;\" />\n",
    "\n",
    "# Fakultät für Physik \n",
    "\n",
    "## Physikalisches Praktikum P2 für Studierende der Physik\n",
    "\n",
    "\n",
    "\n",
    "Versuch P2-32 (Stand: April 2023)\n",
    "\n",
    "[Raum F1-19](http://www-ekp.physik.uni-karlsruhe.de/~simonis/praktikum/layoutobjekte/Lageplan_P1.png)"
   ]
  },
  {
   "cell_type": "markdown",
   "id": "e7f23d7a-624b-492d-a15d-b7bf787e232b",
   "metadata": {},
   "source": [
    "<br>\n",
    "Name: __________________ Vorname: __________________ E-Mail: __________________\n",
    "<br>\n",
    "<br>\n",
    "Name: __________________ Vorname: __________________ E-Mail: __________________\n",
    "<br>\n",
    "<br>\n",
    "<br>\n",
    "Gruppennummer: _____\n",
    "<br>\n",
    "<br>\n",
    "<br>\n",
    "Betreuer: __________________\n",
    "<br>\n",
    "<br>\n",
    "<br>\n",
    "Versuch durchgeführt am: __________________"
   ]
  },
  {
   "cell_type": "markdown",
   "id": "2f13ef1b-3dc7-4114-82b6-cc0d36c50b98",
   "metadata": {},
   "source": [
    "---\n",
    "\n",
    "**Beanstandungen:**\n",
    "\n",
    "<br>\n",
    "<br>\n",
    "<br>\n",
    "<br>\n",
    "<br>\n",
    "<br>\n",
    "<br>\n",
    "<br>\n",
    "<br>\n",
    "<br>\n",
    "Testiert am: __________________ Vermerk: __________________"
   ]
  },
  {
   "cell_type": "markdown",
   "id": "97f1c503-583d-4c37-9767-0cf3d9b55c9d",
   "metadata": {},
   "source": [
    "# Wärmeleitung und thermoelektrische Effekte\n",
    "\n",
    "## Motivation\n",
    "\n",
    "Als [Wärmeleitung](https://de.wikipedia.org/wiki/W%C3%A4rmeleitung) (Konduktion) versteht man den Transport von Wärme (ohne Stoffaustausch), in oder zwischen Stoffen, aufgrund von Temperaturunterschieden. In unserer Modellvorstellung erfolgt dieser Austausch durch (Gitter-)Schwingungen oder Stöße einzelner Partikel aus denen ein Stoff besteht. Andere Formen des Wärmeaustauschs bestehen in der [Konvektion](https://de.wikipedia.org/wiki/Konvektion) (mit Stoffaustausch) und der Emission/Absorption von [Wärmestrahlung](https://de.wikipedia.org/wiki/W%C3%A4rmestrahlung). Wärmeleitung erfolgt immer in Richtung der niedrigeren Temperatur. Verschiedene Stoffe weisen unterschiedlich gute Wärmeleitungseigenschaften auf, die man durch ihre [Wärmeleitfähigkeit](https://de.wikipedia.org/wiki/W%C3%A4rmeleitf%C3%A4higkeit) als Materialeigenschaft quantifiziert. Die Wärmeleitfähigkeit und Wärmeleitung von Stoffen zu bestimmen ist ein sehr technisches Feld. Eine quantitative Beschreibung erfolgt mit Hilfe des [Fourierschen Gesetzes](https://de.wikipedia.org/wiki/W%C3%A4rmeleitung#W%C3%A4rmestrom,_Fouriersches_Gesetz) oder der [Wärmeleitungsgleichung](https://de.wikipedia.org/wiki/W%C3%A4rmeleitungsgleichung), deren Lösung i.a. schon bei einfachsten Stoffen und Oberflächen nur mit Hilfe numerischer Methoden möglich ist. In unserem Alltag spielt Wärmeleitung v.a. bei der Wärmedämmung oder Isolation, z.B. beim Hausbau oder bei Kühlaggregaten eine wichtige Rolle. In der Forschung geht es oft darum die unerwünschte Abwärme z.B. eines Detektors, einer tiefgekühlten Messanordnung oder eines Auslesechips abzuleiten. Dies erfolgt, in einfachsten Fällen, durch einen Kaltwasserstrom; bei elektrischen Bauteilen mit Hilfe von Luft oder Kühlgasen (wie z.B. [Trockeneis](https://de.wikipedia.org/wiki/Trockeneis)). Schwer zugängliche Bauteile können mit Stoffen mit hoher Wärmeleitfähigkeit eng verbunden werden, die die entstehende Wärme abführen und an anderer Stelle gekühlt werden. \n",
    "\n",
    "Durch das Verrichten von Arbeit kann Wärme auch bewusst transportiert werden. Ein solches Vorgehen kann auch zur *aktiven* Kühlung verwendet werden. Im Laufe dieses Versuchs werden Sie den [Peletier-Effekt](https://de.wikipedia.org/wiki/Peltier-Element), als einen [thermoelektrischen Effekt](https://de.wikipedia.org/wiki/Thermoelektrizit%C3%A4t) studieren können, mit dessen Hilfe man Wärme durch elektrische Arbeit transportieren, oder umgekehrt durch Wärmetransport (beeindruckend große) elektrische Arbeit verrichten kann.  \n",
    "\n",
    "## Lernziele\n",
    "\n",
    "Wir listen im Folgenden die wichtigsten **Lernziele** auf, die wir Ihnen mit dem Versuch **Wärmeleitung** vermitteln möchten: \n",
    "\n",
    "- Sie untersuchen die [Wärmeleitfähigkeit](https://de.wikipedia.org/wiki/W%C3%A4rmeleitf%C3%A4higkeit) verschiedener Metalle und stellen dazu entsprechende experimentelle Bedingungen im thermischen Gleichgewicht her.\n",
    "- Sie bestimmen die Temperatur mit Hilfe des thermoelektrischen Effekts mit [Thermoelementen](https://de.wikipedia.org/wiki/Thermoelement). \n",
    "- Sie beobachten den Wärmetransport mit Hilfe geleisteter elektrischer Arbeit an einem [Peletier-Element](https://de.wikipedia.org/wiki/Peltier-Element).\n",
    "- Sie bekommen anschaulich ein Gefühl dafür wie groß der Thermostrom in einem Peletier-Element aufgrund hoher Temperaturdifferenzen werden kann.   "
   ]
  },
  {
   "cell_type": "markdown",
   "id": "c6f6cb7a-7c0d-422c-987f-2a15b0e8b5f7",
   "metadata": {},
   "source": [
    "## Versuchsaufbau\n",
    "\n",
    "Einen Aufbau mit dem Sie diesen Versuch durchführen würden sehen Sie in der folgenden Abbildung:\n",
    "\n",
    "<img src=\"./figures/Waermeleitung.jpg\" height=\"750\" width=\"750\" style=\"zoom:60%;\" />\n",
    "\n",
    "Die wichtigsten Elemente des Versuchsaufbaus sind: \n",
    "\n",
    "- Eine Messvorrichtung mit Probestäben aus $\\mathrm{Cu}$, Stahl und Messing, alle mit einem Durchmesser von $d\\approx16\\,\\mathrm{mm}$, mit einer aufsteckbaren elektrischen Heiz- und Kühlvorrichtung.\n",
    "-  Mehrere $\\mathrm{NiCr}$-$\\mathrm{Ni}$-Thermoelemente, die Sie mit einem Temperaturlogger (TC08) an einem PC mit Picolog-Software auslesen können. \n",
    "- Ein Peltier-Kühlblock (Peltierbatterie). Es handelt sich dabei um ein Serienschaltung zahlreicher p- und n-leitender Wismuttellurit-Bereiche. Eine Seite des Peletier-Kühlblocks ist mit einer Wasserkühlung, die andere Seite mit einer Elektroheizung versehen.\n",
    "- Ein Millivoltmeter für die Messung der Thermospannungen.\n",
    "- Zwei Netzgeräte für den Betrieb mit $U=0-16\\,\\mathrm{V}$ und $I=0-5\\,\\mathrm{A}$.\n",
    "- Ein Netzgerät für den Peltier-Strom (von max. $I=20\\,\\mathrm{A}$).\n",
    "- Isoliermaterial für die Probestäbe und den Peltier-Kühlblock.\n",
    "- Ein Thermoelement mit einer $\\mathrm{Cu}$-Leiterschleife mit großer Querschnittsfläche und eingelöteter Konstantan-Brücke und ein Eisenjoch mit $5\\,\\mathrm{kg}$-Gewicht.\n",
    "- Ein Eiswassergefäß, ein Bunsenbrenner, eine Schieblehre und ein Maßstab.\n",
    "\n",
    "## Wichtige Hinweise\n",
    "\n",
    "- Für die Versuchsteile der Aufgaben 1 und 2 lassen sich längere Wartezeiten nicht vermeiden. Der Temperaturlogger TC08 besitzt acht Eingänge zur Temperaturanzeige. Dies erlaubt Ihnen die parallele Messung der Versuchsteile zu den Aufgaben 1 und 2."
   ]
  },
  {
   "cell_type": "markdown",
   "id": "a7474387-16d8-4251-891c-029d6df16f97",
   "metadata": {},
   "source": [
    "## Durchführung\n",
    "\n",
    "### Aufgabe 1: Wärmeleitfähigkeit verschiedener Metalle\n",
    "\n",
    "Bestimmen Sie die Wärmeleitfähigkeit von Kupfer ($\\mathrm{Cu}$), Stahl und ggf. auch Messing. Dafür heizen Sie entsprechende Probestäbe, mit Hilfe einer Heizwicklung, an einem Ende und kühlen sie, mit Hilfe von fließendem Wasser, am anderen Ende. Messen Sie die Heizleistung und die Temperaturverteilung längs des Stabes, indem Sie gleichzeitig die Spannungen mehrerer [Thermoelemente](https://de.wikipedia.org/wiki/Thermoelement) am PC auslesen, die Sie zuvor in fünf vorgesehenen Bohrungen (weder zu nahe an der Heizung, noch zu nahe an der Kühlung) fixiert haben. \n",
    "\n",
    "Um die Messung der Wärmeleitung des entsprechenden Probestabs nicht zu verfälschen sind die Thermoelemente aus dünnen Drähten gefertigt und entsprechend empfindlich. Die zweite Kontaktstelle der Thermoelemente wird mit Hilfe von Eiswasser auf konstanter Temperatur gehalten. Die maximale Heizspannung beträgt $U=12\\,\\mathrm{V}$. Messen Sie bei Temperaturdifferenzen von $\\Delta T= 8 - 10^{\\circ}\\mathrm{C}$ bei $\\mathrm{Cu}$ und etwa $\\Delta T\\approx30^{\\circ}\\mathrm{C}$ bei Stahl (und Messing). Beachten Sie, dass sich das thermische Gleichgewicht erst nach einiger Zeit einstellt. Es ist daher sinnvoll, den zeitlichen Verlauf der Temperaturen auf dem Monitor zu\n",
    "verfolgen, um abschätzen zu können, wann das Gleichgewicht erreicht ist. \n",
    "\n",
    "Zum zeiteffizienten Arbeiten ist es zweckmäßig, schon mit Aufgabe 2 zu beginnen, bevor die Wärmeleitungsmessungen beendet sind.\n",
    "\n",
    "---"
   ]
  },
  {
   "cell_type": "markdown",
   "id": "976ad870-79c4-463b-afbe-7ae1772ad06c",
   "metadata": {},
   "source": [
    "**Lösung:**\n",
    "\n",
    "*Sie können Ihr Protokoll direkt in dieses Dokument einfügen. Wenn Sie dieses Dokument als Grundlage für ein [Jupyter notebook](https://jupyter.org/) verwenden wollen können Sie die Auswertung, Skripte und ggf. bildliche Darstellungen mit Hilfe von [python](https://www.python.org/) ebenfalls hier einfügen. Löschen Sie hierzu diesen kursiv gestellten Text aus dem Dokument.* \n",
    "\n",
    "---"
   ]
  },
  {
   "cell_type": "markdown",
   "id": "d8d812b8-5e11-4887-b06d-3240d62f6919",
   "metadata": {},
   "source": [
    "### Aufgabe 2: [Peletier-Effekt](https://de.wikipedia.org/wiki/Thermoelektrizit%C3%A4t#Peltier-Effekt)\n",
    "\n",
    "#### Aufgabe 2.1: Temperaturdifferenz als Funktion des Stroms\n",
    "\n",
    "Messen Sie die sich einstellende Temperaturdifferenz ($\\Delta T$) am Peltier-Kühlblock, als Funktion des Stroms ($I$) durch den Block. Halten Sie dabei die eine Seite des Kühlblocks auf der konstanten Temperatur des Kühlwassers und isolieren Sie die andere Seite so gut wie möglich gegen Wärmezufuhr von außen. Messen Sie die Temperaturdifferenz mit Hilfe zweier Thermoelemente. Der maximale Strom durch den Peltier-Kühlblock darf $I\\approx20\\,\\mathrm{A}$ nicht übersteigen.\n",
    "\n",
    "---"
   ]
  },
  {
   "cell_type": "markdown",
   "id": "2945b5de-62a6-4ddc-bf65-ca0d22c0be53",
   "metadata": {},
   "source": [
    "**Lösung:**\n",
    "\n",
    "*Sie können Ihr Protokoll direkt in dieses Dokument einfügen. Wenn Sie dieses Dokument als Grundlage für ein [Jupyter notebook](https://jupyter.org/) verwenden wollen können Sie die Auswertung, Skripte und ggf. bildliche Darstellungen mit Hilfe von [python](https://www.python.org/) ebenfalls hier einfügen. Löschen Sie hierzu diesen kursiv gestellten Text aus dem Dokument.* \n",
    "\n",
    "---"
   ]
  },
  {
   "cell_type": "markdown",
   "id": "f81ea0c1-7106-4271-87ef-666d9f41a12a",
   "metadata": {},
   "source": [
    "#### Aufgabe 2.2: Kühlleistung und elektrische Leistung\n",
    "\n",
    "Messen Sie die [Kühlleistung](https://de.wikipedia.org/wiki/K%C3%BChlung#K%C3%BChlleistung) $\\dot{Q}$ und die elektrische Leistung $P$ als Funktion des Stroms $I$ durch den Peletier-Kühlblock. Tragen Sie die daraus berechnete [Leistungsziffer](https://de.wikipedia.org/wiki/Leistungszahl) \n",
    "\n",
    "$$\n",
    "\\begin{equation*}\n",
    "\\epsilon = \\frac{\\dot{Q}}{P}\n",
    "\\end{equation*}\n",
    "$$\n",
    "\n",
    "(Achtung nicht den Wirkungsgrad!) als Funktion von $I$ auf. Diskutieren und interpretieren Sie Ihre Ergebnisse. Bei dieser Messung wird durch \"Gegenheizen\" auf der kalten Seite eine konstante Temperaturdifferenz $\\Delta T$ aufrecht erhalten, die einen freien Parameter bei der Versuchsdurchführung darstellt. Führen Sie auf jeden Fall eine Messung bei $\\Delta T=3^{\\circ}\\mathrm{C}$ durch. Wenn es die Zeit erlaubt, ist eine Vergleichsmessung bei $\\Delta T=6^{\\circ}\\mathrm{C}$ ebenfalls interessant. \n",
    "\n",
    "---"
   ]
  },
  {
   "cell_type": "markdown",
   "id": "835d47dc-c82b-4904-8f79-5b862577f422",
   "metadata": {},
   "source": [
    "**Lösung:**\n",
    "\n",
    "*Sie können Ihr Protokoll direkt in dieses Dokument einfügen. Wenn Sie dieses Dokument als Grundlage für ein [Jupyter notebook](https://jupyter.org/) verwenden wollen können Sie die Auswertung, Skripte und ggf. bildliche Darstellungen mit Hilfe von [python](https://www.python.org/) ebenfalls hier einfügen. Löschen Sie hierzu diesen kursiv gestellten Text aus dem Dokument.* \n",
    "\n",
    "---"
   ]
  },
  {
   "cell_type": "markdown",
   "id": "23ad6a70-dd36-496d-8915-1aab7b30b96b",
   "metadata": {},
   "source": [
    "### Aufgabe 3: Thermostrom\n",
    "\n",
    "Demonstrieren Sie an einem niederohmigen Thermoelement den erreichbaren, (sehr hohen!) Thermostrom durch dessen magnetische Wirkung. Sobald Sie eine Kontaktstelle des Thermoelements mit einem Bunsenbrenner heizen und die andere mit Eiswasser kühlen können Sie mit der Konstruktion mit nur einer Leiterschleife durch ein Eisenjoch ein Gewicht von $m=5\\,\\mathrm{kg}$ tragen.\n",
    "\n",
    "Vergleichen Sie die im Experiment beobachtete Tragkraft des Elektromagneten mit einem näherungsweise errechneten Wert. Messen Sie hierzu mit einem Millivoltmeter die Thermospannung, bei der Joch und Gewicht gerade noch gehalten werden. Berechnen Sie aus den geometrischen Abmessungen und dem spezifischen Widerstand von $\\mathrm{Cu}$ den Widerstand der $\\mathrm{Cu}$-Schleife. Damit ergibt sich der Thermostrom und der Betrag der [magnetischen Feldstärke](https://de.wikipedia.org/wiki/Magnetische_Feldst%C3%A4rke) $\\vec{H}$ im Eisen. Schätzen Sie die mittlere Länge der Feldlinien im Eisen ab. Mit dem Erfahrungswert $\\mu_{r}\\approx500$ für die [relative Permeabilität](https://de.wikipedia.org/wiki/Magnetische_Permeabilit%C3%A4t) von Eisen für Magnete können Sie den Betrag der magnetischen Feldstärke $\\vec{B}$ abschätzen. Eine begründete Formel für die Tragkraft findet sich in \"Gerthsen, Kneser, Vogel: Probleme aus der Physik, Aufgabe 7.2.7\". Dafür wird zusätzlich die Größe der Auflagefläche des Eisenjochs benötigt.\n",
    "\n",
    "---"
   ]
  },
  {
   "cell_type": "markdown",
   "id": "ab4001fa-6bba-41ca-a35e-a059af1736d2",
   "metadata": {},
   "source": [
    "**Lösung:**\n",
    "\n",
    "*Sie können Ihr Protokoll direkt in dieses Dokument einfügen. Wenn Sie dieses Dokument als Grundlage für ein [Jupyter notebook](https://jupyter.org/) verwenden wollen können Sie die Auswertung, Skripte und ggf. bildliche Darstellungen mit Hilfe von [python](https://www.python.org/) ebenfalls hier einfügen. Löschen Sie hierzu diesen kursiv gestellten Text aus dem Dokument.* \n",
    "\n",
    "---"
   ]
  }
 ],
 "metadata": {
  "kernelspec": {
   "display_name": "Python 3 (ipykernel)",
   "language": "python",
   "name": "python3"
  },
  "language_info": {
   "codemirror_mode": {
    "name": "ipython",
    "version": 3
   },
   "file_extension": ".py",
   "mimetype": "text/x-python",
   "name": "python",
   "nbconvert_exporter": "python",
   "pygments_lexer": "ipython3",
   "version": "3.10.6"
  }
 },
 "nbformat": 4,
 "nbformat_minor": 5
}
