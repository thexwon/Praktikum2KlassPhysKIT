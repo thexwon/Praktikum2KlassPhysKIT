{
 "cells": [
  {
   "cell_type": "markdown",
   "id": "08eedb79-893e-4cd8-9fd7-330f1352ea87",
   "metadata": {},
   "source": [
    "<img src=\"./figures/Logo_KIT.svg\"  width=\"250\" height=\"250\" style=\"zoom:15%;float:right;\" />\n",
    "\n",
    "# Fakultät für Physik \n",
    "\n",
    "## Physikalisches Praktikum P2 für Studierende der Physik\n",
    "\n",
    "\n",
    "\n",
    "Versuch P2-32 (Stand: April 2023)\n",
    "\n",
    "[Raum F1-19](http://www-ekp.physik.uni-karlsruhe.de/~simonis/praktikum/layoutobjekte/Lageplan_P1.png)"
   ]
  },
  {
   "cell_type": "markdown",
   "id": "e7f23d7a-624b-492d-a15d-b7bf787e232b",
   "metadata": {},
   "source": [
    "<br>\n",
    "Name: ______Schwarz____________ Vorname: _______Felix___________ E-Mail: ________unuhz@student.kit.edu__________\n",
    "<br>\n",
    "<br>\n",
    "Name: ________Steib__________ Vorname: ________Lukas__________ E-Mail: _______uzmpb@student.kit.edu___________\n",
    "<br>\n",
    "<br>\n",
    "<br>\n",
    "Gruppennummer: ___Mo-21__\n",
    "<br>\n",
    "<br>\n",
    "<br>\n",
    "Betreuer: _______Juliana Braun___________\n",
    "<br>\n",
    "<br>\n",
    "<br>\n",
    "Versuch durchgeführt am: ________15.05.2023__________"
   ]
  },
  {
   "cell_type": "markdown",
   "id": "2f13ef1b-3dc7-4114-82b6-cc0d36c50b98",
   "metadata": {},
   "source": [
    "---\n",
    "\n",
    "**Beanstandungen:**\n",
    "\n",
    "<br>\n",
    "<br>\n",
    "<br>\n",
    "<br>\n",
    "<br>\n",
    "<br>\n",
    "<br>\n",
    "<br>\n",
    "<br>\n",
    "<br>\n",
    "Testiert am: __________________ Vermerk: __________________"
   ]
  },
  {
   "cell_type": "markdown",
   "id": "97f1c503-583d-4c37-9767-0cf3d9b55c9d",
   "metadata": {},
   "source": [
    "# Wärmeleitung und thermoelektrische Effekte\n",
    "\n",
    "## Motivation\n",
    "\n",
    "Als [Wärmeleitung](https://de.wikipedia.org/wiki/W%C3%A4rmeleitung) (Konduktion) versteht man den Transport von Wärme (ohne Stoffaustausch), in oder zwischen Stoffen, aufgrund von Temperaturunterschieden. In unserer Modellvorstellung erfolgt dieser Austausch durch (Gitter-)Schwingungen oder Stöße einzelner Partikel aus denen ein Stoff besteht. Andere Formen des Wärmeaustauschs bestehen in der [Konvektion](https://de.wikipedia.org/wiki/Konvektion) (mit Stoffaustausch) und der Emission/Absorption von [Wärmestrahlung](https://de.wikipedia.org/wiki/W%C3%A4rmestrahlung). Wärmeleitung erfolgt immer in Richtung der niedrigeren Temperatur. Verschiedene Stoffe weisen unterschiedlich gute Wärmeleitungseigenschaften auf, die man durch ihre [Wärmeleitfähigkeit](https://de.wikipedia.org/wiki/W%C3%A4rmeleitf%C3%A4higkeit) als Materialeigenschaft quantifiziert. Die Wärmeleitfähigkeit und Wärmeleitung von Stoffen zu bestimmen ist ein sehr technisches Feld. Eine quantitative Beschreibung erfolgt mit Hilfe des [Fourierschen Gesetzes](https://de.wikipedia.org/wiki/W%C3%A4rmeleitung#W%C3%A4rmestrom,_Fouriersches_Gesetz) oder der [Wärmeleitungsgleichung](https://de.wikipedia.org/wiki/W%C3%A4rmeleitungsgleichung), deren Lösung i.a. schon bei einfachsten Stoffen und Oberflächen nur mit Hilfe numerischer Methoden möglich ist. In unserem Alltag spielt Wärmeleitung v.a. bei der Wärmedämmung oder Isolation, z.B. beim Hausbau oder bei Kühlaggregaten eine wichtige Rolle. In der Forschung geht es oft darum die unerwünschte Abwärme z.B. eines Detektors, einer tiefgekühlten Messanordnung oder eines Auslesechips abzuleiten. Dies erfolgt, in einfachsten Fällen, durch einen Kaltwasserstrom; bei elektrischen Bauteilen mit Hilfe von Luft oder Kühlgasen (wie z.B. [Trockeneis](https://de.wikipedia.org/wiki/Trockeneis)). Schwer zugängliche Bauteile können mit Stoffen mit hoher Wärmeleitfähigkeit eng verbunden werden, die die entstehende Wärme abführen und an anderer Stelle gekühlt werden. \n",
    "\n",
    "Durch das Verrichten von Arbeit kann Wärme auch bewusst transportiert werden. Ein solches Vorgehen kann auch zur *aktiven* Kühlung verwendet werden. Im Laufe dieses Versuchs werden Sie den [Peletier-Effekt](https://de.wikipedia.org/wiki/Peltier-Element), als einen [thermoelektrischen Effekt](https://de.wikipedia.org/wiki/Thermoelektrizit%C3%A4t) studieren können, mit dessen Hilfe man Wärme durch elektrische Arbeit transportieren, oder umgekehrt durch Wärmetransport (beeindruckend große) elektrische Arbeit verrichten kann.  \n",
    "\n",
    "## Lernziele\n",
    "\n",
    "Wir listen im Folgenden die wichtigsten **Lernziele** auf, die wir Ihnen mit dem Versuch **Wärmeleitung** vermitteln möchten: \n",
    "\n",
    "- Sie untersuchen die [Wärmeleitfähigkeit](https://de.wikipedia.org/wiki/W%C3%A4rmeleitf%C3%A4higkeit) verschiedener Metalle und stellen dazu entsprechende experimentelle Bedingungen im thermischen Gleichgewicht her.\n",
    "- Sie bestimmen die Temperatur mit Hilfe des thermoelektrischen Effekts mit [Thermoelementen](https://de.wikipedia.org/wiki/Thermoelement). \n",
    "- Sie beobachten den Wärmetransport mit Hilfe geleisteter elektrischer Arbeit an einem [Peletier-Element](https://de.wikipedia.org/wiki/Peltier-Element).\n",
    "- Sie bekommen anschaulich ein Gefühl dafür wie groß der Thermostrom in einem Peletier-Element aufgrund hoher Temperaturdifferenzen werden kann.   "
   ]
  },
  {
   "cell_type": "markdown",
   "id": "c6f6cb7a-7c0d-422c-987f-2a15b0e8b5f7",
   "metadata": {},
   "source": [
    "## Versuchsaufbau\n",
    "\n",
    "Einen Aufbau mit dem Sie diesen Versuch durchführen würden sehen Sie in der folgenden Abbildung:\n",
    "\n",
    "<img src=\"./figures/Waermeleitung.jpg\" height=\"750\" width=\"750\" style=\"zoom:60%;\" />\n",
    "\n",
    "Die wichtigsten Elemente des Versuchsaufbaus sind: \n",
    "\n",
    "- Eine Messvorrichtung mit Probestäben aus $\\mathrm{Cu}$, Stahl und Messing, alle mit einem Durchmesser von $d\\approx16\\,\\mathrm{mm}$, mit einer aufsteckbaren elektrischen Heiz- und Kühlvorrichtung.\n",
    "-  Mehrere $\\mathrm{NiCr}$-$\\mathrm{Ni}$-Thermoelemente, die Sie mit einem Temperaturlogger (TC08) an einem PC mit Picolog-Software auslesen können. \n",
    "- Ein Peltier-Kühlblock (Peltierbatterie). Es handelt sich dabei um ein Serienschaltung zahlreicher p- und n-leitender Wismuttellurit-Bereiche. Eine Seite des Peletier-Kühlblocks ist mit einer Wasserkühlung, die andere Seite mit einer Elektroheizung versehen.\n",
    "- Ein Millivoltmeter für die Messung der Thermospannungen.\n",
    "- Zwei Netzgeräte für den Betrieb mit $U=0-16\\,\\mathrm{V}$ und $I=0-5\\,\\mathrm{A}$.\n",
    "- Ein Netzgerät für den Peltier-Strom (von max. $I=20\\,\\mathrm{A}$).\n",
    "- Isoliermaterial für die Probestäbe und den Peltier-Kühlblock.\n",
    "- Ein Thermoelement mit einer $\\mathrm{Cu}$-Leiterschleife mit großer Querschnittsfläche und eingelöteter Konstantan-Brücke und ein Eisenjoch mit $5\\,\\mathrm{kg}$-Gewicht.\n",
    "- Ein Eiswassergefäß, ein Bunsenbrenner, eine Schieblehre und ein Maßstab.\n",
    "\n",
    "## Wichtige Hinweise\n",
    "\n",
    "- Für die Versuchsteile der Aufgaben 1 und 2 lassen sich längere Wartezeiten nicht vermeiden. Der Temperaturlogger TC08 besitzt acht Eingänge zur Temperaturanzeige. Dies erlaubt Ihnen die parallele Messung der Versuchsteile zu den Aufgaben 1 und 2."
   ]
  },
  {
   "cell_type": "markdown",
   "id": "a7474387-16d8-4251-891c-029d6df16f97",
   "metadata": {},
   "source": [
    "## Durchführung\n",
    "\n",
    "### Aufgabe 1: Wärmeleitfähigkeit verschiedener Metalle\n",
    "\n",
    "Bestimmen Sie die Wärmeleitfähigkeit von Kupfer ($\\mathrm{Cu}$), Stahl und ggf. auch Messing. Dafür heizen Sie entsprechende Probestäbe, mit Hilfe einer Heizwicklung, an einem Ende und kühlen sie, mit Hilfe von fließendem Wasser, am anderen Ende. Messen Sie die Heizleistung und die Temperaturverteilung längs des Stabes, indem Sie gleichzeitig die Spannungen mehrerer [Thermoelemente](https://de.wikipedia.org/wiki/Thermoelement) am PC auslesen, die Sie zuvor in fünf vorgesehenen Bohrungen (weder zu nahe an der Heizung, noch zu nahe an der Kühlung) fixiert haben. \n",
    "\n",
    "Um die Messung der Wärmeleitung des entsprechenden Probestabs nicht zu verfälschen sind die Thermoelemente aus dünnen Drähten gefertigt und entsprechend empfindlich. Die zweite Kontaktstelle der Thermoelemente wird mit Hilfe von Eiswasser auf konstanter Temperatur gehalten. Die maximale Heizspannung beträgt $U=12\\,\\mathrm{V}$. Messen Sie bei Temperaturdifferenzen von $\\Delta T= 8 - 10^{\\circ}\\mathrm{C}$ bei $\\mathrm{Cu}$ und etwa $\\Delta T\\approx30^{\\circ}\\mathrm{C}$ bei Stahl (und Messing). Beachten Sie, dass sich das thermische Gleichgewicht erst nach einiger Zeit einstellt. Es ist daher sinnvoll, den zeitlichen Verlauf der Temperaturen auf dem Monitor zu\n",
    "verfolgen, um abschätzen zu können, wann das Gleichgewicht erreicht ist. \n",
    "\n",
    "Zum zeiteffizienten Arbeiten ist es zweckmäßig, schon mit Aufgabe 2 zu beginnen, bevor die Wärmeleitungsmessungen beendet sind.\n",
    "\n",
    "---"
   ]
  },
  {
   "cell_type": "markdown",
   "id": "976ad870-79c4-463b-afbe-7ae1772ad06c",
   "metadata": {},
   "source": [
    "**Lösung:**"
   ]
  },
  {
   "cell_type": "code",
   "execution_count": 1,
   "id": "082fe574-5145-4500-89fc-f6c968191a83",
   "metadata": {
    "tags": []
   },
   "outputs": [
    {
     "name": "stderr",
     "output_type": "stream",
     "text": [
      "/opt/conda/lib/python3.10/site-packages/kafe2/core/minimizers/__init__.py:34: UserWarning: iminuit is not installed. While not strictly needed its use is heavily recommended for better performance and convergence.\n",
      "  warnings.warn(\n",
      "cling::DynamicLibraryManager::loadLibrary(): libGL.so.1: cannot open shared object file: No such file or directory\n",
      "Error in <AutoloadLibraryMU>: Failed to load library /opt/conda/lib/libEve.so.6.28.00cling JIT session error: Failed to materialize symbols: { (main, { _ZeqRK7TStringRKNSt7__cxx1112basic_stringIcSt11char_traitsIcESaIcEEE }) }\n"
     ]
    },
    {
     "name": "stdout",
     "output_type": "stream",
     "text": [
      "Welcome to JupyROOT 6.28/00\n"
     ]
    }
   ],
   "source": [
    "import numpy as np #Lade Pakete\n",
    "import matplotlib.pyplot as plt\n",
    "from PhyPraKit import readPicoScope, resample\n",
    "from scipy import signal\n",
    "from scipy import interpolate\n",
    "import sys\n",
    "from kafe2 import  XYContainer, Fit, XYFit, Plot, ContoursProfiler                            \n",
    "from uncertainties import ufloat, unumpy\n",
    "import uncertainties.unumpy as unp\n",
    "from math import log10, floor\n",
    "import scipy.integrate as integrate\n",
    "import pandas as pd\n",
    "import csv"
   ]
  },
  {
   "cell_type": "code",
   "execution_count": 2,
   "id": "276f9079-4467-4ce3-92ff-d81fb8e65624",
   "metadata": {},
   "outputs": [
    {
     "ename": "SyntaxError",
     "evalue": "invalid syntax (251446617.py, line 2)",
     "output_type": "error",
     "traceback": [
      "\u001b[0;36m  Cell \u001b[0;32mIn[2], line 2\u001b[0;36m\u001b[0m\n\u001b[0;31m    abstand_mess_Cu = ufloat ( , ) # Abstände der Messfühler Kupfer in m\u001b[0m\n\u001b[0m                               ^\u001b[0m\n\u001b[0;31mSyntaxError\u001b[0m\u001b[0;31m:\u001b[0m invalid syntax\n"
     ]
    }
   ],
   "source": [
    "r_stab_Cu = ufloat (0.008, ) # Radius Kupferstab in m\n",
    "abstand_mess_Cu = ufloat ( , ) # Abstände der Messfühler Kupfer in m\n",
    "T_kühlwasser_Cu = uflaot ( , ) #Temperatur Kühlwasser Kupfer in °C\n",
    "I_heizspule_Cu = uflaot ( , )  #Strom Heizspule Kupfer in A\n",
    "U_heizspule_Cu = ufloat ( , )  #Spannung Heizspule Kupfer in V\n",
    "strecke_mess_Cu = unumpy.uarray([ , , , , ],np.full(5, )) #Steckenmessung Kupfer in m, Beginn bei T_min\n",
    "U_mess_Cu = unumpy.uarray([ , , , , ],np.full(5, )) # Spannungsmessung Kupfer in V\n",
    "T_mess_Cu = unumpy.uarray([ , , , , ],np.full(5, )) # Temperaturmessung Kupfer in °C\n",
    "\n",
    "r_stab_Stahl = ufloat (0.008, ) # Radius Stahlstab in m\n",
    "abstand_mess_Stahl = ufloat ( , ) # Abstände der Messfühler Stahl in m\n",
    "T_kühlwasser_Stahl = uflaot ( , ) #Temperatur Kühlwasser Stahl in °C\n",
    "I_heizspule_Stahl = uflaot ( , )  #Strom Heizspule Stahl in A\n",
    "U_heizspule_Stahl = ufloat ( , )  #Spannung Heizspule Stahl in V\n",
    "strecke_mess_Stahl = unumpy.uarray([ , , , , ],np.full(5, )) #Steckenmessung Stahl in m, Beginn bei T_min\n",
    "U_mess_Stahl = unumpy.uarray([ , , , , ],np.full(5, )) # Spannungsmessung Stahl in V\n",
    "T_mess_Stahl = unumpy.uarray([ , , , , ],np.full(5, )) # Temperaturmessung Stahl in °C\n",
    "\n",
    "r_stab_Messing = ufloat (0.008, ) # Messing Kupferstab in m\n",
    "abstand_mess_Messing = ufloat ( , ) # Abstände der Messfühler Messing in m\n",
    "T_kühlwasser_Messing = uflaot ( , ) #Temperatur Kühlwasser Messing in °C\n",
    "I_heizspule_Messing = uflaot ( , )  #Strom Heizspule Messing in A\n",
    "U_heizspule_Messing = ufloat ( , )  #Spannung Heizspule Messing in V\n",
    "strecke_mess_Messing = unumpy.uarray([ , , , , ],np.full(5, )) #Steckenmessung Messing in m, Beginn bei T_min\n",
    "U_mess_Messing = unumpy.uarray([ , , , , ],np.full(5, )) # Spannungsmessung Messing in V\n",
    "T_mess_Messing = unumpy.uarray([ , , , , ],np.full(5, )) # Temperaturmessung Messing in °C"
   ]
  },
  {
   "cell_type": "markdown",
   "id": "e5485912-28cb-409b-aa99-f3249538d164",
   "metadata": {},
   "source": [
    "Um aus den gemssenen Daten die Wärmeleitfahigkeit der Materialen $\\lambda$ zu bestimmen, wird die folgende Formel (https://de.wikipedia.org/wiki/W%C3%A4rmeleitf%C3%A4higkeit) benötigt:\n",
    "$$\\lambda = \\frac{P\\cdot l}{A \\cdot \\Delta T} = \\frac{U_{heizspule} \\cdot I_{heizspule}\\cdot strecke_{mess}}{\\pi \\cdot r_{stab}^2 \\cdot \\left(T_{mess}-T_{kühlwasser}\\right)}$$ \n",
    "# in Musterprotokollen wurde noch \\frac{strecke_{mess}}{\\delta T} mit einem Fit bestimmt warum? "
   ]
  },
  {
   "cell_type": "code",
   "execution_count": null,
   "id": "ba8eb38f-ac76-4ee5-9e65-1011419ea476",
   "metadata": {},
   "outputs": [],
   "source": [
    "lamda_Cu = (U_heizspule_Cu*I_heizspule_Cu*strecke_mess_Cu)/\n",
    "           (unp.pi*r_stab_Cu**2*(T_mess_Cu-T_kühlwasser_Cu)\n",
    "lamda_Stahl = (U_heizspule_Stahl*I_heizspule_Stahl*strecke_mess_Stahl)/\n",
    "              (unp.pi*r_stab_Stahl**2*(T_mess_Stahl-T_kühlwasser_Stahl) \n",
    "lamda_Messing = (U_heizspule_Messing*I_heizspule_Messing*strecke_mess_Messing)/\n",
    "                (unp.pi*r_stab_Messing**2*(T_mess_Messing-T_kühlwasser_Messing)\n",
    "lamda_Cu = np.mean(lamda_Cu)\n",
    "lamda_Stahl = np.mean(lamda_Stahl)\n",
    "lamda_Messing = np.mean(lamda_Messing)\n",
    "print (\"lamda_Cu: \",lamda_Cu)\n",
    "print (\"lamda_Stahl: \",lamda_Stahl)\n",
    "print (\"lamda_Messing: \",lamda_Messing)"
   ]
  },
  {
   "cell_type": "markdown",
   "id": "74c3ac47-d038-491b-bb22-33b48e6ac5fd",
   "metadata": {},
   "source": [
    "Für die Wärmeleitfähigkeit von Kupfer ergibt sich ein Wert von $x \\frac{W}{m \\cdot K}$. Der Literaturwert (https://de.wikipedia.org/wiki/W%C3%A4rmeleitf%C3%A4higkeit) beträgt $240-380 \\frac{W}{m \\cdot K}$. Der berechnete Wert hat eine Abweichung von $ \\%$ vom Literaturwert. \\\n",
    "Für die Wärmeleitfähigkeit von Stahl ergibt sich ein Wert von $x \\frac{W}{m \\cdot K}$. Der Literaturwert für unlegierten Stahl (https://de.wikipedia.org/wiki/W%C3%A4rmeleitf%C3%A4higkeit) beträgt $48-58 \\frac{W}{m \\cdot K}$. Der berechnete Wert hat eine Abweichung von $ \\%$ vom Literaturwert. \\\n",
    "Für die Wärmeleitfähigkeit von Messing ergibt sich ein Wert von $x \\frac{W}{m \\cdot K}$. Der Literaturwert (https://de.wikipedia.org/wiki/W%C3%A4rmeleitf%C3%A4higkeit) beträgt $120 \\frac{W}{m \\cdot K}$. Der berechnete Wert hat eine Abweichung von $ \\%$ vom Literaturwert."
   ]
  },
  {
   "cell_type": "markdown",
   "id": "d8d812b8-5e11-4887-b06d-3240d62f6919",
   "metadata": {},
   "source": [
    "### Aufgabe 2: [Peletier-Effekt](https://de.wikipedia.org/wiki/Thermoelektrizit%C3%A4t#Peltier-Effekt)\n",
    "\n",
    "#### Aufgabe 2.1: Temperaturdifferenz als Funktion des Stroms\n",
    "\n",
    "Messen Sie die sich einstellende Temperaturdifferenz ($\\Delta T$) am Peltier-Kühlblock, als Funktion des Stroms ($I$) durch den Block. Halten Sie dabei die eine Seite des Kühlblocks auf der konstanten Temperatur des Kühlwassers und isolieren Sie die andere Seite so gut wie möglich gegen Wärmezufuhr von außen. Messen Sie die Temperaturdifferenz mit Hilfe zweier Thermoelemente. Der maximale Strom durch den Peltier-Kühlblock darf $I\\approx20\\,\\mathrm{A}$ nicht übersteigen.\n",
    "\n",
    "---"
   ]
  },
  {
   "cell_type": "markdown",
   "id": "2945b5de-62a6-4ddc-bf65-ca0d22c0be53",
   "metadata": {},
   "source": [
    "**Lösung:**"
   ]
  },
  {
   "cell_type": "code",
   "execution_count": null,
   "id": "b6312edc-2f37-4e77-a03b-a816672b8528",
   "metadata": {
    "tags": []
   },
   "outputs": [],
   "source": [
    "I_block = unumpy.uarray ([],np.full(5, )) #gemessener Strom am Block in A\n",
    "U_block = unumpy.uarray ([],np.full(5, )) #gemessene Spannung am Block in V\n",
    "U_1 = unumpy.uarray ([],np.full(5, )) # Spannung für Spannungsdifferenz in V\n",
    "U_2 = unumpy.uarray ([],np.full(5, )) # Spannung für Spannungsdifferenz in V\n",
    "delta_U = abs(U1-U2)\n",
    "print(delta_U)"
   ]
  },
  {
   "cell_type": "code",
   "execution_count": null,
   "id": "2a7cf478-d2d5-4522-b715-ce93afc63803",
   "metadata": {
    "tags": []
   },
   "outputs": [],
   "source": [
    "delta_T = unumpy.uarray([],np.full(5, )) #Temperaturdifferenz in K\n",
    "                                  #aus Tabelle ermitteln mit Hilfe delta_U"
   ]
  },
  {
   "cell_type": "markdown",
   "id": "4ce718b5-aa2b-4439-b93c-9481dc3afeb4",
   "metadata": {},
   "source": [
    "# Musterprotokoll rechnet noch den minimalen Temperaturwert aus mit einem Fit"
   ]
  },
  {
   "cell_type": "markdown",
   "id": "f81ea0c1-7106-4271-87ef-666d9f41a12a",
   "metadata": {},
   "source": [
    "#### Aufgabe 2.2: Kühlleistung und elektrische Leistung\n",
    "\n",
    "Messen Sie die [Kühlleistung](https://de.wikipedia.org/wiki/K%C3%BChlung#K%C3%BChlleistung) $\\dot{Q}$ und die elektrische Leistung $P$ als Funktion des Stroms $I$ durch den Peletier-Kühlblock. Tragen Sie die daraus berechnete [Leistungsziffer](https://de.wikipedia.org/wiki/Leistungszahl) \n",
    "\n",
    "$$\n",
    "\\begin{equation*}\n",
    "\\epsilon = \\frac{\\dot{Q}}{P}\n",
    "\\end{equation*}\n",
    "$$\n",
    "\n",
    "(Achtung nicht den Wirkungsgrad!) als Funktion von $I$ auf. Diskutieren und interpretieren Sie Ihre Ergebnisse. Bei dieser Messung wird durch \"Gegenheizen\" auf der kalten Seite eine konstante Temperaturdifferenz $\\Delta T$ aufrecht erhalten, die einen freien Parameter bei der Versuchsdurchführung darstellt. Führen Sie auf jeden Fall eine Messung bei $\\Delta T=3^{\\circ}\\mathrm{C}$ durch. Wenn es die Zeit erlaubt, ist eine Vergleichsmessung bei $\\Delta T=6^{\\circ}\\mathrm{C}$ ebenfalls interessant. \n",
    "\n",
    "---"
   ]
  },
  {
   "cell_type": "markdown",
   "id": "835d47dc-c82b-4904-8f79-5b862577f422",
   "metadata": {},
   "source": [
    "**Lösung:**"
   ]
  },
  {
   "cell_type": "code",
   "execution_count": null,
   "id": "183e3d4e-ac0e-4101-b595-1743ecc3d9b5",
   "metadata": {},
   "outputs": [],
   "source": [
    "I_kühl = unumpy.uarray([],np.full(5, )) #Kühlstrom in A\n",
    "U_kühl = unumpy.uarray([],np.full(5, )) #Kühlspannung in V\n",
    "I_heiz = unumpy.uarray([],np.full(5, ))   #Heizstrom in A\n",
    "U_heiz = unumpy.uarray([],np.full(5, ))   #Heizspannung in V\n",
    "epsilon = (U_heiz*I_heiz)/(I_kühl*U_kühl) #Berechung epsilon\n",
    "plt.plot(I_kühl,epsilon,color='black',marker='x',linestyle='None') #mache Plot\n",
    "plt.xlabel('Stromstärke Kühlung in A')\n",
    "plt.ylabel('Leistungszahl')\n",
    "plt.savefig('figures/Aufgabe2_2.png')\n",
    "plt.show()"
   ]
  },
  {
   "cell_type": "markdown",
   "id": "06bc4b20-7452-46b8-af88-9751907e9f09",
   "metadata": {},
   "source": [
    "In dem Leistungszahl-$I_{kühl}$-Plot lässt sich erkennen, dass die Leistungsziffer bei zunehmendem Strom im Petierblock abnimmt. Dies liegt daran, dass die joulesche Wärme der Kühlung entgegenwirkt und die Kühlleistung bei höherem Stromfluss deutlich beeinträchtigt. Daran lässt sich erkennen, dass die Kühlung effizienter bei geringerem Stromfluss ist."
   ]
  },
  {
   "cell_type": "markdown",
   "id": "23ad6a70-dd36-496d-8915-1aab7b30b96b",
   "metadata": {},
   "source": [
    "### Aufgabe 3: Thermostrom\n",
    "\n",
    "Demonstrieren Sie an einem niederohmigen Thermoelement den erreichbaren, (sehr hohen!) Thermostrom durch dessen magnetische Wirkung. Sobald Sie eine Kontaktstelle des Thermoelements mit einem Bunsenbrenner heizen und die andere mit Eiswasser kühlen können Sie mit der Konstruktion mit nur einer Leiterschleife durch ein Eisenjoch ein Gewicht von $m=5\\,\\mathrm{kg}$ tragen.\n",
    "\n",
    "Vergleichen Sie die im Experiment beobachtete Tragkraft des Elektromagneten mit einem näherungsweise errechneten Wert. Messen Sie hierzu mit einem Millivoltmeter die Thermospannung, bei der Joch und Gewicht gerade noch gehalten werden. Berechnen Sie aus den geometrischen Abmessungen und dem spezifischen Widerstand von $\\mathrm{Cu}$ den Widerstand der $\\mathrm{Cu}$-Schleife. Damit ergibt sich der Thermostrom und der Betrag der [magnetischen Feldstärke](https://de.wikipedia.org/wiki/Magnetische_Feldst%C3%A4rke) $\\vec{H}$ im Eisen. Schätzen Sie die mittlere Länge der Feldlinien im Eisen ab. Mit dem Erfahrungswert $\\mu_{r}\\approx500$ für die [relative Permeabilität](https://de.wikipedia.org/wiki/Magnetische_Permeabilit%C3%A4t) von Eisen für Magnete können Sie den Betrag der magnetischen Feldstärke $\\vec{B}$ abschätzen. Eine begründete Formel für die Tragkraft findet sich in \"Gerthsen, Kneser, Vogel: Probleme aus der Physik, Aufgabe 7.2.7\". Dafür wird zusätzlich die Größe der Auflagefläche des Eisenjochs benötigt.\n",
    "\n",
    "---"
   ]
  },
  {
   "cell_type": "markdown",
   "id": "ab4001fa-6bba-41ca-a35e-a059af1736d2",
   "metadata": {},
   "source": [
    "**Lösung:**\n",
    "\n"
   ]
  },
  {
   "cell_type": "code",
   "execution_count": 1,
   "id": "2a66eb36-4dc0-4b1c-a882-0607e35793a5",
   "metadata": {
    "tags": []
   },
   "outputs": [
    {
     "name": "stderr",
     "output_type": "stream",
     "text": [
      "<>:9: SyntaxWarning: 'float' object is not callable; perhaps you missed a comma?\n",
      "<>:9: SyntaxWarning: 'float' object is not callable; perhaps you missed a comma?\n"
     ]
    },
    {
     "ename": "NameError",
     "evalue": "name 'ufloat' is not defined",
     "output_type": "error",
     "traceback": [
      "\u001b[0;31m---------------------------------------------------------------------------\u001b[0m",
      "\u001b[0;31mNameError\u001b[0m                                 Traceback (most recent call last)",
      "Cell \u001b[0;32mIn[1], line 1\u001b[0m\n\u001b[0;32m----> 1\u001b[0m U_th  \u001b[38;5;241m=\u001b[39m \u001b[43mufloat\u001b[49m(\u001b[38;5;241m0.0021\u001b[39m, ) \u001b[38;5;66;03m#spannung ab der es nicht mehr hält. \u001b[39;00m\n\u001b[1;32m      2\u001b[0m rho_Cu \u001b[38;5;241m=\u001b[39m ufloat(\u001b[38;5;241m1.7\u001b[39m \u001b[38;5;241m*\u001b[39m \u001b[38;5;241m10\u001b[39m \u001b[38;5;241m*\u001b[39m\u001b[38;5;241m*\u001b[39m\u001b[38;5;241m-\u001b[39m\u001b[38;5;241m8\u001b[39m, ) \u001b[38;5;66;03m#ohm/meter\u001b[39;00m\n\u001b[1;32m      3\u001b[0m L_joch \u001b[38;5;241m=\u001b[39m ufloat(\u001b[38;5;241m0.185\u001b[39m, ) \u001b[38;5;66;03m# länge in meter des jochs, nachmessen!\u001b[39;00m\n",
      "\u001b[0;31mNameError\u001b[0m: name 'ufloat' is not defined"
     ]
    }
   ],
   "source": [
    "U_th  = ufloat(0.0021, ) #spannung ab der es nicht mehr hält. \n",
    "rho_Cu = ufloat(1.7 * 10 **-8, ) #ohm/meter\n",
    "L_joch = ufloat(0.185, ) # länge in meter des jochs, nachmessen!\n",
    "b_joch = ufloat(0.035, ) # breite in meter des jochs, nachmessen!\n",
    "A_joch = L_joch * b_joch #fläche des jochs\n",
    "L_schleife = 2*L_joch + b_joch # länge der leiterschleife\n",
    "r_schleife = b_joch/2 # radius in meter der leiterschleife\n",
    "#mu_0 = 4* np.pi * 10**-7 -> alte Definition\n",
    "mu_0 = ufloat(1.25663706212(19)*10**(-6),0.0000000000019*10**(-6))  \n",
    "mu_r = ufloat(500,)\n",
    "A_schleife = ufloat(2.5 * 10**-5, ) #querschnittsfläche der leiterschleife, PRÜFEN!\n",
    "\n",
    "F_thermo = A_joch * mu_0 * mu_r**2 * U_th**2 * A_schleife **2 /(8 * r_schleife**2 * rho_Cu**2 * L_schleife**2)\n",
    "\n",
    "print(F_thermo , \"N\")"
   ]
  },
  {
   "cell_type": "code",
   "execution_count": null,
   "id": "0f3fdb4a-6ad2-4311-8ee9-0d8a49a9ec60",
   "metadata": {},
   "outputs": [],
   "source": []
  }
 ],
 "metadata": {
  "kernelspec": {
   "display_name": "Python 3 (ipykernel)",
   "language": "python",
   "name": "python3"
  },
  "language_info": {
   "codemirror_mode": {
    "name": "ipython",
    "version": 3
   },
   "file_extension": ".py",
   "mimetype": "text/x-python",
   "name": "python",
   "nbconvert_exporter": "python",
   "pygments_lexer": "ipython3",
   "version": "3.10.10"
  }
 },
 "nbformat": 4,
 "nbformat_minor": 5
}
