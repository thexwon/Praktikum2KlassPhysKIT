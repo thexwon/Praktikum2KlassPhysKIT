{
 "cells": [
  {
   "cell_type": "markdown",
   "id": "6307f907-501c-4213-9b7f-3fe4de87954d",
   "metadata": {},
   "source": [
    "<img src=\"./figures/Logo_KIT.svg\" width=\"250\" height=\"250\"  style=\"zoom:15%;float:right;\" />\n",
    "\n",
    "# Fakultät für Physik \n",
    "\n",
    "## Physikalisches Praktikum P2 für Studierende der Physik\n",
    "\n",
    "\n",
    "\n",
    "Versuch P2-47, 48, 49 (Stand: April 2023)\n",
    "\n",
    "[Raum F1-08](http://www-ekp.physik.uni-karlsruhe.de/~simonis/praktikum/layoutobjekte/Lageplan_P1.png)"
   ]
  },
  {
   "cell_type": "markdown",
   "id": "b785c13e-c0d3-445b-8117-8af012d1436a",
   "metadata": {},
   "source": [
    "<br>\n",
    "Name: _________Schwarz_________ Vorname: _______Felix___________ E-Mail: _______unuhz@student.kit.edu___________\n",
    "<br>\n",
    "<br>\n",
    "Name: _________Steib_________ Vorname: ________Lukas__________ E-Mail: ________uzmpb@student.kit.edu__________\n",
    "<br>\n",
    "<br>\n",
    "<br>\n",
    "Gruppennummer: __Mo-21___\n",
    "<br>\n",
    "<br>\n",
    "<br>\n",
    "Betreuer: _________David Wößmann_________\n",
    "<br>\n",
    "<br>\n",
    "<br>\n",
    "Versuch durchgeführt am: ________08.05.2023__________"
   ]
  },
  {
   "cell_type": "markdown",
   "id": "edfaeb32-d3c5-4128-860e-4e8a0c3741c1",
   "metadata": {},
   "source": [
    "---\n",
    "\n",
    "**Beanstandungen:**\n",
    "\n",
    "<br>\n",
    "<br>\n",
    "<br>\n",
    "<br>\n",
    "<br>\n",
    "<br>\n",
    "<br>\n",
    "<br>\n",
    "<br>\n",
    "<br>\n",
    "Testiert am: __________________ Vermerk: __________________"
   ]
  },
  {
   "cell_type": "markdown",
   "id": "3d867da6-cf65-4642-8b7e-ca70190700a7",
   "metadata": {},
   "source": [
    "# Ideales und reales Gas\n",
    "\n",
    "## Motivation\n",
    "\n",
    "Die klassische Thermodynamik beschäftigt sich mit den Eigenschaften makroskopisch ausgedehnter Systeme, die durch Zustandsgrößen, wie Volumen ($V$), Druck ($p$) oder Temperatur ($T$) charakterisiert und mit Hilfe von Zustandsgleichungen beschrieben werden. Zustandsänderungen idealer Gase werden durch die [ideale Gasgleichung](https://de.wikipedia.org/wiki/Thermische_Zustandsgleichung_idealer_Gase) oder die [Adiabaten-Gleichungen](https://de.wikipedia.org/wiki/Adiabatische_Zustands%C3%A4nderung) beschrieben; Wärmeänderungen bei konstantem Druck oder Volumen durch die [kalorischen Zustandsgleichungen](https://de.wikipedia.org/wiki/Zustandsgleichung), die die Änderungen der Temperatur ($\\mathrm{d}T$) mit der Änderungen der inneren Energie ($\\mathrm{d}U$) oder Enthalpie ($\\mathrm{d}H$) verknüpfen. Als Potentialgrößen hängen weder $U$ noch $H$ davon ab, wie ein betreffendes System (z.B. im $pV$-Diagramm) in seinen Zustand gelangt ist. Wärme ($Q$) hingegen ist keine Potentialgröße; Sie kann abhängig davon, auf welchem Weg ein System in seinen Zustand (z.B. im $pV$-Diagramm) gelangt zu unterschiedlichen Anteilen entweder zu Änderungen der inneren Energie ($\\mathrm{d}U$) oder zur Verrichtung mechanischer Arbeit ($\\delta W$) führen, was die Grundlage jeder Wärmekraftmaschine ist. Die Entwicklung der klassischen Thermodynamik als Disziplin der Ingeneurswissenschaften hat ab Mitte des 19. Jahrunderts v.a. durch die Arbeiten von [Nicolas Carnot](https://de.wikipedia.org/wiki/Nicolas_L%C3%A9onard_Sadi_Carnot), [Julius Mayer](https://de.wikipedia.org/wiki/Julius_Robert_Mayer), [James Joule](https://de.wikipedia.org/wiki/James_Prescott_Joule) oder [Rudolf Clausius](https://de.wikipedia.org/wiki/Rudolf_Clausius) rasante Entwicklungen genommen. \n",
    "\n",
    "Die hier angebotenen Versuche bieten Ihnen die Möglichkeit sich mit den nicht immer intuitiven Vorgängen der Thermodynamik experimentell vertraut zu machen: Sie führen Temperaturmessungen mit einem Gasthermometer durch, und bestimmen mit verschiedenen Methoden den [Adiabatenexponenten](https://de.wikipedia.org/wiki/Isentropenexponent) $\\kappa=c_{p}/c_{V}$, wobei das verwendete Gas jeweils verschiedene Wege im $pV$-Diagramm durchläuft. Schließlich messen Sie eine Dampfdruckkurve aus, bei der sich die Phasenzustände \"flüssig\" und \"gasförmig\" im thermodynamischen Gleichgewicht befinden. \n",
    "\n",
    "Um diese Experimente erfolgreich durchführen zu können müssen Sie die Zustände des Arbeitsgases achtsam und sorgfältig präparieren. Bei den meisten hierzu verwendeten Geräten handelt es sich um eigens angefertigte Präzisionsinstrumente.\n",
    "\n",
    "## Lernziele\n",
    "\n",
    "Wir listen im Folgenden die wichtigsten **Lernziele** auf, die wir Ihnen mit dem Versuch **Ideales und reales Gas** vermitteln möchten: \n",
    "\n",
    "- Sie üben sich in der Durchführung thermodynamischer Experimente mit idealen und realen Gasen und präparieren dabei verschiedene Zustandsänderungen des verwendeten Arbeitsgases im $pV$-Diagramm.\n",
    "- Sie verwenden die ideale Gasgleichung zur Temperaturmessung mit Hilfe eines [Gasthermometers](https://de.wikipedia.org/wiki/Gasthermometer). Dabei ermittlen Sie mit Hilfe des Gasthermometers die Temperatur des absoluten Nullpunkts in $^{\\circ}\\mathrm{C}$.\n",
    "- Sie bestimmen $\\kappa$ für Luft und ggf. Argon: \n",
    "  - einmal nach der Methode von [Clément-Desormes](https://de.wikipedia.org/wiki/Experiment_von_Cl%C3%A9ment-Desormes), unter Herbeiführung *adiabatischer* und *isochorer* Zustandsänderungen; und \n",
    "  - einmal nach einer Schwingungsmethode, unter Herbeiführung ausschließlich *adiabatischer* Zustandsänderungen des Arbeitsgases.\n",
    "\n",
    "- Sie bestimmen die [Dampfdruckkurve](https://de.wikipedia.org/wiki/Dampfdruck) von n-[Hexan](https://de.wikipedia.org/wiki/Hexan) und leiten daraus seine Verdampfungswärme $Q_{\\mathrm{M}}$ ab. "
   ]
  },
  {
   "cell_type": "markdown",
   "id": "4fe6a4ef-c163-438b-a8a6-8aed745415e0",
   "metadata": {},
   "source": [
    "## Versuchsaufbau\n",
    "\n",
    "Zwei beispielhafte Aufbauten der hier durchzuführenden Versuche finden Sie in den folgenden Abbildungen dargestellt: \n",
    "\n",
    "**Gasthermometer:**\n",
    "\n",
    "<img src=\"./figures/image014.jpg\" width=\"500\" height=\"500\" style=\"zoom:60%;\" />\n",
    "\n",
    "**Bestimmung von $\\kappa$ nach der Methode von Clément-Desormes:**\n",
    "\n",
    "<img src=\"./figures/image016.jpg\"  width=\"500\" height=\"500\" style=\"zoom:60%;\" />\n",
    "\n",
    "Für die verschiedenen Versuchsteile stehen Ihnen vier verschiedene Versuchsaufbauten zur Verfügung. Diese enthalten die folgenden wichtigsten Elemente: \n",
    "\n",
    "- Ein Gasthermometer mit Becherglas, Heizpilz (Heizleistung $320\\,\\mathrm{W}$) und Rührvorrichtung.\n",
    "\n",
    "- Ein [Kathetometer](https://de.wikipedia.org/wiki/Kathetometer) zur exakten Ablesung der Manometer-Anzeigen.\n",
    "\n",
    "- Zwei Glasflaschen (Volumen, jeweils $V=10\\,\\mathrm{l}$) für die Aufgaben 2 und 3. \n",
    "\n",
    "- Ein U-Rohr-Manometer. \n",
    "\n",
    "- Ein Handblasebalg. \n",
    "\n",
    "- Ein Präzisionsglasrohr (Länge $l=60\\,\\mathrm{cm}$) mit exakt eingepasster Stahlkugel (Durchmesser $d=16\\,\\mathrm{mm}\\pm0,5\\%$, $m=16,68\\,\\mathrm{g}\\pm0,1\\%$).\n",
    "\n",
    "- Ein [Kolbenprober](https://de.wikipedia.org/wiki/Kathetometer) ($V=100\\,\\mathrm{ml}$); die Abmessungen des Kolbens sind: Durchmesser $d=31,1(1)\\,\\mathrm{mm}$, $m=109,80(5)\\,\\mathrm{g}$ (einschließlich Magnet zur automatischen Frequenzbestimmung).\n",
    "\n",
    "- Ein Frequenzzählgerät.\n",
    "\n",
    "- Ein Wassergefäß ($V=2\\,\\mathrm{l}$). \n",
    "\n",
    "- Ein Dampfdruckgefäß, das mit $1\\,\\mathrm{mol}$ n-Hexan befüllt und direkt mit einem Hg-Manometer verbunden ist.\n",
    "\n",
    "- Ein Thermometer (Messbereich $0-50^{\\circ}\\mathrm{C}$).\n",
    "\n",
    "- Im Versuchsraum ist ferner ein Barometer zur Bestimmung des Umgebungsdrucks vorhanden.\n",
    "\n",
    "## Wichtige Hinweise\n",
    "\n",
    "- Bei den hier verwendeten Glasgeräten handelt es sich um empfindliche Spezialanfertigungen und zum Teil um eigens angefertigte Präzisionsmessgeräte. Gehen Sie **vorsichtig mit diesen Geräten** um und halten Sie sie sauber. \n",
    "- Beginnen Sie alle im folgenden beschriebenen Versuche **erst nach Rücksprache** mit dem/der Tutor:in. \n",
    "- Um Stromschlägen vorzubeugen fassen Sie bei Feuchtigkeit nicht in den eingeschalteten Heizpilz."
   ]
  },
  {
   "cell_type": "markdown",
   "id": "39614214-11bf-4818-a4e9-afafa09b8859",
   "metadata": {},
   "source": [
    "## Durchführung\n",
    "\n",
    "### Aufgabe 1: Gasthermometer\n",
    "\n",
    "Bestimmen Sie den [Spannungskoeffizienten](https://de.wikipedia.org/wiki/Ausdehnungskoeffizient) $\\alpha$ von Luft und berechnen Sie daraus die Temperatur des absoluten Nullpunkts in $^{\\circ}\\mathrm{C}$. Verwenden Sie hierzu die Zustandsgleichung \n",
    "\n",
    "$$\n",
    "\\left.p(T)\\right|_{V=const.} = p_{0}\\left(1+\\alpha\\,T\\right).\n",
    "$$\n",
    "\n",
    "Berechnen Sie den Effekt den die Ausdehnung des Glaskolbens G als Funktion von $T$ hat und korrigieren Sie Ihre Messung entsprechend (siehe [Hinweise für den Versuch \"Ideales und reales Gas\"](https://git.scc.kit.edu/etp-lehre/p2-for-students/-/blob/main/Ideales_und_reales_Gas/README.md)). \n",
    "\n",
    "Um Wartezeiten zu überbrücken können Sie parallel die Messungen zu Aufgabe 2 durchführen.  \n",
    "\n",
    "---"
   ]
  },
  {
   "cell_type": "markdown",
   "id": "653c60a2-945f-43d3-a278-f45c8c83c896",
   "metadata": {},
   "source": [
    "**Lösung:** \\\n",
    "Für die Bestimmung des Spannungskoeffizienten wird die Höhe der Säulen im Gasthermometer gemessen bei ungefähr $0^{\\circ} C$ und bei circa $100^{\\circ} C$. \\\n",
    "Damit können wir den Druck berechnen mit der Formel $p(T)=\\Delta h \\cdot 133.32 + p_{0} $. $p_0$ ist der Atmosphärendruck der bei diesem Versuch immer vorliegt und $\\Delta h$ ist die Höhendifferenz zwischen linker und rechter Säule."
   ]
  },
  {
   "cell_type": "code",
   "execution_count": 3,
   "id": "f29c33fd-3409-4220-b3d7-70ac2459264e",
   "metadata": {},
   "outputs": [],
   "source": [
    "import numpy as np #Lade Pakete\n",
    "import matplotlib.pyplot as plt\n",
    "from PhyPraKit import readPicoScope, resample\n",
    "from scipy import signal\n",
    "from scipy import interpolate\n",
    "import sys\n",
    "from kafe2 import  XYContainer, Fit, XYFit, Plot, ContoursProfiler                            \n",
    "from uncertainties import ufloat, unumpy\n",
    "from math import log10, floor\n",
    "import scipy.integrate as integrate\n",
    "import pandas as pd\n",
    "import csv"
   ]
  },
  {
   "cell_type": "code",
   "execution_count": 103,
   "id": "f2344d3b-fbb0-47bc-b32d-5918ac5f3ddf",
   "metadata": {
    "tags": []
   },
   "outputs": [
    {
     "name": "stdout",
     "output_type": "stream",
     "text": [
      "(1.283+/-0.010)e+05 (9.31+/-0.10)e+04\n",
      "Beim Gefrierpunkt von Wasser ergibt sich ein Druck von  (9.31+/-0.10)e+04 hPascal. Beim Siedepunkt von Wasser ergibt sich ein Druck von  (1.283+/-0.010)e+05 hPascal.\n"
     ]
    }
   ],
   "source": [
    "p_0= ufloat(100200,100200*0.01\n",
    "           )  #pascal \n",
    "data=pd.read_csv('Messung/Aufgabe1_kalt.txt',delimiter=';',decimal=\".\",skiprows=3) #importiere Daten\n",
    "data.columns=['nkalt','T_kalt','h_linkskalt','h_rechtskalt']\n",
    "nkalt = data['nkalt'].to_numpy() \n",
    "T_kalt = data['T_kalt'].to_numpy()\n",
    "h_rechtskalt = data['h_rechtskalt'].to_numpy()*10**3\n",
    "h_linkskalt = data['h_linkskalt'].to_numpy()*10**3\n",
    "\n",
    "data=pd.read_csv('Messung/Aufgabe1-warm.txt',delimiter=';',decimal=\".\",skiprows=3) #importiere Daten\n",
    "data.columns=['nwarm','T_warm','h_linkswarm','h_rechtswarm']\n",
    "nwarm = data['nwarm'].to_numpy() \n",
    "T_warm = data['T_warm'].to_numpy()\n",
    "h_rechtswarm = data['h_rechtswarm'].to_numpy()*10**3\n",
    "h_linkswarm = data['h_linkswarm'].to_numpy()*10**3\n",
    "\n",
    "p_kalt = (h_rechtskalt-h_linkskalt)*133.32+p_0\n",
    "p_kalt_mean = np.sum(p_kalt)/len(p_kalt)\n",
    "                     \n",
    "p_warm = (h_rechtswarm-h_linkswarm)*133.32+p_0\n",
    "p_warm_mean = np.sum(p_warm)/len(p_warm)\n",
    "print(p_warm_mean, p_kalt_mean)\n",
    "print(\"Beim Gefrierpunkt von Wasser ergibt sich ein Druck von \", p_kalt_mean, \"hPascal. Beim Siedepunkt von Wasser ergibt sich ein Druck von \", p_warm_mean, \"hPascal.\")"
   ]
  },
  {
   "cell_type": "markdown",
   "id": "6821b48c-5fb0-4617-9cce-2dea5733ba6f",
   "metadata": {},
   "source": [
    "Mit den gewonnenen Drücken ist der Spannungskoeffizient $\\alpha$ mit der Formel $\\left.p(T)\\right|_{V=const.} = p_{0}\\left(1+\\alpha\\,T\\right)$ berechenbar. Wobei $p_0$ der dem Druck bei $0^{\\circ} C$ entspricht.\n",
    "Zuerst wird die Formel noch nach $\\alpha$ umgestellt:\\\n",
    "$\\Longrightarrow \\alpha=\\frac{p_{warm}-p_{kalt}}{p_{kalt}\\cdot \\Delta T} = \\frac{p_{warm}-p_{kalt}}{p_{warm}\\cdot \\left(T_{kalt}-T_{kalt}\\right)} $"
   ]
  },
  {
   "cell_type": "code",
   "execution_count": 104,
   "id": "379e952e-1d26-4a6c-a744-485d8a2d78c4",
   "metadata": {
    "tags": []
   },
   "outputs": [
    {
     "name": "stdout",
     "output_type": "stream",
     "text": [
      "[0.003783724703010801+/-4.070791036678773e-05\n",
      " 0.0038179636333371472+/-4.113516068051755e-05\n",
      " 0.003798111488953807+/-4.0862693295939e-05\n",
      " 0.003798111488953807+/-4.0862693295939e-05]\n"
     ]
    }
   ],
   "source": [
    "alpha=(p_warm-p_kalt)/(p_kalt*(T_warm-T_kalt))\n",
    "print(alpha)"
   ]
  },
  {
   "cell_type": "markdown",
   "id": "155123e8-7c87-4771-8cc1-139fb746d8e9",
   "metadata": {},
   "source": [
    "Damit ergibt sich für Alpha in erster Näherung ein Wert von $ \\frac{1}{^{\\circ}C }$.\n",
    "Beachtet man die thermische Ausdehnung des Glaskolbens erhält man einen besseren Wert.\n",
    "$\\alpha = \\alpha^ {(0)} + \\frac{p(T_S)}{p_0} \\cdot \\gamma$"
   ]
  },
  {
   "cell_type": "code",
   "execution_count": 105,
   "id": "b3ae5e2b-ff0c-43aa-8a5b-0dc957240cd7",
   "metadata": {
    "tags": []
   },
   "outputs": [
    {
     "name": "stdout",
     "output_type": "stream",
     "text": [
      "[0.0038181367182095406+/-4.080917129382511e-05\n",
      " 0.0038524608178750735+/-4.1237484392710335e-05\n",
      " 0.00383255929128258+/-4.0964339245512646e-05\n",
      " 0.00383255929128258+/-4.0964339245512646e-05]\n"
     ]
    }
   ],
   "source": [
    "alpha_besser=alpha+p_warm/p_kalt*2.5*10**(-5)\n",
    "print(alpha_besser)"
   ]
  },
  {
   "cell_type": "markdown",
   "id": "827ac8b3-2366-4e79-a344-56d89fe5e2fc",
   "metadata": {},
   "source": [
    "Damit ergibt sich für Alpha ein besserer Wert von $ \\frac{1}{^{\\circ}C }$.\n",
    "Über diesen Wert lässt sich der absolute Nullpunkt der Formel $T_{0}=-\\frac{1}{\\alpha}$ berechnen. "
   ]
  },
  {
   "cell_type": "code",
   "execution_count": 106,
   "id": "0e705692-553c-4dbd-a3d0-6ae38b3eb7e2",
   "metadata": {
    "tags": []
   },
   "outputs": [
    {
     "name": "stdout",
     "output_type": "stream",
     "text": [
      "-260.8+/-2.8\n"
     ]
    }
   ],
   "source": [
    "T_0=-1/alpha_besser\n",
    "print(np.mean(T_0))"
   ]
  },
  {
   "cell_type": "markdown",
   "id": "52e510ce-d481-4a68-b767-f4f6789e5922",
   "metadata": {},
   "source": [
    "Der berechnete Nullpunkt liegt bei $-260.8 \\pm 2.8^{\\circ}C$. Der Literaturwert für den absoluten Nullpunkt liegt bei $-273,15^{\\circ}C$. (https://www.chemie.de/lexikon/Absoluter_Nullpunkt.html) \\\n",
    "Der berechnete Nullpunkt hat eine Abweichung von $x\\%$ vom Literaturwert."
   ]
  },
  {
   "cell_type": "markdown",
   "id": "9fd50d32-4319-4eb0-a431-e63b40171a42",
   "metadata": {},
   "source": [
    "### Aufgabe 2: Adiabatenexponent (nach [Clément-Desormes](https://de.wikipedia.org/wiki/Experiment_von_Cl%C3%A9ment-Desormes))\n",
    "\n",
    "Bestimmen Sie $\\kappa$ von Luft. Skizzieren Sie den Prozess im $pV$-Diagramm. Führen Sie die Messung mehrmals durch, um ein Maß für die Streuung aufgrund statistischer Fluktuationen zu erhalten. Führen Sie danach zwei weitere Messreihen durch, bei denen Sie das Ventil in Schritt 2 (siehe [Hinweise für den Versuch \"Ideales und reales Gas\"](https://git.scc.kit.edu/etp-lehre/p2-for-students/-/blob/main/Ideales_und_reales_Gas/README.md)) einmal länger und einmal kürzer geöffnet halten, als dies Ihrer Meinung nach für einen adiabatischen Druckausgleich nötig wäre. Auf diese Weise können Sie den Effekt abschätzen, der dadurch entsteht, dass Sie die Zeitspanne für einen adiabatischen Druckausgleich nicht richtig treffen. Beachten Sie hierzu die Hinweise zu dieser Aufgabe im Dokument [Hinweise für den Versuch \"Ideales und reales Gas\"](https://git.scc.kit.edu/etp-lehre/p2-for-students/-/blob/main/Ideales_und_reales_Gas/README.md).\n",
    "\n",
    "---"
   ]
  },
  {
   "cell_type": "markdown",
   "id": "2f97b3bd-a7b8-4f12-917e-0483e92b6414",
   "metadata": {},
   "source": [
    "**Lösung:** \\\n",
    "$\\kappa$ lässt sich aus folgender Formel berechnen:\\\n",
    "$\\kappa = \\frac{h_1}{h_1-h_2}$\n",
    "Um $\\kappa$ möglichst genau zu bestimmen, wird der Mittelwert von mehreren Messreihen gebildet."
   ]
  },
  {
   "cell_type": "code",
   "execution_count": 8,
   "id": "86627d39-a950-49e2-a2ec-e9b2fa60d528",
   "metadata": {
    "tags": []
   },
   "outputs": [
    {
     "name": "stdout",
     "output_type": "stream",
     "text": [
      "kappa = 2.810326808197776 +- 0.4994358912461121\n"
     ]
    }
   ],
   "source": [
    "h1 = np.array([155-26,160-21,164-16,171-10,166-16])\n",
    "h2 = np.array([130-51,134-49,145-36,141-40,135-47])\n",
    "kappa = h1/(h1-h2)\n",
    "print(\"kappa =\", np.mean(kappa), \"+-\", np.std(kappa))"
   ]
  },
  {
   "cell_type": "markdown",
   "id": "23399e4c-6498-4c16-9e18-8e125712f445",
   "metadata": {},
   "source": [
    "Die Bestimmung von $\\kappa$ mit öffnen des Ventils ergibt für Kappa einen Wert von $\\kappa=2.8103 \\pm 0.4994$. Der Literaturwert für Kappa beträgt 1.40 (https://de.wikipedia.org/wiki/Isentropenexponent). Damit ergibt sich zu dem Literaturwert eine Abweichung von $100\\%$."
   ]
  },
  {
   "cell_type": "code",
   "execution_count": 9,
   "id": "8e9b003f-3a92-4ba5-9cf4-c7de4bb6ff01",
   "metadata": {},
   "outputs": [
    {
     "name": "stdout",
     "output_type": "stream",
     "text": [
      "kappa kurz = 5.540697674418605 +- 1.9248826111018942\n"
     ]
    }
   ],
   "source": [
    "h1_kurz = np.array([171-10,169-13,163-18])\n",
    "h2_kurz = np.array([161-20,154-28,141-39])\n",
    "kappa = h1_kurz/(h1_kurz-h2_kurz)\n",
    "print(\"kappa kurz =\", np.mean(kappa), \"+-\", np.std(kappa))"
   ]
  },
  {
   "cell_type": "code",
   "execution_count": 10,
   "id": "929247a8-ba96-4e77-9dcb-db19fb40e227",
   "metadata": {},
   "outputs": [
    {
     "name": "stdout",
     "output_type": "stream",
     "text": [
      "kappa lang = 2.88942723942724 +- 0.48445064867447785\n"
     ]
    }
   ],
   "source": [
    "h1_lang = np.array([167-15,168-15,170-11])\n",
    "h2_lang = np.array([144-36,141-40,135-46])\n",
    "kappa = h1_lang/(h1_lang-h2_lang)\n",
    "print(\"kappa lang =\", np.mean(kappa), \"+-\", np.std(kappa))"
   ]
  },
  {
   "cell_type": "markdown",
   "id": "4b959d3a-01fb-4970-ab88-cf407121a3d5",
   "metadata": {},
   "source": [
    "### Aufgabe 3: Adiabatenexponent (Schwingungsmethode)\n",
    "\n",
    "Bestimmen Sie $\\kappa$ indem Sie einen geeigneten Pfropfen über einem Luftpolster in Schwingung versetzen. Die Kompression und Expansion der Luft unter dem Pfropfen erfolgen dabei adiabatisch. Durch dieses Vorgehen lässt sich $\\kappa$ aus dem Zusammenhang\n",
    "\n",
    "$$\n",
    "T = 2\\pi\\sqrt{\\frac{m\\,V}{\\kappa\\,p\\,A^{2}}}\n",
    "$$\n",
    "\n",
    "bestimmen, wobei in diesem Fall\n",
    "\n",
    "- $T$ der Periodendauer der Schwingung(!); \n",
    "- $m$ der Masse des Pfropfens; \n",
    "- $A$ der Querschnittsfläche des Rohrs entsprechen. \n",
    "\n",
    "Nehmen Sie für $V$ das Volumen des untersuchten Luftpolsters unter dem Pfropfen (in dessen Ruhelage) und für $p$ den Umgebungsdruck an.\n",
    "\n",
    "Für diese Aufgabe können Sie $\\kappa$ entweder nach der [Methode von Rüchardt](https://de.wikipedia.org/wiki/R%C3%BCchardt-Experiment), oder mit Hilfe eines Kolbenprobers durchführen. Aufgabenstellung und Auswertung variieren je nach Methode:\n",
    "\n",
    "- Nach der Methode nach Rüchardt bestimmen Sie $\\kappa$ nur für Luft.\n",
    "- Mit Hilfe des Kolbenprobers bestimmen Sie $\\kappa$ für Luft und für Argon. Überprüfen Sie die Ergebnisse mit Ihrer Erwartung aus der [kinetischen Gastheorie](https://de.wikipedia.org/wiki/Kinetische_Gastheorie).  \n",
    "\n",
    "Beachten Sie hierzu die [Hinweise zum Versuch \"Ideales und reales Gas\"](https://git.scc.kit.edu/etp-lehre/p2-for-students/-/blob/main/Ideales_und_reales_Gas/README.md).   \n",
    "\n",
    "---"
   ]
  },
  {
   "cell_type": "markdown",
   "id": "d9bc4b82-b005-4c0b-bd29-d2f5cc66d7cc",
   "metadata": {},
   "source": [
    "**Lösung:**\n",
    "\n",
    "*Sie können Ihr Protokoll direkt in dieses Dokument einfügen. Wenn Sie dieses Dokument als Grundlage für ein [Jupyter notebook](https://jupyter.org/) verwenden wollen können Sie die Auswertung, Skripte und ggf. bildliche Darstellungen mit Hilfe von [python](https://www.python.org/) ebenfalls hier einfügen. Löschen Sie hierzu diesen kursiv gestellten Text aus dem Dokument.* \n",
    "\n",
    "---"
   ]
  },
  {
   "cell_type": "code",
   "execution_count": 13,
   "id": "89bed673-a758-4607-8266-05c4d9f0f488",
   "metadata": {
    "tags": []
   },
   "outputs": [
    {
     "name": "stdout",
     "output_type": "stream",
     "text": [
      "1.45+/-0.16\n"
     ]
    }
   ],
   "source": [
    "T_gemessen = [1.12,1.16,1.03,1.09,1.16,1.08,1.05,1.1,1.19,0.98,1.19,1.13,\n",
    "             1.07,1.10,1.08,1.06,1.12,1.07,1.11,1.09,1.14,0.98,1.18,1.07,1.08,1.01,\n",
    "             1.13,1.02,1.04,1.15,1.12,1.14,1.06,1.06,1.08,1.15,0.98,\n",
    "              1.09, 1.17, 1.13, 1.11, 1.05, 1.12, 1.04, 1.08, 1.00,\n",
    "              0.96, 1.17, 1.08, 1.08, 1.09, 1.05, 1.28, 1.02, 1.04\n",
    "             ] #T IST DIE ZEIT! Fehler auf T beachten?\n",
    "T = ufloat(np.mean(T_gemessen),np.std(T_gemessen))\n",
    "m = ufloat(0.01668, 0.01688*0.001)#fehler angegeben\n",
    "A = ufloat(np.pi * 0.008**2,0.005*np.pi * 0.008**2) \n",
    "V = ufloat(10.58 * 10**-3,10.58*0.003*10**-3) #Liter, 0.3% fehler\n",
    "p = ufloat(100200,100200*0.01\n",
    "           )  #pascal \n",
    "kappa = (2*np.pi/T)**2 * m * V /(p * A**2)\n",
    "print(kappa)\n",
    "#kappa aus freiheitsgraden berechnen"
   ]
  },
  {
   "cell_type": "markdown",
   "id": "c582b649-2fdd-4766-a3ba-4ee89a9fdd29",
   "metadata": {},
   "source": [
    "### Aufgabe 4: Dampfdruckkurve (n-Hexan)\n",
    "\n",
    "Bestimmen Sie die Dampfdruckkurve von $1\\,\\mathrm{mol}$ n-Hexan zwischen Zimmertemperatur und $0^{\\circ}\\mathrm{C}$ und bestimmen Sie daraus die molare Verdampfungswärme $Q_{\\mathrm{M}}$ von n-Hexan. \n",
    "\n",
    "---"
   ]
  },
  {
   "cell_type": "markdown",
   "id": "6c632122-3ccc-4462-956f-fd985ec2b0de",
   "metadata": {},
   "source": [
    "**Lösung:**\n",
    "\n"
   ]
  },
  {
   "cell_type": "code",
   "execution_count": null,
   "id": "f3748f2d-450e-46c5-b903-ac6263f8ba59",
   "metadata": {},
   "outputs": [],
   "source": [
    "p0=  # Dampfdruck bei Raumtemperatur\n",
    "h_rechts = 0.2817\n",
    "h_links = np.array([0.3735,0.3642,0.361,0.35715,0.3538,0.3487,0.3455,0.3429,0.3397,0.33625,0.3351,0.3339,0.33495,0.3369,0.3403,0.3413,0.3463,0.3498,0.3525,0.3554,0.3585,0.3625])\n",
    "p=[] # gemessener Druck\n",
    "T=[24.3,20.0,18.4,16.0,14.2,12.2,10.0,8.2,6.2,4.0,2.1,1.4,2.1,4.1,5.7,9.0,10.2,12.5,14.2,15.9,17.7,20.3] # Temp in Celsius\n",
    "x=-np.exp(p/p0)/8.31446261815324"
   ]
  },
  {
   "cell_type": "code",
   "execution_count": null,
   "id": "90ee6688-404a-4abc-937a-8f82aa2e20fd",
   "metadata": {},
   "outputs": [],
   "source": [
    "#x_error = 0.02\n",
    "#y_error = 0.02\n",
    "xy_data = XYContainer(x,T)\n",
    "def lin(T,Q=0.7):\n",
    "    return T*Q\n",
    "line_fit=Fit(data=xy_data,model_function=lin)\n",
    "#line_fit.add_error(axis='x', err_val=x_error,relative=True)  # add the x-error to the fit\n",
    "#line_fit.add_error(axis='y', err_val=y_error,relative=True)\n",
    "line_fit.do_fit()\n",
    "line_fit.assign_parameter_names(x='T',a='aT')\n",
    "line_fit.assign_model_function_expression('Linear')\n",
    "line_fit.assign_model_function_expression(\"{a} * {x}\")\n",
    "#line_fit.report()\n",
    "\n",
    "line_fit.assign_parameter_latex_names(x='T', a='Q')\n",
    "line_fit.assign_model_function_latex_name('-Exp(p/p0)/R')\n",
    "line_fit.assign_model_function_latex_expression('{Q} \\\\cdot {x}')\n",
    "\n",
    "\n",
    "line_fit.data_container.label = \"Verwendete Daten\"\n",
    "line_fit.model_label = \"Modellfunktion\"\n",
    "\n",
    "line_fit.data_container.axis_labels = [\"-Exp(p/P0)/R in J /(mol K)\",\"T in °C\"]\n",
    "\n",
    "plot = Plot(fit_objects= line_fit)\n",
    "plot.plot()\n",
    "plt.show()"
   ]
  }
 ],
 "metadata": {
  "kernelspec": {
   "display_name": "Python 3 (ipykernel)",
   "language": "python",
   "name": "python3"
  },
  "language_info": {
   "codemirror_mode": {
    "name": "ipython",
    "version": 3
   },
   "file_extension": ".py",
   "mimetype": "text/x-python",
   "name": "python",
   "nbconvert_exporter": "python",
   "pygments_lexer": "ipython3",
   "version": "3.10.10"
  }
 },
 "nbformat": 4,
 "nbformat_minor": 5
}
