{
 "cells": [
  {
   "cell_type": "code",
   "execution_count": null,
   "id": "065e2c96-da36-4131-9cf2-d7d934b87348",
   "metadata": {},
   "outputs": [],
   "source": [
    "# Funktion berechnet gaußsche Fehlerfortpflanzung\n",
    "#  funktion: Gesamtfunktion, aus der das gewünschte berechnet wird\n",
    "#  variablen: Sympy Liste von variablennamen, nach denen die Funktion abgeleitet wird/ deren Fehler einfließen\n",
    "#  variablen_werte: Liste gemessener (Mittel-)Werte aller Variablen, die auch in der variablen-Liste stehen\n",
    "#  fehler_werte: Liste unkorrelierter statistischer oder systematischer Fehlerwerte der variablen-Liste\n",
    "\n",
    "def gauss(funktion,variablen,variablen_werte,fehler_werte): \n",
    "    fehler = 0\n",
    "    fehlersymbole=[]\n",
    "    for var in variablen:                           # in dieser Schleife wird die Gaußsche Fehlerfortpflanzung mit Variablen erstellt\n",
    "        d = sp.symbols('d' + var.name)              # Symbole fuer die Fehler werden generiert\n",
    "        fehlersymbole.append(d)                     # Fehlersymbole werden in Liste eintragen\n",
    "        partial = sp.diff(funktion, var) * d        # Partielle Differentation und mit mit Fehlersymbol 'd' multiplizieren\n",
    "        fehler = fehler + partial**2                # Quadratsumme wird berechnet\n",
    "    err1=sp.Subs(fehler,variablen,variablen_werte).doit()         # Variablenwerte (Zahlen) in FehlerFormel einsetzen \n",
    "    err2=sp.Subs(err1,fehlersymbole,fehler_werte).doit()          # Fehlerwerte (Zahlen) in FehlerFormel einsetzen und\n",
    "                                                                  # Funktionswert berechnen\n",
    "    return(sp.sqrt(err2))                           \n",
    "\n",
    "# Funktion berechnet korrelierte statistische Unsicherheiten:\n",
    "#  matrix_werte: numpy-Matrix aller Messwerte (keine Mittelwerte, siehe Beispiel) \n",
    "# benötigt keine Fehlerwerte!\n",
    "\n",
    "def korreliert(funktion,variablen,variablen_werte,matrix_werte): #korrelierte statistische Unsicherheit\n",
    "    fehler = 0\n",
    "    V = np.cov(matrix_werte)          # Covarianzmatrix berechnen\n",
    "    for var1 in variablen:                          \n",
    "        for var2 in variablen:\n",
    "            partial = sp.diff(funktion, var1)*sp.diff(funktion,var2) * V[variablen.index(var1)][variablen.index(var2)]   \n",
    "            fehler = fehler + partial\n",
    "    err1=sp.Subs(fehler,variablen,variablen_werte).doit()         #Variablenwerte (Zahlen) in FehlerFormel einsetzen \n",
    "    return(sp.sqrt(err1))\n",
    "\n",
    "# Beispiel:\n",
    "#import sympy as sp\n",
    "\n",
    "#T0v,T1v,h0difv,h100difv, pav = sp.symbols('T0v T1v h0difv h100difv pav') \n",
    "#          neue Variablennamen im code nutzen, damit keine Werte eingesetzt werden\n",
    "#          diese Form wird für die Ableitung nach bestimmten Zeichen verwendet\n",
    "\n",
    "#variablen = [T0v,T1v,h0difv,h100difv,pav]  \n",
    "\n",
    "#variablen_werte = [np.mean(T0),np.mean(T1),np.mean(h0dif),np.mean(h100dif),p_a]  \n",
    "#          Mittelwerte (Reihenfolge wie Variablen)\n",
    "\n",
    "#fehler_werte_sys = [0.1,0.1,0.001,0.001,50]                                      \n",
    "#          systematische Fehlerwerte (Reihenfolge!)\n",
    "\n",
    "#funktion = ((rho*h100difv-rho*h0difv)/((rho*h0difv+pav)*(T1v-T0v))+gamma*(rho*h100difv+pav)/(rho*h0difv+pav))\n",
    "#          Gesamtfunktion für die berechnete Größe aufstellen\n",
    "#          Variablennamen wie in der vorher erstellten variablenliste\n",
    "\n",
    "#          Dies nur für korrelierte Fehlerrechung\n",
    "#matrix_werte = np.array([T0,T1,h0dif,h100dif,np.ones(len(T0))*p_a])        \n",
    "#          alle Messwerte, in gleichen Dimensionen (Anzahl an wiederholten Messungen) in die Matrix schreiben (auch unkorrelierte)"
   ]
  }
 ],
 "metadata": {
  "kernelspec": {
   "display_name": "Python 3 (ipykernel)",
   "language": "python",
   "name": "python3"
  },
  "language_info": {
   "codemirror_mode": {
    "name": "ipython",
    "version": 3
   },
   "file_extension": ".py",
   "mimetype": "text/x-python",
   "name": "python",
   "nbconvert_exporter": "python",
   "pygments_lexer": "ipython3",
   "version": "3.10.10"
  }
 },
 "nbformat": 4,
 "nbformat_minor": 5
}
