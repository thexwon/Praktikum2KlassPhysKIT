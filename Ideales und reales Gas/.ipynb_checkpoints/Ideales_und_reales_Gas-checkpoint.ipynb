{
 "cells": [
  {
   "cell_type": "markdown",
   "id": "6307f907-501c-4213-9b7f-3fe4de87954d",
   "metadata": {},
   "source": [
    "<img src=\"./figures/Logo_KIT.svg\" width=\"250\" height=\"250\"  style=\"zoom:15%;float:right;\" />\n",
    "\n",
    "# Fakultät für Physik \n",
    "\n",
    "## Physikalisches Praktikum P2 für Studierende der Physik\n",
    "\n",
    "\n",
    "\n",
    "Versuch P2-47, 48, 49 (Stand: April 2023)\n",
    "\n",
    "[Raum F1-08](http://www-ekp.physik.uni-karlsruhe.de/~simonis/praktikum/layoutobjekte/Lageplan_P1.png)"
   ]
  },
  {
   "cell_type": "markdown",
   "id": "4b47da1c-e8af-4760-ac46-70c5c01cfc6a",
   "metadata": {},
   "source": [
    "<br>\n",
    "Name: __________________ Vorname: __________________\n",
    "<br>\n",
    "<br>\n",
    "Name: __________________ Vorname: __________________\n",
    "<br>\n",
    "<br>\n",
    "<br>\n",
    "Gruppennummer: _____\n",
    "<br>\n",
    "<br>\n",
    "<br>\n",
    "Betreuer: __________________\n",
    "<br>\n",
    "<br>\n",
    "<br>\n",
    "Versuch durchgeführt am: __________________"
   ]
  },
  {
   "cell_type": "markdown",
   "id": "edfaeb32-d3c5-4128-860e-4e8a0c3741c1",
   "metadata": {},
   "source": [
    "---\n",
    "\n",
    "**Beanstandungen:**\n",
    "\n",
    "<br>\n",
    "<br>\n",
    "<br>\n",
    "<br>\n",
    "<br>\n",
    "<br>\n",
    "<br>\n",
    "<br>\n",
    "<br>\n",
    "<br>\n",
    "Testiert am: __________________ Vermerk: __________________"
   ]
  },
  {
   "cell_type": "markdown",
   "id": "3d867da6-cf65-4642-8b7e-ca70190700a7",
   "metadata": {},
   "source": [
    "# Ideales und reales Gas\n",
    "\n",
    "## Motivation\n",
    "\n",
    "Die klassische Thermodynamik beschäftigt sich mit den Eigenschaften makroskopisch ausgedehnter Systeme, die durch Zustandsgrößen, wie Volumen ($V$), Druck ($p$) oder Temperatur ($T$) charakterisiert und mit Hilfe von Zustandsgleichungen beschrieben werden. Zustandsänderungen idealer Gase werden durch die [ideale Gasgleichung](https://de.wikipedia.org/wiki/Thermische_Zustandsgleichung_idealer_Gase) oder die [Adiabaten-Gleichungen](https://de.wikipedia.org/wiki/Adiabatische_Zustands%C3%A4nderung) beschrieben; Wärmeänderungen bei konstantem Druck oder Volumen durch die [kalorischen Zustandsgleichungen](https://de.wikipedia.org/wiki/Zustandsgleichung), die die Änderungen der Temperatur ($\\mathrm{d}T$) mit der Änderungen der inneren Energie ($\\mathrm{d}U$) oder Enthalpie ($\\mathrm{d}H$) verknüpfen. Als Potentialgrößen hängen weder $U$ noch $H$ davon ab, wie ein betreffendes System (z.B. im $pV$-Diagramm) in seinen Zustand gelangt ist. Wärme ($Q$) hingegen ist keine Potentialgröße; Sie kann abhängig davon, auf welchem Weg ein System in seinen Zustand (z.B. im $pV$-Diagramm) gelangt zu unterschiedlichen Anteilen entweder zu Änderungen der inneren Energie ($\\mathrm{d}U$) oder zur Verrichtung mechanischer Arbeit ($\\delta W$) führen, was die Grundlage jeder Wärmekraftmaschine ist. Die Entwicklung der klassischen Thermodynamik als Disziplin der Ingeneurswissenschaften hat ab Mitte des 19. Jahrunderts v.a. durch die Arbeiten von [Nicolas Carnot](https://de.wikipedia.org/wiki/Nicolas_L%C3%A9onard_Sadi_Carnot), [Julius Mayer](https://de.wikipedia.org/wiki/Julius_Robert_Mayer), [James Joule](https://de.wikipedia.org/wiki/James_Prescott_Joule) oder [Rudolf Clausius](https://de.wikipedia.org/wiki/Rudolf_Clausius) rasante Entwicklungen genommen. \n",
    "\n",
    "Die hier angebotenen Versuche bieten Ihnen die Möglichkeit sich mit den nicht immer intuitiven Vorgängen der Thermodynamik experimentell vertraut zu machen: Sie führen Temperaturmessungen mit einem Gasthermometer durch, und bestimmen mit verschiedenen Methoden den [Adiabatenexponenten](https://de.wikipedia.org/wiki/Isentropenexponent) $\\kappa=c_{p}/c_{V}$, wobei das verwendete Gas jeweils verschiedene Wege im $pV$-Diagramm durchläuft. Schließlich messen Sie eine Dampfdruckkurve aus, bei der sich die Phasenzustände \"flüssig\" und \"gasförmig\" im thermodynamischen Gleichgewicht befinden. \n",
    "\n",
    "Um diese Experimente erfolgreich durchführen zu können müssen Sie die Zustände des Arbeitsgases achtsam und sorgfältig präparieren. Bei den meisten hierzu verwendeten Geräten handelt es sich um eigens angefertigte Präzisionsinstrumente.\n",
    "\n",
    "## Lernziele\n",
    "\n",
    "Wir listen im Folgenden die wichtigsten **Lernziele** auf, die wir Ihnen mit dem Versuch **Ideales und reales Gas** vermitteln möchten: \n",
    "\n",
    "- Sie üben sich in der Durchführung thermodynamischer Experimente mit idealen und realen Gasen und präparieren dabei verschiedene Zustandsänderungen des verwendeten Arbeitsgases im $pV$-Diagramm.\n",
    "- Sie verwenden die ideale Gasgleichung zur Temperaturmessung mit Hilfe eines [Gasthermometers](https://de.wikipedia.org/wiki/Gasthermometer). Dabei ermittlen Sie mit Hilfe des Gasthermometers die Temperatur des absoluten Nullpunkts in $^{\\circ}\\mathrm{C}$.\n",
    "- Sie bestimmen $\\kappa$ für Luft und ggf. Argon: \n",
    "  - einmal nach der Methode von [Clément-Desormes](https://de.wikipedia.org/wiki/Experiment_von_Cl%C3%A9ment-Desormes), unter Herbeiführung *adiabatischer* und *isochorer* Zustandsänderungen; und \n",
    "  - einmal nach einer Schwingungsmethode, unter Herbeiführung ausschließlich *adiabatischer* Zustandsänderungen des Arbeitsgases.\n",
    "\n",
    "- Sie bestimmen die [Dampfdruckkurve](https://de.wikipedia.org/wiki/Dampfdruck) von n-[Hexan](https://de.wikipedia.org/wiki/Hexan) und leiten daraus seine Verdampfungswärme $Q_{\\mathrm{M}}$ ab. "
   ]
  },
  {
   "cell_type": "markdown",
   "id": "4fe6a4ef-c163-438b-a8a6-8aed745415e0",
   "metadata": {},
   "source": [
    "## Versuchsaufbau\n",
    "\n",
    "Zwei beispielhafte Aufbauten der hier durchzuführenden Versuche finden Sie in den folgenden Abbildungen dargestellt: \n",
    "\n",
    "**Gasthermometer:**\n",
    "\n",
    "<img src=\"./figures/image014.jpg\" width=\"500\" height=\"500\" style=\"zoom:60%;\" />\n",
    "\n",
    "**Bestimmung von $\\kappa$ nach der Methode von Clément-Desormes:**\n",
    "\n",
    "<img src=\"./figures/image016.jpg\"  width=\"500\" height=\"500\" style=\"zoom:60%;\" />\n",
    "\n",
    "Für die verschiedenen Versuchsteile stehen Ihnen vier verschiedene Versuchsaufbauten zur Verfügung. Diese enthalten die folgenden wichtigsten Elemente: \n",
    "\n",
    "- Ein Gasthermometer mit Becherglas, Heizpilz (Heizleistung $320\\,\\mathrm{W}$) und Rührvorrichtung.\n",
    "\n",
    "- Ein [Kathetometer](https://de.wikipedia.org/wiki/Kathetometer) zur exakten Ablesung der Manometer-Anzeigen.\n",
    "\n",
    "- Zwei Glasflaschen (Volumen, jeweils $V=10\\,\\mathrm{l}$) für die Aufgaben 2 und 3. \n",
    "\n",
    "- Ein U-Rohr-Manometer. \n",
    "\n",
    "- Ein Handblasebalg. \n",
    "\n",
    "- Ein Präzisionsglasrohr (Länge $l=60\\,\\mathrm{cm}$) mit exakt eingepasster Stahlkugel (Durchmesser $d=16\\,\\mathrm{mm}\\pm0,5\\%$, $m=16,68\\,\\mathrm{g}\\pm0,1\\%$).\n",
    "\n",
    "- Ein [Kolbenprober](https://de.wikipedia.org/wiki/Kathetometer) ($V=100\\,\\mathrm{ml}$); die Abmessungen des Kolbens sind: Durchmesser $d=31,1(1)\\,\\mathrm{mm}$, $m=109,80(5)\\,\\mathrm{g}$ (einschließlich Magnet zur automatischen Frequenzbestimmung).\n",
    "\n",
    "- Ein Frequenzzählgerät.\n",
    "\n",
    "- Ein Wassergefäß ($V=2\\,\\mathrm{l}$). \n",
    "\n",
    "- Ein Dampfdruckgefäß, das mit $1\\,\\mathrm{mol}$ n-Hexan befüllt und direkt mit einem Hg-Manometer verbunden ist.\n",
    "\n",
    "- Ein Thermometer (Messbereich $0-50^{\\circ}\\mathrm{C}$).\n",
    "\n",
    "- Im Versuchsraum ist ferner ein Barometer zur Bestimmung des Umgebungsdrucks vorhanden.\n",
    "\n",
    "## Wichtige Hinweise\n",
    "\n",
    "- Bei den hier verwendeten Glasgeräten handelt es sich um empfindliche Spezialanfertigungen und zum Teil um eigens angefertigte Präzisionsmessgeräte. Gehen Sie **vorsichtig mit diesen Geräten** um und halten Sie sie sauber. \n",
    "- Beginnen Sie alle im folgenden beschriebenen Versuche **erst nach Rücksprache** mit dem/der Tutor:in. \n",
    "- Um Stromschlägen vorzubeugen fassen Sie bei Feuchtigkeit nicht in den eingeschalteten Heizpilz."
   ]
  },
  {
   "cell_type": "markdown",
   "id": "39614214-11bf-4818-a4e9-afafa09b8859",
   "metadata": {},
   "source": [
    "## Durchführung\n",
    "\n",
    "### Aufgabe 1: Gasthermometer\n",
    "\n",
    "Bestimmen Sie den [Spannungskoeffizienten](https://de.wikipedia.org/wiki/Ausdehnungskoeffizient) $\\alpha$ von Luft und berechnen Sie daraus die Temperatur des absoluten Nullpunkts in $^{\\circ}\\mathrm{C}$. Verwenden Sie hierzu die Zustandsgleichung \n",
    "\n",
    "$$\n",
    "\\left.p(T)\\right|_{V=const.} = p_{0}\\left(1+\\alpha\\,T\\right).\n",
    "$$\n",
    "\n",
    "Berechnen Sie den Effekt den die Ausdehnung des Glaskolbens G als Funktion von $T$ hat und korrigieren Sie Ihre Messung entsprechend (siehe [Hinweise für den Versuch \"Ideales und reales Gas\"](https://git.scc.kit.edu/etp-lehre/p2-for-students/-/blob/main/Ideales_und_reales_Gas/README.md)). \n",
    "\n",
    "Um Wartezeiten zu überbrücken können Sie parallel die Messungen zu Aufgabe 2 durchführen.  \n",
    "\n",
    "---"
   ]
  },
  {
   "cell_type": "markdown",
   "id": "653c60a2-945f-43d3-a278-f45c8c83c896",
   "metadata": {},
   "source": [
    "**Lösung:**\n",
    "\n",
    "*Sie können Ihr Protokoll direkt in dieses Dokument einfügen. Wenn Sie dieses Dokument als Grundlage für ein [Jupyter notebook](https://jupyter.org/) verwenden wollen können Sie die Auswertung, Skripte und ggf. bildliche Darstellungen mit Hilfe von [python](https://www.python.org/) ebenfalls hier einfügen. Löschen Sie hierzu diesen kursiv gestellten Text aus dem Dokument.* \n",
    "\n",
    "---"
   ]
  },
  {
   "cell_type": "markdown",
   "id": "9fd50d32-4319-4eb0-a431-e63b40171a42",
   "metadata": {},
   "source": [
    "### Aufgabe 2: Adiabatenexponent (nach [Clément-Desormes](https://de.wikipedia.org/wiki/Experiment_von_Cl%C3%A9ment-Desormes))\n",
    "\n",
    "Bestimmen Sie $\\kappa$ von Luft. Skizzieren Sie den Prozess im $pV$-Diagramm. Führen Sie die Messung mehrmals durch, um ein Maß für die Streuung aufgrund statistischer Fluktuationen zu erhalten. Führen Sie danach zwei weitere Messreihen durch, bei denen Sie das Ventil in Schritt 2 (siehe [Hinweise für den Versuch \"Ideales und reales Gas\"](https://git.scc.kit.edu/etp-lehre/p2-for-students/-/blob/main/Ideales_und_reales_Gas/README.md)) einmal länger und einmal kürzer geöffnet halten, als dies Ihrer Meinung nach für einen adiabatischen Druckausgleich nötig wäre. Auf diese Weise können Sie den Effekt abschätzen, der dadurch entsteht, dass Sie die Zeitspanne für einen adiabatischen Druckausgleich nicht richtig treffen. Beachten Sie hierzu die Hinweise zu dieser Aufgabe im Dokument [Hinweise für den Versuch \"Ideales und reales Gas\"](https://git.scc.kit.edu/etp-lehre/p2-for-students/-/blob/main/Ideales_und_reales_Gas/README.md).\n",
    "\n",
    "---"
   ]
  },
  {
   "cell_type": "markdown",
   "id": "2f97b3bd-a7b8-4f12-917e-0483e92b6414",
   "metadata": {},
   "source": [
    "**Lösung:**\n",
    "\n",
    "*Sie können Ihr Protokoll direkt in dieses Dokument einfügen. Wenn Sie dieses Dokument als Grundlage für ein [Jupyter notebook](https://jupyter.org/) verwenden wollen können Sie die Auswertung, Skripte und ggf. bildliche Darstellungen mit Hilfe von [python](https://www.python.org/) ebenfalls hier einfügen. Löschen Sie hierzu diesen kursiv gestellten Text aus dem Dokument.* \n",
    "\n",
    "---"
   ]
  },
  {
   "cell_type": "markdown",
   "id": "4b959d3a-01fb-4970-ab88-cf407121a3d5",
   "metadata": {},
   "source": [
    "### Aufgabe 3: Adiabatenexponent (Schwingungsmethode)\n",
    "\n",
    "Bestimmen Sie $\\kappa$ indem Sie einen geeigneten Pfropfen über einem Luftpolster in Schwingung versetzen. Die Kompression und Expansion der Luft unter dem Pfropfen erfolgen dabei adiabatisch. Durch dieses Vorgehen lässt sich $\\kappa$ aus dem Zusammenhang\n",
    "\n",
    "$$\n",
    "T = 2\\pi\\sqrt{\\frac{m\\,V}{\\kappa\\,p\\,A^{2}}}\n",
    "$$\n",
    "\n",
    "bestimmen, wobei in diesem Fall\n",
    "\n",
    "- $T$ der Periodendauer der Schwingung(!); \n",
    "- $m$ der Masse des Pfropfens; \n",
    "- $A$ der Querschnittsfläche des Rohrs entsprechen. \n",
    "\n",
    "Nehmen Sie für $V$ das Volumen des untersuchten Luftpolsters unter dem Pfropfen (in dessen Ruhelage) und für $p$ den Umgebungsdruck an.\n",
    "\n",
    "Für diese Aufgabe können Sie $\\kappa$ entweder nach der [Methode von Rüchardt](https://de.wikipedia.org/wiki/R%C3%BCchardt-Experiment), oder mit Hilfe eines Kolbenprobers durchführen. Aufgabenstellung und Auswertung variieren je nach Methode:\n",
    "\n",
    "- Nach der Methode nach Rüchardt bestimmen Sie $\\kappa$ nur für Luft.\n",
    "- Mit Hilfe des Kolbenprobers bestimmen Sie $\\kappa$ für Luft und für Argon. Überprüfen Sie die Ergebnisse mit Ihrer Erwartung aus der [kinetischen Gastheorie](https://de.wikipedia.org/wiki/Kinetische_Gastheorie).  \n",
    "\n",
    "Beachten Sie hierzu die [Hinweise zum Versuch \"Ideales und reales Gas\"](https://git.scc.kit.edu/etp-lehre/p2-for-students/-/blob/main/Ideales_und_reales_Gas/README.md).   \n",
    "\n",
    "---"
   ]
  },
  {
   "cell_type": "markdown",
   "id": "d9bc4b82-b005-4c0b-bd29-d2f5cc66d7cc",
   "metadata": {},
   "source": [
    "**Lösung:**\n",
    "\n",
    "*Sie können Ihr Protokoll direkt in dieses Dokument einfügen. Wenn Sie dieses Dokument als Grundlage für ein [Jupyter notebook](https://jupyter.org/) verwenden wollen können Sie die Auswertung, Skripte und ggf. bildliche Darstellungen mit Hilfe von [python](https://www.python.org/) ebenfalls hier einfügen. Löschen Sie hierzu diesen kursiv gestellten Text aus dem Dokument.* \n",
    "\n",
    "---"
   ]
  },
  {
   "cell_type": "markdown",
   "id": "c582b649-2fdd-4766-a3ba-4ee89a9fdd29",
   "metadata": {},
   "source": [
    "### Aufgabe 4: Dampfdruckkurve (n-Hexan)\n",
    "\n",
    "Bestimmen Sie die Dampfdruckkurve von $1\\,\\mathrm{mol}$ n-Hexan zwischen Zimmertemperatur und $0^{\\circ}\\mathrm{C}$ und bestimmen Sie daraus die molare Verdampfungswärme $Q_{\\mathrm{M}}$ von n-Hexan. \n",
    "\n",
    "---"
   ]
  },
  {
   "cell_type": "markdown",
   "id": "6c632122-3ccc-4462-956f-fd985ec2b0de",
   "metadata": {},
   "source": [
    "**Lösung:**\n",
    "\n",
    "*Sie können Ihr Protokoll direkt in dieses Dokument einfügen. Wenn Sie dieses Dokument als Grundlage für ein [Jupyter notebook](https://jupyter.org/) verwenden wollen können Sie die Auswertung, Skripte und ggf. bildliche Darstellungen mit Hilfe von [python](https://www.python.org/) ebenfalls hier einfügen. Löschen Sie hierzu diesen kursiv gestellten Text aus dem Dokument.* \n",
    "\n",
    "---"
   ]
  }
 ],
 "metadata": {
  "kernelspec": {
   "display_name": "Python 3 (ipykernel)",
   "language": "python",
   "name": "python3"
  },
  "language_info": {
   "codemirror_mode": {
    "name": "ipython",
    "version": 3
   },
   "file_extension": ".py",
   "mimetype": "text/x-python",
   "name": "python",
   "nbconvert_exporter": "python",
   "pygments_lexer": "ipython3",
   "version": "3.10.6"
  }
 },
 "nbformat": 4,
 "nbformat_minor": 5
}
