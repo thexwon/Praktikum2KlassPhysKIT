{
 "cells": [
  {
   "cell_type": "markdown",
   "id": "652b3dca-fecf-4216-a1e1-fef0a923d127",
   "metadata": {},
   "source": [
    "<img src=\"./figures/Logo_KIT.svg\" width=\"250\" height=\"250\" style=\"zoom:15%;float:right;\" />\n",
    "\n",
    "# Fakultät für Physik\n",
    "\n",
    "## Physikalisches Praktikum P2 für Studierende der Physik\n",
    "\n",
    "Versuch P2-50, 51, 52 (Stand: April 2023)\n",
    "\n",
    "[Raum F1-17](http://www-ekp.physik.uni-karlsruhe.de/~simonis/praktikum/layoutobjekte/Lageplan_P1.png)"
   ]
  },
  {
   "cell_type": "markdown",
   "id": "61b2d65c-8ee6-4983-8f1c-8c2fddd21a0b",
   "metadata": {},
   "source": [
    "Name: Schwarz Vorname: Felix E-Mail: unuhz@student.kit.edu\n",
    "\n",
    "\\begin{equation*}\n",
    "\\begin{split}\n",
    "&\\\\\n",
    "&\\\\\n",
    "\\end{split}\n",
    "\\end{equation*}\n",
    "\n",
    "Name: Steib Vorname: Lukas E-Mail: lukas.steib@student.kit.edu\n",
    "\n",
    "\\begin{equation*}\n",
    "\\begin{split}\n",
    "&\\\\\n",
    "&\\\\\n",
    "&\\\\\n",
    "\\end{split}\n",
    "\\end{equation*}\n",
    "\n",
    "Gruppennummer: Mo-21\n",
    "\n",
    "\\begin{equation*}\n",
    "\\begin{split}\n",
    "&\\\\\n",
    "&\\\\\n",
    "&\\\\\n",
    "\\end{split}\n",
    "\\end{equation*}\n",
    "\n",
    "\n",
    "Betreuer: Jonas Vathauer\n",
    "\n",
    "\\begin{equation*}\n",
    "\\begin{split}\n",
    "&\\\\\n",
    "&\\\\\n",
    "&\\\\\n",
    "\\end{split}\n",
    "\\end{equation*}\n",
    "\n",
    "Versuch durchgeführt am: 03.07.2023"
   ]
  },
  {
   "cell_type": "markdown",
   "id": "a655d8b4-b06e-4ba0-9533-a492cc0480c8",
   "metadata": {},
   "source": [
    "---\n",
    "\n",
    "**Beanstandungen:**\n",
    "\n",
    "\\begin{equation*}\n",
    "\\begin{split}\n",
    "&\\\\\n",
    "&\\\\\n",
    "&\\\\\n",
    "&\\\\\n",
    "&\\\\\n",
    "&\\\\\n",
    "&\\\\\n",
    "&\\\\\n",
    "&\\\\\n",
    "&\\\\\n",
    "\\end{split}\n",
    "%\\text{\\vspace{10cm}}\n",
    "\\end{equation*}\n",
    "\n",
    "<br>\n",
    "Testiert am: __________________ Vermerk: __________________"
   ]
  },
  {
   "cell_type": "markdown",
   "id": "5253b9bf-6e6b-421e-836d-1e066023b3b6",
   "metadata": {},
   "source": [
    "# Elektrische Bauelemente\n",
    "\n",
    "## Motivation\n",
    "\n",
    "Die Eigenschaften eines elektrischen Bauelements hängen von vielen physikalischen Größen ab. Häufig wirkt sich dies besonders auf dessen Widerstand aus. Die vorherrschende Abhängigkeit gibt dem Bauteil seinen charakteristischen Namen: [NTC-](https://de.wikipedia.org/wiki/Hei%C3%9Fleiter) bzw. [PTC-Widerstände](https://de.wikipedia.org/wiki/Kaltleiter) weisen eine Temperaturabhängigkeit (Negative/Positive Temperature Coefficient) auf. [Der VDR-Widerstand](https://de.wikipedia.org/wiki/Varistor) (Varistor, Voltage Dependent Resistance) reagiert auf Spannungsänderungen. Optoelektrische Bauteile wie [Fotowiderstand](https://de.wikipedia.org/wiki/Fotowiderstand) (LDR, Light Dependent Resistance), [Fotodiode](https://de.wikipedia.org/wiki/Photodiode) und [Fototransistor](https://de.wikipedia.org/wiki/Fototransistor) sind lichtempfindlich oder senden wie die [Leuchtdiode](https://de.wikipedia.org/wiki/Leuchtdiode) (LED, Light Emitting Diode) Licht aus. Druckabhängige Bauelemente sind unter dem Namen [Piezoelemente](https://de.wikipedia.org/wiki/Piezoelement) bekannt, da ihre Eigenschaften auf dem [piezoelektrischen Effekt](https://de.wikipedia.org/wiki/Piezoelektrizit%C3%A4t) beruhen. Supraleiter verlieren ihren elektrischen Widerstand unter bestimmten äußeren Bedingungen sogar *gänzlich*. Interessant ist die Klassifizierung in Leiter, Halbleiter und Nichtleiter (Isolatoren) und die Untersuchung der besonderen Eigenschaften. Hier spielen Halbleiterbauelemente auf Grund ihrer Vielfalt die größte Rolle.\n",
    "\n",
    "## Lernziele\n",
    "\n",
    "- Sie lernen die Eigenschaften verschiedener elektrischer Bauelemente kennen.\n",
    "- Sie lernen die Messmethoden zur Untersuchung der jeweiligen Eigenschaften kennen.\n",
    "- Machen Sie sich zudem mit den beobachteten Effekten und deren praktischen Anwendungsgebieten vertraut und diskutieren Sie diese in Ihrer Versuchsauswertung."
   ]
  },
  {
   "cell_type": "markdown",
   "id": "3118ae3e-9fa4-47bf-826f-4cd5e5f290a9",
   "metadata": {},
   "source": [
    "## Versuchsaufbau\n",
    "\n",
    "Einen Aufbau mit dem Sie diesen Versuch durchführen könnten sehen Sie im Folgenden abgebildet: ([Link](https://git.scc.kit.edu/etp-lehre/p2-for-students/-/raw/main/Elektrische_Bauelemente/figures/Versuchsaufbau.jpg))\n",
    "\n",
    "<img src=\"./figures/Versuchsaufbau.jpg\" width=\"500\" height=\"500\" style=\"zoom:20%;\" />\n",
    "\n",
    "Die wichtigsten Elemente des Versuchsaufbaus sind: \n",
    "\n",
    "- Zwei Versuchsboxen, zur Widerstandsmessung mit Hife der [Wheatstoneschen Brückenschaltung](https://de.wikipedia.org/wiki/Wheatstonesche_Messbr%C3%BCcke) und zur Kennlinienaufnahme.\n",
    " - Ein Tisch-Multimeter (Keithley, Modell 2100, 7-1/2-Digit).\n",
    " - Ein USB-Oszilloskop (PicoScope 2000) mit Computer.\n",
    " - Ein Ofen mit Leistungsregelung, bestückt mit Kupferspule, Konstantandrahtspule, NTC und PT100 und einem eingebauten $\\mathrm{NiCr}$-$\\mathrm{Ni}$-Thermoelement mit passendem Messinstrument.\n",
    " - Ein Frequenzgenerator (GW-Instek SFG-2104). \n",
    " - Ein Trenntransformator.\n",
    " - Verschiedene Bauelemente als Steckeinheiten: Widerstände $1,\\,33,\\,51,\\,100\\,(2\\times),\\,680,\\,1200\\,\\Omega$, je 1% Toleranz, $\\mathrm{Si}$-Diode, $\\mathrm{Ge}$-Diode, Zener-Diode, Varistor, Fotodiode, Fotowiderstand, Lumineszenzdioden LED (grün, gelb, orange, rot).\n",
    " - Eine Taschenlampe zur Beleuchtung.\n",
    " - Eine Experimentierleuchte mit Fotodioden-Aufsatz und Netzgerät (EA-PS-2016).\n",
    " - Ein Piezoelement (Resonanzfrequenz $2,9\\,\\mathrm{kHz}$) in Gehäuse, Lautsprecher.\n",
    " - Ein Supraleiter in Gehäuse mit Absenkvorrichtung, ein Dewargefäß, eine Vierleitermessschaltung mit Konstantstromquelle ($I_{\\mathrm{const}}=63\\,\\mathrm{mA}$) und Steckernetzgerät.\n",
    " - Flüssigstickstoff.\n",
    "\n",
    "## Wichtige Hinweise\n",
    "\n",
    "- Sie benötigen einen USB-Stick zur Datensicherung.\n",
    "- Das Gehäuse des Ofens für Aufgabe 1 erhitzt sich stark! Vermeiden Sie daher jeglichen Kontakt mit der Oberfläche.\n",
    "- [Flüssigstickstoff](https://de.wikipedia.org/wiki/Fl%C3%BCssigstickstoff), wie Sie ihn für Aufgabe 5 verwenden, kann schwere Kälteverbrennungen verursachen! Tragen Sie daher stets Handschuhe und Schutzbrille tragen, wenn Sie damit umgehen."
   ]
  },
  {
   "cell_type": "markdown",
   "id": "6c044b4e-72d2-4f5f-885d-9cb8d85795d5",
   "metadata": {},
   "source": [
    "## Durchführung\n",
    "\n",
    "### Aufgabe 1: Wheatstonesche Brückenschaltung\n",
    "\n",
    "Messen Sie mit Hilfe der [Wheatstoneschen Brückenschaltung](https://de.wikipedia.org/wiki/Wheatstonesche_Messbr%C3%BCcke) die Temperaturabhängigkeit des Widerstands ($R(T)$) verschiedener Bauteile im Bereich von Zimmertemperatur bis $\\approx 150^{\\circ}\\mathrm{C}$. Eine Schaltskizze der Wheatstoneschen Brücke finden Sie im Folgenden abgebildet: ([Link](https://git.scc.kit.edu/etp-lehre/p2-for-students/-/raw/main/Elektrische_Bauelemente/figures/Wheatstonesche_Brueckenschaltung.png))\n",
    "\n",
    "<img src=\"./figures/Wheatstonesche_Brueckenschaltung.png\" width=\"500\" height=\"500\" style=\"zoom:40%\" />\n",
    "\n",
    "- Messen Sie dazu mit Hilfe der Versuchsbox nacheinander den Widerstand von NTC und PT100 in Abhängigkeit von der jeweiligen Temperatur. Als Spannungsquelle dient Ihnen hierzu das Netzgerät, das eine Gleichspannung von $U=2\\,\\mathrm{V}$ liefert. Um die Erwärmung des Widerstands durch den Messstrom selbst gering zu halten, sollten Sie diesen (durch Betätigung des Tasters) jeweils nur kurzzeitig eingeschalten. Als Brückeninstrument dient das Multimeter im $\\mathrm{mA}$(DC)-Bereich. Wählen Sie den Referenzwiderstand in der gleichen Größenordnung, wie das zu messende Bauteil. (Überprüfen Sie den angegebenen Wert mit dem Multimeter.) Nehmen Sie beim Erwärmen des Ofens die Messreihe am NTC und beim Abkühlen die Messreihe am PT100 auf.\n",
    "- Begründen Sie, warum die Messung mit Hilfe der Wheatstoneschen Brückenschaltung in diesem Falle sinnvoll ist.\n",
    "- Stellen Sie die $R(T)$-Abhängigkeiten jeweils graphisch dar und schließen Sie daraus auf die Eigenschaften des Bauteils.\n",
    "- Wählen Sie zur Auswertung für den NTC-Widerstand eine geeignete Auftragung, um die Koeffizienten $a$ und $b$ aus der Gleichung <br>$$R(T) = a \\cdot e^{b/T}$$ <br>zu bestimmen. Diskutieren Sie in Ihrer Versuchsauswertung, wie man NTC-Widerstände zur Temperaturmessung, Füllstandsanzeige und Strombegrenzung verwenden kann.\n",
    "- Für den PT100 gilt der funktionale Zusammenhang: <br>$$R(T) = R_{0} + c \\cdot T.$$<br> Bestimmen Sie die Konstante $c$ und überprüfen Sie den Widerstand $R_{0}$ bei $0^{\\circ}\\mathrm{C}$. Diskutieren Sie auch hier mögliche Einsatzgebiete.\n",
    "\n",
    "---"
   ]
  },
  {
   "cell_type": "markdown",
   "id": "923a5a23-9053-4465-9e19-830e339d05e8",
   "metadata": {},
   "source": [
    "**Lösung:**\n"
   ]
  },
  {
   "cell_type": "markdown",
   "id": "2fe97997",
   "metadata": {},
   "source": [
    "Es wird eine Wheatstonsche Brücke aufgebaut und anschließend wird beim Erwärmen des Ofens ein NTC-Widerstand verwendet und beim Abkühlen ein PT100 verwendet. \\\n",
    "Es wird bei bestimmten Temperaturen der Widerstand dieser Bauelemente gemessen."
   ]
  },
  {
   "cell_type": "code",
   "execution_count": 1,
   "id": "e2750f38",
   "metadata": {},
   "outputs": [],
   "source": [
    "import numpy as np \n",
    "import matplotlib.pyplot as plt\n",
    "from PhyPraKit import readPicoScope, resample\n",
    "from scipy import signal\n",
    "from scipy import interpolate\n",
    "import sys\n",
    "from kafe2 import  XYContainer, Fit, XYFit, Plot, ContoursProfiler                            \n",
    "from uncertainties import ufloat, unumpy\n",
    "from math import log10, floor\n",
    "import scipy.integrate as integrate\n",
    "import pandas as pd\n",
    "import csv"
   ]
  },
  {
   "cell_type": "code",
   "execution_count": 2,
   "id": "302f0984",
   "metadata": {},
   "outputs": [
    {
     "ename": "SyntaxError",
     "evalue": "invalid syntax (208606750.py, line 1)",
     "output_type": "error",
     "traceback": [
      "\u001b[1;36m  Cell \u001b[1;32mIn[2], line 1\u001b[1;36m\u001b[0m\n\u001b[1;33m    U = # in V\u001b[0m\n\u001b[1;37m        ^\u001b[0m\n\u001b[1;31mSyntaxError\u001b[0m\u001b[1;31m:\u001b[0m invalid syntax\n"
     ]
    }
   ],
   "source": [
    "U = np.uarray(,) # in V\n",
    "R_ref_NTC = np.uarray(,) # in Ohm\n",
    "T_NTC = unumpy.uarray(np.array([]),np.full(,)) # in °C\n",
    "R_pot_NTC = unumpy.uarray(np.array([]),np.full(,)) # in Ohm\n",
    "R_ref_PT100 = np.uarray(,) # in Ohm\n",
    "T_PT100 = unumpy.uarray(np.array([]),np.full(,)) # in °C\n",
    "R_pot_PT100 = unumpy.uarray(np.array([]),np.full(,)) # in Ohm"
   ]
  },
  {
   "cell_type": "markdown",
   "id": "1be178dd",
   "metadata": {},
   "source": [
    "Die Messung mit Hilfe der Wheatstoneschen Brückenschaltung ist in diesem Fall sinnvoll, da sie eine sehr genaue Bestimmung des Widerstandes ermöglicht. \\\n",
    "Bei der Schaltung werden vier Widerständen verwendet, um eine Nullspannung an einem empfindlichen Messgerät zu erzeugen. Durch die Verwendung der Brückenschaltung kann der zu messenden Widerstand mit hoher Genauigkeit bestimmt werden, indem die Widerstände in der Brückenschaltung so eingestellt werden, dass eine Nullspannung am Messgerät erreicht wird. Dies führt zu einer sehr präzisen Messung."
   ]
  },
  {
   "cell_type": "code",
   "execution_count": null,
   "id": "4ae45cba",
   "metadata": {},
   "outputs": [],
   "source": [
    "T_NTC_var=unumpy.nominal_values(T_NTC) # in °C\n",
    "T_NTC_std=unumpy.std_devs(T_NTC) # in °C\n",
    "R_pot_NTC_var=unumpy.nominal_values(R_pot_NTC) # in Ohm\n",
    "R_pot_NTC_std=unumpy.std_devs(R_pot_NTC) # in Ohm\n",
    "\n",
    "T_PT100_var=unumpy.nominal_values(T_PT100) # in °C\n",
    "T_PT100_std=unumpy.std_devs(T_PT100) # in °C    \n",
    "R_pot_PT100_var=unumpy.nominal_values(R_pot_PT100) # in Ohm\n",
    "R_pot_PT100_std=unumpy.std_devs(R_pot_PT100) # in Ohm\n",
    "\n",
    "plt.errorbar(T_NTC_var,R_pot_NTC_var,xerr=T_NTC_std,yerr=R_pot_NTC_std,fmt='.',label='NTC',linestyle='None',color='red')\n",
    "plt.errorbar(T_PT100_var,R_pot_PT100_var,xerr=T_PT100_std,yerr=R_pot_PT100_std,fmt='.',label='PT100',linestyle='None',color='blue')\n",
    "plt.xlabel('Temperatur $T$ / °C')\n",
    "plt.ylabel('Widerstand $R$ / $\\Omega$')\n",
    "plt.legend()    \n",
    "plt.show()"
   ]
  },
  {
   "cell_type": "markdown",
   "id": "77784141",
   "metadata": {},
   "source": [
    "Der Widerstand des NTCs nimmt mit steigender Temperatur ab.\\\n",
    "Der Widerstand des PT100s erhöht sich mit steigender Temperatur."
   ]
  },
  {
   "cell_type": "code",
   "execution_count": null,
   "id": "d16df6be",
   "metadata": {},
   "outputs": [],
   "source": [
    "xy_data = XYContainer(unumpy.nominal_values(T_NTC),unumpy.nominal_values(R_pot_NTC))\n",
    "y_error = unumpy.std_devs(R_pot_NTC)\n",
    "x_error = unumpy.std_devs(T_TNC)\n",
    "def exponential(x,a=2.527,b=2253):\n",
    "    return a*np.exp(b/x) \n",
    "line_fit=Fit(data=xy_data,model_function=exponential)\n",
    "line_fit.add_error(axis='x', err_val=x_error,relative=False)  # add the x-error to the fit\n",
    "line_fit.add_error(axis='y', err_val=y_error,relative=False)\n",
    "\n",
    "line_fit.do_fit()\n",
    "line_fit.assign_parameter_latex_names(x='T', a='a',b='b')\n",
    "line_fit.assign_model_function_latex_name('R')\n",
    "line_fit.assign_model_function_latex_expression(' {x} *  {a} + {b}')\n",
    "\n",
    "line_fit.data_container.label = \"Verwendete Daten R_pot_NTC\"\n",
    "line_fit.model_label = \"Modellfunktion\"\n",
    "\n",
    "line_fit.data_container.axis_labels = ['T in °C','R in $\\Omega$']\n",
    "plot = Plot(fit_objects= line_fit)\n",
    "plot.plot()\n",
    "plt.show()\n",
    "\n"
   ]
  },
  {
   "cell_type": "markdown",
   "id": "daf0b657",
   "metadata": {},
   "source": [
    "### Werte einfügen\n",
    "Mit einem Fit ergibt sich die experimentell bestimmte Formel: $R \\left (T \\right)= \\Omega \\cdot exp\\left( \\frac{K}{T} \\right ) $. \\\n",
    "NTC-Widerstände können zur Temperaturmessung verwendet werden, indem sie in einem Spannungsteiler mit einem Festwiderstand eingesetzt werden. Für die Füllstandsanzeige werden sie genutzt, um den Füllstand einer Flüssigkeit anhand der Änderung des Widerstands zu bestimmen. Zur Strombegrenzung erhöht sich der Widerstand des NTC-Widerstands mit steigendem Stromfluss, wodurch der Strom auf einen sicheren Wert begrenzt wird."
   ]
  },
  {
   "cell_type": "code",
   "execution_count": null,
   "id": "69845599",
   "metadata": {},
   "outputs": [],
   "source": [
    "\n",
    "\n",
    "xy_data = XYContainer(unumpy.nominal_values(T_PT100),unumpy.nominal_values(R_pot_PT100))\n",
    "y_error = unumpy.std_devs(R_pot_PT100)\n",
    "x_error = unumpy.std_devs(T_PT100)\n",
    "def linear(x,a=99.3,b=0.296):\n",
    "    return a+b*x\n",
    "line_fit=Fit(data=xy_data,model_function=linear)\n",
    "line_fit.add_error(axis='x', err_val=x_error,relative=False)  # add the x-error to the fit\n",
    "line_fit.add_error(axis='y', err_val=y_error,relative=False)\n",
    "\n",
    "line_fit.do_fit()\n",
    "line_fit.assign_parameter_latex_names(x='T', a='R_0',b='b')\n",
    "line_fit.assign_model_function_latex_name('R')\n",
    "line_fit.assign_model_function_latex_expression(' {x} *  {a} + {b}')\n",
    "\n",
    "line_fit.data_container.label = \"Verwendete Daten R_pot_PT100\"\n",
    "line_fit.model_label = \"Modellfunktion\"\n",
    "\n",
    "line_fit.data_container.axis_labels = ['T in °C','R in $\\Omega$']\n",
    "plot = Plot(fit_objects= line_fit)\n",
    "plot.plot()\n",
    "plt.show()"
   ]
  },
  {
   "cell_type": "markdown",
   "id": "b76bf0a3",
   "metadata": {},
   "source": [
    "### Werte einfügen\n",
    "Mit einem Fit ergibt sich die experimentell bestimmte Formel: $R \\left (T \\right)= \\Omega + \\frac{\\Omega}{K} \\cdot T $. \\\n",
    "Der PT100 wird in verschiedenen Bereichen eingesetzt, darunter industrielle Prozesssteuerung, Klima- und Lüftungstechnik sowie Labormessungen. Er ermöglicht präzise und genaue Temperaturmessungen aufgrund seiner linearen Widerstandsänderung mit der Temperatur. In der Industrie findet der PT100 Anwendung in der Überwachung von chemischen Prozessen, Ofensteuerungen und in der Lebensmittelverarbeitung. In der Klima- und Lüftungstechnik wird der PT100 verwendet, um die Temperatur in Räumen und Lüftungskanälen zu messen. Auch in Laboren wird der PT100 zur genauen Temperaturüberwachung in Versuchsanordnungen und Messgeräten eingesetzt."
   ]
  },
  {
   "cell_type": "markdown",
   "id": "ff1e8d8c-bba2-402c-891a-9cd60312f658",
   "metadata": {},
   "source": [
    "### Aufgabe 2: Kennlinien\n",
    "\n",
    "Überlegen Sie sich zur Vorbereitung auf diesem Versuch Antworten zu den folgenden Fragen und fertigen Sie entsprechende Schaltskizzen an:\n",
    "\n",
    "- Wie können Sie eine Spannungsstabilisierung mit Hilfe einer Zenerdiode realisieren?\n",
    "- Wie können Sie den Varistor als Schutz gegen induzierte Spannungen an geschalteten Induktivitäten verwenden?\n",
    "\n",
    "#### Aufgabe 2.1\n",
    "\n",
    "Nehmen Sie die Kennlinien folgender Bauteile am USB-Oszilloskop auf:\n",
    "\n",
    "- $\\mathrm{Si}$-Diode (SID)\n",
    "- $\\mathrm{Ge}$-Diode (GED)\n",
    "- Zener-Diode (ZED)\n",
    "- Varistor (VDR)\n",
    "- Fotodiode\n",
    "- Fotowiderstand\n",
    "- LED (in vier verschiedenen Farben).\n",
    "\n",
    "Verwenden Sie dafür die Versuchsbox mit der folgenden Schaltskizze, an die Sie das Eingangssignal über den Trenntransformator in Form einer sinusförmigen Wechselspannung (mit der Frequenz $\\nu=100\\,\\mathrm{Hz}$) angelegen: ([Link](https://git.scc.kit.edu/etp-lehre/p2-for-students/-/raw/main/Elektrische_Bauelemente/figures/Kennlinienaufnahme.jpg))\n",
    "\n",
    "<img src=\"./figures/Kennlinienaufnahme.jpg\" width=\"500\" height=\"500\" style=\"zoom:80%;\" />\n",
    "\n",
    "Gemäß der Schaltung werden über einem Widerstand (mit $R=100\\,\\Omega$) an Kanal A (CH A) und über dem jeweiligen Bauteil an Kanal B (CH B) Spannungen abgenommen. Mit Hilfe der XY-Darstellung der „PicoScope 6-Software“ kann dann die jeweilige Kennlinie aufgenommen werden. Untersuchen Sie hierbei insbesondere die folgenden Eigenschaften:\n",
    "\n",
    "- Die SID, GED und ZED auf ihre jeweilige Schwellenspannung und ggf. auch Zenerspannung.\n",
    "- Das Verhalten der Fotodiode bei verschiedenen Beleuchtungen (z.B. durch die Smartphone-Lampe).\n",
    "- Das Verhalten des Fotowiderstands bei verschiedenen Beleuchtungen.\n",
    "- Die Verschiedenfarbigen LEDs auf ihre jeweilige Schwellenspannung und den Zusammenhang mit der Frequenz des emittierten Lichts.\n",
    "\n",
    "Interpretieren Sie die Kennlinien ausführlich und geben Sie charakteristische Punkte an. Berechnen Sie beim Fotowiderstand aus der Steigung der Kennlinien den jeweiligen Widerstandswert. Schließen Sie auf typische Eigenschaften der Bauteile und leiten Sie daraus mögliche Anwendungen ab.\n",
    "\n",
    "---"
   ]
  },
  {
   "cell_type": "markdown",
   "id": "1fefea1d-718b-4dd4-a3ac-6352b9967365",
   "metadata": {},
   "source": [
    "**Lösung:** \\\n",
    "**2.1.1 $\\mathrm{Si}$-Diode (SID)** \\\n",
    "<img src=\"./figures/KennlinieSi.jpg\" width=\"500\" height=\"500\" style=\"zoom:80%;\" /> \\\n",
    "Hier wird eine Schwellenspannung von $U_{Schwelle}= V$ aufgezeichnet. Der theoretische Wert für die Schwellenspannung der $\\mathrm{Si}$-Diode liegt bei $0,7 V$(https://git.scc.kit.edu/etp-lehre/p2-for-students/-/blob/main/Elektrische_Bauelemente/ElektrischeBauelemente-Vorbereitungshilfe.pdf). Der experimentelle und der theoretische Wert passen... \\\n",
    "Durch die angelegte Spannung wird kein Durchbruchstrom verursacht. Die Spannung ist zu niedrig.\n",
    "\n",
    "**2.1.2 $\\mathrm{Ge}$-Diode (GED)** \\ \n",
    "<img src=\"./figures/KennlinieGe.jpg\" width=\"500\" height=\"500\" style=\"zoom:80%;\" /> \\\n",
    "Hier wird eine Schwellenspannung von $U_{Schwelle}= V$ aufgezeichnet. Der theoretische Wert für die Schwellenspannung der $\\mathrm{Ge}$-Diode liegt bei $0,3 V$(https://git.scc.kit.edu/etp-lehre/p2-for-students/-/blob/main/Elektrische_Bauelemente/ElektrischeBauelemente-Vorbereitungshilfe.pdf). Der experimentelle und der theoretische Wert passen... \\\n",
    "Bei den bis hier verwendeten Dioden kommt nur Strom in eine Richtung durch. Damit lässt sich Wechselstrom gleichrichten.\n",
    "\n",
    "**2.1.3 Zener-Diode (ZED)** \\\n",
    "\"Z(ener)-Dioden sind besonders hoch dotierte Si-Dioden mit schmalem pn-Übergang und spezifizierter Durchbruchspannung. Aus diesem Grund sind sie für den dauerhaften Betrieb in Sperrrichtung ausgelegt und dienen der Spannungsstablisierung und -begrenzung. Die Durchbruchspannung, bei der die Z-Diode niederohmig wird, heißt Zener-Spannung UZ0 und liegt je nach Typ zwischen 3V und 300V.\"(https://git.scc.kit.edu/etp-lehre/p2-for-students/-/blob/main/Elektrische_Bauelemente/ElektrischeBauelemente-Vorbereitungshilfe.pdf) \\\n",
    "<img src=\"./figures/KennlinieZener.jpg\" width=\"500\" height=\"500\" style=\"zoom:80%;\" /> \\\n",
    "Hier wird eine Schwellenspannung von $U_{Schwelle}= V$ aufgezeichnet.  Der experimentelle und der theoretische Wert passen... \\\n",
    "\n",
    "**Varistor (VDR)** \\\n",
    "\"Widerstände, die ihren Wert mit der anliegenden Spannung ändern, heißen Varistoren oder kurz VDR (=Volt Dependent Resistor). Ein Varistor besteht aus vielen kleinen Halbleiterkristallen, zwischen denen sich Sperrschichten ausbilden. Auf Grund dieses Aufbaus haben Varistoren keine Vorzugsrichtung, da die Halbleiterkristalle und Sperrschichten völlig ungeordnet vorliegen. Wird eine Spannung angelegt, entsteht ein elektrisches Feld und die Sperrschichten bauen sich teilweise ab. Mit zunehmender Spannung werden immer mehr Sperrschichten abgebaut, sodass der Widerstand des Bauteils sinkt. Die Polung der Spannung spielt dabei keine Rolle. Die Spannung, von der ab ein deutlicher Stromanstieg zu beobachten ist, heißt Schwellenspannung. Sie hängt maßgeblich von der Dicke des Varistors ab, denn je dicker die Varistorscheibe ist, desto mehr Kristalle sind in Reihe geschaltet und desto mehr Sperrschichten müssen abgebaut werden. Auf Grund der Tatsache, dass der Varistor keine Vorzugsrichtung hat, ergibt sich eine symmetrische I-U-Kennlinie[.]\"(https://git.scc.kit.edu/etp-lehre/p2-for-students/-/blob/main/Elektrische_Bauelemente/ElektrischeBauelemente-Vorbereitungshilfe.pdf) \\\n",
    "<img src=\"./figures/KennlinieVaristor.jpg\" width=\"500\" height=\"500\" style=\"zoom:80%;\" /> \\\n",
    "Hier wird eine Schwellenspannung von $U_{Schwelle}= V$ und eine Durchbruchsspannung von $U_{Durchbruch}= V$ aufgezeichnet. Es ist erkennbar, dass die Kennlinie punktsymmetrisch zum Ursprung ist. Die doppelte Linie bei Spannungswechsel ist aufgrund der Trägheit der Elektronen sichtbar.\n",
    "\n",
    "**Fotodiode** \\\n",
    "Der Wert des Widerstand ändert sich mit unterschiedlicher Lichtintensität. \"Bei Belichtung kommt es zur Photonenabsorbtion,\n",
    "wodurch in der Raumladungszone und deren Umgebung Elektronen-Loch-Paare entstehen. Das Feld trennt die Ladungsträgerpaare, in Folge dessen kommt es zu einem Kurzschlussphotostrom $I_{ph}$[.]\"(https://git.scc.kit.edu/etp-lehre/p2-for-students/-/blob/main/Elektrische_Bauelemente/ElektrischeBauelemente-Vorbereitungshilfe.pdf)  \\\n",
    "Mit diesem Effekt nimmt der Widerstand mit einer stärkeren Beleuchtung ab. \\\n",
    "<img src=\"./figures/KennlinieFotodiode.jpg\" width=\"500\" height=\"500\" style=\"zoom:80%;\" /> \\\n",
    "Die aufgenommene Kennlinie zeigt, dass...\n",
    "\n",
    "**Fotowiderstand** \\\n",
    "\"Bei Beleuchtung treffen Photonen auf die Kristallbindungen, diese werden zerstört und die Elektronen freigesetzt. Die freien Elektronen tragen zu einer Erhöhung der Leitfähigkeit bei. Der Photowiderstand verhält sich prinzipiell wie ein ohmscher Widerstand, ist also spannungsunabhängig. Fällt Licht auf den Widerstand, steigt die Leitfähigkeit in Folge der erhöhten Ladungsträgerdichte und Zunahme deren Beweglichkeit an - der Widerstand sinkt. Dieser Effekt hängt von der Intensität des Lichts ab.\" (https://git.scc.kit.edu/etp-lehre/p2-for-students/-/blob/main/Elektrische_Bauelemente/ElektrischeBauelemente-Vorbereitungshilfe.pdf)  \\\n",
    "Die Kennlinie des Fotowiderstand hat aufgrund dieses Effekts eine lineare Kennlinie. \\\n",
    "Der Fotowiderstand lässt sich mit dem Ohmschen Gesetz berechnen:\n",
    "$$\n",
    "R=\\frac{U_{Fotowiderstand}}{I_{Fotowiderstand}} \\; \\; \\; \\; \\; \\; \\; \\; \\; \\text{mit} \\; I=\\frac{U_{ref}}{I_{ref}}  \\\\\n",
    "\n",
    "R=\\frac{U_{Fotowiderstand} \\cdot R_{ref}}{U_{ref}}\n",
    "$$\n",
    "\n",
    "Kennlinie mit unterschiedlicher Beleuchtung:\n",
    "<img src=\"./figures/KennlinieFotowiderstand1.jpg\" width=\"500\" height=\"500\" style=\"zoom:80%;\" /> \\\n",
    "<img src=\"./figures/KennlinieFotowiderstand2.jpg\" width=\"500\" height=\"500\" style=\"zoom:80%;\" /> \\\n",
    "In den Bildern ist eine stärkere Steigung der Gerade bei stärkerer Beleuchtung erkennbar.\n",
    "Es werden folgende Messwerte und Widerstände ermittelt:\n",
    "\n",
    "|Beleuchtung  |U_Foto in V |U_ref in V|R in Ohm|\n",
    "|-------------|------------|----------|--------|\n",
    "|hell         |            |          |        |\n",
    "|dunkel       |            |          |        |\n",
    "\n",
    "Die berechneten Widerstände bestätigen, dass bei stärkerer Beleuchtung der Widerstand kleiner wird.\n",
    "\n",
    "**LED (in vier verschiedenen Farben)** \\\n",
    "\"Leuchtdioden, kurz LED (Light Emitting Diode), senden Licht aus, wenn sie in Durchlassrichtung betrieben werden. Das heißt, elektrische Energie wird in Licht umgewandelt. Die Leuchtdiode besteht aus einem n-leitenden Grundhalbleiter, auf dem eine sehr dünne p-leitende Halbleiterschicht mit großer Löcherdichte aufgebracht ist. Durch die hohe Löcherdichte rekombinieren die Elektronen. Dabei fällt ein Elektron aus dem Leitungsband (höheres Energieniveau) ins Valenzband (niedrigeres Energienivau) und gibt die Energiedifferenz ∆E in Form eines Lichtimpulses ab. Der Lichtimpuls hat dabei eine Wellenlänge λ = c/f. Die Wellenlänge wird durch den energetischen Abstand zwischen Valenz- und Leitungsband bestimmt und gibt die Farbe des abgestrahlten Lichts an. Da die p-Schicht sehr dünn ist, kann das Licht entweichen. Schon bei kleinen Stromstärken ist eine Lichtabstrahlung wahrnehmbar. Die Lichtstärke wächst proportional mit der Stromstärke. Leuchtdioden reagieren sehr empfindlich auf einen zu großen Durchlassstrom, deshalb wird ein strombegrenzender Vorwiderstand in Reihe zur Leuchtdiode benötigt. Farbe und Wellenlänge des Lichts hängen vom Halbleitermaterial ab. Auch die Durchlassspannungen der Bauteile unterscheiden sich.\" (https://git.scc.kit.edu/etp-lehre/p2-for-students/-/blob/main/Elektrische_Bauelemente/ElektrischeBauelemente-Vorbereitungshilfe.pdf)  \\\n",
    "Die Schwellenspannung muss mit einer höheren Frequenz des emmitierten Lichts steigen, da mehr Energie zur Emmitation notwendig ist.\n",
    "So sieht die Kennlinie für eine rote LED aus: \\\n",
    "<img src=\"./figures/KennlinieLEDrot.jpg\" width=\"500\" height=\"500\" style=\"zoom:80%;\" /> \\\n",
    "So sieht die Kennlinie für eine orang LED aus: \\\n",
    "<img src=\"./figures/KennlinieLEDrot.jpg\" width=\"500\" height=\"500\" style=\"zoom:80%;\" /> \\\n",
    "So sieht die Kennlinie für eine gelb LED aus: \\\n",
    "<img src=\"./figures/KennlinieLEDrot.jpg\" width=\"500\" height=\"500\" style=\"zoom:80%;\" /> \\\n",
    "So sieht die Kennlinie für eine grün LED aus: \\\n",
    "<img src=\"./figures/KennlinieLEDrot.jpg\" width=\"500\" height=\"500\" style=\"zoom:80%;\" /> \\\n",
    "Es ergeben sich folgende Schwellenspannungen: \n",
    "\n",
    "|Farbe |U_Schwelle in V |\n",
    "|------|----------------|\n",
    "|rot   |                |\n",
    "|orange|                |\n",
    "|gelb  |                |\n",
    "|grün  |                |\n",
    "\n",
    "### überprüfen\n",
    "Es ist erkennbar, das die Schwellenspannung mit höherer Frequenz des Lichtes zunimmt."
   ]
  },
  {
   "cell_type": "markdown",
   "id": "b425be2e-7a95-4868-9fb6-242d4de23481",
   "metadata": {},
   "source": [
    "#### Aufgabe 2.2\n",
    "\n",
    "Untersuchen Sie qualitativ die Frequenzabhängigkeit einiger Bauelemente bei Frequenzen von $\\nu=0,1\\,\\mathrm{kHz}$ bis $10\\,\\mathrm{kHz}$).\n",
    "\n",
    "---"
   ]
  },
  {
   "cell_type": "markdown",
   "id": "3df54377-f490-4fad-bf3e-8c5b490cb521",
   "metadata": {},
   "source": [
    "**Lösung:** \\\n",
    "Es wird noch die Frequenzabhängigkeit einiger Bauelemente untersucht.  \\\n",
    "Es wird eine Frequenz von $10 kHz$ eingestellt und die Kennlinie der Silizium-Diode wird aufgezeichnet:\\\n",
    "<img src=\"./figures/KennlinieSIDfrequenz.jpg\" width=\"500\" height=\"500\" style=\"zoom:80%;\" /> \\\n",
    "An dem Bild ist sichtbar, dass bei einer hohen Frequenz die Sperrschicht nie komplett verschwindet, der Diodenstrom ist immer ungleich 0. \\\n",
    "$\\longrightarrow$ die Geschwindigkeit der Elektronen ist endlich."
   ]
  },
  {
   "cell_type": "markdown",
   "id": "c1abecd6-3220-4eb0-be3c-592db15ad713",
   "metadata": {},
   "source": [
    "### Aufgabe 3\n",
    "\n",
    "Nehmen Sie die Kennlinie einer Fotodiode bei verschiedenen Beleuchtungsstärken auf und entnehmen Sie dieser jeweils den Sperrstrom. Verwenden Sie hierzu die Schaltung aus Aufgabe 2 aus bei $\\nu=10\\,\\mathrm{Hz}$, sowie die regulierbare Experimentierleuchte mit Fotodioden-Aufsatz. Beginnen Sie bei einer Lampenspannung von $U=2\\,\\mathrm{V}$ als niedrigste Stufe der Beleuchtung und beobachten Sie die Veränderung der Kennlinie bei zunehmender Spannung (in Schritten von $1\\,\\mathrm{V}$) und Beleuchtungsstärke. Stellen Sie in der Auswertung den Zusammenhang zwischen Sperrstrom und Beleuchtungsstärke graphisch dar.\n",
    "\n",
    "Hinweis: Die Umrechnungstabelle zwischen Lampenspannung und Beleuchtungsstärke finden Sie unter [`params/Umrechnung_Lampenspannung.csv`.](https://git.scc.kit.edu/etp-lehre/p2-for-students/-/blob/main/Elektrische_Bauelemente/params/Umrechnung_Lampenspannung.csv)\n",
    "\n",
    "---"
   ]
  },
  {
   "cell_type": "markdown",
   "id": "b4df506e-cedd-4d8f-bf1e-b1bb8c090f92",
   "metadata": {},
   "source": [
    "**Lösung:**\n",
    "In diesem Versuchsteil messen wir den Sperrstrom einer Fotodiode über die Kennlinie bei verschiedenen Beleuchtungsstärken. Dafür wird eine regulierbare Experimentierleuchte verwendet, deren Intensität abhängig von der angelegten Spannung ist. Die Umrechnung von Spannung zu Helligkeit verläuft über eine bereitgestellte Tabelle. Um den Sperrstrom möglichst genau zu bestimmen, messen wir die Spannung am Strom-Nulldurchgang der Kennlinie am Oszilloskop, welcher proportional zum Sperrstrom ist. \n",
    "Diese ist im folgenden über die Beleuchtungsstärke aufgetragen.\n",
    "\n",
    "---"
   ]
  },
  {
   "cell_type": "code",
   "execution_count": null,
   "id": "aa776d17-3ad8-4e85-aeeb-a410f1138ffa",
   "metadata": {},
   "outputs": [],
   "source": [
    "U_kenn = np.array([])\n",
    "U_lampe = np.array([])\n",
    "lumen_lampe = \n",
    "\n",
    "plt.plot(lumen_lampe, U_kenn)"
   ]
  },
  {
   "cell_type": "markdown",
   "id": "256d9077-a7dc-417d-b6ee-8e53cffdba57",
   "metadata": {},
   "source": [
    "### Aufgabe 4: Piezoelektrischer Effekt\n",
    "\n",
    "Untersuchen Sie den piezoelektrischen Effekt am Piezoelement. Gehen Sie dabei wie folgt vor:\n",
    "\n",
    "- Beobachten Sie den direkten piezoelektrischen Effekt am USB-Oszilloskop, indem Sie manuell verschiedene Drücke auf das Piezoelement ausüben. Machen Sie ein Frequenzsignal sichtbar, indem Sie mit dem Frequenzgenerator verschiedene Signale auf den Lautsprecher geben und diese auf das Piezoelement übertragen.\n",
    "- Überprüfen Sie die Funktion des Piezoelements als Lautsprecher. Schließen Sie es hierzu direkt an den Frequenzgenerator an.\n",
    "- Beschreiben Sie Ihre Beobachtungen und diskutieren Sie Anwendungen des piezoelektrischen Effekts.\n",
    "\n",
    "---"
   ]
  },
  {
   "cell_type": "markdown",
   "id": "97ce286a-059d-4d23-960f-6317567962e9",
   "metadata": {},
   "source": [
    "**Lösung:**\n",
    "In diesem Versuchsteil wird auf den piezoelektriesche Effekt eingegangen. Dafür schließen wir das Piezoelement an das USB-Oszillopkop an, und tippen als ersten Teil dieser Aufgabe gegen das Piezoelement. Dabei treten hohe Spannungen auf, die am Oszilloskop sichtbar sind: \\\n",
    "**BILD**\\\n",
    "Im zweiten Teil legen wir das Piezoelement auf einen Lautsprecher, welcher an einen Sinusfrequenzgenerator angeschlossen ist. Dabei entsteht eine sinusförmige Spannung am Piezoelement, wie am Oszilloskop sichtbar gemacht wird.\\\n",
    "**BILD**\\\n",
    "Im dritten Teil dieser Aufgabe schließen wir den Frequenzgenerator direkt an das Piezoelement an, um die Umkehrung des piezoelektrischen Effekts vorzuführen. \n",
    "Das Piezoelement erzeugt tatsächlich einen sinusartigen Ton, jedoch war dieser verzerrt und unsauber, wodurch sich ein Piezoelement nicht als Lautsprecher eignet. \n",
    "\n",
    "---"
   ]
  },
  {
   "cell_type": "markdown",
   "id": "59aa6269-e7cc-46f1-bc6c-d482c185e1c5",
   "metadata": {},
   "source": [
    "### Aufgabe 5: Hochtemperatursupraleiter\n",
    "\n",
    "Bestimmen Sie die Sprungtemperatur eines  Hochtemperatursupraleiters. Gehen Sie dabei wie folgt vor:\n",
    "\n",
    "Messen Sie den Spannungsabfall am Hochtemperatursupraleiter mit Hilfe der fertig aufgebauten Vierleiterschaltung ($I_\\mathrm{const}=63\\,\\mathrm{mA}$) und des Multimeters. Kühlen Sie die Probe von Raumtemperatur auf $T=77\\,\\mathrm{K}$ ab. Nutzen Sie hierfür den Temperaturgradienten über dem Stickstoff-Bad. Nehmen Sie eine Messreihe aus $U_{\\mathrm{gem}}$ und zugehöriger Temperatur $T$ (in Schritten von $5\\,\\mathrm{K}$) auf. Beschreiben Sie das Verhalten des Hochtemperatursupraleiters.\n",
    "\n",
    "- Tragen Sie zur Auswertung den Widerstand $R=U_{\\mathrm{gem}}/I$ über der Temperatur $T$ auf und geben Sie die Sprungtemperatur an.\n",
    "- Erklären Sie, warum zur Messung eine Vierleiterschaltung verwendet wird.\n",
    "\n",
    "Beachten Sie, dass die Anzeige des Thermometers bei tiefen Temperaturen entsprechend der im Datenblatt angegebenen Tabelle [`params/Temperatur_Korrektur.csv`](https://git.scc.kit.edu/etp-lehre/p2-for-students/-/blob/main/Elektrische_Bauelemente/params/Temperatur_Korrektur.csv) vom wahren Wert abweicht. Für die Beurteilung der Sprungtemperatur beachten Sie, dass am Ort von Temperatursensor und Supraleiter ein hoher Temperaturgradient vorliegt.\n",
    "\n",
    "---"
   ]
  },
  {
   "cell_type": "markdown",
   "id": "3439cde4-719b-44cf-9499-da75cdf7d9f5",
   "metadata": {},
   "source": [
    "**Lösung:**\n",
    "In diesem Versuchsteil wird die Sprungtemperatur eines Hochtemperatursupraleiters ermittelt. Um die Temperatur des Leiters allmählich abzusenken, nutzen wir den Temperaturgradienten über einem Flüssigstickstoff-Bad aus, indem wir den Leiter langsam in das Bad absenken. Über das Ohmsche Gesetz lässt sich dann der Widerstand berechnen und im folgenden über die Temperatur auftragen. \n",
    "\n",
    "\n",
    "---"
   ]
  },
  {
   "cell_type": "code",
   "execution_count": null,
   "id": "fc6e4bbc-b95a-4c6b-88bf-bc3608f1ba1a",
   "metadata": {},
   "outputs": [],
   "source": [
    "\n",
    "#Temperaturkorrekturen??\n",
    "T = np.array([])\n",
    "U = np.array([])\n",
    "R = U/0.063\n",
    "plt.plot(T,R)\n",
    "plt.xlabel('Temperatur $T$ / °C')\n",
    "plt.ylabel('Widerstand $R$ / $\\Omega$')\n",
    "plt.show()"
   ]
  },
  {
   "cell_type": "markdown",
   "id": "9b52d429-71d9-4412-9081-aaa49ec61b56",
   "metadata": {},
   "source": [
    "Aus dem Plot ist die Sprungtemperatur, also die Temperatur ab der der Leiter plötzlich supraleitendend wird, bei einer Temperatur von $x$K, also $x-273,15$°C abzulesen.\n",
    "Da kein Literaturwert gegeben ist, ist ein Vergleich mit diesem nicht möglich. Allerdings ist bei diesem Ergebnis zu beachten das im Leiter selbst ein Temperaturgradient herrscht, und somit Teile des Leiters schon vor anderen supraleitend werden können. Zudem ist nicht bekannt, an welcher Stelle die Temperatur des Leiters gemessen wird, sodass der Einfluss dieses Gradienten nicht abzuschätzen ist. "
   ]
  }
 ],
 "metadata": {
  "kernelspec": {
   "display_name": "Python 3 (ipykernel)",
   "language": "python",
   "name": "python3"
  },
  "language_info": {
   "codemirror_mode": {
    "name": "ipython",
    "version": 3
   },
   "file_extension": ".py",
   "mimetype": "text/x-python",
   "name": "python",
   "nbconvert_exporter": "python",
   "pygments_lexer": "ipython3",
   "version": "3.10.10"
  }
 },
 "nbformat": 4,
 "nbformat_minor": 5
}
