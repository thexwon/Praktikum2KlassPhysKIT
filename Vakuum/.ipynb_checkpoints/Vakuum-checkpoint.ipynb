{
 "cells": [
  {
   "cell_type": "markdown",
   "id": "05e1625f-ff42-4654-92a6-383a4c558761",
   "metadata": {},
   "source": [
    "<img src=\"./figures/Logo_KIT.svg\"  width=\"250\" height=\"250\" style=\"zoom:15%;float:right;\" />\n",
    "\n",
    "# Fakultät für Physik \n",
    "\n",
    "## Physikalisches Praktikum P2 für Studierende der Physik\n",
    "\n",
    "\n",
    "\n",
    "Versuch P2-41, 42, 44 (Stand: April 2023)\n",
    "\n",
    "[Raum F1-19](http://www-ekp.physik.uni-karlsruhe.de/~simonis/praktikum/layoutobjekte/Lageplan_P1.png)"
   ]
  },
  {
   "cell_type": "markdown",
   "id": "8012ed69-64c9-4225-9edf-923a2d6c9640",
   "metadata": {},
   "source": [
    "<br>\n",
    "Name: __________________ Vorname: __________________\n",
    "<br>\n",
    "<br>\n",
    "Name: __________________ Vorname: __________________\n",
    "<br>\n",
    "<br>\n",
    "<br>\n",
    "Gruppennummer: _____\n",
    "<br>\n",
    "<br>\n",
    "<br>\n",
    "Betreuer: __________________\n",
    "<br>\n",
    "<br>\n",
    "<br>\n",
    "Versuch durchgeführt am: __________________"
   ]
  },
  {
   "cell_type": "markdown",
   "id": "a9644699-e845-4a6b-82e3-3cfb301c2b7d",
   "metadata": {},
   "source": [
    "---\n",
    "\n",
    "**Beanstandungen:**\n",
    "\n",
    "<br>\n",
    "<br>\n",
    "<br>\n",
    "<br>\n",
    "<br>\n",
    "<br>\n",
    "<br>\n",
    "<br>\n",
    "<br>\n",
    "<br>\n",
    "Testiert am: __________________ Vermerk: __________________"
   ]
  },
  {
   "cell_type": "markdown",
   "id": "8fee9571-b5f7-46e9-9313-21405a1c8dd8",
   "metadata": {},
   "source": [
    "# Vakuum\n",
    "\n",
    "## Motivation\n",
    "\n",
    "Die Abwesenheit von Materie im Raum bezeichnen wir als [Vakuum](https://de.wikipedia.org/wiki/Vakuum). Die Vorstellung von Raum ohne Materie wurde sowohl von Platon, als auch von Aristoteles, der eine \"Abneigung der Natur gegen das Leere\" postulierte, die später als *horror vacui* bekannt wurde, abgelehnt. Auch Descarte, der Namensgeber unseres kartesischen Koordinatensystems, war davon überzeugt, dass es keinen materiefreien Raum geben könne. Die Überzeugungen dieser Autoritäten der frühen Wissenschaft wurden nur mühsam durch Experimente im Laufe der Renaissance widerlegt. Sie wirkten noch bis in die Neuzeit und sorgten für Aufsehen über die Ausgänge des Michelson-Morley oder des Rutherford-Experiments.\n",
    "\n",
    "Das erste von Menschen geschaffene Vakuum ist 1644 von [Evangelista Torricelli](https://de.wikipedia.org/wiki/Evangelista_Torricelli) überliefert. Populär wurden die 1657 publikumswirksam von [Otto von Guericke](https://de.wikipedia.org/wiki/Otto_von_Guericke) in Szene gesetzten Experimente mit den evakuierten [Magdeburger Halbkugeln](https://de.wikipedia.org/wiki/Magdeburger_Halbkugeln). Noch bis zum Scheitern des Michelson-Morley Experiments war man von der Existenz eines allumfassenden Äthers überzeugt, in dem sich das Licht ausbreiten sollte. Der Ausgang des Rutherford-Experiments deutete darauf hin, dass sich zwischen dem Atomkern, auf den sich die gesamte Masse des Atoms konzentriert und seiner Hülle im wesentlichen nichts befand. Heute würden wir selbst einen von aller Materie befreiten Raum nicht als \"leer\" bezeichnen, weil er sowohl elektromagnetische Strahlung, Gravitationswellen, als auch allgemeine Quantenfluktuation beinhalten kann, die z.B. durch den [Casimir-Effekt](https://de.wikipedia.org/wiki/Casimir-Effekt) messbar sind. Im bekannten Universum gibt es kein vollständiges Vakuum. \n",
    "\n",
    "Heutzutage ist das Vakuum vor allem von technischer Bedeutung. Es schafft wichtige Voraussetzungen in Industrie und Technik, zur Konservierung von Lebensmitteln und in der Forschung. Man unterscheidet zwischen Grob-, Fein-, Hoch- und Ultrahochvakuum. Im interplanetaren Raum herrscht ein Vakuum mit Drücken von $<10^{-18}\\,\\mathrm{mbar}$ vor. In der [Strahlröhre des LHC](https://home.cern/science/engineering/vacuum-empty-interstellar-space) am CERN in Genf oder im Vakuumtank des [KATRIN Experiments](https://de.wikipedia.org/wiki/KATRIN) herrschen Vakua mit Drücken von $<10^{-10}\\,\\mathrm{mbar}$ vor.\n",
    "\n",
    "Dieser Versuch bietet Ihnen Einblicke in die Prinzipien der Vakuumerzeugung und -vermessung. Sie lernen mit einer Vakuumapparatur umzugehen und einfache Experimente im Vakuum durchzuführen.\n",
    "\n",
    "## Lernziele\n",
    "\n",
    "Wir listen im Folgenden die wichtigsten **Lernziele** auf, die wir Ihnen mit dem Versuch **Vakuum** vermitteln möchten: \n",
    "\n",
    "- Sie lernen den Umgang mit zwei wichtigen Pumpentypen zur Erzeugung von Fein- ($10^{0}-10^{-3}\\,\\mathrm{mbar}$) und Hochvakua ($10^{-3}-10^{-7}\\,\\mathrm{mbar}$).\n",
    "- Sie erzeugen Hochvakua und führen verschiedene Versuche darin durch.\n",
    "- Sie untersuchen Gasentladungen und die Durchschlagfestigkeit zweier Kondensatorkugeln bei variierendem Luftdruck und vergegenwärtigen sich den jeweiligen Zusammenhang mit der mittleren freien Weglänge beschleunigter Ladungen.\n",
    "- Sie überprüfen den Leitwert eines Metallrohrs und die Saugleistung der verwendeten Pumpen. \n",
    "- Als technische Anwendung dampfen Sie bei variierendem Druck Indium auf eine Plexiglasplatte auf."
   ]
  },
  {
   "cell_type": "markdown",
   "id": "316e76ac-54e8-4f31-88d9-ab3dec79f0ed",
   "metadata": {},
   "source": [
    "## Versuchsaufbau\n",
    "\n",
    "Die wichtigsten Elemente des Versuchsaufbaus sind: \n",
    "\n",
    "- Eine [Drehschieberpumpe](https://de.wikipedia.org/wiki/Drehschieberpumpe) (DSP, in der Skizze DP, nominelles Saugvermögen $2,5\\,\\mathrm{m^{3}/h}$). \n",
    "\n",
    "- Eine [Turbomolekularpumpe](https://de.wikipedia.org/wiki/Turbomolekularpumpe) (TMP, in der Skizze TP, nominelles Saugvermögen $\\geq30\\,\\mathrm{l/s}$, $7200\\,\\mathrm{min}^{-1}$, ca. $2\\,\\mathrm{min}$ Hochlaufzeit).\n",
    "\n",
    "- Drei [Wärmeleitungs-Vakuummeter](https://de.wikipedia.org/wiki/Pirani-Vakuummeter) (T1–T3, Messbereich: $(5\\times10^{-4}-10^{3})\\,\\mathrm{mbar}$). \n",
    "\n",
    "- Ein [Ionisations-Vakuummeter](https://de.wikipedia.org/wiki/Ionisations-Vakuummeter) (IM, Messbereich: $(10^{-9}-10^{-2})\\,\\mathrm{mbar}$). \n",
    "\n",
    "- Metallwellschläuche mit den folgenden Abmessungen: \n",
    "\n",
    "  - $l=510\\,\\mathrm{mm}$ , $d=28\\,\\mathrm{mm}$ (Apparatur 41), \n",
    "  - $l=440\\,\\mathrm{mm}$, $d=21\\,\\mathrm{mm}$ (Apparatur 42), \n",
    "  - $l=530\\,\\mathrm{mm}$, $d=23\\,\\mathrm{mm}$, (Apparatur 44).\n",
    "\n",
    "- Ein dünnes Metallrohr mit $d=2\\,\\mathrm{mm}$\n",
    "\n",
    "- Eine Glasglocke (mit $220\\,\\mathrm{mm}$ Durchmesser und $250\\,\\mathrm{mm}$ Höhe) auf einem Metallteller mit Gummidichtung bildet den *Rezipienten* (RE) in dem verschiedene Versuche durchgeführt werden können. Darin befinden sich zwei elektrisch aufladbare Kugelelektroden (KE) und ein elektrisch direkt beheizbares Verdampferschiffchen (HZ). Der RZ hat jeweils das Volumen:\n",
    "\n",
    "  - $V_{\\mathrm{RZ}} = 10,1\\,\\mathrm{l}$ (Apparatur 41),\n",
    "  - $V_{\\mathrm{RZ}} = 10,0\\,\\mathrm{l}$ (Apparatur 42),\n",
    "  - $V_{\\mathrm{RZ}} = 9,2\\,\\mathrm{l}$ (Apparatur 44),\n",
    "\n",
    "  Die Volumina der Gesamtapparaturen sind jeweils um $0,5\\,\\mathrm{l}$ größer. \n",
    "\n",
    "- Das Referenzvolumen (RV) beträgt für alle Apparaturen $V_{\\mathrm{RV}}=0,034\\,\\mathrm{l}$.\n",
    "\n",
    "Die KE sind an ein Netzgerät für Spannungen bis zu $10\\,\\mathrm{kV}$ angeschlossen. Die Spannung zwischen den KE bei der Gasentladung kann mit einem Digital-Multimeter abgelesen werden. Beachten Sie, dass dem Digital-Multimeter ein Spannungsteiler von $10\\,\\mathrm{M\\Omega}/1\\,\\mathrm{M\\Omega}$ vorgeschaltet ist, die Anzeige auf dem Gerät ist daher durch 10 zu multiplizieren, um die tatsächliche Spannung zu erhalten.  \n",
    "\n",
    "Das HZ ist mit einer Abschirmung mit Lochblende und einer von außen schwenkbaren Plexiglasplatte versehen. Es wird mit einem Netzgerät für $6\\,\\mathrm{V}$ und $50\\,\\mathrm{A}$ Wechselstrom beheizt. \n",
    "\n",
    "<img src=\"./figures/Vakuum.jpg\" width=\"750\" height=\"750\" style=\"zoom:60%;\" />\n",
    "\n",
    "<img src=\"./figures/VakuumSkizze.png\" width=\"750\" height=\"750\" style=\"zoom:60%;\" />\n",
    "\n",
    "## Wichtige Hinweise\n",
    "\n",
    "- Obwohl in diesem Versuch eine splittergeschützte Glasglocke verwendet wird, kann die evakuierte Glasglocke implodieren. Zum Schutz Ihrer Augen müssen Sie daher beim Arbeiten an der evakuierten\n",
    "  Apparatur eine **Schutzbrille** tragen.\n",
    "- Die hier aufgebaute Apparatur ist sehr empfindlich. Bei fehlerhafter Handhabung können teure Schäden entstehen, weshalb die einzelnen Versuchsteile **nur nach Rücksprache mit dem/der Betreuer:in**\n",
    "  gestartet werden dürfen.\n",
    "- Beim Arbeiten am Rezipienteninneren decken Sie die Pumpenöffnung mit der bereitliegenden Plastikkappe ab, um Verunreinigungen zu vermeiden. Vor dem Verbinden von Bauteilen mit Hilfe von Dichtungsringen sollten Sie die Ringe und Dichtflächen ebenfalls **sorgfältig reinigen**.\n",
    "- Die **Turbomolekularpumpe** darf nur bei einem Vorvakuumdruck von weniger als $0,1\\,\\mathrm{mbar}$ eingeschaltet werden. Die Apparatur darf erst dann belüftet werden, wenn der Rotor nach dem Abschalten völlig zum Stillstand gekommen ist. Dies dauert einige Minuten. Ein Lufteinbruch solange der Rotor sich noch bewegt kann die Pumpe zerstören."
   ]
  },
  {
   "cell_type": "markdown",
   "id": "f6193e61-35b0-4147-ba5b-cc9369e5b192",
   "metadata": {},
   "source": [
    "## Durchführung\n",
    "\n",
    "### Vorbereitung\n",
    "\n",
    "Verschaffen Sie sich einen Überblick über die Apparaturen. Verfolgen Sie die Leitungen und identifizieren Sie die verwendeten Elemente aus der obigen Skizze. Sie sollten den Versuchsaufbau wie folgt vorfinden:  \n",
    "\n",
    "- Alle Apparaturen sind bei Atmosphärendruck belüftet. \n",
    "- Das HZ ist mit Indium bestückt.\n",
    "- Die Glasglocke wurde von alten Aufdampfbelägen gereinigt. \n",
    "\n",
    "Die drei Versuchsaufbauten sind fast gleich; Apparatur 44 ist als einzige mit der Gasentladungsröhre für Aufgabe 1 ausgestattet, dafür fehlt dort die Möglichkeit zur Messung der Überschlagsfestigkeit für Aufgabe 6.\n",
    "\n",
    "### Aufgabe 1: Gasentladung (Demonstrationsversuch)\n",
    "\n",
    "Diesen Versuch kann nur an Apparatur 44 durchgeführt werden. Es handelt such um einen Demonstrationsversuch. Evakuieren Sie den Rezipienten und die Gasentladungsröhre gemeinsam mit Hilfe der DSP (Ventile $\\mathrm{V1}$ und $\\mathrm{V2}$ öffnen). Die TMP bleibt für diesen Versuchsteil außer Betrieb. Das Hochspannungsgerät zur Erzeugung der Gasentladungen sollte zu jedem Zeitpunkt eingeschaltet sein. Senken Sie den Druck kontinuierlich, bis die Gasentladung erlischt. Skizzieren und beschreiben Sie die Gasentladung in Abhängigkeit vom Gasdruck. \n",
    "\n",
    "Schließen Sie nach dieser Aufgabe das Ventil zur Gasentladungsröhre für alle folgenden Aufgaben.\n",
    "\n",
    "---"
   ]
  },
  {
   "cell_type": "markdown",
   "id": "75525f71-a209-4396-ba4d-2d3703d63e34",
   "metadata": {},
   "source": [
    "**Lösung:**\n",
    "\n",
    "*Sie können Ihr Protokoll direkt in dieses Dokument einfügen. Wenn Sie dieses Dokument als Grundlage für ein [Jupyter notebook](https://jupyter.org/) verwenden wollen können Sie die Auswertung, Skripte und ggf. bildliche Darstellungen mit Hilfe von [python](https://www.python.org/) ebenfalls hier einfügen. Löschen Sie hierzu diesen kursiv gestellten Text aus dem Dokument.* \n",
    "\n",
    "---"
   ]
  },
  {
   "cell_type": "markdown",
   "id": "8265f1be-61c4-4334-be19-699e469c3398",
   "metadata": {},
   "source": [
    "### Aufgabe 2: Druckabhängige Saugleistung und Saugvermögen der DSP\n",
    "\n",
    "Evakuieren Sie die Apparatur mit Hilfe der DSP. Nehmen Sie dabei den zeitlichen Verlauf des Drucks $p(t)$ bei T1 auf. Nehmen Sie hierzu fünf Minuten lang alle fünf Sekunden einen Messpunkt auf. Stellen Sie die folgenden funktionalen Zusammenhänge graphisch dar: \n",
    "\n",
    "- Den Logarithmus des Drucks $p$ **bei T1** relativ zum Umgebungsdruck ($p_{0}$), als Funktion der Zeit, $\\ln\\left(p/p_{0}\\right)(t)$;\n",
    "- Die Saugleistung ($q_{m}$) als Funktion des Drucks bei T1.  \n",
    "\n",
    "Nutzen Sie hierzu die Beziehung:\n",
    "\n",
    "$$\n",
    "\\ln\\left(\\frac{p(t)}{p_{0}}\\right) = \\frac{S}{V}\\left(t-t_{0}\\right),\n",
    "$$\n",
    "\n",
    "wobei $t_{0}$ der Zeit zu Beginn der Evakuation und $V$ dem Volumen der Apparatur entsprechen. (In Hinblick auf Aufgabe 3 können Sie die Werte an T2 zusätzlich aufnehmen.) Schätzen Sie aus dem Kurvenverlauf das Saugvermögen $S$ der DSP ab. Diskutieren Sie Ihre Ergebnisse.\n",
    "\n",
    "Schalten Sie nach der Messung die DSP ab.\n",
    "\n",
    "---"
   ]
  },
  {
   "cell_type": "markdown",
   "id": "ecb9a1a1-9759-4d7b-ac99-cc455b91f88c",
   "metadata": {},
   "source": [
    "**Lösung:**\n",
    "\n",
    "*Sie können Ihr Protokoll direkt in dieses Dokument einfügen. Wenn Sie dieses Dokument als Grundlage für ein [Jupyter notebook](https://jupyter.org/) verwenden wollen können Sie die Auswertung, Skripte und ggf. bildliche Darstellungen mit Hilfe von [python](https://www.python.org/) ebenfalls hier einfügen. Löschen Sie hierzu diesen kursiv gestellten Text aus dem Dokument.* \n",
    "\n",
    "---"
   ]
  },
  {
   "cell_type": "markdown",
   "id": "3edf8c1a-8093-424d-b71c-ffed083c79a8",
   "metadata": {},
   "source": [
    "### Aufgabe 3: Strömungsleitwert eines dünnen Metallrohrs\n",
    "\n",
    "Bei der Verbindungsleitung L in der obigen Skizze handelt es sich um einen Metallwellschlauch. Tauschen Sie diesen gegen das bereitliegende etwa gleichlange Metallrohr mit einem Innendurchmesser von $d=2\\,\\mathrm{mm}$ aus. Zeichnen Sie wieder fünf Minuten lang etwa alle fünf Sekunden den zeitlichen Verlauf des Drucks jeweils bei T1 und T2 auf. \n",
    "\n",
    "Stellen Sie die folgenden funktionalen Zusammenhänge graphisch dar: \n",
    "\n",
    "- $\\ln\\left(p/p_{0}\\right)(t)$ **bei T1**, vergleichen Sie Ihr Ergebnis mit dem Ergebnis aus Aufgabe 2;\n",
    "- $\\ln\\left(p/p_{0}\\right)(t)$ **bei T2**.\n",
    "\n",
    "Diskutieren Sie Ihre Ergebnisse.  \n",
    "\n",
    "Bestimmen Sie das effektive Saugvermögen ($S_{\\mathrm{eff}}$) and T2 analog zu Aufgabe 2 und bestimmen Sie den Strömungsleitwert $L$ des Metallrohrs aus der Gleichung: \n",
    "\n",
    "$$\n",
    "\\frac{1}{S_{\\mathrm{eff}}} = \\frac{1}{S} + \\frac{1}{L}\n",
    "$$\n",
    "\n",
    "Beachten Sie dabei, dass sich das Volumen der Apparatur durch den Austausch des Metallwellschlauchs durch das Metallrohr geändert hat und korrigieren Sie $S$ entsprechend. Diskutieren Sie Ihre Ergebnisse und vergleichen Sie den von Ihnen abgeschätzten Wert für $L$ mit der Erwartung nach der [Knudsen-Gleichung](https://en.wikipedia.org/wiki/Knudsen_equation). \n",
    "\n",
    "Schalten Sie nach der Messung die DSP ab, belüften Sie den RZ und tauschen Sie das Metallrohr wieder gegen den Metallwellschlauch aus.\n",
    "\n",
    "---"
   ]
  },
  {
   "cell_type": "markdown",
   "id": "6a8ffea2-c7ee-462d-ba57-737bc48e6bb1",
   "metadata": {},
   "source": [
    "**Lösung:**\n",
    "\n",
    "*Sie können Ihr Protokoll direkt in dieses Dokument einfügen. Wenn Sie dieses Dokument als Grundlage für ein [Jupyter notebook](https://jupyter.org/) verwenden wollen können Sie die Auswertung, Skripte und ggf. bildliche Darstellungen mit Hilfe von [python](https://www.python.org/) ebenfalls hier einfügen. Löschen Sie hierzu diesen kursiv gestellten Text aus dem Dokument.* \n",
    "\n",
    "---"
   ]
  },
  {
   "cell_type": "markdown",
   "id": "0ba91206-e004-4c1a-b373-2e67f979a67c",
   "metadata": {},
   "source": [
    "### Aufgabe 4: Saugvermögen der TMP\n",
    "\n",
    "Bestimmen Sie analog zu Aufgabe 2 das Saugvermögen der TMP als Funktion des Drucks bei T3 und/oder IM. Beachten Sie hierzu die folgenden Hinweise: \n",
    "\n",
    "- Da die TMP bis zur vollen Saugleistung eine Anlaufzeit von ca. $2\\,\\mathrm{min}$ benötigt, sollten Sie sie nicht erst bei sehr niedrigem Druck einschalten. Die Apparatur sollte vor Beginn dieses Versuchsteils mindestens bis zu einem Druck von $\\approx0,2\\,\\mathrm{mbar}$ teilbelüftet sein. Evakuieren Sie die Apparatur dann mit der DSP und schalten Sie bei einem Druck von $\\approx0.08\\,\\mathrm{mbar}$ die TMP zu. \n",
    "- Halten Sie beim Vorgang der Evakuierung das Venstil V3 geöffnet, damit Sie höhere Drücke bei T3 ablesen können. \n",
    "- Lesen Sie bei geeignet niedrigen Drücken den Druck bei IM ab. \n",
    "\n",
    "Beachten Sie die Hinweise des Betreuers bzgl. der TMP und diskutieren Sie die physikalischen Hintergründe. Schätzen Sie ab, mit welcher Kraft die Glasglocke auf die Gummidichtung gedrückt wird. \n",
    "\n",
    "Lassen Sie die TMP für den nächsten Versuchsteil eingeschaltet.\n",
    "\n",
    "---"
   ]
  },
  {
   "cell_type": "markdown",
   "id": "00dec513-7827-45e8-bbae-d639d9ab53dc",
   "metadata": {},
   "source": [
    "**Lösung:**\n",
    "\n",
    "*Sie können Ihr Protokoll direkt in dieses Dokument einfügen. Wenn Sie dieses Dokument als Grundlage für ein [Jupyter notebook](https://jupyter.org/) verwenden wollen können Sie die Auswertung, Skripte und ggf. bildliche Darstellungen mit Hilfe von [python](https://www.python.org/) ebenfalls hier einfügen. Löschen Sie hierzu diesen kursiv gestellten Text aus dem Dokument.* \n",
    "\n",
    "---"
   ]
  },
  {
   "cell_type": "markdown",
   "id": "c7b52bb9-ae42-4298-b14a-141cea21fffb",
   "metadata": {},
   "source": [
    "### Aufgabe 5: Statisches Kalibrierungsverfahren\n",
    "\n",
    "Bei diesem Versuchsteil führen Sie, unter Anwendung des Gesetzes von [Boyle-Mariotte](https://en.wikipedia.org/wiki/Boyle%27s_law), ein einstufiges, statisches Kalibrierungsverfahren durch, wie man es z.B. zur Kalibration von Druckmessgeräten verwenden könnte. Gehen Sie hierzu iterativ wie folgt vor:\n",
    "\n",
    "In der Ausgangssituation sollte V3 geschlossen, B2 geöffnet und der RZ mit Hilfe der DSP und der TMP evakuiert sein. Schließen Sie V2 bei einem Druck von $p<10^{-4}\\,\\mathrm{mbar}$ und trennen Sie damit den RZ vom Rest der Apparatur ab. Sie können die beiden Pumpen daraufhin abschalten. \n",
    "\n",
    "1. Schließen Sie B2. Öffnen Sie daraufhin V3 und lesen Sie den sich einstellenden Druck bei T3 ab. \n",
    "2. Schließen Sie V3 und öffnen Sie daraufhin B2, damit sich im kleineren Referenzvolumen (RV in der Skizze) erneut Atmosphärendruck einstellt.\n",
    "\n",
    "Wiederholen Sie diesen Vorgang beginnend mit \"1.\" solange bis sich im RZ ein Druck von $p\\approx80\\,\\mathrm{mbar}$ einstellt. Warten Sie jeweils den Druckausgleich im Gleichgewichtszustand ab. Stellen Sie den Druckverlauf als Funktion der durchgeführten Iterationen dar und bestimmen Sie das Expansionsverhältnis dieses Expansionssystems. Es sollte sich ein perfekter linearer Zusammenhang ergeben. Überlegen Sie sich die Gründe für eventuelle Abweichungen.\n",
    "\n",
    "---"
   ]
  },
  {
   "cell_type": "markdown",
   "id": "cdc1e361-8573-4d4a-a882-96bf2a597248",
   "metadata": {},
   "source": [
    "**Lösung:**\n",
    "\n",
    "*Sie können Ihr Protokoll direkt in dieses Dokument einfügen. Wenn Sie dieses Dokument als Grundlage für ein [Jupyter notebook](https://jupyter.org/) verwenden wollen können Sie die Auswertung, Skripte und ggf. bildliche Darstellungen mit Hilfe von [python](https://www.python.org/) ebenfalls hier einfügen. Löschen Sie hierzu diesen kursiv gestellten Text aus dem Dokument.* \n",
    "\n",
    "---"
   ]
  },
  {
   "cell_type": "markdown",
   "id": "79a35b76-2580-482e-b90b-a53977b5e53f",
   "metadata": {},
   "source": [
    "### Aufgabe 6: Elektrische Durchschlagfestigkeit\n",
    "\n",
    "Bei dieser Aufgabe bestimmen Sie die elektrische Durchschlagfestigkeit der KE als Funktion des Umgebungsdrucks in Luft. Diese Aufgabe kann nur an den Apparaturen 41 und 42 durchgeführt werden. Schalten Sie hierzu zunächst die TMP aus und evakuieren Sie den RZ nur mit Hilfe der DSP. Schließen Sie nach erreichen des gewünschten Drucks jeweils V1, so dass der Druck im RZ während der sich anschließenden Messung konstant bleibt.\n",
    "\n",
    "Beginnen Sie mit der belüfteten Apparatur bei Atmosphärendruck und erhöhen Sie die Spannung zwischen den KE bis zur Entladung. Evakuieren Sie daraufhin den RZ bis auf halben Atmosphärendruck. Erhöhen Sie die Spannung bis zur Entladung. Wiederholen Sie diese Vorgehensweise bis Sie einen Druck von $p\\approx0,05\\,\\mathrm{mbar}$ erreicht haben. \n",
    "\n",
    "In diesem Druckbereich wird es zunehmend schwieriger den Druck im RZ konstant zu halten. Um leichter und schneller an weitere Messwerte zu gelangen, evakuieren Sie nun zusätzlich und ohne Unterbrechung mit der TMP bis zu einem Druck von $p\\approx 2\\times 10^{-4}\\,\\mathrm{mbar}$. Schalten Sie die TMP aus und schließen Sie V2. Der Druck im RZ wird nun von allein steigen. Nehmen Sie sobald wie möglich (für $U \\leq9\\,\\mathrm{kV}$) weitere Messwerte auf. Die Messreihe endet, wenn ein Druck von $p\\approx0,05\\,\\mathrm{mbar}$ erreicht ist.\n",
    "\n",
    "Diskutieren Sie warum sich der Druck ab einem bestimmten Druckbereich nicht mehr genau einstellen lässt und warum er bei sehr kleinen Werten kontinuierlich steigt. Beschreiben, skizzieren und diskutieren Sie das Ergebnis der Messung und die Art der Gasentladung die Sie in den unterschiedlichen Druckbereichen beobachten.\n",
    "\n",
    "---"
   ]
  },
  {
   "cell_type": "markdown",
   "id": "0276ccbb-9231-498a-b7de-32cc6ce06e99",
   "metadata": {},
   "source": [
    "**Lösung:**\n",
    "\n",
    "*Sie können Ihr Protokoll direkt in dieses Dokument einfügen. Wenn Sie dieses Dokument als Grundlage für ein [Jupyter notebook](https://jupyter.org/) verwenden wollen können Sie die Auswertung, Skripte und ggf. bildliche Darstellungen mit Hilfe von [python](https://www.python.org/) ebenfalls hier einfügen. Löschen Sie hierzu diesen kursiv gestellten Text aus dem Dokument.* \n",
    "\n",
    "---"
   ]
  },
  {
   "cell_type": "markdown",
   "id": "21028425-06e0-4e28-994a-187646cc8ee1",
   "metadata": {},
   "source": [
    "### Aufgabe 7: Aufdampfen von Indium\n",
    "\n",
    "Bei dieser Aufgabe dampfen Sie bei verschiedenen Drücken jeweils eine Indium-Schicht durch eine Kreisblende auf eine schwenkbare Plexiglasplatte auf. Es soll jeweils ein Fleck bei einem Druck von \n",
    "\n",
    "- $p\\lesssim8\\times 10^{-5}\\,\\mathrm{mbar}$ und \n",
    "- $p\\lesssim10^{-3}\\,\\mathrm{mbar}$ aufgedampft werden. \n",
    "\n",
    "Beobachten den benötigten Heizstrom und diskutieren Sie die Randschärfe der aufgedampften Flecken. Gehen Sie wie dabei wie folgt vor: \n",
    "\n",
    "- Evakuieren Sie den RZ mit der TMP; \n",
    "- schließen Sie V2; \n",
    "- dampfen Sie den ersten Fleck bei minimal erreichbarem Druck ($p\\lesssim8\\times 10^{-5}\\,\\mathrm{mbar}$) auf; \n",
    "- dampfen Sie den zweiten Fleck bei $p\\approx10^{-3}\\,\\mathrm{mbar}$ auf; \n",
    "\n",
    "**Achtung:** Die verfügbare Heizleistung reicht aus, um das HZ vollständig zu zerstören! Der Heizstrom darf daher erst langsam(!) hochgeregelt werden, sobald das gewünschte Vakuum für den ersten Fleck erreicht ist. Beobachten Sie das HZ beim Hochregeln des Heizstroms. Es soll zwar glühen, aber nicht schmelzen.\n",
    "\n",
    "---"
   ]
  },
  {
   "cell_type": "markdown",
   "id": "b91547cb-07ca-4c10-903b-fa357daafcf7",
   "metadata": {},
   "source": [
    "**Lösung:**\n",
    "\n",
    "*Sie können Ihr Protokoll direkt in dieses Dokument einfügen. Wenn Sie dieses Dokument als Grundlage für ein [Jupyter notebook](https://jupyter.org/) verwenden wollen können Sie die Auswertung, Skripte und ggf. bildliche Darstellungen mit Hilfe von [python](https://www.python.org/) ebenfalls hier einfügen. Löschen Sie hierzu diesen kursiv gestellten Text aus dem Dokument.* \n",
    "\n",
    "---"
   ]
  },
  {
   "cell_type": "markdown",
   "id": "37de7ca3-8a11-4358-9fb2-41feab4e9ee6",
   "metadata": {},
   "source": [
    "### Wiederherstellung der Apparatur \n",
    "\n",
    "Stellen Sie nun die Apparatur für Ihre Nachfolger:innen wieder her: \n",
    "\n",
    "- Belüften Sie die Apparatur; \n",
    "- reinigen Sie die Plexiglasplatte und die Glasglocke von eventuellen Aufdampfbelägen; \n",
    "- bestücken Sie das HZ mit etwas Indium (lassen Sie die Menge vom Betreuer überprüfen); und \n",
    "- setzen Sie die Glocke wieder auf den Dichtungsring."
   ]
  }
 ],
 "metadata": {
  "kernelspec": {
   "display_name": "Python 3 (ipykernel)",
   "language": "python",
   "name": "python3"
  },
  "language_info": {
   "codemirror_mode": {
    "name": "ipython",
    "version": 3
   },
   "file_extension": ".py",
   "mimetype": "text/x-python",
   "name": "python",
   "nbconvert_exporter": "python",
   "pygments_lexer": "ipython3",
   "version": "3.10.6"
  }
 },
 "nbformat": 4,
 "nbformat_minor": 5
}
