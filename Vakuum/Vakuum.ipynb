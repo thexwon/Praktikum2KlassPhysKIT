{
 "cells": [
  {
   "cell_type": "markdown",
   "id": "05e1625f-ff42-4654-92a6-383a4c558761",
   "metadata": {},
   "source": [
    "<img src=\"./figures/Logo_KIT.svg\"  width=\"250\" height=\"250\" style=\"zoom:15%;float:right;\" />\n",
    "\n",
    "# Fakultät für Physik \n",
    "\n",
    "## Physikalisches Praktikum P2 für Studierende der Physik\n",
    "\n",
    "\n",
    "\n",
    "Versuch P2-41, 42, 44 (Stand: April 2023)\n",
    "\n",
    "[Raum F1-19](http://www-ekp.physik.uni-karlsruhe.de/~simonis/praktikum/layoutobjekte/Lageplan_P1.png)"
   ]
  },
  {
   "cell_type": "markdown",
   "id": "8012ed69-64c9-4225-9edf-923a2d6c9640",
   "metadata": {},
   "source": [
    "<br>\n",
    "Name: ________Schwarz __________ Vorname: ________Felix__________\n",
    "<br>\n",
    "<br>\n",
    "Name: ________Steib__________ Vorname: _______Lukas___________\n",
    "<br>\n",
    "<br>\n",
    "<br>\n",
    "Gruppennummer: __Mo-21___\n",
    "<br>\n",
    "<br>\n",
    "<br>\n",
    "Betreuer: _____Elias Aufrecht_____________\n",
    "<br>\n",
    "<br>\n",
    "<br>\n",
    "Versuch durchgeführt am: ______24.04.2023____________"
   ]
  },
  {
   "cell_type": "markdown",
   "id": "a9644699-e845-4a6b-82e3-3cfb301c2b7d",
   "metadata": {},
   "source": [
    "---\n",
    "\n",
    "**Beanstandungen:**\n",
    "\n",
    "<br>\n",
    "<br>\n",
    "<br>\n",
    "<br>\n",
    "<br>\n",
    "<br>\n",
    "<br>\n",
    "<br>\n",
    "<br>\n",
    "<br>\n",
    "Testiert am: __________________ Vermerk: __________________"
   ]
  },
  {
   "cell_type": "markdown",
   "id": "8fee9571-b5f7-46e9-9313-21405a1c8dd8",
   "metadata": {},
   "source": [
    "# Vakuum\n",
    "\n",
    "## Motivation\n",
    "\n",
    "Die Abwesenheit von Materie im Raum bezeichnen wir als [Vakuum](https://de.wikipedia.org/wiki/Vakuum). Die Vorstellung von Raum ohne Materie wurde sowohl von Platon, als auch von Aristoteles, der eine \"Abneigung der Natur gegen das Leere\" postulierte, die später als *horror vacui* bekannt wurde, abgelehnt. Auch Descarte, der Namensgeber unseres kartesischen Koordinatensystems, war davon überzeugt, dass es keinen materiefreien Raum geben könne. Die Überzeugungen dieser Autoritäten der frühen Wissenschaft wurden nur mühsam durch Experimente im Laufe der Renaissance widerlegt. Sie wirkten noch bis in die Neuzeit und sorgten für Aufsehen über die Ausgänge des Michelson-Morley oder des Rutherford-Experiments.\n",
    "\n",
    "Das erste von Menschen geschaffene Vakuum ist 1644 von [Evangelista Torricelli](https://de.wikipedia.org/wiki/Evangelista_Torricelli) überliefert. Populär wurden die 1657 publikumswirksam von [Otto von Guericke](https://de.wikipedia.org/wiki/Otto_von_Guericke) in Szene gesetzten Experimente mit den evakuierten [Magdeburger Halbkugeln](https://de.wikipedia.org/wiki/Magdeburger_Halbkugeln). Noch bis zum Scheitern des Michelson-Morley Experiments war man von der Existenz eines allumfassenden Äthers überzeugt, in dem sich das Licht ausbreiten sollte. Der Ausgang des Rutherford-Experiments deutete darauf hin, dass sich zwischen dem Atomkern, auf den sich die gesamte Masse des Atoms konzentriert und seiner Hülle im wesentlichen nichts befand. Heute würden wir selbst einen von aller Materie befreiten Raum nicht als \"leer\" bezeichnen, weil er sowohl elektromagnetische Strahlung, Gravitationswellen, als auch allgemeine Quantenfluktuation beinhalten kann, die z.B. durch den [Casimir-Effekt](https://de.wikipedia.org/wiki/Casimir-Effekt) messbar sind. Im bekannten Universum gibt es kein vollständiges Vakuum. \n",
    "\n",
    "Heutzutage ist das Vakuum vor allem von technischer Bedeutung. Es schafft wichtige Voraussetzungen in Industrie und Technik, zur Konservierung von Lebensmitteln und in der Forschung. Man unterscheidet zwischen Grob-, Fein-, Hoch- und Ultrahochvakuum. Im interplanetaren Raum herrscht ein Vakuum mit Drücken von $<10^{-18}\\,\\mathrm{mbar}$ vor. In der [Strahlröhre des LHC](https://home.cern/science/engineering/vacuum-empty-interstellar-space) am CERN in Genf oder im Vakuumtank des [KATRIN Experiments](https://de.wikipedia.org/wiki/KATRIN) herrschen Vakua mit Drücken von $<10^{-10}\\,\\mathrm{mbar}$ vor.\n",
    "\n",
    "Dieser Versuch bietet Ihnen Einblicke in die Prinzipien der Vakuumerzeugung und -vermessung. Sie lernen mit einer Vakuumapparatur umzugehen und einfache Experimente im Vakuum durchzuführen.\n",
    "\n",
    "## Lernziele\n",
    "\n",
    "Wir listen im Folgenden die wichtigsten **Lernziele** auf, die wir Ihnen mit dem Versuch **Vakuum** vermitteln möchten: \n",
    "\n",
    "- Sie lernen den Umgang mit zwei wichtigen Pumpentypen zur Erzeugung von Fein- ($10^{0}-10^{-3}\\,\\mathrm{mbar}$) und Hochvakua ($10^{-3}-10^{-7}\\,\\mathrm{mbar}$).\n",
    "- Sie erzeugen Hochvakua und führen verschiedene Versuche darin durch.\n",
    "- Sie untersuchen Gasentladungen und die Durchschlagfestigkeit zweier Kondensatorkugeln bei variierendem Luftdruck und vergegenwärtigen sich den jeweiligen Zusammenhang mit der mittleren freien Weglänge beschleunigter Ladungen.\n",
    "- Sie überprüfen den Leitwert eines Metallrohrs und die Saugleistung der verwendeten Pumpen. \n",
    "- Als technische Anwendung dampfen Sie bei variierendem Druck Indium auf eine Plexiglasplatte auf."
   ]
  },
  {
   "cell_type": "markdown",
   "id": "316e76ac-54e8-4f31-88d9-ab3dec79f0ed",
   "metadata": {},
   "source": [
    "## Versuchsaufbau\n",
    "\n",
    "Die wichtigsten Elemente des Versuchsaufbaus sind: \n",
    "\n",
    "- Eine [Drehschieberpumpe](https://de.wikipedia.org/wiki/Drehschieberpumpe) (DSP, in der Skizze DP, nominelles Saugvermögen $2,5\\,\\mathrm{m^{3}/h}$). \n",
    "\n",
    "- Eine [Turbomolekularpumpe](https://de.wikipedia.org/wiki/Turbomolekularpumpe) (TMP, in der Skizze TP, nominelles Saugvermögen $\\geq30\\,\\mathrm{l/s}$, $7200\\,\\mathrm{min}^{-1}$, ca. $2\\,\\mathrm{min}$ Hochlaufzeit).\n",
    "\n",
    "- Drei [Wärmeleitungs-Vakuummeter](https://de.wikipedia.org/wiki/Pirani-Vakuummeter) (T1–T3, Messbereich: $(5\\times10^{-4}-10^{3})\\,\\mathrm{mbar}$). \n",
    "\n",
    "- Ein [Ionisations-Vakuummeter](https://de.wikipedia.org/wiki/Ionisations-Vakuummeter) (IM, Messbereich: $(10^{-9}-10^{-2})\\,\\mathrm{mbar}$). \n",
    "\n",
    "- Metallwellschläuche mit den folgenden Abmessungen: \n",
    "\n",
    "  - $l=510\\,\\mathrm{mm}$ , $d=28\\,\\mathrm{mm}$ (Apparatur 41), \n",
    "  - $l=440\\,\\mathrm{mm}$, $d=21\\,\\mathrm{mm}$ (Apparatur 42), \n",
    "  - $l=530\\,\\mathrm{mm}$, $d=23\\,\\mathrm{mm}$, (Apparatur 44).\n",
    "\n",
    "- Ein dünnes Metallrohr mit $d=2\\,\\mathrm{mm}$\n",
    "\n",
    "- Eine Glasglocke (mit $220\\,\\mathrm{mm}$ Durchmesser und $250\\,\\mathrm{mm}$ Höhe) auf einem Metallteller mit Gummidichtung bildet den *Rezipienten* (RE) in dem verschiedene Versuche durchgeführt werden können. Darin befinden sich zwei elektrisch aufladbare Kugelelektroden (KE) und ein elektrisch direkt beheizbares Verdampferschiffchen (HZ). Der RZ hat jeweils das Volumen:\n",
    "\n",
    "  - $V_{\\mathrm{RZ}} = 10,1\\,\\mathrm{l}$ (Apparatur 41),\n",
    "  - $V_{\\mathrm{RZ}} = 10,0\\,\\mathrm{l}$ (Apparatur 42),\n",
    "  - $V_{\\mathrm{RZ}} = 9,2\\,\\mathrm{l}$ (Apparatur 44),\n",
    "\n",
    "  Die Volumina der Gesamtapparaturen sind jeweils um $0,5\\,\\mathrm{l}$ größer. \n",
    "\n",
    "- Das Referenzvolumen (RV) beträgt für alle Apparaturen $V_{\\mathrm{RV}}=0,034\\,\\mathrm{l}$.\n",
    "\n",
    "Die KE sind an ein Netzgerät für Spannungen bis zu $10\\,\\mathrm{kV}$ angeschlossen. Die Spannung zwischen den KE bei der Gasentladung kann mit einem Digital-Multimeter abgelesen werden. Beachten Sie, dass dem Digital-Multimeter ein Spannungsteiler von $10\\,\\mathrm{M\\Omega}/1\\,\\mathrm{M\\Omega}$ vorgeschaltet ist, die Anzeige auf dem Gerät ist daher durch 10 zu multiplizieren, um die tatsächliche Spannung zu erhalten.  \n",
    "\n",
    "Das HZ ist mit einer Abschirmung mit Lochblende und einer von außen schwenkbaren Plexiglasplatte versehen. Es wird mit einem Netzgerät für $6\\,\\mathrm{V}$ und $50\\,\\mathrm{A}$ Wechselstrom beheizt. \n",
    "\n",
    "<img src=\"./figures/Vakuum.jpg\" width=\"750\" height=\"750\" style=\"zoom:60%;\" />\n",
    "\n",
    "<img src=\"./figures/VakuumSkizze.png\" width=\"750\" height=\"750\" style=\"zoom:60%;\" />\n",
    "\n",
    "## Wichtige Hinweise\n",
    "\n",
    "- Obwohl in diesem Versuch eine splittergeschützte Glasglocke verwendet wird, kann die evakuierte Glasglocke implodieren. Zum Schutz Ihrer Augen müssen Sie daher beim Arbeiten an der evakuierten\n",
    "  Apparatur eine **Schutzbrille** tragen.\n",
    "- Die hier aufgebaute Apparatur ist sehr empfindlich. Bei fehlerhafter Handhabung können teure Schäden entstehen, weshalb die einzelnen Versuchsteile **nur nach Rücksprache mit dem/der Betreuer:in**\n",
    "  gestartet werden dürfen.\n",
    "- Beim Arbeiten am Rezipienteninneren decken Sie die Pumpenöffnung mit der bereitliegenden Plastikkappe ab, um Verunreinigungen zu vermeiden. Vor dem Verbinden von Bauteilen mit Hilfe von Dichtungsringen sollten Sie die Ringe und Dichtflächen ebenfalls **sorgfältig reinigen**.\n",
    "- Die **Turbomolekularpumpe** darf nur bei einem Vorvakuumdruck von weniger als $0,1\\,\\mathrm{mbar}$ eingeschaltet werden. Die Apparatur darf erst dann belüftet werden, wenn der Rotor nach dem Abschalten völlig zum Stillstand gekommen ist. Dies dauert einige Minuten. Ein Lufteinbruch solange der Rotor sich noch bewegt kann die Pumpe zerstören."
   ]
  },
  {
   "cell_type": "markdown",
   "id": "f6193e61-35b0-4147-ba5b-cc9369e5b192",
   "metadata": {},
   "source": [
    "## Durchführung\n",
    "\n",
    "### Vorbereitung\n",
    "\n",
    "Verschaffen Sie sich einen Überblick über die Apparaturen. Verfolgen Sie die Leitungen und identifizieren Sie die verwendeten Elemente aus der obigen Skizze. Sie sollten den Versuchsaufbau wie folgt vorfinden:  \n",
    "\n",
    "- Alle Apparaturen sind bei Atmosphärendruck belüftet. \n",
    "- Das HZ ist mit Indium bestückt.\n",
    "- Die Glasglocke wurde von alten Aufdampfbelägen gereinigt. \n",
    "\n",
    "Die drei Versuchsaufbauten sind fast gleich; Apparatur 44 ist als einzige mit der Gasentladungsröhre für Aufgabe 1 ausgestattet, dafür fehlt dort die Möglichkeit zur Messung der Überschlagsfestigkeit für Aufgabe 6.\n",
    "\n",
    "### Aufgabe 1: Gasentladung (Demonstrationsversuch)\n",
    "\n",
    "Diesen Versuch kann nur an Apparatur 44 durchgeführt werden. Es handelt such um einen Demonstrationsversuch. Evakuieren Sie den Rezipienten und die Gasentladungsröhre gemeinsam mit Hilfe der DSP (Ventile $\\mathrm{V1}$ und $\\mathrm{V2}$ öffnen). Die TMP bleibt für diesen Versuchsteil außer Betrieb. Das Hochspannungsgerät zur Erzeugung der Gasentladungen sollte zu jedem Zeitpunkt eingeschaltet sein. Senken Sie den Druck kontinuierlich, bis die Gasentladung erlischt. Skizzieren und beschreiben Sie die Gasentladung in Abhängigkeit vom Gasdruck. \n",
    "\n",
    "Schließen Sie nach dieser Aufgabe das Ventil zur Gasentladungsröhre für alle folgenden Aufgaben.\n",
    "\n",
    "---"
   ]
  },
  {
   "cell_type": "markdown",
   "id": "75525f71-a209-4396-ba4d-2d3703d63e34",
   "metadata": {},
   "source": [
    "**Lösung:**\n",
    "\n",
    "*Sie können Ihr Protokoll direkt in dieses Dokument einfügen. Wenn Sie dieses Dokument als Grundlage für ein [Jupyter notebook](https://jupyter.org/) verwenden wollen können Sie die Auswertung, Skripte und ggf. bildliche Darstellungen mit Hilfe von [python](https://www.python.org/) ebenfalls hier einfügen. Löschen Sie hierzu diesen kursiv gestellten Text aus dem Dokument.* \n",
    "\n",
    "---"
   ]
  },
  {
   "cell_type": "markdown",
   "id": "8265f1be-61c4-4334-be19-699e469c3398",
   "metadata": {},
   "source": [
    "### Aufgabe 2: Druckabhängige Saugleistung und Saugvermögen der DSP\n",
    "\n",
    "Evakuieren Sie die Apparatur mit Hilfe der DSP. Nehmen Sie dabei den zeitlichen Verlauf des Drucks $p(t)$ bei T1 auf. Nehmen Sie hierzu fünf Minuten lang alle fünf Sekunden einen Messpunkt auf. Stellen Sie die folgenden funktionalen Zusammenhänge graphisch dar: \n",
    "\n",
    "- Den Logarithmus des Drucks $p$ **bei T1** relativ zum Umgebungsdruck ($p_{0}$), als Funktion der Zeit, $\\ln\\left(p/p_{0}\\right)(t)$;\n",
    "- Die Saugleistung ($q_{m}$) als Funktion des Drucks bei T1.  \n",
    "\n",
    "Nutzen Sie hierzu die Beziehung:\n",
    "\n",
    "$$\n",
    "\\ln\\left(\\frac{p(t)}{p_{0}}\\right) = \\frac{S}{V}\\left(t-t_{0}\\right),\n",
    "$$\n",
    "\n",
    "wobei $t_{0}$ der Zeit zu Beginn der Evakuation und $V$ dem Volumen der Apparatur entsprechen. (In Hinblick auf Aufgabe 3 können Sie die Werte an T2 zusätzlich aufnehmen.) Schätzen Sie aus dem Kurvenverlauf das Saugvermögen $S$ der DSP ab. Diskutieren Sie Ihre Ergebnisse.\n",
    "\n",
    "Schalten Sie nach der Messung die DSP ab.\n",
    "\n",
    "---"
   ]
  },
  {
   "cell_type": "markdown",
   "id": "ecb9a1a1-9759-4d7b-ac99-cc455b91f88c",
   "metadata": {},
   "source": [
    "**Lösung:**\n",
    "\n",
    "Um die Saugleistung und das Saugvermögen der DSP zu berechnen wird der Druck 5 Minuten lang bei T1 und T2 gemessen. Dies passiert während das System aus Metallrohr, Drehschieberpumpe und Rezipienten vakuuiert wird. Die Zeitmessung erfolgt alle 5 Sekunden. \n",
    "Als Messapperatur wird P2-42 verwendet. Dabei ist V1 offen, V2 ist offen und V3 ist zu.\n",
    "Die gemessenen Daten für die Drücke bei T1 und T2 sind im folgenden graphisch dargestellt:"
   ]
  },
  {
   "cell_type": "code",
   "execution_count": 1,
   "id": "16ba08ec-bb86-49e9-a864-398cfff45cc6",
   "metadata": {},
   "outputs": [
    {
     "name": "stderr",
     "output_type": "stream",
     "text": [
      "/opt/conda/lib/python3.10/site-packages/kafe2/core/minimizers/__init__.py:34: UserWarning: iminuit is not installed. While not strictly needed its use is heavily recommended for better performance and convergence.\n",
      "  warnings.warn(\n",
      "cling::DynamicLibraryManager::loadLibrary(): libGL.so.1: cannot open shared object file: No such file or directory\n",
      "Error in <AutoloadLibraryMU>: Failed to load library /opt/conda/lib/libEve.so.6.28.00cling JIT session error: Failed to materialize symbols: { (main, { _ZeqRK7TStringRKNSt7__cxx1112basic_stringIcSt11char_traitsIcESaIcEEE }) }\n"
     ]
    },
    {
     "name": "stdout",
     "output_type": "stream",
     "text": [
      "Welcome to JupyROOT 6.28/00\n"
     ]
    }
   ],
   "source": [
    "import numpy as np #Lade Pakete\n",
    "import matplotlib.pyplot as plt\n",
    "from PhyPraKit import readPicoScope, resample\n",
    "from scipy import signal\n",
    "from scipy import interpolate\n",
    "import sys\n",
    "from kafe2 import  XYContainer, Fit, XYFit, Plot, ContoursProfiler                            \n",
    "from uncertainties import ufloat, unumpy\n",
    "from math import log10, floor\n",
    "import scipy.integrate as integrate\n",
    "import pandas as pd\n",
    "import csv"
   ]
  },
  {
   "cell_type": "code",
   "execution_count": 6,
   "id": "8cbfca1c-e66e-4d84-9abb-5a543cc2dff2",
   "metadata": {},
   "outputs": [
    {
     "data": {
      "image/png": "[encoded data removed]",
      "text/plain": [
       "<Figure size 640x480 with 1 Axes>"
      ]
     },
     "metadata": {},
     "output_type": "display_data"
    },
    {
     "name": "stdout",
     "output_type": "stream",
     "text": [
      "[1.00e+00 1.00e+00 1.00e+00 2.62e-01 1.15e-01 6.53e-02 4.14e-02 2.60e-02\n",
      " 1.71e-02 1.14e-02 7.82e-03 5.44e-03 3.66e-03 2.58e-03 1.82e-03 1.38e-03\n",
      " 9.77e-04 7.27e-04 5.42e-04 4.27e-04 3.34e-04 2.70e-04 2.25e-04 1.90e-04\n",
      " 1.64e-04 1.44e-04 1.28e-04 1.17e-04 1.06e-04 9.74e-05 9.10e-05 8.99e-05\n",
      " 8.04e-05 7.63e-05 7.37e-05 7.10e-05 6.88e-05 6.51e-05 6.32e-05 6.14e-05\n",
      " 5.96e-05 5.85e-05 5.66e-05 5.52e-05 5.45e-05 5.35e-05 5.27e-05 5.21e-05\n",
      " 5.11e-05 5.00e-05 4.97e-05 4.86e-05 4.77e-05 4.77e-05 4.70e-05 4.65e-05\n",
      " 4.58e-05 4.54e-05 4.47e-05 4.53e-05] [1.00e+00 1.00e+00 6.40e-01 2.08e-01 1.06e-01 6.21e-02 4.00e-02 2.57e-02\n",
      " 1.70e-02 1.14e-02 7.85e-03 5.52e-03 3.78e-03 2.71e-03 1.94e-03 1.47e-03\n",
      " 1.09e-03 8.33e-04 6.42e-04 5.33e-04 4.29e-04 3.54e-04 3.07e-04 2.64e-04\n",
      " 2.34e-04 2.11e-04 1.93e-04 1.77e-04 1.63e-04 1.52e-04 1.44e-04 1.37e-04\n",
      " 1.30e-04 1.24e-04 1.21e-04 1.16e-04 1.12e-04 1.08e-04 1.05e-04 1.02e-04\n",
      " 1.00e-04 9.77e-05 9.57e-05 9.36e-05 9.18e-05 9.01e-05 8.96e-05 8.80e-05\n",
      " 8.69e-05 8.51e-05 8.45e-05 8.37e-05 8.21e-05 8.18e-05 8.10e-05 7.97e-05\n",
      " 7.90e-05 7.86e-05 7.83e-05 7.79e-05]\n"
     ]
    }
   ],
   "source": [
    "data=pd.read_csv('Messung/Aufgabe2_2.txt',delimiter=';',decimal=\".\",skiprows=1) #importiere Daten\n",
    "data.columns=['t','T1','T2']\n",
    "t = data['t'].to_numpy() \n",
    "T1 = data['T1'].to_numpy()*10**(-3)\n",
    "T2 = data['T2'].to_numpy()*10**(-3)\n",
    "\n",
    "plt.plot(t,T1,label='T1',color='black',marker='x',linestyle='None') #mache Plot\n",
    "plt.plot(t,T2,label='T2',color='red',marker='x',linestyle='None')\n",
    "plt.xlabel('t[s]')\n",
    "plt.ylabel('p[bar]')\n",
    "plt.legend()\n",
    "plt.savefig('figures/plt2.png')\n",
    "plt.show()\n",
    "print(T1,T2)"
   ]
  },
  {
   "cell_type": "markdown",
   "id": "67b1a3fc-33cc-4d9c-b728-7ff28503e953",
   "metadata": {},
   "source": [
    "Um aus den gemessenen Daten die Saugleistung zu erhalten wird die Formel\n",
    "$\\log(\\frac{p_{Ti}}{p_0})=\\frac{S_{i}}{V}\\cdot (t-t_0) $ gebraucht. \n",
    "$S_{i}$ ist die Saugleistung und $V$ ist das zu vakuumierende Volumen.\n",
    "Mit einem linearen Fit lässt sich die Steigung (also $\\frac {S_{i}}{V}$) bestimmen. Der im Fit aufgeführte Parameter a entspricht $\\frac {S_{i}}{V}$."
   ]
  },
  {
   "cell_type": "code",
   "execution_count": 8,
   "id": "105b868b-1423-4469-85cf-8e4e8478a69a",
   "metadata": {},
   "outputs": [
    {
     "name": "stderr",
     "output_type": "stream",
     "text": [
      "/opt/conda/lib/python3.10/site-packages/kafe2/fit/_base/fit.py:1036: UserWarning: No data/model errors were specified. Parameter errors cannot be calculated.\n",
      "  warnings.warn(\n"
     ]
    },
    {
     "data": {
      "image/png": "[encoded data removed]",
      "text/plain": [
       "<Figure size 640x480 with 1 Axes>"
      ]
     },
     "metadata": {},
     "output_type": "display_data"
    }
   ],
   "source": [
    "p0=1000\n",
    "t0 = np.ones(len(t))*10\n",
    "\n",
    "lnp1 = np.log(T1/p0)\n",
    "lnp2 = np.log(T2/p0)\n",
    "tn= t-t0\n",
    "xy_data = XYContainer(lnp1,tn)\n",
    "def linear(x,a):\n",
    "    return a*x \n",
    "line_fit=Fit(data=xy_data,model_function=linear)\n",
    "\n",
    "line_fit.assign_parameter_latex_names(x='t-t0', a='a')\n",
    "line_fit.assign_model_function_latex_name('\\log(\\frac{p_{1}}{p_0})')\n",
    "line_fit.assign_model_function_latex_expression('{a} \\\\cdot {x}')\n",
    "\n",
    "\n",
    "line_fit.data_container.label = \"Verwendete Daten\"\n",
    "line_fit.model_label = \"Modellfunktion\"\n",
    "\n",
    "line_fit.data_container.axis_labels = [\"\\log(\\frac{p_{1}}{p_0})\", \"(t-t_0) in s\"]\n",
    "\n",
    "line_fit.do_fit()\n",
    "plt.plot()\n",
    "plt.show()"
   ]
  },
  {
   "cell_type": "markdown",
   "id": "990de756-e87e-4c7c-8d9f-4cfdcdc7bd66",
   "metadata": {},
   "source": [
    "Um aus der Steigung des linearen Fits die Saugleistung $S_1$ zu berechnen muss der Wert der Steigung mit dem zu vakuumierenden Volumen multipliziert werden. Das Volumen der Apperatur ist laut x l, zuzüglich des Referenzvolumens von 0,5 l ergibt sich ein Gesamtvolumen von x l. Dieser Wert muss noch in $m^3$ umgerechnet werden, xl entsprechen x $m^3$."
   ]
  },
  {
   "cell_type": "code",
   "execution_count": null,
   "id": "56a5d305-679e-4cc0-a23d-34294ce493e0",
   "metadata": {},
   "outputs": [],
   "source": [
    "V=\n",
    "a1=\n",
    "S1=V*a1\n",
    "print(S1)"
   ]
  },
  {
   "cell_type": "markdown",
   "id": "79ce3a9b-da9b-4a7a-884d-0779a22bb8fc",
   "metadata": {
    "tags": []
   },
   "source": [
    "Damit ergibt sich $S_1=x \\frac{l}{s}$. "
   ]
  },
  {
   "cell_type": "markdown",
   "id": "3edf8c1a-8093-424d-b71c-ffed083c79a8",
   "metadata": {},
   "source": [
    "### Aufgabe 3: Strömungsleitwert eines dünnen Metallrohrs\n",
    "\n",
    "Bei der Verbindungsleitung L in der obigen Skizze handelt es sich um einen Metallwellschlauch. Tauschen Sie diesen gegen das bereitliegende etwa gleichlange Metallrohr mit einem Innendurchmesser von $d=2\\,\\mathrm{mm}$ aus. Zeichnen Sie wieder fünf Minuten lang etwa alle fünf Sekunden den zeitlichen Verlauf des Drucks jeweils bei T1 und T2 auf. \n",
    "\n",
    "Stellen Sie die folgenden funktionalen Zusammenhänge graphisch dar: \n",
    "\n",
    "- $\\ln\\left(p/p_{0}\\right)(t)$ **bei T1**, vergleichen Sie Ihr Ergebnis mit dem Ergebnis aus Aufgabe 2;\n",
    "- $\\ln\\left(p/p_{0}\\right)(t)$ **bei T2**.\n",
    "\n",
    "Diskutieren Sie Ihre Ergebnisse.  \n",
    "\n",
    "Bestimmen Sie das effektive Saugvermögen ($S_{\\mathrm{eff}}$) and T2 analog zu Aufgabe 2 und bestimmen Sie den Strömungsleitwert $L$ des Metallrohrs aus der Gleichung: \n",
    "\n",
    "$$\n",
    "\\frac{1}{S_{\\mathrm{eff}}} = \\frac{1}{S} + \\frac{1}{L}\n",
    "$$\n",
    "\n",
    "Beachten Sie dabei, dass sich das Volumen der Apparatur durch den Austausch des Metallwellschlauchs durch das Metallrohr geändert hat und korrigieren Sie $S$ entsprechend. Diskutieren Sie Ihre Ergebnisse und vergleichen Sie den von Ihnen abgeschätzten Wert für $L$ mit der Erwartung nach der [Knudsen-Gleichung](https://en.wikipedia.org/wiki/Knudsen_equation). \n",
    "\n",
    "Schalten Sie nach der Messung die DSP ab, belüften Sie den RZ und tauschen Sie das Metallrohr wieder gegen den Metallwellschlauch aus.\n",
    "\n",
    "---"
   ]
  },
  {
   "cell_type": "markdown",
   "id": "6a8ffea2-c7ee-462d-ba57-737bc48e6bb1",
   "metadata": {},
   "source": [
    "\n",
    "**Lösung:** \\\n",
    "Im folgenden wird der Verlauf von $\\ln{\\frac{p}{p_0}}(t)$ an den Stellen T1 und T2, vor und nach dem eingesetzten Metallrohr, graphisch dargestellt. Anschließend wird $S_{eff}$ an T2 und der Strömungsleitwert des Metallrohrs berechnet. Da sich das Volumen der Apparatur durch das Metallrohr geändert hat, wird $S$ entsprechend geändert.\n",
    "\n",
    "\n",
    "\n",
    "---"
   ]
  },
  {
   "cell_type": "code",
   "execution_count": null,
   "id": "81a35209-1da2-4e55-a9d6-8bfa76e7294d",
   "metadata": {},
   "outputs": [],
   "source": [
    "data=pd.read_csv('Messung/Aufgabe3.txt',delimiter=';',decimal=\".\",skiprows=1) #importiere Daten\n",
    "data.columns=['t','T1','T2']\n",
    "t = data['t'].to_numpy() \n",
    "T1 = data['T1'].to_numpy()*10**(-3)\n",
    "T2 = data['T2'].to_numpy()*10**(-3)\n",
    "\n",
    "p0=2\n",
    "t0=-1\n",
    "lnp1 = np.log(T1/p0)\n",
    "lnp2 = np.log(T2/p0)\n",
    "tn= t-t0\n",
    "\n",
    "\n",
    "plt.plot(tn,lnp1,label='T1',color='black',marker='x',linestyle='None') #mache Plot\n",
    "plt.plot(tn,lnp2,label='T2',color='blue',marker='x',linestyle='None') #mache Plot\n",
    "plt.xlabel('t[s]')\n",
    "plt.ylabel('p[bar]')\n",
    "plt.legend()\n",
    "plt.savefig('figures/plt3.png')\n",
    "plt.show()"
   ]
  },
  {
   "cell_type": "code",
   "execution_count": null,
   "id": "11f44efd-f253-487e-b469-47e66f4e77fc",
   "metadata": {},
   "outputs": [],
   "source": [
    "#S fit aus der 2\n",
    "\n",
    "p0=2\n",
    "t0=-1\n",
    "lnp1 = np.log(T1/p0)\n",
    "lnp2 = np.log(T2/p0)\n",
    "tn= t-t0\n",
    "xy_data = XYContainer(lnp1,tn)\n",
    "def linear(x,a):\n",
    "    return a*x \n",
    "line_fit=Fit(data=xy_data,model_function=linear)\n",
    "\n",
    "line_fit.assign_parameter_latex_names(x='t-t0', a='a')\n",
    "line_fit.assign_model_function_latex_name('\\log(\\frac{p_{1}}{p_0})')\n",
    "line_fit.assign_model_function_latex_expression('{a} \\\\cdot {x}')\n",
    "\n",
    "\n",
    "line_fit.data_container.label = \"Verwendete Daten\"\n",
    "line_fit.model_label = \"Modellfunktion\"\n",
    "\n",
    "line_fit.data_container.axis_labels = [\"\\log(\\frac{p_{1}}{p_0})\", \"(t-t_0) in s\"]\n",
    "line_fit.do_fit()\n",
    "plot.plot()\n",
    "plt.show()\n",
    "\n",
    "S = 12312331 #ändern\n",
    "S_eff = S * T1/T2\n",
    "L = S_eff * T2/(T2-T1)"
   ]
  },
  {
   "cell_type": "markdown",
   "id": "529b1eea-dd57-4709-acc8-e017c93f7a8a",
   "metadata": {
    "tags": []
   },
   "source": [
    "Um einen Vergleichswert $L_V$ der Leitwertzahl zu bekommen, setzen wir in die Knudsenformel, welche uns für einen Durchmesser d in cm und Länge l in cm bei kreisförmigem Querschnitt einen Schätzwert liefert.\n"
   ]
  },
  {
   "cell_type": "code",
   "execution_count": null,
   "id": "3b7fbe2b-4444-4b9d-b743-735074311991",
   "metadata": {
    "tags": []
   },
   "outputs": [],
   "source": [
    "#Schätzformel für unseren Strömungsbereich L_V berechnen"
   ]
  },
  {
   "cell_type": "markdown",
   "id": "0ba91206-e004-4c1a-b373-2e67f979a67c",
   "metadata": {},
   "source": [
    "### Aufgabe 4: Saugvermögen der TMP\n",
    "\n",
    "Bestimmen Sie analog zu Aufgabe 2 das Saugvermögen der TMP als Funktion des Drucks bei T3 und/oder IM. Beachten Sie hierzu die folgenden Hinweise: \n",
    "\n",
    "- Da die TMP bis zur vollen Saugleistung eine Anlaufzeit von ca. $2\\,\\mathrm{min}$ benötigt, sollten Sie sie nicht erst bei sehr niedrigem Druck einschalten. Die Apparatur sollte vor Beginn dieses Versuchsteils mindestens bis zu einem Druck von $\\approx0,2\\,\\mathrm{mbar}$ teilbelüftet sein. Evakuieren Sie die Apparatur dann mit der DSP und schalten Sie bei einem Druck von $\\approx0.08\\,\\mathrm{mbar}$ die TMP zu. \n",
    "- Halten Sie beim Vorgang der Evakuierung das Venstil V3 geöffnet, damit Sie höhere Drücke bei T3 ablesen können. \n",
    "- Lesen Sie bei geeignet niedrigen Drücken den Druck bei IM ab. \n",
    "\n",
    "Beachten Sie die Hinweise des Betreuers bzgl. der TMP und diskutieren Sie die physikalischen Hintergründe. Schätzen Sie ab, mit welcher Kraft die Glasglocke auf die Gummidichtung gedrückt wird. \n",
    "\n",
    "Lassen Sie die TMP für den nächsten Versuchsteil eingeschaltet.\n",
    "\n",
    "---"
   ]
  },
  {
   "cell_type": "markdown",
   "id": "00dec513-7827-45e8-bbae-d639d9ab53dc",
   "metadata": {},
   "source": [
    "**Lösung:**\n",
    "\n",
    "Zur Bestimmung des Saugvermögens wird identisch zu Aufgabe 2 vorgegangen.\n",
    "Um den Leitwert des Metalrohres zu berechnen wird der Druck 5 Minuten lang bei T3 und IM gemessen. \n",
    "Dies passiert während das System vakuuiert wird. Die Zeitmessung erfolgt alle 5 Sekunden. \n",
    "Die gemessenen Daten für die Drücke bei T3 und IM sind im folgenden graphisch dargestellt:"
   ]
  },
  {
   "cell_type": "code",
   "execution_count": null,
   "id": "933c7286-6f4e-41be-b529-a019399abe43",
   "metadata": {},
   "outputs": [],
   "source": [
    "data=pd.read_csv('Messung/Aufgabe4.txt',delimiter=';',decimal=\".\",skiprows=1) #importiere Daten\n",
    "data.columns=['t','T1','IM']\n",
    "t = data['t'].to_numpy() \n",
    "T1 = data['T1'].to_numpy()*10**(-5)\n",
    "IM = data['IM'].to_numpy()*10**(-5)\n",
    "\n",
    "plt.plot(t,T1,label='T3',color='black',marker='x',linestyle='None') #mache Plot\n",
    "plt.plot(t,IM,label='IM',color='blue',marker='x',linestyle='None')\n",
    "plt.xlabel('t[s]')\n",
    "plt.ylabel('p[bar]')\n",
    "plt.legend()\n",
    "plt.savefig('figures/plt4.png')\n",
    "plt.show()"
   ]
  },
  {
   "cell_type": "markdown",
   "id": "bf4329d4-502e-431d-980a-a52b6ff825c3",
   "metadata": {},
   "source": [
    "Um aus den gemessenen Daten das Saugvermögen $S(p)$ zu erhalten wird die Formel\n",
    "$S(p)=-\\frac{V}{t}\\cdot \\log(p)$ gebraucht. \n",
    "Mit einem linearen Fit lässt sich die Steigung (also $\\frac {V}{t}$) bestimmen. Der im Fit aufgeführte Parameter a entspricht $\\frac {V}{t}$."
   ]
  },
  {
   "cell_type": "code",
   "execution_count": null,
   "id": "b1f9dce4-d3a6-4f82-8953-ff9c9ca1953f",
   "metadata": {},
   "outputs": [],
   "source": [
    "xy_data = XYContainer(t,T2)\n",
    "def linear(x,a,b):\n",
    "    return a*x \n",
    "line_fit=Fit(data=xy_data,model_function=linear)\n",
    "line_fit.do_fit()\n",
    "line_fit.assign_parameter_latex_names(x='t', a='a')\n",
    "line_fit.assign_model_function_latex_name('T_1')\n",
    "line_fit.assign_model_function_latex_expression('{a} \\\\cdot {x})\n",
    "line_fit.data_container.label = \"Verwendete Daten\"\n",
    "line_fit.model_label = \"Modellfunktion\"\n",
    "\n",
    "line_fit.data_container.axis_labels = [\"t\", \"log(p)\"]\n",
    "\n",
    "plot.plot()\n",
    "plt.show()"
   ]
  },
  {
   "cell_type": "markdown",
   "id": "5237aee9-2841-40a5-8770-8f782c6f4262",
   "metadata": {},
   "source": [
    "Um aus der Steigung des linearen Fits das mittlere Saugvermögen $S_1$ zu berechnen muss der Wert der Steigung mit dem zu vakuumierenden Volumen multipliziert werden. Das Volumen der Apperatur ist laut x l, zuzüglich des Referenzvolumens von 0,5 l ergibt sich ein Gesamtvolumen von x l. Dieser Wert muss noch in $m^3$ umgerechnet werden, xl entsprechen x $m^3$."
   ]
  },
  {
   "cell_type": "code",
   "execution_count": null,
   "id": "8eceb18f-5534-4a81-81e2-1a4b4bb3e2f5",
   "metadata": {},
   "outputs": [],
   "source": [
    "V=\n",
    "a1=\n",
    "a2=\n",
    "S1=V*a1\n",
    "print(S1)"
   ]
  },
  {
   "cell_type": "markdown",
   "id": "e7785992-3012-405b-95a3-06c8bd716dae",
   "metadata": {},
   "source": [
    "Damit ergibt sich ein mittleres Saugvermögen $S_1=x \\frac{l}{s}$. "
   ]
  },
  {
   "cell_type": "markdown",
   "id": "c7b52bb9-ae42-4298-b14a-141cea21fffb",
   "metadata": {},
   "source": [
    "### Aufgabe 5: Statisches Kalibrierungsverfahren\n",
    "\n",
    "Bei diesem Versuchsteil führen Sie, unter Anwendung des Gesetzes von [Boyle-Mariotte](https://en.wikipedia.org/wiki/Boyle%27s_law), ein einstufiges, statisches Kalibrierungsverfahren durch, wie man es z.B. zur Kalibration von Druckmessgeräten verwenden könnte. Gehen Sie hierzu iterativ wie folgt vor:\n",
    "\n",
    "In der Ausgangssituation sollte V3 geschlossen, B2 geöffnet und der RZ mit Hilfe der DSP und der TMP evakuiert sein. Schließen Sie V2 bei einem Druck von $p<10^{-4}\\,\\mathrm{mbar}$ und trennen Sie damit den RZ vom Rest der Apparatur ab. Sie können die beiden Pumpen daraufhin abschalten. \n",
    "\n",
    "1. Schließen Sie B2. Öffnen Sie daraufhin V3 und lesen Sie den sich einstellenden Druck bei T3 ab. \n",
    "2. Schließen Sie V3 und öffnen Sie daraufhin B2, damit sich im kleineren Referenzvolumen (RV in der Skizze) erneut Atmosphärendruck einstellt.\n",
    "\n",
    "Wiederholen Sie diesen Vorgang beginnend mit \"1.\" solange bis sich im RZ ein Druck von $p\\approx80\\,\\mathrm{mbar}$ einstellt. Warten Sie jeweils den Druckausgleich im Gleichgewichtszustand ab. Stellen Sie den Druckverlauf als Funktion der durchgeführten Iterationen dar und bestimmen Sie das Expansionsverhältnis dieses Expansionssystems. Es sollte sich ein perfekter linearer Zusammenhang ergeben. Überlegen Sie sich die Gründe für eventuelle Abweichungen.\n",
    "\n",
    "---"
   ]
  },
  {
   "cell_type": "markdown",
   "id": "cdc1e361-8573-4d4a-a882-96bf2a597248",
   "metadata": {},
   "source": [
    "**Lösung:** \\\n",
    "Im folgenden wird der gemessene Druckverlauf als Funktion der durchgeführten Iterationen geplottet: "
   ]
  },
  {
   "cell_type": "code",
   "execution_count": null,
   "id": "1bdd21cb-ad2e-4bec-aa8e-72afb633f1f7",
   "metadata": {},
   "outputs": [],
   "source": [
    "data=pd.read_csv('Messung/Aufgabe5.txt',delimiter=';',decimal=\".\",skiprows=1) #importiere Daten\n",
    "data.columns=['n','p']\n",
    "n = data['n'].to_numpy() \n",
    "p = data['p'].to_numpy()*10**(-3)\n",
    "\n",
    "\n",
    "plt.plot(n,p,color='black',marker='x',linestyle='None') #mache Plot\n",
    "plt.xlabel('Anzahl durchgeführter Interationen')\n",
    "plt.ylabel('p[bar]')\n",
    "plt.legend()\n",
    "plt.savefig('figures/plt5.png')\n",
    "plt.show()"
   ]
  },
  {
   "cell_type": "markdown",
   "id": "93e318bc-ce99-402b-90b1-52414d1cf10c",
   "metadata": {},
   "source": [
    "Desweiteren soll das Expansionsverhältnis $\\epsilon$ dieses Expansionssystems bestimmt werden. \n",
    "Dies erhält man aus dem Verhältnis des Gesamtvolumens zum Kompressionsvolumen.\n",
    "$\\epsilon = \\frac{V_{gesamt}}{V_{komp}} = 1,x$"
   ]
  },
  {
   "cell_type": "code",
   "execution_count": null,
   "id": "8a7695d6-f789-40f4-8fc8-148081c6639e",
   "metadata": {},
   "outputs": [],
   "source": [
    "V_hub = \n",
    "V_kompression = \n",
    "epsilon = 1+ V_hub / V_kompression\n",
    "print(epsilon)"
   ]
  },
  {
   "cell_type": "markdown",
   "id": "79a35b76-2580-482e-b90b-a53977b5e53f",
   "metadata": {},
   "source": [
    "### Aufgabe 6: Elektrische Durchschlagfestigkeit\n",
    "\n",
    "Bei dieser Aufgabe bestimmen Sie die elektrische Durchschlagfestigkeit der KE als Funktion des Umgebungsdrucks in Luft. Diese Aufgabe kann nur an den Apparaturen 41 und 42 durchgeführt werden. Schalten Sie hierzu zunächst die TMP aus und evakuieren Sie den RZ nur mit Hilfe der DSP. Schließen Sie nach erreichen des gewünschten Drucks jeweils V1, so dass der Druck im RZ während der sich anschließenden Messung konstant bleibt.\n",
    "\n",
    "Beginnen Sie mit der belüfteten Apparatur bei Atmosphärendruck und erhöhen Sie die Spannung zwischen den KE bis zur Entladung. Evakuieren Sie daraufhin den RZ bis auf halben Atmosphärendruck. Erhöhen Sie die Spannung bis zur Entladung. Wiederholen Sie diese Vorgehensweise bis Sie einen Druck von $p\\approx0,05\\,\\mathrm{mbar}$ erreicht haben. \n",
    "\n",
    "In diesem Druckbereich wird es zunehmend schwieriger den Druck im RZ konstant zu halten. Um leichter und schneller an weitere Messwerte zu gelangen, evakuieren Sie nun zusätzlich und ohne Unterbrechung mit der TMP bis zu einem Druck von $p\\approx 2\\times 10^{-4}\\,\\mathrm{mbar}$. Schalten Sie die TMP aus und schließen Sie V2. Der Druck im RZ wird nun von allein steigen. Nehmen Sie sobald wie möglich (für $U \\leq9\\,\\mathrm{kV}$) weitere Messwerte auf. Die Messreihe endet, wenn ein Druck von $p\\approx0,05\\,\\mathrm{mbar}$ erreicht ist.\n",
    "\n",
    "Diskutieren Sie warum sich der Druck ab einem bestimmten Druckbereich nicht mehr genau einstellen lässt und warum er bei sehr kleinen Werten kontinuierlich steigt. Beschreiben, skizzieren und diskutieren Sie das Ergebnis der Messung und die Art der Gasentladung die Sie in den unterschiedlichen Druckbereichen beobachten.\n",
    "\n",
    "---"
   ]
  },
  {
   "cell_type": "markdown",
   "id": "0276ccbb-9231-498a-b7de-32cc6ce06e99",
   "metadata": {},
   "source": [
    "**Lösung:** \\\n",
    "Im folgenden wird die Entladungsspannung über den Druck geplottet.\n"
   ]
  },
  {
   "cell_type": "code",
   "execution_count": null,
   "id": "e5d66c3e-d78e-4295-b155-b4b8d66f1c1f",
   "metadata": {},
   "outputs": [],
   "source": [
    "data=pd.read_csv('Messung/Aufgabe6.txt',delimiter=';',decimal=\".\",skiprows=1) #importiere Daten\n",
    "data.columns=['p','u']\n",
    "n = data['u'].to_numpy() \n",
    "p = data['p'].to_numpy()*10**(-3)\n",
    "\n",
    "\n",
    "plt.plot(n,p,color='black',marker='x',linestyle='None') #mache Plot\n",
    "plt.xlabel('Druck in Bar')\n",
    "plt.ylabel('Spannung in Volt')\n",
    "plt.legend()\n",
    "plt.savefig('figures/plt6.png')\n",
    "plt.show()"
   ]
  },
  {
   "cell_type": "markdown",
   "id": "67b138ca-6d9a-4fa6-b530-b8085fdb1219",
   "metadata": {},
   "source": [
    "Diskussion: "
   ]
  },
  {
   "cell_type": "markdown",
   "id": "21028425-06e0-4e28-994a-187646cc8ee1",
   "metadata": {},
   "source": [
    "### Aufgabe 7: Aufdampfen von Indium\n",
    "\n",
    "Bei dieser Aufgabe dampfen Sie bei verschiedenen Drücken jeweils eine Indium-Schicht durch eine Kreisblende auf eine schwenkbare Plexiglasplatte auf. Es soll jeweils ein Fleck bei einem Druck von \n",
    "\n",
    "- $p\\lesssim8\\times 10^{-5}\\,\\mathrm{mbar}$ und \n",
    "- $p\\lesssim10^{-3}\\,\\mathrm{mbar}$ aufgedampft werden. \n",
    "\n",
    "Beobachten den benötigten Heizstrom und diskutieren Sie die Randschärfe der aufgedampften Flecken. Gehen Sie wie dabei wie folgt vor: \n",
    "\n",
    "- Evakuieren Sie den RZ mit der TMP; \n",
    "- schließen Sie V2; \n",
    "- dampfen Sie den ersten Fleck bei minimal erreichbarem Druck ($p\\lesssim8\\times 10^{-5}\\,\\mathrm{mbar}$) auf; \n",
    "- dampfen Sie den zweiten Fleck bei $p\\approx10^{-3}\\,\\mathrm{mbar}$ auf; \n",
    "\n",
    "**Achtung:** Die verfügbare Heizleistung reicht aus, um das HZ vollständig zu zerstören! Der Heizstrom darf daher erst langsam(!) hochgeregelt werden, sobald das gewünschte Vakuum für den ersten Fleck erreicht ist. Beobachten Sie das HZ beim Hochregeln des Heizstroms. Es soll zwar glühen, aber nicht schmelzen.\n",
    "\n",
    "---"
   ]
  },
  {
   "cell_type": "markdown",
   "id": "b91547cb-07ca-4c10-903b-fa357daafcf7",
   "metadata": {},
   "source": [
    "**Lösung:**\n",
    "\n",
    "*Sie können Ihr Protokoll direkt in dieses Dokument einfügen. Wenn Sie dieses Dokument als Grundlage für ein [Jupyter notebook](https://jupyter.org/) verwenden wollen können Sie die Auswertung, Skripte und ggf. bildliche Darstellungen mit Hilfe von [python](https://www.python.org/) ebenfalls hier einfügen. Löschen Sie hierzu diesen kursiv gestellten Text aus dem Dokument.* \n",
    "\n",
    "---"
   ]
  },
  {
   "cell_type": "markdown",
   "id": "37de7ca3-8a11-4358-9fb2-41feab4e9ee6",
   "metadata": {},
   "source": [
    "### Wiederherstellung der Apparatur \n",
    "\n",
    "Stellen Sie nun die Apparatur für Ihre Nachfolger:innen wieder her: \n",
    "\n",
    "- Belüften Sie die Apparatur; \n",
    "- reinigen Sie die Plexiglasplatte und die Glasglocke von eventuellen Aufdampfbelägen; \n",
    "- bestücken Sie das HZ mit etwas Indium (lassen Sie die Menge vom Betreuer überprüfen); und \n",
    "- setzen Sie die Glocke wieder auf den Dichtungsring."
   ]
  }
 ],
 "metadata": {
  "kernelspec": {
   "display_name": "Python 3 (ipykernel)",
   "language": "python",
   "name": "python3"
  },
  "language_info": {
   "codemirror_mode": {
    "name": "ipython",
    "version": 3
   },
   "file_extension": ".py",
   "mimetype": "text/x-python",
   "name": "python",
   "nbconvert_exporter": "python",
   "pygments_lexer": "ipython3",
   "version": "3.10.10"
  }
 },
 "nbformat": 4,
 "nbformat_minor": 5
}
