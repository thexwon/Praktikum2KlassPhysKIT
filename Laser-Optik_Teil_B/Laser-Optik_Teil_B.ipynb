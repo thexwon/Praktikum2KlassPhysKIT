{
 "cells": [
  {
   "attachments": {},
   "cell_type": "markdown",
   "id": "c3a34d8c-d1c6-4c15-b525-fbedda4ea549",
   "metadata": {},
   "source": [
    "<img src=\"./figures/Logo_KIT.svg\" width=\"250\" height=\"250\" style=\"zoom:15%;float:right;\" />\n",
    "\n",
    "# Fakultät für Physik \n",
    "\n",
    "## Physikalisches Praktikum P2 für Studierende der Physik\n",
    "\n",
    "\n",
    "\n",
    "Versuch P2-23, 24, 25 (Stand: April 2023)\n",
    "\n",
    "[Raum F1-16](http://www-ekp.physik.uni-karlsruhe.de/~simonis/praktikum/layoutobjekte/Lageplan_P1.png)"
   ]
  },
  {
   "attachments": {},
   "cell_type": "markdown",
   "id": "78bacdf3-fe59-457a-912e-0701624890fd",
   "metadata": {},
   "source": [
    "Name: Schwarz Vorname: Felix E-Mail: unuhz@student.kit.edu\n",
    "\n",
    "\\begin{equation*}\n",
    "\\begin{split}\n",
    "&\\\\\n",
    "&\\\\\n",
    "\\end{split}\n",
    "\\end{equation*}\n",
    "\n",
    "Name: Steib Vorname: Lukas E-Mail: uzmpb@student.kit.edu\n",
    "\n",
    "\\begin{equation*}\n",
    "\\begin{split}\n",
    "&\\\\\n",
    "&\\\\\n",
    "&\\\\\n",
    "\\end{split}\n",
    "\\end{equation*}\n",
    "\n",
    "Gruppennummer: Mo-21\n",
    "\n",
    "\\begin{equation*}\n",
    "\\begin{split}\n",
    "&\\\\\n",
    "&\\\\\n",
    "&\\\\\n",
    "\\end{split}\n",
    "\\end{equation*}\n",
    "\n",
    "\n",
    "Betreuer: Sebastian Koch\n",
    "\n",
    "\\begin{equation*}\n",
    "\\begin{split}\n",
    "&\\\\\n",
    "&\\\\\n",
    "&\\\\\n",
    "\\end{split}\n",
    "\\end{equation*}\n",
    "\n",
    "Versuch durchgeführt am: 26.06.2023"
   ]
  },
  {
   "attachments": {},
   "cell_type": "markdown",
   "id": "21574320-e0e0-4779-ac69-4f05d177b495",
   "metadata": {},
   "source": [
    "---\n",
    "\n",
    "**Beanstandungen:**\n",
    "\n",
    "\\begin{equation*}\n",
    "\\begin{split}\n",
    "&\\\\\n",
    "&\\\\\n",
    "&\\\\\n",
    "&\\\\\n",
    "&\\\\\n",
    "&\\\\\n",
    "&\\\\\n",
    "&\\\\\n",
    "&\\\\\n",
    "&\\\\\n",
    "\\end{split}\n",
    "%\\text{\\vspace{10cm}}\n",
    "\\end{equation*}\n",
    "\n",
    "<br>\n",
    "Testiert am: __________________ Vermerk: __________________"
   ]
  },
  {
   "attachments": {},
   "cell_type": "markdown",
   "id": "bbd665a6-2251-4e9f-a36c-641685e57bd2",
   "metadata": {},
   "source": [
    "# Laser-Optik, Teil B\n",
    "\n",
    "## Motivation\n",
    "\n",
    "Im Versuch [Laser-Optik, Teil A](https://git.scc.kit.edu/etp-lehre/p2-for-students/-/tree/main/Laser-Optik_Teil_A) haben Sie sich mit Hilfe einfacher Messungen mit den grundlegenden Eigenschaften und den Anwendungen von Lasern vertraut gemacht. In diesem Versuch können Sie Ihre experimentellen Erfahrungen um die Anwendung komplexerer interferometrischer Methoden zur Bestimmung kleinster Längenänderungen und um die Untersuchung der Eigenschaften doppelbrechender Kristalle mit Hilfe von linear polarisiertem Laserlicht erweitern. Den eigentlichen Versuchsteilen ist ein Demonstrationsversuch zur Veranschaulichung der Fourier-Transformation und ihrer Bedeutung in der Physik vorangestellt, der nahtlos an die Aufgaben des Versuchs \"Laser-Optik, Teil A\" anschließt. Beachten Sie hierzu die Hinweise zu diesem Versuch.\n",
    "\n",
    "## Lernziele\n",
    "\n",
    "Wir listen im Folgenden die wichtigsten **Lernziele** auf, die wir Ihnen mit dem Versuch **Laser-Optik, Teil B** vermitteln möchten: \n",
    "\n",
    "- Sie untersuchen den Zusammenhang zwischen dem physikalischen Phänomen der Beugung, als Streuung von (kohärentem) Licht und der Fourier-Transformation, am Beispiel der Beugung am Einfachspalt. Dabei haben Sie die Möglichkeit eine vollautomatisierte Messanordnung genauer kennenzulernen.\n",
    "- Sie untersuchen zwei Anwendungen für exakte interferometrische Messungen kleinster Längenänderungen. Dabei handelt es sich um die sehr kleinen [(magnetostriktiven) Längenänderung](https://de.wikipedia.org/wiki/Magnetostriktion) von Nickel und um die direkte Bestimmung der Wellenlänge des verwendeten Laserlichts selbst.\n",
    "- Sie untersuchen den [Dopplereffekt von Licht](https://de.wikipedia.org/wiki/Doppler-Effekt#Longitudinaler_Doppler-Effekt), als intelligent durchdachte Anwendung des [Michelson-Interferometers](https://de.wikipedia.org/wiki/Michelson-Interferometer). \n",
    "- Sie verwenden die Eigenschaft der linearen Polarisation des Laserlichts um den (Kristall im $\\vec{B}$-Feld) [Faraday-](https://de.wikipedia.org/wiki/Faraday-Effekt) und (Kristall im $\\vec{E}$-Feld) [Pockels-Effekt](https://de.wikipedia.org/wiki/Pockels-Effekt) zu studieren. Dabei bestimmen Sie verschiedene Materialkonstanten entsprechender [doppelbrechender Kristalle](https://de.wikipedia.org/wiki/Doppelbrechung).\n",
    "- Sie untersuchen die [optische Aktivität](https://de.wikipedia.org/wiki/Optische_Aktivit%C3%A4t) von Zuckerlösungen. Auch hierzu verwenden Sie die Eigenschaft der linearen Polarisation des kohärenten Laserlichts."
   ]
  },
  {
   "attachments": {},
   "cell_type": "markdown",
   "id": "4b37f0e0-399a-4df3-834d-29198f087b59",
   "metadata": {},
   "source": [
    "## Versuchsaufbau\n",
    "\n",
    "Auf einer optischen Bank können neben einem $\\mathrm{He}$-$\\mathrm{Ne}$-Laser die optischen Aufbauten für die durchzuführenden Versuche montiert werden. Die Versuche befinden sich in separaten Kabinen. Ein Beispielaufbau ist in der folgenden Photographie abgebildet: \n",
    "[Link]https://git.scc.kit.edu/etp-lehre/p2-for-students/-/raw/main/Laser-Optik_Teil_B/figures/LaserB.jpg\n",
    " \n",
    "\n",
    "<img src=\"./figures/LaserB.jpg\" alt='alt' style=\"zoom:100%;\" />\n",
    "\n",
    "Für die verschiedenen Versuchsteile stehen Ihnen die folgenden Geräte und Materialien zur Verfügung: \n",
    "\n",
    "- Ein Experimentiertisch (mit $3\\,\\mathrm{m}$-Zeißschiene) mit diversen Verschiebereitern.\n",
    "- Ein $2\\,\\mathrm{mW}$-$\\mathrm{He}$-$\\mathrm{Ne}$-Laser mit $\\lambda_{0}=632,8\\,\\mathrm{nm}$ Wellenlänge (in geschlossener Bauweise mit integriertem Netzteil, mit polarisiertem Licht). \n",
    "- Ein Strahlaufweitungssystem (wie im Versuch Laser-Optik, Teil A), Justieraufbau mit Fassungen, Halter für Linsen und Blenden und ein großer weißer Schirm.\n",
    "- Ein Multimeter (Voltcraft in verschiedenen Ausführungen).\n",
    "- Ein Ampèremeter (Gossen Manometer, ohne Zusatzwiderstände $100\\,\\mathrm{mV}/1\\,\\mathrm{mA}$ (Vorsicht bei der Bedienung!), dazu [Shunt](https://de.wikipedia.org/wiki/Shunt_(Elektrotechnik))-Widerstände für $500\\,\\mathrm{mA}$ und für $5\\,\\mathrm{A}$ zur Messung der Spulenströme.\n",
    "- Ein Funktionsgenerator FG 800/$0,2\\,\\mathrm{Hz}–200\\,\\mathrm{kHz}$.\n",
    "- Ein Netzgerät für die Gleichspannung an der Pockelszelle, einstellbar bis $\\approx1900\\,\\mathrm{V}$ mit integriertem Modulationstransformator.\n",
    "- Jeweils ein Nieder (NF)- und Audiofrequenz(AF)-Verstärker.\n",
    "- Ein Stromversorgungsgerät/Labor-Netzgerät (stufenlos und kurzzeitig bis zu $4\\,\\mathrm{A}$ einstellbar).\n",
    "- Ein Glan-Thompson Polarisationsfilter; Durchmesser $d=10\\,\\mathrm{mm}$, auf einem Stift drehbar montiert mit Winkelskala ([Extinktionsverhältnis](https://de.wikipedia.org/wiki/Extinktionsverh%C3%A4ltnis): $10^{5}/1$). **Diesen Filter dürfen Sie nicht im unaufgeweiteten Strahl benutzen!**\n",
    "- In $25\\,\\mathrm{mm}$-Fassungen:\n",
    "  - Ein Polarisationsfilter ohne Skala (nicht an allen Plätzen verfügbar),\n",
    "  - Ein Spalt der Breite $b=0,4\\,\\mathrm{mm}$,\n",
    "  - Eine Lochblende mit Durchmesser $d=1\\,\\mathrm{mm}$ (nicht an allen Plätzen verfügbar),\n",
    "  - Eine Irisblende,\n",
    "  - Ein [Achromat](https://de.wikipedia.org/wiki/Achromat) mit Brennweite $f=10\\,\\mathrm{mm}$,\n",
    "  - Sammellinsen mit Brennweiten $f=30\\,\\mathrm{mm}$, $60\\,\\mathrm{mm}$\n",
    "    und $150\\,\\mathrm{mm}$ (die Linse mit $f=60\\,\\mathrm{mm}$ ist nicht an allen Plätzen verfügbar),\n",
    "  - Tischlampe, Taschenlampe, 2 Laserschutzbrillen (nicht vollständigan allen Plätzen verfügbar).\n",
    "\n",
    "- Im Schrank:\n",
    "  - Lichtdetektor Si-Photoelement BPW34 (kleinflächig), $2,7\\,\\mathrm{mm}\\times2,7\\,\\mathrm{mm}$, nur im Elementbetrieb, d.h. ohne Betriebsspannung direkt an Spannungs- oder Strommessgerät angeschlossen, zu verwenden. Der Anschluss erfolgt an den mit \"+\" und \"-\" bezeichneten Stiften mit jeweils spezieller Leitung (einfach vorhanden).\n",
    "  - Lichtdetektor Si-Photoelement, Durchmesser $d=12\\,\\mathrm{mm}$, wie bei Versuchsteil A (einfach vorhanden).\n",
    "  - Lichtdetektor für moduliertes Licht (mit Photoelement $2,7\\,\\mathrm{mm}\\times2,7\\,\\mathrm{mm}$, NF-Verstärker und Lautsprecher).\n",
    "  - Ein Michelson-Interferometer mit Feinverstellung eines Spiegels durch $(10:1)$-Hebeluntersetzung und Mikrometerschraube, eine dazu aufsteckbare Antriebsrolle für Motorantrieb (drei mal vorhanden).\n",
    "  - Ein Michelson-Interferometer, ein Spiegel auf einem $\\mathrm{Ni}$- bzw. $\\mathrm{Fe}$-Stab befestigt, Länge $\\ell=105\\,\\mathrm{mm}$, in einer Spule mit $n=2000$ Windungen (jeweils einmal vorhanden).\n",
    "  - Ein Synchronmotor ($1\\,\\mathrm{U/min}$, mit Antriebsrolle und Gummiriemen für die Bewegung des Interferometerspiegels).\n",
    "  - Eine Küvette ($198\\,\\mathrm{mm}\\times58\\,\\mathrm{mm}$), in einem Halter auf einem Stift, für optisch aktive Lösungen (zweimal in Plastik- und einmal in Glasausführung).\n",
    "  - Haushaltszucker in zwei Gefäßen.\n",
    "  - Eine Chemikalienwaage, $1\\times$ Mettler H 315 auf einem Wägetisch und drei verschiedene mechanische Waagen.\n",
    "  - Bechergläser, Messzylinder, Trichter.\n",
    "  - Sorbose-Lösung (optisch aktiv, linksdrehend, Massenkonzentration $\\beta=0,33\\,\\mathrm{g\\,cm^{-3}}$).\n",
    "  - Faraday-Modulator, Bleisilikatglas der Länge $\\ell=75\\,\\mathrm{mm}$ in einer Spule mit $n=800$ Windungen.\n",
    "  - Ein Radioapparat mit Zweitlautsprecherausgang und zugehöriger Anschlussleitung, als Modulationsquelle.\n",
    "  - Ein Lichtdetektor für moduliertes Licht (mit Photoelement $2,7\\,\\mathrm{mm}\\times2,7\\,\\mathrm{mm}$, NF-Verstärker und Lautsprecher).\n",
    "  - Pockelszelle im Drehhalter mit Skala zur Angabe des Winkels zwischen Feld- und Laserpolarisationsrichtung, Lithiumniobat-Kristall,\n",
    "    Höhe $h=2\\,\\mathrm{mm}$ (entspricht dem Elektrodenabstand), Länge $\\ell=20\\,\\mathrm{mm}$, optische Achse parallel zur Feldrichtung.\n",
    "  - Stimmgabel $1700\\,\\mathrm{Hz}$ ($2\\times$), Maßband ($1\\times$) , Stoppuhr ($5\\times$).\n",
    "  - Aufbau für die optische Bank mit Fototransistor, Schrittmotor und Endschaltern.\n",
    "  - Vorverstärker, Schrittmotor- und Relais-Schnittstelle.\n",
    "  - 2 Laserschutzbrillen (für das Betreuungspersonal).\n",
    "  - Rechner (IBM-kompatibler PC 386SX) mit VGA-Graphikkarte, Graphik-Drucker, Maus, Festplatte, $1,2\\,\\mathrm{MB}$ und $1,44\\,\\mathrm{MB}$-Laufwerk und spezieller Schnittstellen-Karte (ADC, DAC, PIO), (nur einmal vorhanden).\n",
    "\n",
    "\n",
    "\n",
    "## Wichtige Hinweise\n",
    "\n",
    "- Bei diesem Versuch arbeiten Sie mit einem Laser, der entsprechend **gefährlich für Ihre Augen** sein kann. Gehen Sie daher **vorsichtig und verantwortungsbewusst** mit dem Laser um und halten Sie sich an die Anweisungen des/der Tutor:in.\n",
    "- Achten Sie darauf, dass alle Personen im Raum bei der Durchführung des Versuchs eine **Schutzbrille** tragen. \n",
    "- Vermeiden Sie direkten Blickkontakt mit dem Laserstrahl und richten Sie ihn niemals auf andere Personen. Bleiben Sie beim Experimentieren in der Regel stehen, mit den Augen also weit oberhalb der Strahlhöhe.\n",
    "- Stellen Sie sicher, dass die Laserleistung und -frequenz auf die vorgesehenen Werte eingestellt sind und überprüfen Sie dies regelmäßig während des Experiments.\n",
    "- Beachten Sie, dass der Laserstrahl bei falscher Handhabung Schäden an optischen Elementen verursachen kann. Verwenden Sie nur die bereitgestellten optischen Elemente und reinigen Sie sie nur mit geeigneten Materialien.\n",
    "- Vor dem Einschalten des Lasers müssen alle Geräte sorgfältig aufgebaut und justiert werden. Führen Sie diese Schritte **erst nach Rücksprache mit dem/der Tutor:in** durch."
   ]
  },
  {
   "attachments": {},
   "cell_type": "markdown",
   "id": "505df147-2a3f-42d0-a4ef-6031d5bed5aa",
   "metadata": {},
   "source": [
    "## Durchführung\n",
    "\n",
    "### **Aufgabe 1: Beugungsbild eines Spalts**\n",
    "\n",
    "Hierbei handelt es sich um einen **Demonstrationsversuch**. Er soll von allen Gruppen gemeinsam und mit Unterstützung des Betreuers durchgeführt werden. Mithilfe eines auf einen Schrittmotor montierten Phototransistors messen Sie das Beugungsbild eines Spalts aus, der mit einem $\\mathrm{He}$-$\\mathrm{Ne}$-Laser ausgeleuchtet wird. Die gewonnenen Daten werden auf einem bereitstehenden Computer verarbeitet; aus der [Fourier-Rücktransformation](https://de.wikipedia.org/wiki/Fourier-Transformation) des aufgezeichneten Beugungsbildes erhalten Sie das Bild des Spalts. Dokumentieren und diskutieren Sie Ihre Beobachtungen. \n",
    "\n",
    "---"
   ]
  },
  {
   "attachments": {},
   "cell_type": "markdown",
   "id": "b7c785c2-0dd4-4689-93a0-3301692f7885",
   "metadata": {},
   "source": [
    "**Lösung:**\n",
    "Um das Beugungsbild des Einzelspalts zu messen wird der Schirm in einem festen Abstand $l$ zum Einzelspalt positioniert. Die Strecke $l$ wird in ein Computerprogramm gegeben. Ein Phototransistor auf einem Schrittmotor misst das Beugungsbild. \\\n",
    "Mit dem Computerprogramm wird mithilfe eine fast-fourier-transformation (fft) die Breite des Einzelspalts bestimmt. \\\n",
    "Es ergibt sich folgendes Bild für den Spalt: \\\n",
    "<img src=\"./figures/.jpeg\" width=\"400\" height=\"400\" style=\"zoom:50%;\" /> \\\n",
    "Die experimentell bestimmte Spaltbreite beträgt $x m$. Auf dem verwendeten Einzelspalt ist eine Spaltbreite von $ m$ angegeben. \\\n",
    "Der experimentelle und der theoretische Wert für den Einzelspalt...\n"
   ]
  },
  {
   "attachments": {},
   "cell_type": "markdown",
   "id": "bb155325-16ac-46db-b8fe-c3189fdf0ba8",
   "metadata": {},
   "source": [
    "### **Aufgabe 2: Anwendungen des [Michelson-Interferometers](https://en.wikipedia.org/wiki/Michelson_interferometer)**\n",
    "\n",
    "**2.1:** Beobachten Sie interferometrisch die sehr geringe Abhängigkeit der Länge von Nickel vom Magnetfeld $\\vec{H}$ und bestimmen Sie den [Magnetostriktionskoeffizienten](https://de.wikipedia.org/wiki/Magnetostriktion).\n",
    "\n",
    "**2.2:** Bestimmen Sie aus den beobachteten Änderungen des Interferenzbildes bei gemessener Verschiebung eines der Spiegel die Wellenlänge des Laserlichts.\n",
    "\n",
    "**2.3:** Demonstrieren Sie den \"[Dopplereffekt](https://de.wikipedia.org/wiki/Doppler-Effekt#Longitudinaler_Doppler-Effekt)\" mit Lichtwellen im Fall $v\\ll c$ und messen Sie $v$ interferometrisch.\n",
    "\n",
    "**2.4:** Bewegen Sie eine schwingende Stimmgabel von Ihrem Ohr weg und auf Ihr Ohr zu und zwar einmal mit und einmal ohne eine reflektierende Wand in der Nähe (akustisches Analogon zu Aufgabe 2.3). Dokumentieren und disutieren Sie Ihre Beobachtungen.\n",
    "\n",
    "---"
   ]
  },
  {
   "attachments": {},
   "cell_type": "markdown",
   "id": "571865bf-a444-4fea-ab2a-292db2fe5673",
   "metadata": {},
   "source": [
    "**Lösung:** \\\n",
    "Das Michelson-Interferometer besteht aus einem halbdurchlässigen Spiegel und zwei voll reflektierenden Spiegeln. Der halbdurchlässige Spiegel teilt einen Lichtstrahl in zwei Wege auf, die reflektiert und überlagert werden. Durch die Interferenz der Teilstrahlen entsteht ein Interferenzmuster. Ein Spiegel ist in seiner Position variabel. Mit verschieben des Spiegels folgt eine Änderung des Interferenzmusters. \\\n",
    "Aufbau Michelson-Interferometer: \\\n",
    "<img src=\"./figures/Michelson-Morley.png\" width=\"250\" height=\"250\" /> \\\n",
    "https://upload.wikimedia.org/wikipedia/commons/3/32/Michelson-Morley.svg \\\n",
    "**2.1:** \\\n",
    "Der benutzte Laser ($632.8 nm$) hat kein diskretes Spektrum, sondern es ist gaußverteilt. Deshalb wird eine Standardabweichung von $0.1 nm$ angenommen. \\\n",
    "Magnetostriktion findet bei Ferromagneten in einem Magnetfeld statt. Dabei vollführt der Ferromagnet eine Längenänderung. Dies ist auf eine gleichausrichtung der Weißschen Bezirke zurückzuführen. \n",
    "Es wird bei diesem Versuchsteil wird ein Stück Nickel umgeben von einer Spule an dem beweglichen Spiegel befestigt. Dann kann die Längenänderung des Nickels $\\Delta l$ und der Magnetostriktionskoeffizient $c_{Ni}$ bestimmt werden, indem die Interferenz beobachtet wird.\\\n",
    "Die Längenänderung ist mit der Formel $\\Delta l = c_{Ni} \\cdot l \\cdot H $ bestimmen. Als Magnetfeld lässt sich das Magnetfeld einer langen Spule verwenden mit $H = \\frac{N \\cdot I}{l}$. Dabei ist N die Wicklungszahl der Spule. \\\n",
    "Damit folgt für den Magnetostriktionskoeffizient $c_{Ni}$:  \n",
    "$$ \n",
    "c_{Ni}= \\frac{m \\cdot \\lambda}{2 N \\cdot I} \n",
    "$$\n",
    "m ist die Ordnung des gemessenen Minimums.\n",
    "Es wird ein Stab mit $l = 0.105 m$ verwendet. Die Wicklungszahl beträgt 2000. Es wird ein Laser mit Wellenlänge $\\lambda = 632,8 nm$ verwendet.\\\n",
    "Mit einem linearen Fit wird $c_{Ni}$ bestimmt."
   ]
  },
  {
   "cell_type": "code",
   "execution_count": 1,
   "id": "624f0f0b",
   "metadata": {},
   "outputs": [],
   "source": [
    "import numpy as np \n",
    "import matplotlib.pyplot as plt\n",
    "from PhyPraKit import readPicoScope, resample\n",
    "from scipy import signal\n",
    "from scipy import interpolate\n",
    "import sys\n",
    "from kafe2 import  XYContainer, Fit, XYFit, Plot, ContoursProfiler                            \n",
    "from uncertainties import ufloat, unumpy\n",
    "from math import log10, floor\n",
    "import scipy.integrate as integrate\n",
    "import pandas as pd\n",
    "import csv"
   ]
  },
  {
   "cell_type": "code",
   "execution_count": 12,
   "id": "8d726536",
   "metadata": {},
   "outputs": [
    {
     "data": {
      "image/png": "[encoded data removed]",
      "text/plain": [
       "<Figure size 1200x500 with 2 Axes>"
      ]
     },
     "metadata": {},
     "output_type": "display_data"
    }
   ],
   "source": [
    "l=0.105 # in m\n",
    "n=2000\n",
    "lamda=ufloat(632.8*10**(-9),0.01) # in m\n",
    "m = np.array([])\n",
    "I = unumpy.uarray(np.array([]),np.array([]))\n",
    "\n",
    "y=2*n*I/lamda\n",
    "z = m\n",
    "xy_data = XYContainer(z,unumpy.nominal_values(y))\n",
    "y_error = unumpy.std_devs(y)\n",
    "def linear(x,a=0.0000000021,b=0):\n",
    "    return x*a+b \n",
    "line_fit=Fit(data=xy_data,model_function=linear)\n",
    "#line_fit.add_error(axis='x', err_val=x_error,relative=False)  # add the x-error to the fit\n",
    "line_fit.add_error(axis='y', err_val=y_error,relative=False)\n",
    "\n",
    "line_fit.do_fit()\n",
    "line_fit.assign_parameter_latex_names(x='m', a='c_Ni',b='b')\n",
    "line_fit.assign_model_function_latex_name('2 * n * I / \\lambda')\n",
    "line_fit.assign_model_function_latex_expression(' {x} *  {a} + {b}')\n",
    "\n",
    "line_fit.data_container.label = \"Verwendete Daten\"\n",
    "line_fit.model_label = \"Modellfunktion\"\n",
    "\n",
    "line_fit.data_container.axis_labels = ['m','2 * n * I / \\lambda in A * m']\n",
    "plot = Plot(fit_objects= line_fit)\n",
    "\n",
    "plot.plot()\n",
    "plt.show()\n"
   ]
  },
  {
   "attachments": {},
   "cell_type": "markdown",
   "id": "4d93802f",
   "metadata": {},
   "source": [
    "Damit ergibt sich ein Magnetostriktionskoeffizient $c_{Ni}$ von ..."
   ]
  },
  {
   "attachments": {},
   "cell_type": "markdown",
   "id": "2c01fafa",
   "metadata": {},
   "source": [
    "**2.2:** \\\n",
    "Der bewegliche Spiegel befindet sich auf einem Mikrometerschlitten. Mit einer Stellschraube lässt sich die Position des Schlittens verändern. Es wird die Strecke $\\Delta l$ gemessen, die durchlaufen wird, wenn verschiedene Minima auftreten. \\\n",
    "Es werden immer für x Minima $j$ gemessen, da die Längenänderung sehr gering ist. \\\n",
    "Anschließend lässt sich mit $\\lambda = \\frac{2 \\cdot \\Delta l}{j}$ die Wellenlänge des Lasers bestimmen. \\\n",
    "Dazu wird auch wieder ein linearer Fit verwendet."
   ]
  },
  {
   "cell_type": "code",
   "execution_count": 14,
   "id": "e36ecade",
   "metadata": {},
   "outputs": [
    {
     "name": "stderr",
     "output_type": "stream",
     "text": [
      "c:\\Users\\Lukas\\AppData\\Local\\Programs\\Python\\Python310\\lib\\site-packages\\iminuit\\util.py:183: IMinuitWarning: Assigned errors must be positive. Non-positive values are replaced by a heuristic.\n",
      "  warnings.warn(\n"
     ]
    },
    {
     "ename": "ValueError",
     "evalue": "zero-size array to reduction operation minimum which has no identity",
     "output_type": "error",
     "traceback": [
      "\u001b[1;31m---------------------------------------------------------------------------\u001b[0m",
      "\u001b[1;31mValueError\u001b[0m                                Traceback (most recent call last)",
      "Cell \u001b[1;32mIn[14], line 25\u001b[0m\n\u001b[0;32m     22\u001b[0m line_fit\u001b[39m.\u001b[39mdata_container\u001b[39m.\u001b[39maxis_labels \u001b[39m=\u001b[39m [\u001b[39m'\u001b[39m\u001b[39m\\\u001b[39m\u001b[39mDelta l in m\u001b[39m\u001b[39m'\u001b[39m,\u001b[39m'\u001b[39m\u001b[39mj\u001b[39m\u001b[39m'\u001b[39m]\n\u001b[0;32m     23\u001b[0m plot \u001b[39m=\u001b[39m Plot(fit_objects\u001b[39m=\u001b[39m line_fit)\n\u001b[1;32m---> 25\u001b[0m plot\u001b[39m.\u001b[39;49mplot()\n\u001b[0;32m     26\u001b[0m plt\u001b[39m.\u001b[39mshow()\n",
      "File \u001b[1;32mc:\\Users\\Lukas\\AppData\\Local\\Programs\\Python\\Python310\\lib\\site-packages\\kafe2\\fit\\_base\\plot.py:1342\u001b[0m, in \u001b[0;36mPlot.plot\u001b[1;34m(self, legend, fit_info, asymmetric_parameter_errors, ratio, ratio_range, ratio_height_share, residual, residual_range, residual_height_share, plot_width_share, font_scale, figsize)\u001b[0m\n\u001b[0;32m   1334\u001b[0m \u001b[39mfor\u001b[39;00m i \u001b[39min\u001b[39;00m \u001b[39mrange\u001b[39m(\u001b[39mlen\u001b[39m(\u001b[39mself\u001b[39m\u001b[39m.\u001b[39m_fits) \u001b[39mif\u001b[39;00m \u001b[39mself\u001b[39m\u001b[39m.\u001b[39m_separate_figs \u001b[39melse\u001b[39;00m \u001b[39m1\u001b[39m):\n\u001b[0;32m   1335\u001b[0m     \u001b[39mself\u001b[39m\u001b[39m.\u001b[39m_create_figure_axes(\n\u001b[0;32m   1336\u001b[0m         _axes_keys,\n\u001b[0;32m   1337\u001b[0m         width_ratios\u001b[39m=\u001b[39m_width_ratios,\n\u001b[0;32m   1338\u001b[0m         height_ratios\u001b[39m=\u001b[39m_height_ratios,\n\u001b[0;32m   1339\u001b[0m         figsize\u001b[39m=\u001b[39mfigsize,\n\u001b[0;32m   1340\u001b[0m     )\n\u001b[1;32m-> 1342\u001b[0m     _plot_results \u001b[39m=\u001b[39m \u001b[39mself\u001b[39;49m\u001b[39m.\u001b[39;49m_plot_and_get_results(plot_indices\u001b[39m=\u001b[39;49m(i,) \u001b[39mif\u001b[39;49;00m \u001b[39mself\u001b[39;49m\u001b[39m.\u001b[39;49m_separate_figs \u001b[39melse\u001b[39;49;00m \u001b[39mNone\u001b[39;49;00m)\n\u001b[0;32m   1344\u001b[0m     \u001b[39m# set axis scales for the main plot, x-axis is shared with ratio plot\u001b[39;00m\n\u001b[0;32m   1345\u001b[0m     \u001b[39mself\u001b[39m\u001b[39m.\u001b[39m_get_axes(\u001b[39m'\u001b[39m\u001b[39mmain\u001b[39m\u001b[39m'\u001b[39m)\u001b[39m.\u001b[39mset_xscale(\u001b[39mself\u001b[39m\u001b[39m.\u001b[39mx_scale[i])\n",
      "File \u001b[1;32mc:\\Users\\Lukas\\AppData\\Local\\Programs\\Python\\Python310\\lib\\site-packages\\kafe2\\fit\\_base\\plot.py:807\u001b[0m, in \u001b[0;36mPlot._plot_and_get_results\u001b[1;34m(self, plot_indices)\u001b[0m\n\u001b[0;32m    805\u001b[0m \u001b[39mdef\u001b[39;00m \u001b[39m_plot_and_get_results\u001b[39m(\u001b[39mself\u001b[39m, plot_indices\u001b[39m=\u001b[39m\u001b[39mNone\u001b[39;00m):\n\u001b[0;32m    806\u001b[0m     plot_indices \u001b[39m=\u001b[39m plot_indices \u001b[39mor\u001b[39;00m \u001b[39mrange\u001b[39m(\u001b[39mlen\u001b[39m(\u001b[39mself\u001b[39m\u001b[39m.\u001b[39m_fits))\n\u001b[1;32m--> 807\u001b[0m     _plot_adapters \u001b[39m=\u001b[39m \u001b[39mself\u001b[39;49m\u001b[39m.\u001b[39;49m_get_plot_adapters(plot_indices)\n\u001b[0;32m    808\u001b[0m     \u001b[39mif\u001b[39;00m \u001b[39mself\u001b[39m\u001b[39m.\u001b[39m_multifit \u001b[39mis\u001b[39;00m \u001b[39mNone\u001b[39;00m:\n\u001b[0;32m    809\u001b[0m         \u001b[39mfor\u001b[39;00m _plot_adapter \u001b[39min\u001b[39;00m _plot_adapters:\n",
      "File \u001b[1;32mc:\\Users\\Lukas\\AppData\\Local\\Programs\\Python\\Python310\\lib\\site-packages\\kafe2\\fit\\_base\\plot.py:795\u001b[0m, in \u001b[0;36mPlot._get_plot_adapters\u001b[1;34m(self, plot_indices)\u001b[0m\n\u001b[0;32m    792\u001b[0m     \u001b[39mself\u001b[39m\u001b[39m.\u001b[39m_plot_adapters \u001b[39m=\u001b[39m []\n\u001b[0;32m    793\u001b[0m     \u001b[39mfor\u001b[39;00m _fit, _from_container \u001b[39min\u001b[39;00m \u001b[39mzip\u001b[39m(\u001b[39mself\u001b[39m\u001b[39m.\u001b[39m_fits, \u001b[39mself\u001b[39m\u001b[39m.\u001b[39m_from_container):\n\u001b[0;32m    794\u001b[0m         \u001b[39mself\u001b[39m\u001b[39m.\u001b[39m_plot_adapters\u001b[39m.\u001b[39mappend(\n\u001b[1;32m--> 795\u001b[0m             _fit\u001b[39m.\u001b[39;49mPLOT_ADAPTER_TYPE(_fit, _from_container)\n\u001b[0;32m    796\u001b[0m         )\n\u001b[0;32m    797\u001b[0m \u001b[39mif\u001b[39;00m \u001b[39mnot\u001b[39;00m \u001b[39mself\u001b[39m\u001b[39m.\u001b[39m_separate_figs:\n\u001b[0;32m    798\u001b[0m     _x_range_min \u001b[39m=\u001b[39m np\u001b[39m.\u001b[39mmin([_pa\u001b[39m.\u001b[39mx_range[\u001b[39m0\u001b[39m] \u001b[39mfor\u001b[39;00m _pa \u001b[39min\u001b[39;00m \u001b[39mself\u001b[39m\u001b[39m.\u001b[39m_plot_adapters])\n",
      "File \u001b[1;32mc:\\Users\\Lukas\\AppData\\Local\\Programs\\Python\\Python310\\lib\\site-packages\\kafe2\\fit\\xy\\plot.py:49\u001b[0m, in \u001b[0;36mXYPlotAdapter.__init__\u001b[1;34m(self, xy_fit_object, from_container)\u001b[0m\n\u001b[0;32m     47\u001b[0m \u001b[39msuper\u001b[39m(XYPlotAdapter, \u001b[39mself\u001b[39m)\u001b[39m.\u001b[39m\u001b[39m__init__\u001b[39m(fit_object\u001b[39m=\u001b[39mxy_fit_object, from_container\u001b[39m=\u001b[39mfrom_container)\n\u001b[0;32m     48\u001b[0m \u001b[39mself\u001b[39m\u001b[39m.\u001b[39mn_plot_points \u001b[39m=\u001b[39m \u001b[39mmax\u001b[39m(\u001b[39m200\u001b[39m, \u001b[39m4\u001b[39m\u001b[39m*\u001b[39m\u001b[39mlen\u001b[39m(\u001b[39mself\u001b[39m\u001b[39m.\u001b[39mdata_x))\n\u001b[1;32m---> 49\u001b[0m \u001b[39mself\u001b[39m\u001b[39m.\u001b[39mx_range \u001b[39m=\u001b[39m add_pad_to_range(\u001b[39mself\u001b[39;49m\u001b[39m.\u001b[39;49m_fit\u001b[39m.\u001b[39;49mx_range, scale\u001b[39m=\u001b[39m\u001b[39mself\u001b[39m\u001b[39m.\u001b[39mx_scale)\n",
      "File \u001b[1;32mc:\\Users\\Lukas\\AppData\\Local\\Programs\\Python\\Python310\\lib\\site-packages\\kafe2\\fit\\xy\\fit.py:609\u001b[0m, in \u001b[0;36mXYFit.x_range\u001b[1;34m(self)\u001b[0m\n\u001b[0;32m    603\u001b[0m \u001b[39m@property\u001b[39m\n\u001b[0;32m    604\u001b[0m \u001b[39mdef\u001b[39;00m \u001b[39mx_range\u001b[39m(\u001b[39mself\u001b[39m):\n\u001b[0;32m    605\u001b[0m \u001b[39m    \u001b[39m\u001b[39m\"\"\"Minimum and maximum values of the *x* measurement data.\u001b[39;00m\n\u001b[0;32m    606\u001b[0m \n\u001b[0;32m    607\u001b[0m \u001b[39m    :rtype: tuple[float, float]\u001b[39;00m\n\u001b[0;32m    608\u001b[0m \u001b[39m    \"\"\"\u001b[39;00m\n\u001b[1;32m--> 609\u001b[0m     \u001b[39mreturn\u001b[39;00m \u001b[39mself\u001b[39;49m\u001b[39m.\u001b[39;49m_data_container\u001b[39m.\u001b[39;49mx_range\n",
      "File \u001b[1;32mc:\\Users\\Lukas\\AppData\\Local\\Programs\\Python\\Python310\\lib\\site-packages\\kafe2\\fit\\xy\\container.py:246\u001b[0m, in \u001b[0;36mXYContainer.x_range\u001b[1;34m(self)\u001b[0m\n\u001b[0;32m    241\u001b[0m \u001b[39m\u001b[39m\u001b[39m\"\"\"Minimum and maximum values of the *x* data.\u001b[39;00m\n\u001b[0;32m    242\u001b[0m \n\u001b[0;32m    243\u001b[0m \u001b[39m:rtype: tuple[float, float]\u001b[39;00m\n\u001b[0;32m    244\u001b[0m \u001b[39m\"\"\"\u001b[39;00m\n\u001b[0;32m    245\u001b[0m _x \u001b[39m=\u001b[39m \u001b[39mself\u001b[39m\u001b[39m.\u001b[39mx\n\u001b[1;32m--> 246\u001b[0m \u001b[39mreturn\u001b[39;00m np\u001b[39m.\u001b[39;49mmin(_x), np\u001b[39m.\u001b[39mmax(_x)\n",
      "File \u001b[1;32mc:\\Users\\Lukas\\AppData\\Local\\Programs\\Python\\Python310\\lib\\site-packages\\numpy\\core\\fromnumeric.py:2953\u001b[0m, in \u001b[0;36mmin\u001b[1;34m(a, axis, out, keepdims, initial, where)\u001b[0m\n\u001b[0;32m   2836\u001b[0m \u001b[39m@array_function_dispatch\u001b[39m(_min_dispatcher)\n\u001b[0;32m   2837\u001b[0m \u001b[39mdef\u001b[39;00m \u001b[39mmin\u001b[39m(a, axis\u001b[39m=\u001b[39m\u001b[39mNone\u001b[39;00m, out\u001b[39m=\u001b[39m\u001b[39mNone\u001b[39;00m, keepdims\u001b[39m=\u001b[39mnp\u001b[39m.\u001b[39m_NoValue, initial\u001b[39m=\u001b[39mnp\u001b[39m.\u001b[39m_NoValue,\n\u001b[0;32m   2838\u001b[0m         where\u001b[39m=\u001b[39mnp\u001b[39m.\u001b[39m_NoValue):\n\u001b[0;32m   2839\u001b[0m \u001b[39m    \u001b[39m\u001b[39m\"\"\"\u001b[39;00m\n\u001b[0;32m   2840\u001b[0m \u001b[39m    Return the minimum of an array or minimum along an axis.\u001b[39;00m\n\u001b[0;32m   2841\u001b[0m \n\u001b[1;32m   (...)\u001b[0m\n\u001b[0;32m   2951\u001b[0m \u001b[39m    6\u001b[39;00m\n\u001b[0;32m   2952\u001b[0m \u001b[39m    \"\"\"\u001b[39;00m\n\u001b[1;32m-> 2953\u001b[0m     \u001b[39mreturn\u001b[39;00m _wrapreduction(a, np\u001b[39m.\u001b[39;49mminimum, \u001b[39m'\u001b[39;49m\u001b[39mmin\u001b[39;49m\u001b[39m'\u001b[39;49m, axis, \u001b[39mNone\u001b[39;49;00m, out,\n\u001b[0;32m   2954\u001b[0m                           keepdims\u001b[39m=\u001b[39;49mkeepdims, initial\u001b[39m=\u001b[39;49minitial, where\u001b[39m=\u001b[39;49mwhere)\n",
      "File \u001b[1;32mc:\\Users\\Lukas\\AppData\\Local\\Programs\\Python\\Python310\\lib\\site-packages\\numpy\\core\\fromnumeric.py:88\u001b[0m, in \u001b[0;36m_wrapreduction\u001b[1;34m(obj, ufunc, method, axis, dtype, out, **kwargs)\u001b[0m\n\u001b[0;32m     85\u001b[0m         \u001b[39melse\u001b[39;00m:\n\u001b[0;32m     86\u001b[0m             \u001b[39mreturn\u001b[39;00m reduction(axis\u001b[39m=\u001b[39maxis, out\u001b[39m=\u001b[39mout, \u001b[39m*\u001b[39m\u001b[39m*\u001b[39mpasskwargs)\n\u001b[1;32m---> 88\u001b[0m \u001b[39mreturn\u001b[39;00m ufunc\u001b[39m.\u001b[39mreduce(obj, axis, dtype, out, \u001b[39m*\u001b[39m\u001b[39m*\u001b[39mpasskwargs)\n",
      "\u001b[1;31mValueError\u001b[0m: zero-size array to reduction operation minimum which has no identity"
     ]
    }
   ],
   "source": [
    "delta_l=unumpy.uarray(np.array([1]),np.array([])) # in m\n",
    "j=np.array([])\n",
    "\n",
    "y=j/2\n",
    "z = unumpy.nominal_values(delta_l)\n",
    "xy_data = XYContainer(z,y)\n",
    "x_error = unumpy.std_devs(delta_l)\n",
    "def linear(x,a=0.000000690,b=0):\n",
    "    return x*a+b \n",
    "line_fit=Fit(data=xy_data,model_function=linear)\n",
    "line_fit.add_error(axis='x', err_val=x_error,relative=False)  # add the x-error to the fit\n",
    "#line_fit.add_error(axis='y', err_val=y_error,relative=False)\n",
    "\n",
    "line_fit.do_fit()\n",
    "line_fit.assign_parameter_latex_names(x='\\Delta l', a='\\lambda',b='b')\n",
    "line_fit.assign_model_function_latex_name('j/2')\n",
    "line_fit.assign_model_function_latex_expression(' {x} *  {a} + {b}')\n",
    "\n",
    "line_fit.data_container.label = \"Verwendete Daten\"\n",
    "line_fit.model_label = \"Modellfunktion\"\n",
    "\n",
    "line_fit.data_container.axis_labels = ['\\Delta l in m','j']\n",
    "plot = Plot(fit_objects= line_fit)\n",
    "\n",
    "plot.plot()\n",
    "plt.show()\n"
   ]
  },
  {
   "attachments": {},
   "cell_type": "markdown",
   "id": "d07faedd",
   "metadata": {},
   "source": [
    "Somit ergibt sich ein experimentell bestimmter Wert für die Wellenlänge des Lasers von $\\lambda = m$. \\\n",
    "Die bekannte Wellenlänge des Lasers beträgt $632,8 nm$.\\\n",
    "Der experimentelle und der bekannte Wert passen..."
   ]
  },
  {
   "attachments": {},
   "cell_type": "markdown",
   "id": "4ada39dd",
   "metadata": {},
   "source": [
    "**2.3:**\\\n",
    "Es wird ein Spiegel mit einem Motor gedreht. Es wird immer gemessen, wie lange es braucht bis eine gewisse Anzahl an Maxima (m) durchlaufen wurden ist. Damit lässt sich die Spiegelgeschwindigkeit ermitteln, $ v= \\frac{\\Delta \\nu \\cdot c}{2 \\cdot f_{Sender}} = \\frac{m \\cdot c}{2 \\cdot t \\cdot f_{Sender}} =\\frac{m \\cdot \\lambda}{2 \\cdot t}$."
   ]
  },
  {
   "cell_type": "code",
   "execution_count": null,
   "id": "d0ce472f",
   "metadata": {},
   "outputs": [],
   "source": [
    "lamda=ufloat(632.8*10**(-9),0.01) # in m\n",
    "m=\n",
    "t=unumpy.uarray(np.array([]),np.array([]))\n",
    "v=m*lamda/(2*t)\n",
    "print ('Der Spiegel hat eine Geschwindigkeit von',np.mean(unumpy.nominal_values(v)),'+/-',np.std(unumpy.nominal_values(v)))"
   ]
  },
  {
   "attachments": {},
   "cell_type": "markdown",
   "id": "c394951a",
   "metadata": {},
   "source": [
    "**2.4:** \\\n",
    "Bei dem akustischen Dopplereffekt wird eine in Schwingung versetzte Stimmgabel auf den Experimentator zu bzw. von ihm weg bewegt. Es sind unterschiedlich hohe Töne dabei hörbar, die hörbare Frequenz ist bei hin- und wegbewegen eine andere. \\\n",
    "Desweiteren wird die Stimmgabel an eine Wand und von ihr weg gebracht. Die Wand dient als Spiegel, der die Schallwellen wieder zurück wirft. Es kommt zu einer Schwebung."
   ]
  },
  {
   "attachments": {},
   "cell_type": "markdown",
   "id": "31e055c7-d41a-4314-97a6-4f274bf6bf47",
   "metadata": {},
   "source": [
    "### **Aufgabe 3: Faraday- und Pockels-Effekt**\n",
    "\n",
    "**3.1:**  Modulieren Sie die Intensität des Laserlichts durch Anwendung des [Faraday-Effekts](https://de.wikipedia.org/wiki/Faraday-Effekt), indem Sie das linear polarisierte Laserlicht erst einen Stab aus Bleisilikatglas im longitudinalen Magnetfeld einer Spule und dann einen Polarisationsfilter durchlaufen lassen.\n",
    "\n",
    "**Lösung**\n",
    "\n",
    "In diesem Versuchsteil leiten wir linear polarisiertes Licht in einen Stab aus Bleisilikatglas, welches von einer Spule umgeben ist. Das Magnetfeld der Spule verändert nun den Drehwinkel des eingestrahlten Lichts. In unserem Fall steuern wir die Spule mit einem verstärktem Audiosignal an, wodurch die Informationen des Audiosignals auf das Laserlicht übertragen werden. Das modulierte Licht lässt sich an einer Photodiode in Strom umwandeln, welche einen Lautsprecher ansteuert, um das Audiosignal auszugeben. Das Audiosignal wird hierbei etwas verzerrt, da die hohen Frequenzen zum Beispiel durch die Abtastrate der Photodiode, aber auch der Trägheit der Induktivität nicht richtig übertragen werden.\n",
    "\n",
    "\n",
    "**3.2:** Bestimmen Sie die [Verdet-Konstante](https://de.wikipedia.org/wiki/Verdet-Konstante) \n",
    "\n",
    "\n",
    "\\begin{equation*}\n",
    "V \\equiv \\frac{\\alpha}{B\\,l}\n",
    "\\end{equation*}\n",
    "\n",
    "\n",
    "\n",
    "von Bleisilikatglas, wobei $B$ der Magnetfeldstärke und $l$ der Länge des Stabs entsprechen und $\\alpha$ der Winkel ist, um den das linear polarisierte Licht beim Durchlaufen des Stabs gedreht wurde.\n",
    "\n",
    "**Lösung**\n",
    "\n",
    "Mit dem bekanntem Magnetfeld $B = \\mu\\mu_0\\frac{N\\cdot I}{l}$ der Spule lässt sich die Verdet-Konstante direkt aus der gegebenen Formel berechnen. Da der Faraday für parallele und antiparallele Magnetfelder auf gleiche Weise auftritt, nehmen wir 6 Messwerte von -3A bis +3A auf. Um starke Abweichungen durch eine Erwärmung der Spule zu vermeiden, verwenden wir keine höheren Ströme.\n",
    "\n",
    "\n"
   ]
  },
  {
   "cell_type": "code",
   "execution_count": null,
   "id": "0dfa1bd6",
   "metadata": {},
   "outputs": [],
   "source": [
    "drehwinkel = unumpy.uarray([4,3,1,1,2,3])\n",
    "strom = unumpy.uarray([-3,-2,-1,1,2,3]) #aufpassen: statistische und systematische Fehler trennen. in unumpy sind die systematischen gespeichert.\n",
    "mu = \n",
    "mu_0 = \n",
    "N = \n",
    "V = drehwinkel/(mu*mu_0*N*Strom)\n",
    "print(\"V = \" np.mean(unumpy.nominal_values(V)), \"+-\" , np.mean(unumpy.std_devs(V)) , \"+-\" , np.std(unumpy.nominal_values(V)))"
   ]
  },
  {
   "attachments": {},
   "cell_type": "markdown",
   "id": "26175db6",
   "metadata": {},
   "source": [
    "**3.3:**  Modulieren Sie die Intensität des Laserlichts durch Anwendung des [Pockels-Effekts](https://de.wikipedia.org/wiki/Pockels-Effekt), indem Sie das linear polarisierte Laserlicht einen Lithiumniobat-Kristall mit transversalem elektrischen Feld (Feldrichtung $45°$ gegen die Polarisationsrichtung des Laserlichts gedreht) und ein Polarisationsfilter ($90°$ gegen die Polarisationsrichtung des Laserlichts gedreht) durchlaufen lassen.\n",
    "\n",
    "ja\\\n",
    "**3.4:** Bestimmen Sie die Konstante \n",
    "\n",
    "\\begin{equation*}\n",
    "k \\equiv \\frac{\\Delta n(E)}{E}\n",
    "\\end{equation*}\n",
    "\n",
    "für den Pockels-Effekt bei Lithiumniobat für die Wellenlänge des Laserlichts, wobei $\\Delta n(E)$ der Änderung des Brechungsindex und $E$ der elektrischen Feldstärke entsprechen.\n",
    "\n",
    "---\n"
   ]
  },
  {
   "attachments": {},
   "cell_type": "markdown",
   "id": "402b85f7-3cca-4144-9555-40600dbe9095",
   "metadata": {},
   "source": [
    "**Lösung:**\n",
    "\n",
    "$k = \\frac{\\lambda_0 \\cdot d}{2 \\cdot s \\cdot U_{HW}}$\n",
    "$U_{HW}$ erhalten wir aus einem Fit der Spannung über die Extremanummer.\n",
    "---"
   ]
  },
  {
   "cell_type": "code",
   "execution_count": 1,
   "id": "470dfb5d",
   "metadata": {},
   "outputs": [
    {
     "ename": "NameError",
     "evalue": "name 'np' is not defined",
     "output_type": "error",
     "traceback": [
      "\u001b[1;31m---------------------------------------------------------------------------\u001b[0m",
      "\u001b[1;31mNameError\u001b[0m                                 Traceback (most recent call last)",
      "Cell \u001b[1;32mIn[1], line 1\u001b[0m\n\u001b[1;32m----> 1\u001b[0m extremanummer \u001b[39m=\u001b[39m np\u001b[39m.\u001b[39marray([])\n\u001b[0;32m      2\u001b[0m U \u001b[39m=\u001b[39m np\u001b[39m.\u001b[39marray([])\n\u001b[0;32m      4\u001b[0m xy_data \u001b[39m=\u001b[39m XYContainer(extremanummer,U)\n",
      "\u001b[1;31mNameError\u001b[0m: name 'np' is not defined"
     ]
    }
   ],
   "source": [
    "extremanummer = np.array([])\n",
    "U = np.array([])\n",
    "\n",
    "xy_data = XYContainer(extremanummer,U)\n",
    "def linear(x,a=0,b=0):\n",
    "    return a*x + b\n",
    "line_fit=Fit(data=xy_data,model_function=linear)\n",
    "line_fit.do_fit()\n",
    "line_fit.assign_parameter_latex_names(x='t-t0', a='a')\n",
    "line_fit.assign_model_function_latex_name('\\log(\\frac{p_{1}}{p_0})')\n",
    "line_fit.assign_model_function_latex_expression('{a} \\\\cdot {x}')\n",
    "\n",
    "\n",
    "line_fit.data_container.label = \"Verwendete Daten\"\n",
    "line_fit.model_label = \"Modellfunktion\"\n",
    "\n",
    "line_fit.data_container.axis_labels = [\"\\log(\\frac{p_{1}}{p_0})\", \"(t-t_0) in s\"]\n",
    "plot = Plot(fit_objects= line_fit)\n",
    "plot.plot()\n",
    "plt.show()"
   ]
  },
  {
   "attachments": {},
   "cell_type": "markdown",
   "id": "a494a5b3-e827-42dd-bce9-f1cc934f0475",
   "metadata": {},
   "source": [
    "### **Aufgabe 4: [Optische Aktivität](https://de.wikipedia.org/wiki/Optische_Aktivit%C3%A4t) (Saccharimetrie)**\n",
    "\n",
    "**4.1:** Bestimmen Sie den [spezifischen Drehwinkel](https://de.wikipedia.org/wiki/Optische_Aktivit%C3%A4t#Spezifischer_Drehwinkel) \n",
    "\n",
    "\\begin{equation*}\n",
    "\\left[\\alpha\\right]_{\\lambda}^{T} = \\frac{\\alpha}{\\beta\\,\\ell}\n",
    "\\end{equation*}\n",
    "\n",
    "\n",
    "\n",
    "einer Haushaltszuckerlösung bei verschiedenen Massenkonzentrationen $\\beta$ (gemessen in $\\mathrm{g\\,cm^{-3}}$) sowie die Drehrichtung. Dabei entsprechen $\\alpha$ dem unspezifischen (gemessenen) Drehwinkel gemessen in $^{\\circ}$ und $\\ell$ der Länge des Lichtweges durch die Lösung (gemessen in $\\mathrm{dm}$). Zeigen Sie, dass $\\alpha\\propto\\ell$ und $\\alpha\\propto \\beta$ gilt.  \n",
    "\n",
    "Zum Nachweis von $\\alpha\\propto\\ell$ genügt es zwei Messwerte aufzunehmen bei denen die Küvette mit der Probelösung einmal längs und einmal quer durchstrahlt wird. Zum Nachweis von $\\alpha\\propto\\beta$ beginnen Sie z.B. bei $\\beta\\approx 0,3\\,\\mathrm{g\\,cm^{-3}}$ und reduzieren Sie die Konzentration, indem Sie Wasser zugießen. Diskutieren Sie von welchen weiteren Parametern $\\alpha$ noch abhängt. \n",
    "\n",
    "Wenn Sie die Konzentration ändern, während Sie den durchtretenden Laserstrahl beobachten, scheint dieser \"krummen Bahnen\" zu folgen. Beachten Sie Ähnlichkeiten zwischen der optischen Aktivität und dem Faraday-Effekt.\n",
    "\n",
    "\n",
    "\n",
    "---"
   ]
  },
  {
   "attachments": {},
   "cell_type": "markdown",
   "id": "804d894b",
   "metadata": {},
   "source": [
    "In dieser Aufgabe wird das optische Drehvermögen von Zuckerwasser untersucht, welches durch die Chiralität der Zuckermoleküle hervorgerufen wird.\n",
    "Um den spezifischen Drehwinkel direkt aus unseren Fits auslesen zu können, fitten wir den Drehwinkel $\\alpha$ über das Produkt $\\beta \\cdot l$. Somit ist der spezifische Drehwinkel direkt aus der Steigung auslesbar. Um die Proportionalität zu $\\alpha$ und $\\beta$ zu zeigen, führen wir Messung mit der längeren und kürzeren Seite der Küvette durch, und verringern außerdem die Konzentration, indem wir Wasser zum Zuckerwasser hinzufügen."
   ]
  },
  {
   "cell_type": "code",
   "execution_count": 2,
   "id": "665babcf",
   "metadata": {},
   "outputs": [
    {
     "ename": "NameError",
     "evalue": "name 'unumpy' is not defined",
     "output_type": "error",
     "traceback": [
      "\u001b[1;31m---------------------------------------------------------------------------\u001b[0m",
      "\u001b[1;31mNameError\u001b[0m                                 Traceback (most recent call last)",
      "Cell \u001b[1;32mIn[2], line 1\u001b[0m\n\u001b[1;32m----> 1\u001b[0m alpha \u001b[39m=\u001b[39m unumpy\u001b[39m.\u001b[39muarray(np\u001b[39m.\u001b[39marray([]),np\u001b[39m.\u001b[39marray([]))\n\u001b[0;32m      2\u001b[0m beta \u001b[39m=\u001b[39m unumpy\n",
      "\u001b[1;31mNameError\u001b[0m: name 'unumpy' is not defined"
     ]
    }
   ],
   "source": [
    "alpha1 = unumpy.uarray(np.array([]),np.array([]))\n",
    "beta1 = unumpy.uarray(np.array([]),np.array([]))\n",
    "l1 = ... \n",
    "hilfsgroesse = beta * l\n",
    "\n",
    "xy_data = XYContainer(hilfsgroesse,alpha1)\n",
    "def linear(x,a=0,b=0):\n",
    "    return a*x + b\n",
    "line_fit=Fit(data=xy_data,model_function=linear)\n",
    "line_fit.add_error(axis='x', err_val=unumpy.std_devs(hilfsgroesse))\n",
    "line_fit.add_error(axis='y', err_val=unumpy.std_devs(alpha1))\n",
    "line_fit.do_fit()\n",
    "line_fit.assign_parameter_latex_names(x='beta * l', a='alpha')\n",
    "line_fit.assign_model_function_latex_name('a * x +b')\n",
    "line_fit.assign_model_function_latex_expression('{a} \\\\cdot {x} + {b}')\n",
    "\n",
    "\n",
    "line_fit.data_container.label = \"Verwendete Daten\"\n",
    "line_fit.model_label = \"Modellfunktion\"\n",
    "\n",
    "line_fit.data_container.axis_labels = [\"alpha\", \"beta * l\"]\n",
    "plot = Plot(fit_objects= line_fit)\n",
    "plot.plot()\n",
    "plt.show()\n",
    "\n",
    "alpha2 = unumpy.uarray(np.array([]),np.array([]))\n",
    "beta2 = unumpy.uarray(np.array([]),np.array([]))\n",
    "l2 = ... \n",
    "hilfsgroesse2 = beta2 * l2\n",
    "\n",
    "xy_data = XYContainer(hilfsgroesse2,alpha2)\n",
    "def linear(x,a=0,b=0):\n",
    "    return a*x + b\n",
    "line_fit=Fit(data=xy_data,model_function=linear)\n",
    "line_fit.add_error(axis='x', err_val=unumpy.std_devs(hilfsgroesse2))\n",
    "line_fit.add_error(axis='y', err_val=unumpy.std_devs(alpha2))\n",
    "line_fit.do_fit()\n",
    "line_fit.assign_parameter_latex_names(x='beta * l', a='alpha')\n",
    "line_fit.assign_model_function_latex_name('a * x +b')\n",
    "line_fit.assign_model_function_latex_expression('{a} \\\\cdot {x} + {b}')\n",
    "\n",
    "\n",
    "line_fit.data_container.label = \"Verwendete Daten\"\n",
    "line_fit.model_label = \"Modellfunktion\"\n",
    "\n",
    "line_fit.data_container.axis_labels = [\"alpha\", \"beta * l\"]\n",
    "plot = Plot(fit_objects= line_fit)\n",
    "plot.plot()\n",
    "plt.show()"
   ]
  },
  {
   "attachments": {},
   "cell_type": "markdown",
   "id": "c9479483",
   "metadata": {},
   "source": [
    "**4.2:** Bestimmen Sie den spezifischen Drehwinkel einer entgegengesetzt drehenden [Sorbose](https://de.wikipedia.org/wiki/Sorbose)-Lösung mit vorgegebener Konzentration."
   ]
  },
  {
   "attachments": {},
   "cell_type": "markdown",
   "id": "4048c9be-0b7a-48e6-a537-d2841f3052f6",
   "metadata": {},
   "source": [
    "**Lösung:**\n",
    "das gleiche\n",
    "---"
   ]
  },
  {
   "cell_type": "code",
   "execution_count": null,
   "id": "94b906ee",
   "metadata": {},
   "outputs": [],
   "source": [
    "alpha = unumpy.uarray(np.array([]),np.array([]))\n",
    "beta = unumpy.uarray(np.array([]),np.array([]))\n",
    "l = ... \n",
    "hilfsgroesse2 = beta * l\n",
    "\n",
    "xy_data = XYContainer(hilfsgroesse2,alpha)\n",
    "def linear(x,a=0,b=0):\n",
    "    return a*x + b\n",
    "line_fit=Fit(data=xy_data,model_function=linear)\n",
    "line_fit.add_error(axis='x', err_val=unumpy.std_devs(hilfsgroesse))\n",
    "line_fit.add_error(axis='y', err_val=unumpy.std_devs(alpha))\n",
    "line_fit.do_fit()\n",
    "line_fit.assign_parameter_latex_names(x='beta * l', a='alpha')\n",
    "line_fit.assign_model_function_latex_name('a * x +b')\n",
    "line_fit.assign_model_function_latex_expression('{a} \\\\cdot {x} + {b}')\n",
    "\n",
    "\n",
    "line_fit.data_container.label = \"Verwendete Daten\"\n",
    "line_fit.model_label = \"Modellfunktion\"\n",
    "\n",
    "line_fit.data_container.axis_labels = [\"alpha\", \"beta * l\"]\n",
    "plot = Plot(fit_objects= line_fit)\n",
    "plot.plot()\n",
    "plt.show()"
   ]
  }
 ],
 "metadata": {
  "kernelspec": {
   "display_name": "Python 3 (ipykernel)",
   "language": "python",
   "name": "python3"
  },
  "language_info": {
   "codemirror_mode": {
    "name": "ipython",
    "version": 3
   },
   "file_extension": ".py",
   "mimetype": "text/x-python",
   "name": "python",
   "nbconvert_exporter": "python",
   "pygments_lexer": "ipython3",
   "version": "3.11.2"
  }
 },
 "nbformat": 4,
 "nbformat_minor": 5
}
