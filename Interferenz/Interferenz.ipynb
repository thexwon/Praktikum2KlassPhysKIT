{
 "cells": [
  {
   "cell_type": "markdown",
   "id": "94fd13f2-adf8-4e04-93b8-2afdad1a8eaf",
   "metadata": {},
   "source": [
    "<img src=\"./figures/Logo_KIT.svg\" width=\"250\" height=\"250\" style=\"zoom:15%;float:right;\" />\n",
    "\n",
    "# Fakultät für Physik\n",
    "\n",
    "## Physikalisches Praktikum P2 für Studierende der Physik\n",
    "\n",
    "Versuch P2-13 (Stand: April 2023)\n",
    "\n",
    "[Raum F1-09](http://www-ekp.physik.uni-karlsruhe.de/~simonis/praktikum/layoutobjekte/Lageplan_P1.png)"
   ]
  },
  {
   "cell_type": "markdown",
   "id": "9f830d27-f477-4010-a17f-00d135e92fe8",
   "metadata": {},
   "source": [
    "Name: __________________ Vorname: __________________ E-Mail: __________________\n",
    "\n",
    "\\begin{equation*}\n",
    "\\begin{split}\n",
    "&\\\\\n",
    "&\\\\\n",
    "\\end{split}\n",
    "\\end{equation*}\n",
    "\n",
    "Name: __________________ Vorname: __________________ E-Mail: __________________\n",
    "\n",
    "\\begin{equation*}\n",
    "\\begin{split}\n",
    "&\\\\\n",
    "&\\\\\n",
    "&\\\\\n",
    "\\end{split}\n",
    "\\end{equation*}\n",
    "\n",
    "Gruppennummer: _____\n",
    "\n",
    "\\begin{equation*}\n",
    "\\begin{split}\n",
    "&\\\\\n",
    "&\\\\\n",
    "&\\\\\n",
    "\\end{split}\n",
    "\\end{equation*}\n",
    "\n",
    "\n",
    "Betreuer: __________________\n",
    "\n",
    "\\begin{equation*}\n",
    "\\begin{split}\n",
    "&\\\\\n",
    "&\\\\\n",
    "&\\\\\n",
    "\\end{split}\n",
    "\\end{equation*}\n",
    "\n",
    "Versuch durchgeführt am: __________________"
   ]
  },
  {
   "cell_type": "markdown",
   "id": "69b86c21-8c81-4105-86d6-126940755b0a",
   "metadata": {},
   "source": [
    "---\n",
    "\n",
    "**Beanstandungen:**\n",
    "\n",
    "\\begin{equation*}\n",
    "\\begin{split}\n",
    "&\\\\\n",
    "&\\\\\n",
    "&\\\\\n",
    "&\\\\\n",
    "&\\\\\n",
    "&\\\\\n",
    "&\\\\\n",
    "&\\\\\n",
    "&\\\\\n",
    "&\\\\\n",
    "\\end{split}\n",
    "%\\text{\\vspace{10cm}}\n",
    "\\end{equation*}\n",
    "\n",
    "<br>\n",
    "Testiert am: __________________ Vermerk: __________________"
   ]
  },
  {
   "cell_type": "markdown",
   "id": "f52af89d-8251-4030-be4c-c09ac9d4238b",
   "metadata": {},
   "source": [
    "# Interferenz\n",
    "\n",
    "## Motivation\n",
    "\n",
    "Bei diesem Versuch geht es um Beugungs- und Interferenzerscheinungen des Lichts, also um Phänomene deren Deutung auf dem Wellencharakter des Lichts beruht. Interferenzerscheinungen können in der Natur oft beobachtet werden, z.B. als Farben dünner Schichten (bei Seifenblasen oder Ölfilmen auf Wasseroberflächen), als störende Farbschlieren bei der Diaprojektion oder als Beugung an Kanten. Die technischen Anwendungen sind vielfältig. Beispiele dafür sind Interferometer für diverse Messzwecke, Interferenzfilter und holographische Verfahren.\n",
    "\n",
    "Es gibt verschiedene Möglichkeiten zur Erzeugung monochromatischen Lichts. Abgesehen von Lasern, denen zwei eigene Praktikumsversuche gewidmet sind, werden hier Spektrallampen eingesetzt, deren charakteristische Linienspektren durch die Atomphysik erklärt werden. Eine viel weniger aufwändige (und sehr viel billigere) Lichtquelle stellt die LED dar, die im ersten Teil dieses Versuchs zur Anwendung kommt. Durch den Vergleich einer farbigen LED mit einer weißen oder gar der Na-Spektrallampe können Sie sich ein Bild davon machen, wie „monochromatisch“ ein solches Bauteil wirklich ist.\n",
    "\n",
    "## Lernziele\n",
    "\n",
    "Wir listen im Folgenden die wichtigsten **Lernziele** auf, die wir Ihnen mit dem Versuch **Interferenz** vermitteln möchten: \n",
    "\n",
    "- Sie üben sich in der Verwendung optischer Geräte.\n",
    "- Sie vertiefen Ihr Verständnis für die Phänomene der Beugung und Interferenz an Spalt und Gitter.\n",
    "- Sie untersuchen die Spektren von $\\mathrm{Na}$ und $\\mathrm{Zn}$. "
   ]
  },
  {
   "cell_type": "markdown",
   "id": "f362b1cf-5e6f-4460-b145-df3c2a02ad5f",
   "metadata": {},
   "source": [
    "## Versuchsaufbau\n",
    "\n",
    "Im Folgenden finden Sie einige Bilder der für diesen Versuch verwendeten Aufbauten:\n",
    "\n",
    "Stereomikroskope für Beobachtungen mit dem Licht verschiedener LEDs (Aufgabe 1): ([Link](https://git.scc.kit.edu/etp-lehre/p2-for-students/-/raw/main/Interferenz/figures/Stereomikroskop.jpg))\n",
    "\n",
    "<img src=\"./figures/Stereomikroskop.jpg\" height=\"500\" width=\"500\" style=\"zoom:80%;\" />\n",
    "\n",
    "Mit dem LED Licht aufgenommene [Newtonsche Ringe](https://de.wikipedia.org/wiki/Newtonsche_Ringe) (hier mit rotem LED Licht): ([Link](https://git.scc.kit.edu/etp-lehre/p2-for-students/-/raw/main/Interferenz/figures/Newtonsche_Ringe_rot.jpg))\n",
    "\n",
    "<img src=\"./figures/Newtonsche_Ringe_rot.jpg\" style=\"zoom:80%;\" />\n",
    "\n",
    "Anordnung zur Bestimmung der Autokollimation (Aufgabe 1.3): ([Link](https://git.scc.kit.edu/etp-lehre/p2-for-students/-/raw/main/Interferenz/figures/Autokollimation.jpg))\n",
    "\n",
    "<img src=\"./figures/Autokollimation.jpg\" height=\"500\" width=\"500\" style=\"zoom:80%;\" />\n",
    "\n",
    "Spektrometer mit Spektrallampen (Aufgabe 2): ([Link](https://git.scc.kit.edu/etp-lehre/p2-for-students/-/raw/main/Interferenz/figures/Spektrometer.jpg))\n",
    "\n",
    "<img src=\"./figures/Spektrometer.jpg\" height=\"500\" width=\"500\" style=\"zoom:80%;\" />\n",
    "\n",
    "Für die verschiedenen Versuchsteile stehen Ihnen die folgenden Geräte zur Verfügung: \n",
    "\n",
    "- Auflichtmikroskope, Objektiv ($1\\times$), Okular ($10\\times$) mit Fadenkreuz, mit Zoom-Faktoren von 1 bis 4. Seitlich einfallendes Licht wird durch einen teildurchlässigen, planen $45^{\\circ}$-Reflektor von oben auf das Objekt gelenkt. Der Objekttisch (Kreuztisch) ist in beiden Richtungen verschiebbar. Die Verschiebungen sind an Millimeterskalen mit einem [Nonius](https://de.wikipedia.org/wiki/Nonius) ablesbar.\n",
    "- LED-Leuchten in den folgenden Wellenlängenbereichen: $465\\,\\mathrm{nm}$ (blau), $520\\,\\mathrm{nm}$ (grün), $590\\,\\mathrm{nm}$ (gelb), $625\\,\\mathrm{nm}$ (rot).\n",
    "- Symmetrische plankonvexe Linsen mit verschiedenen Brennweiten zwischen $5-35\\,\\mathrm{cm}$.\n",
    "- Linsenhalter mit Wechselfassungen.\n",
    "- Eine Mattscheibe mit undurchsichtigem Muster.\n",
    "- Ein justierbarer Planspiegel.\n",
    "- Eine Zeißschiene mit Reitern.\n",
    "- Eine Glühlampe in einem Lampengehäuse mit zugehörigem Transformator.\n",
    "- Gitterspektrometer bestehend aus:\n",
    "  - Einem feststehendes Spaltrohr mit symmetrisch einstellbarem Spalt (S) am äußeren und [Achromat](https://de.wikipedia.org/wiki/Achromat) (L1, mit Brennweite $f=18\\,\\mathrm{cm}$ und Durchmesser $d=17,5\\,\\mathrm{mm}$) am inneren Ende. Der Abstand SL1 ist im Bereich $17,5-18,5\\,\\mathrm{cm}$ einstellbar.\n",
    "  - Einem dreh- und arretierbaren Tisch mit Teilkreis von $0-360^{\\circ}$, mit $1^{\\circ}$-Teilung. Darauf justierbar bezüglich der Teilung befindet sich ein Halter für eine entsprechendes Gitter G. Der Abstand L1G beträgt $\\approx6\\,\\mathrm{cm}$.\n",
    "  - Ein um die Tischachse schwenkbares Fernrohr mit Nonius am Teilkreis des Tisches, achromatischem Objektiv (L2, mit Brennweite $f=17\\,\\mathrm{cm}$ und Durchmesser $d=17,5\\,\\mathrm{mm}$), Okular (L3, Vergößerung $8\\times$, Brennweite $f=3\\,\\mathrm{cm}$ und Fadenkreuz; verschiebbar im Fernrohrtubus). Der Abstand GL2 beträgt $\\approx6\\,\\mathrm{cm}$.\n",
    "  - Das Fernrohr hat noch eine weitere Feinverstellmöglichkeit bezüglich des Teilkreises. Die zugehörige Mikrometerschraube trägt eine zusätzliche Skala, die mit Hilfe des Nonius geeicht werden kann und die Messung von Winkeldifferenzen ermöglicht, die am Nonius direkt nicht mehr abgelesen werden können.\n",
    "- Verschiedene Gitter (in Form von Kollodiumfolien o.ä.) zwischen Diagläsern. Die nutzbare Breite beträgt $\\approx36\\,\\mathrm{mm}$, die nutzbare Höhe $\\approx24\\,\\mathrm{mm}$ und die Liniendichte $\\approx140\\,\\mathrm{mm}^{-1}$ und $\\approx600\\,\\mathrm{mm}^{-1}$.\n",
    "- Spiegel (passend zum Gitterhalter).\n",
    "- $\\mathrm{Na}$ und $\\mathrm{Zn}$ Spektrallampen. Dabei handelt es sich um Wechselstrombetriebene Niederdruck-Gasentladungslampen mit nur mäßiger Erwärmung und beidseitigen Glühkathoden. Die $\\mathrm{Na}$-Lampe funktioniert (bis auf die fehlende Leuchtschicht und die andersartige Füllung) wie eine übliche Leuchtstoffröhre. Der Glimm-Bimetall-Zünder ist in den Lampenkolben integriert. Die Vorschaltdrossel befindet sich in einem Universal-Vorschaltgerät. Sehen Sie sich die Lampe ruhig genauer an und diskutieren Sie ihre funktionsweise mit dem/der Tutor:in, falls Ihnen noch nicht bekannt sein sollte, wie das Zünden und Brennen einer Leuchtstoffröhre funktioniert. Der Mittelwert der Wellenlängen der beiden gelben $\\mathrm{Na}$-Linien beträgt $\\langle \\lambda\\rangle=589,3\\,\\mathrm{nm}$. Die $\\mathrm{Zn}$-Lampe ist anders aufgebaut. Sie enthält temperaturabhängige Widerstände.\n"
   ]
  },
  {
   "cell_type": "markdown",
   "id": "3cb7ef3e-2308-4333-9d53-405235769fc7",
   "metadata": {},
   "source": [
    "## Durchführung\n",
    "\n",
    "### Vorstudie\n",
    "\n",
    "Im Praktikum geht es auch um das Kennenlernen von unterschiedlichen Geräten als Handwerkszeug eines Physikers. Obwohl ein schlichtes, einäugiges Gerät für die Vermessung der [Newtonschen Ringe](https://de.wikipedia.org/wiki/Newtonsche_Ringe) ebenso gut geeignet wäre, steht Ihnen für den ersten Versuchsteil ein Stereo-Zoom-Mikroskop zur Verfügung.\n",
    "\n",
    "- Machen Sie sich mit diesem Gerät vertraut.\n",
    "- Überzeugen Sie sich durch Zukneifen je eines Auges, das beide Augen ein leicht unterschiedliches, scharfes Bild des zu untersuchenden Objekts sehen."
   ]
  },
  {
   "cell_type": "markdown",
   "id": "af793a24-0bd5-4bcc-9c7a-9810f323e95d",
   "metadata": {},
   "source": [
    "### Aufgabe 1: Newtonsche Ringe\n",
    "\n",
    "#### Aufgabe 1.1\n",
    "\n",
    "Bestimmen Sie den Krümmungsradius $R$ einer symmetrischen, sphärischen, plankonvexen Linse aus der Beobachtung der Newtonschen Ringe unter dem Mikroskop. Gehen Sie dabei wie folgt vor:\n",
    "\n",
    "Auf dem verschiebbaren Objekttisch des Mikroskops liegt ein planer Objektträger und darauf die Linse. Als Auflichtquelle dient eine einfarbige LED, dere Licht von vorn über einen Strahlteiler eingekoppelt wird. Reflexionen gibt es unter anderem an der unteren Linsenfläche (Glas-Luft-Übergang) und an der oberen Objektträgerfläche (Luft-Glas-Übergang). Je nach Länge des zusätzlichen Lichtweges $2d$ ergibt sich konstruktive oder destruktive Interferenz. Bei der Herleitung des Zusammenhanges zwischen Durchmesser $2r_{k}$ des $k$-ten dunklen Newtonringes, Wellenlänge $\\lambda$ des benutzten Lichts, Brechungsindex $n_\\mathrm{L}\\approx1$ der Luft und $R$ müssen Sie ein zusätzlichen Phasensprung um $\\pi$ bei der Reflexion am optisch dichteren Medium berücksichtigen.\n",
    "\n",
    "- Verifizieren Sie die Formel $$\\frac{r_{k}^{2}}{R} = \\frac{k\\,\\lambda}{n_\\mathrm{L}}.$$\n",
    "- Bestimmen Sie $R$ aus der Steigung einer Regressionsgeraden durch mehrere Messpunkte (in manchen Fällen können Sie Newtonsche Ringe bis zur Ordnung $k=30$ beobachten; oft kann jedoch nur bis $k=20$ gemessen werden). Bei der Anpassung der Geraden können Sie nicht à priori davon ausgehen, dass es sich um eine Ursprungsgerade handelt. Es könnte z.B. Staub zwischen Linse und Objektträger geraten sein, oder die Linse könnte in ihrem Scheitel abgenutzt sein.\n",
    "- Führen Sie die Messung erst mit der gelben, dann mit der blauen LED durch.\n",
    "- Diskutieren Sie für Ihre Auswertung die folgenden Fragen:\n",
    "  - Wieso spielen die übrigen Reflexionen keine Rolle für das Auftreten von Interferenzerscheinungen?\n",
    "  - Welchen wesentlichen Nachteil hätte eine Durchlicht- im Gegensatz zu einer Auflichtbeobachtung?\n",
    "\n",
    "---"
   ]
  },
  {
   "cell_type": "markdown",
   "id": "21599282-e22b-4409-b78b-3ded8f81bd15",
   "metadata": {},
   "source": [
    "**Lösung:**\n",
    "\n",
    "*Sie können Ihr Protokoll direkt in dieses Dokument einfügen. Wenn Sie dieses Dokument als Grundlage für ein [Jupyter notebook](https://jupyter.org/) verwenden wollen können Sie die Auswertung, Skripte und ggf. bildliche Darstellungen mit Hilfe von [python](https://www.python.org/) ebenfalls hier einfügen. Löschen Sie hierzu diesen kursiv gestellten Text aus dem Dokument.* \n",
    "\n",
    "---"
   ]
  },
  {
   "cell_type": "markdown",
   "id": "045a4144-5e57-48fe-a3e9-7643333a7869",
   "metadata": {},
   "source": [
    "#### Aufgabe 1.2\n",
    "\n",
    "Bestimmen Sie den Brechungsindex von Wasser aus den veränderten Durchmessern der Newtonschen Ringe (unter Verwendung der gelben LED), wenn sich zwischen Linse und Objektträger Wasser statt Luft befindet.\n",
    "\n",
    "---"
   ]
  },
  {
   "cell_type": "markdown",
   "id": "2f4ee9ac-9fbb-4292-ba37-dddad9ea9db7",
   "metadata": {},
   "source": [
    "**Lösung:**\n",
    "\n",
    "*Sie können Ihr Protokoll direkt in dieses Dokument einfügen. Wenn Sie dieses Dokument als Grundlage für ein [Jupyter notebook](https://jupyter.org/) verwenden wollen können Sie die Auswertung, Skripte und ggf. bildliche Darstellungen mit Hilfe von [python](https://www.python.org/) ebenfalls hier einfügen. Löschen Sie hierzu diesen kursiv gestellten Text aus dem Dokument.* \n",
    "\n",
    "---"
   ]
  },
  {
   "cell_type": "markdown",
   "id": "f6d7f4bf-eee9-45a0-909e-04f3c7b54b58",
   "metadata": {},
   "source": [
    "#### Aufgabe 1.3\n",
    "\n",
    "Bestimmen Sie die Brennweite $f$ einer Linse durch Autokollimation. Gehen Sie dabei wie folgt vor:\n",
    "\n",
    "Verschieben Sie eine beleuchtete Mattscheibe mit scharfen Schatten (als \"selbstleuchtenden\" Gegenstand) vor der zu untersuchenden Linse so, dass er seitenverkehrt wieder scharf auf sich selbst abgebildet wird, wenn hinter der Linse ein Planspiegel das Licht reflektiert. Dabei ist der Abstand zwischen Spiegel und Linse unerheblich.\n",
    "\n",
    "---"
   ]
  },
  {
   "cell_type": "markdown",
   "id": "cea7b8a8-83e0-410e-8eef-ea526094076b",
   "metadata": {},
   "source": [
    "**Lösung:**\n",
    "\n",
    "*Sie können Ihr Protokoll direkt in dieses Dokument einfügen. Wenn Sie dieses Dokument als Grundlage für ein [Jupyter notebook](https://jupyter.org/) verwenden wollen können Sie die Auswertung, Skripte und ggf. bildliche Darstellungen mit Hilfe von [python](https://www.python.org/) ebenfalls hier einfügen. Löschen Sie hierzu diesen kursiv gestellten Text aus dem Dokument.* \n",
    "\n",
    "---"
   ]
  },
  {
   "cell_type": "markdown",
   "id": "1cec2085-a862-47a1-aff8-792372f4caa9",
   "metadata": {},
   "source": [
    "#### Aufgabe 1.4\n",
    "\n",
    "Bestimmen Sie den Brechungsindex $n$ des Linsenglases aus Radius $R$ der Linse und der Brennweite $f$. Verifizieren Sie die hierzu benötigte Formel \n",
    "\n",
    "$$\n",
    "R=2\\,(n-1)\\,f\n",
    "$$ \n",
    "\n",
    "auf einfache Weise mit der Näherung für eine dünne Linse und der [paraxialen](https://de.wikipedia.org/wiki/Paraxiale_Optik) Näherung für einen achsennahen Strahlengang.\n",
    "\n",
    "---"
   ]
  },
  {
   "cell_type": "markdown",
   "id": "9190f504-dfa2-423d-9ca3-651d7c5310ce",
   "metadata": {},
   "source": [
    "**Lösung:**\n",
    "\n",
    "*Sie können Ihr Protokoll direkt in dieses Dokument einfügen. Wenn Sie dieses Dokument als Grundlage für ein [Jupyter notebook](https://jupyter.org/) verwenden wollen können Sie die Auswertung, Skripte und ggf. bildliche Darstellungen mit Hilfe von [python](https://www.python.org/) ebenfalls hier einfügen. Löschen Sie hierzu diesen kursiv gestellten Text aus dem Dokument.* \n",
    "\n",
    "---"
   ]
  },
  {
   "cell_type": "markdown",
   "id": "12300847-62f2-4d83-8cb8-1eced9707146",
   "metadata": {},
   "source": [
    "### Aufgabe 2: Beugung am Gitter\n",
    "\n",
    "#### Aufgabe 2.1\n",
    "\n",
    "Justieren Sie das Gitterspektrometer. Gehen Sie dabei wie folgt vor:\n",
    "\n",
    "1. Stellen Sie die Brennweite des Fernrohres (durch Verschieben des Okulars) auf \"unendlich\", indem Sie einen weit entfernten Gegenstand scharf einstellen. Bei richtiger Einstellung darf dabei bei Kopfbewegung keine Verschiebung (Parallaxe) von einem beobachteten Detail und dem Fadenkreuz zu sehen sein. Normalsichtige beobachten mit entspanntem (d.h. auf \"Unendlich\" gerichtetem) Auge. Kurzsichtige können Parallellicht nicht auf die Netzhaut fokussieren und benötigen (ohne Kontaktlinse oder Brille) eine etwas abweichende Einstellung.\n",
    "2. Beleuchten Sie den Spalt mit der $\\mathrm{Na}$-Spektrallampe. Überlegen Sie, ob ein Kondensor (Abbildung der Lichtquelle in die Apparatur) von Vorteil sein kann. Beobachten Sie den schmal eingestellten Spalt durch das Fernrohr. Stellen Sie ihn durch Verschieben des Spaltes scharf und bringen Sie ihn dann durch Schwenken des Fernrohres mit dem Fadenkreuz zur Deckung. Stellen Sie den Spektrometertisch mit Teilkreis geeignet ein (Nullstellung) und arretieren Sie ihn. Setzen Sie dann den Spiegel in den Gitterhalter ein (verwenden Sie hierzu einen weit geöffneten Spalt). Stellen Sie zwischen Spalt und Lampe einen Objektträger so unter $45^{\\circ}$ gegen die Achse auf, dass von der Seite her über diesen \"Strahlteiler\" das vom Spiegel reflektierte Licht sichtbar wird, falls es durch den Spalt zurücktrifft. Der Spiegel (und damit der Gitterhalter) ist also senkrecht zur Achse justiert (Justierung am Rändelrand des Gitterhalters). Stellen Sie dann den Spalt wieder schmal ein. Tauschen Sie schließlich den Spiegel gegen das Gitter aus.\n",
    "\n",
    "---"
   ]
  },
  {
   "cell_type": "markdown",
   "id": "7e98c85d-ca9b-4d50-a88f-1cc511dcf51c",
   "metadata": {},
   "source": [
    "#### Aufgabe 2.2\n",
    "\n",
    "Bestimmen Sie die Gitterkonstante eines Gitters. Gehen Sie dabei wie folgt vor:\n",
    "\n",
    "Das Gitter ist nur mit \"Gitter\" bezeichnet. Es hat etwa 600 Striche pro Millimeter. Das Öffnungsverhältnis des Gitters ist mit $b/g\\approx0,9$ sehr groß. Damit wird erreicht, dass die Spaltbreite nicht im Bereich von $\\lambda/2$ liegt. Die Breite des Gitters ist genügend groß, um den ganzen Querschnitt des Parallellichtbündels im Spektrometer auszunutzen. Zur Messung wird das gelbe Licht der $\\mathrm{Na}$-Spektrallampe verwendet. Legen Sie für Ihre Messungen nur die mittlere Wellenlänge $\\langle \\lambda\\rangle$ der Doppellinie des $\\mathrm{Na}$-Spektrums zugrunde; der Abstand der beiden Linien ($\\approx\\,0,5\\,\\mathrm{nm}$) soll in der nächsten Aufgabe genauer bestimmt werden.\n",
    "\n",
    "Überlegen Sie sich schon bei der Vorbereitung die Antworten auf die folgenden Fragen:\n",
    " - Unter welchen Winkeln sind etwa Maxima (Hauptmaxima) zu erwarten?\n",
    " - Sind diese vielleicht durch Minima der Beugungsbilds des Einzelspaltes ausgelöscht?\n",
    " - Wie breit sind die Maxima in etwa?\n",
    " - Welches Intensitätsverhältnis haben die Maxima?\n",
    " - Wie gut ist das theoretische [Auflösungsvermögen](https://de.wikipedia.org/wiki/Aufl%C3%B6sungsverm%C3%B6gen)?\n",
    " - Wie schmal müssten Sie den Spalt einzustellen um dieses zu nutzen?\n",
    " - Ist die Doppellinie getrennt beobachtbar und ihr Abstand messbar?\n",
    "  \n",
    "---"
   ]
  },
  {
   "cell_type": "markdown",
   "id": "1fff2244-01db-45ca-96a4-96c8b0e3724f",
   "metadata": {},
   "source": [
    "**Lösung:**\n",
    "\n",
    "*Sie können Ihr Protokoll direkt in dieses Dokument einfügen. Wenn Sie dieses Dokument als Grundlage für ein [Jupyter notebook](https://jupyter.org/) verwenden wollen können Sie die Auswertung, Skripte und ggf. bildliche Darstellungen mit Hilfe von [python](https://www.python.org/) ebenfalls hier einfügen. Löschen Sie hierzu diesen kursiv gestellten Text aus dem Dokument.* \n",
    "\n",
    "---"
   ]
  },
  {
   "cell_type": "markdown",
   "id": "0b3cb79c-2146-4afd-a80c-5f5a6e8772bb",
   "metadata": {},
   "source": [
    "#### Aufgabe 2.3\n",
    "\n",
    "Bestimmen Sie den Wellenlängenabstand der gelben $\\mathrm{Na}$-Spektrallinien. Verwenden Sie hierzu das Gitter von Aufgabe 2.2 und die zu eichende Feineinstellung mit Skala am Spektrometer.\n",
    "\n",
    "---"
   ]
  },
  {
   "cell_type": "markdown",
   "id": "3e2baade-f4ae-428e-94d4-6a54d4618e46",
   "metadata": {},
   "source": [
    "**Lösung:**\n",
    "\n",
    "*Sie können Ihr Protokoll direkt in dieses Dokument einfügen. Wenn Sie dieses Dokument als Grundlage für ein [Jupyter notebook](https://jupyter.org/) verwenden wollen können Sie die Auswertung, Skripte und ggf. bildliche Darstellungen mit Hilfe von [python](https://www.python.org/) ebenfalls hier einfügen. Löschen Sie hierzu diesen kursiv gestellten Text aus dem Dokument.* \n",
    "\n",
    "---"
   ]
  },
  {
   "cell_type": "markdown",
   "id": "aa0fdc9d-92b6-434d-902a-e7a0818edab6",
   "metadata": {},
   "source": [
    "#### Aufgabe 2.4\n",
    "\n",
    "Bestimmen Sie die Gitterkonstante eines zweiten Gitters. Gehen Sie hierzu wie folgt vor:\n",
    "\n",
    "Das Gitter ist mit dem Grobwert $140\\,\\mathrm{mm}^{-1}$ für die Strichdichte bezeichnet. Details der Gitterstruktur sind nicht bekannt. Als Lichtquelle dient wieder die $\\mathrm{Na}$-Spektrallampe. Beantworten Sie die folgenden Fragen:\n",
    "\n",
    "- Das Gitter kann bis bis zu 6. Ordnung mit monoton abnehmender Intensität in jeder Ordnung beobachtet werden. Haben Sie eine Erklärung dafür?\n",
    "- Von welcher Ordnung ab ist die $\\mathrm{Na}$-Doppellinie getrennt beobachtbar?\n",
    "- Entspricht dies dem theoretischen Auflösungsvermögen?\n",
    "\n",
    "---"
   ]
  },
  {
   "cell_type": "markdown",
   "id": "8c1a184d-6b0f-4aaa-a9e1-aa4287523f02",
   "metadata": {},
   "source": [
    "**Lösung:**\n",
    "\n",
    "*Sie können Ihr Protokoll direkt in dieses Dokument einfügen. Wenn Sie dieses Dokument als Grundlage für ein [Jupyter notebook](https://jupyter.org/) verwenden wollen können Sie die Auswertung, Skripte und ggf. bildliche Darstellungen mit Hilfe von [python](https://www.python.org/) ebenfalls hier einfügen. Löschen Sie hierzu diesen kursiv gestellten Text aus dem Dokument.* \n",
    "\n",
    "---"
   ]
  },
  {
   "cell_type": "markdown",
   "id": "b1367bf8-7e56-4457-9abf-6733b40a008f",
   "metadata": {},
   "source": [
    "#### Aufgabe 2.5\n",
    "\n",
    "Messen Sie möglichst genau die Wellenlängen der vier deutlich erkennbaren Linien einer $\\mathrm{Zn}$-Spektrallampe. Die Farben sind violettblau, blau, blaugrün und rot. Begründen Sie Ihre Wahl der Mittel und der Methode in Ihrer Auswertung.\n",
    "\n",
    "---"
   ]
  },
  {
   "cell_type": "markdown",
   "id": "d34a1067-f4b5-4c35-8efb-ab66123dd0a7",
   "metadata": {},
   "source": [
    "**Lösung:**\n",
    "\n",
    "*Sie können Ihr Protokoll direkt in dieses Dokument einfügen. Wenn Sie dieses Dokument als Grundlage für ein [Jupyter notebook](https://jupyter.org/) verwenden wollen können Sie die Auswertung, Skripte und ggf. bildliche Darstellungen mit Hilfe von [python](https://www.python.org/) ebenfalls hier einfügen. Löschen Sie hierzu diesen kursiv gestellten Text aus dem Dokument.* \n",
    "\n",
    "---"
   ]
  }
 ],
 "metadata": {
  "kernelspec": {
   "display_name": "Python 3 (ipykernel)",
   "language": "python",
   "name": "python3"
  },
  "language_info": {
   "codemirror_mode": {
    "name": "ipython",
    "version": 3
   },
   "file_extension": ".py",
   "mimetype": "text/x-python",
   "name": "python",
   "nbconvert_exporter": "python",
   "pygments_lexer": "ipython3",
   "version": "3.10.10"
  }
 },
 "nbformat": 4,
 "nbformat_minor": 5
}
