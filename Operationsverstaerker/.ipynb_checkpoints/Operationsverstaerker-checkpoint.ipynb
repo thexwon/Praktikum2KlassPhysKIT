{
 "cells": [
  {
   "cell_type": "markdown",
   "id": "0827c0d2-1c67-46dd-8518-09dc27ee5711",
   "metadata": {},
   "source": [
    "<img src=\"./figures/Logo_KIT.svg\" width=\"250\" height=\"250\" style=\"zoom:15%;float:right;\" />\n",
    "\n",
    "# Fakultät für Physik\n",
    "\n",
    "## Physikalisches Praktikum P2 für Studierende der Physik\n",
    "\n",
    "Versuch P2-59, 60, 61 (Stand: April 2023)\n",
    "\n",
    "[Raum F1-15](http://www-ekp.physik.uni-karlsruhe.de/~simonis/praktikum/layoutobjekte/Lageplan_P1.png)"
   ]
  },
  {
   "cell_type": "markdown",
   "id": "7297858c-c874-40af-b86c-5fac9566bdb0",
   "metadata": {},
   "source": [
    "Name: __________________ Vorname: __________________ E-Mail: __________________\n",
    "\n",
    "\\begin{equation*}\n",
    "\\begin{split}\n",
    "&\\\\\n",
    "&\\\\\n",
    "\\end{split}\n",
    "\\end{equation*}\n",
    "\n",
    "Name: __________________ Vorname: __________________ E-Mail: __________________\n",
    "\n",
    "\\begin{equation*}\n",
    "\\begin{split}\n",
    "&\\\\\n",
    "&\\\\\n",
    "&\\\\\n",
    "\\end{split}\n",
    "\\end{equation*}\n",
    "\n",
    "Gruppennummer: _____\n",
    "\n",
    "\\begin{equation*}\n",
    "\\begin{split}\n",
    "&\\\\\n",
    "&\\\\\n",
    "&\\\\\n",
    "\\end{split}\n",
    "\\end{equation*}\n",
    "\n",
    "\n",
    "Betreuer: __________________\n",
    "\n",
    "\\begin{equation*}\n",
    "\\begin{split}\n",
    "&\\\\\n",
    "&\\\\\n",
    "&\\\\\n",
    "\\end{split}\n",
    "\\end{equation*}\n",
    "\n",
    "Versuch durchgeführt am: __________________"
   ]
  },
  {
   "cell_type": "markdown",
   "id": "890c46ee-35b0-434a-b08e-e4ad748da35c",
   "metadata": {},
   "source": [
    "---\n",
    "\n",
    "**Beanstandungen:**\n",
    "\n",
    "\\begin{equation*}\n",
    "\\begin{split}\n",
    "&\\\\\n",
    "&\\\\\n",
    "&\\\\\n",
    "&\\\\\n",
    "&\\\\\n",
    "&\\\\\n",
    "&\\\\\n",
    "&\\\\\n",
    "&\\\\\n",
    "&\\\\\n",
    "\\end{split}\n",
    "%\\text{\\vspace{10cm}}\n",
    "\\end{equation*}\n",
    "\n",
    "<br>\n",
    "Testiert am: __________________ Vermerk: __________________"
   ]
  },
  {
   "cell_type": "markdown",
   "id": "35ee49d1-9b3b-4e29-babb-bc95d08f8491",
   "metadata": {},
   "source": [
    "# Operationsverstärker\n",
    "\n",
    "## Motivation\n",
    "\n",
    "Einfache elektrische Verstärkerschaltungen sind vielfach verwendete Hilfsmittel im physikalischen Labor. Jede:r Experimentalphysiker:in (und auch jPhysiklehrer:in) sollte in der Lage sein, Sie bei Bedarf rasch zu konzipieren und aufzubauen.\n",
    "\n",
    "## Lernziele\n",
    "\n",
    "Wir listen im Folgenden die wichtigsten **Lernziele** auf, die wir Ihnen mit dem Versuch **Operationsverstärker** vermitteln möchten: \n",
    "\n",
    "- Sie lernen zwei Grundbausteine von Verstärkerschaltungen kennen: den Transistor und den Operationsverstärker. Im Vordergrund steht dabei die Anwendung dieser beiden Elemente in konkreten Schaltungen und nicht ihr \"halbleiterphysikalisches Innenleben\", das erst in späteren Vorlesungen behandelt werden wird. An dieser Stelle genügen zunächst einfache Modellvorstellungen."
   ]
  },
  {
   "cell_type": "markdown",
   "id": "338beca2-52d7-445d-b5ab-12e97dd6a962",
   "metadata": {},
   "source": [
    "## Versuchsaufbau\n",
    "\n",
    "Im Folgenden sehen Sie den Arbeitsplatz an dem der Versuch durchegführt wird abgebildet: ([Link](https://git.scc.kit.edu/etp-lehre/p2-for-students/-/raw/main/Operationsverstaerker/figures/Operationsverstaerker.jpg))\n",
    "\n",
    "<img src=\"./figures/Operationsverstaerker.jpg\" width=\"750\" height=\"750\" style=\"zoom:50%;\" />\n",
    "\n",
    "Alle Schaltungen werden auf der abgebildeten Experimentier-Platine (*breed board*) aufgebaut. Es besteht aus vier Bereichen, die für verschiedene Aufgabenteile verwendet werden.\n",
    "\n",
    "1. Transistor: Hier wird die Emitterschaltung aus Aufgabe 1 aufgebaut.\n",
    "2. Operationsverstärker (OPV) 1 und 2: In diesem Bereich werden die Aufgaben bis 4.2 aufgebaut. Links und rechts beﬁndet sich jeweils ein bereits an die Spannungsversorgung angeschlossener Operationsverstärker. In der Mitte ist ein $10\\,\\mathrm{k\\Omega}$ Potentiometer angebracht.\n",
    "3. Operationsverstärker 3: Dieser OPV ist nicht an die Spannungsversorgung angeschlossen und wird bei keiner der Aufgaben 1 bis 4 verwendet.\n",
    "4. Spannungsversorgung: Hier ist das Netzteil untergebracht, das die OPV mit $\\pm15\\,\\mathrm{V}$ versorgt (blau: $-15\\,\\mathrm{V}$, weiß: $+15\\,\\mathrm{V}$, schwarz: $0\\,\\mathrm{V}$ / GND).\n",
    "\n",
    "In der folgenden Abbilding sind die angegebenen Bereiche rot hervorgehoben: ([Link](https://git.scc.kit.edu/etp-lehre/p2-for-students/-/raw/main/Operationsverstaerker/figures/Experimentierboard.png)) \n",
    "<img src=\"./figures/Experimentierboard.png\" width=\"750\" height=\"750\" style=\"zoom:30%;\" />"
   ]
  },
  {
   "cell_type": "markdown",
   "id": "b29a90f9-638c-48e5-af7d-4635e8ca3947",
   "metadata": {},
   "source": [
    "## Durchführung\n",
    "\n",
    "### Aufgabe 1: Emitterschaltung eines Transistors\n",
    "\n",
    "Hierbei handelt es sich um die am häufigsten verwendete Transistorverstärkerschaltung. Verwenden Sie dafür aber hier nicht zuviel Zeit. Die Aufgaben zum Operationsverstärker (ab Aufgabe 2) sollten vorrangig erarbeitet werden.\n",
    "\n",
    "#### Aufgabe 1.1\n",
    "\n",
    "Bauen Sie auf der Experimentier-Platine den einstufigen gleichstromgegengekoppelten Transistorverstärker auf. Gehen Sie dabei durch die folgenden Punkte:\n",
    "\n",
    "- Welche Funktionen haben die einzelnen Bauelemente, speziell $R_{e}$?\n",
    "- Überprüfen Sie die Lage des Arbeitspunktes.\n",
    "- Wozu dient der Kondensator $C_{e}$?\n",
    "- Erläutern Sie Sinn und Wirkungsweise der Gegenkopplung.\n",
    "\n",
    "---"
   ]
  },
  {
   "cell_type": "markdown",
   "id": "9456da37-179b-403c-a047-ef34a98b6972",
   "metadata": {},
   "source": [
    "**Lösung:**\n",
    "\n",
    "*Sie können Ihr Protokoll direkt in dieses Dokument einfügen. Wenn Sie dieses Dokument als Grundlage für ein [Jupyter notebook](https://jupyter.org/) verwenden wollen können Sie die Auswertung, Skripte und ggf. bildliche Darstellungen mit Hilfe von [python](https://www.python.org/) ebenfalls hier einfügen. Löschen Sie hierzu diesen kursiv gestellten Text aus dem Dokument.* \n",
    "\n",
    "---"
   ]
  },
  {
   "cell_type": "markdown",
   "id": "055ce4d2-e20b-4266-8e27-6029a6cd9530",
   "metadata": {},
   "source": [
    "#### Aufgabe 1.2\n",
    "\n",
    "Führen Sie dem Verstärker als Eingangssignal eine Dreieckspannung mittlerer Frequenz (ca. $1\\,\\mathrm{kHz}$) zu, beobachten Sie oszilloskopisch das Ausgangssignal und bestimmen Sie die Verstärkung. Stellen Sie durch Variation der Amplitude des Eingangssignals verschiedene Ausgangsamplituden (etwa $3V_{SS}$ und $10V_{SS}$) ein und beurteilen Sie die Qualität des Verstärkers.\n",
    "\n",
    "---"
   ]
  },
  {
   "cell_type": "markdown",
   "id": "a3aade1b-8257-47b4-92e3-2f4c9201550c",
   "metadata": {},
   "source": [
    "**Lösung:**\n",
    "\n",
    "*Sie können Ihr Protokoll direkt in dieses Dokument einfügen. Wenn Sie dieses Dokument als Grundlage für ein [Jupyter notebook](https://jupyter.org/) verwenden wollen können Sie die Auswertung, Skripte und ggf. bildliche Darstellungen mit Hilfe von [python](https://www.python.org/) ebenfalls hier einfügen. Löschen Sie hierzu diesen kursiv gestellten Text aus dem Dokument.* \n",
    "\n",
    "---"
   ]
  },
  {
   "cell_type": "markdown",
   "id": "72016d01-643b-44a0-875c-ab3beacec56f",
   "metadata": {},
   "source": [
    "#### Aufgabe 1.3\n",
    "\n",
    "Entfernen Sie den Emitterkondensator $C_{e}$. Beobachten Sie wieder das Ausgangssignal bei verschiedenen Amplituden und bestimmen Sie die Verstärkung dieses stromgegengekoppelten Verstärkers. Gehen Sie dabei durch die folgenden Punkte:\n",
    "\n",
    "- Warum finden Sie gerade den Wert $R_{c}/R_{e}$ als Verstärkungsfaktor?\n",
    "- Erklären Sie die Wirkungsweise der Gegenkopplung durch $R_{e}$ (stromgegengekoppelter Verstärker).\n",
    "\n",
    "---"
   ]
  },
  {
   "cell_type": "markdown",
   "id": "9c2abffd-e49e-4a48-a0d9-f2e39fb98636",
   "metadata": {},
   "source": [
    "**Lösung:**\n",
    "\n",
    "*Sie können Ihr Protokoll direkt in dieses Dokument einfügen. Wenn Sie dieses Dokument als Grundlage für ein [Jupyter notebook](https://jupyter.org/) verwenden wollen können Sie die Auswertung, Skripte und ggf. bildliche Darstellungen mit Hilfe von [python](https://www.python.org/) ebenfalls hier einfügen. Löschen Sie hierzu diesen kursiv gestellten Text aus dem Dokument.* \n",
    "\n",
    "---"
   ]
  },
  {
   "cell_type": "markdown",
   "id": "f62ab445-6a57-4901-8b8f-c58a8005844e",
   "metadata": {},
   "source": [
    "#### Aufgabe 1.4\n",
    "\n",
    "Bestimmen Sie die Verstärkung des strom- und gleichstromgegengekoppelten Verstärkers für verschiedene Frequenzen ($10,\\:25,\\:50,\\:100\\:\\mathrm{und}\\:500\\,\\mathrm{Hz}$ sowie  $1,\\:5,\\:10,\\:50\\:\\mathrm{und}\\:100\\,\\mathrm{kHz}$). Besonders wichtig ist hierbei der Frequenzbereich $10\\,\\mathrm{Hz}$ bis $500\\,\\mathrm{Hz}$. Stellen Sie für beide Schaltungen den Verlauf der Verstärkung dar und erklären Sie ihn.\n",
    "\n",
    "---"
   ]
  },
  {
   "cell_type": "markdown",
   "id": "49585891-d132-4b80-855b-73307d509c2c",
   "metadata": {},
   "source": [
    "**Lösung:**\n",
    "\n",
    "*Sie können Ihr Protokoll direkt in dieses Dokument einfügen. Wenn Sie dieses Dokument als Grundlage für ein [Jupyter notebook](https://jupyter.org/) verwenden wollen können Sie die Auswertung, Skripte und ggf. bildliche Darstellungen mit Hilfe von [python](https://www.python.org/) ebenfalls hier einfügen. Löschen Sie hierzu diesen kursiv gestellten Text aus dem Dokument.* \n",
    "\n",
    "---"
   ]
  },
  {
   "cell_type": "markdown",
   "id": "b1f5e251-6139-4acd-8d6d-815fb2d901f8",
   "metadata": {},
   "source": [
    "### Aufgabe 2: Grundschaltung eines Operationsverstärkers\n",
    "\n",
    "#### Aufgabe 2.1\n",
    "\n",
    "Bauen Sie auf der Experimentier-Platine mit einem Operationsverstärker einen nichtinvertierenden Verstärker mit etwa zehnfacher Verstärkung. Gehen Sie dabei durch die folgenden Punkte:\n",
    "\n",
    "- Überprüfen Sie die Funktion der Schaltung.\n",
    "- Führen Sie dem Eingang eine Dreieckspannung mittlerer Frequenz ($1\\,\\mathrm{kHz}$) zu und beobachten Sie oszilloskopisch das Ausgangssigna1.\n",
    "- Vergleichen Sie die experimentell und rechnerisch ermittelten Verstärkungsfaktoren.\n",
    "\n",
    "---"
   ]
  },
  {
   "cell_type": "markdown",
   "id": "46efccf9-7172-4f3c-bac2-a6609b0eddb2",
   "metadata": {},
   "source": [
    "**Lösung:**\n",
    "\n",
    "*Sie können Ihr Protokoll direkt in dieses Dokument einfügen. Wenn Sie dieses Dokument als Grundlage für ein [Jupyter notebook](https://jupyter.org/) verwenden wollen können Sie die Auswertung, Skripte und ggf. bildliche Darstellungen mit Hilfe von [python](https://www.python.org/) ebenfalls hier einfügen. Löschen Sie hierzu diesen kursiv gestellten Text aus dem Dokument.* \n",
    "\n",
    "---"
   ]
  },
  {
   "cell_type": "markdown",
   "id": "5c5e648a-0717-4dbe-a4e0-c9f10ba6917d",
   "metadata": {},
   "source": [
    "#### Aufgabe 2.2\n",
    "\n",
    "Demonstrieren Sie den hohen Eingangswiderstand und den kleinen Ausgangswiderstand dieser Schaltung mit Hilfe geeigneter Verfahren.\n",
    "\n",
    "---"
   ]
  },
  {
   "cell_type": "markdown",
   "id": "04a21c24-0138-4b54-8e51-7bb8195a851b",
   "metadata": {},
   "source": [
    "**Lösung:**\n",
    "\n",
    "*Sie können Ihr Protokoll direkt in dieses Dokument einfügen. Wenn Sie dieses Dokument als Grundlage für ein [Jupyter notebook](https://jupyter.org/) verwenden wollen können Sie die Auswertung, Skripte und ggf. bildliche Darstellungen mit Hilfe von [python](https://www.python.org/) ebenfalls hier einfügen. Löschen Sie hierzu diesen kursiv gestellten Text aus dem Dokument.* \n",
    "\n",
    "---"
   ]
  },
  {
   "cell_type": "markdown",
   "id": "19bd111f-d2cd-4669-91ff-16eda9979efc",
   "metadata": {},
   "source": [
    "#### Aufgabe 2.3\n",
    "\n",
    "Bestimmen Sie die Verstärkung in Abhängigkeit von der Frequenz ($10\\:\\mathrm{und}\\:100\\,\\mathrm{Hz}$ sowie $1,\\:10,\\:25,\\:50,\\:75\\:\\mathrm{und}\\:100\\,\\mathrm{kHz}$). Gehen Sie dazu wie folgt vor: \n",
    "\n",
    "- Wählen Sie als Eingangssignal eine Sinuswechselspannung mit einer Amplitude von $0,5V_{SS}$ und beobachten Sie das Ausgangssignal oszilloskopisch.\n",
    "- Können Sie die bei hohen Frequenzen auftretenden Verzerrungen erklären?\n",
    "\n",
    "---"
   ]
  },
  {
   "cell_type": "markdown",
   "id": "15d5da59-dc43-47ae-afd8-20ca37c2082a",
   "metadata": {},
   "source": [
    "**Lösung:**\n",
    "\n",
    "*Sie können Ihr Protokoll direkt in dieses Dokument einfügen. Wenn Sie dieses Dokument als Grundlage für ein [Jupyter notebook](https://jupyter.org/) verwenden wollen können Sie die Auswertung, Skripte und ggf. bildliche Darstellungen mit Hilfe von [python](https://www.python.org/) ebenfalls hier einfügen. Löschen Sie hierzu diesen kursiv gestellten Text aus dem Dokument.* \n",
    "\n",
    "---"
   ]
  },
  {
   "cell_type": "markdown",
   "id": "73877967-75d1-4df3-8c86-5912858c7951",
   "metadata": {},
   "source": [
    "### Aufgabe 3: Die invertierende Grundschaltung\n",
    "\n",
    "Hierbei handelt es sich wohl die wichtigste Grundschaltung von Operationsverstärkern.\n",
    "\n",
    "#### Aufgabe 3.1\n",
    "\n",
    "Bauen Sie mit einem Operationsverstärker einen invertierenden Verstärker mit zehnfacher Verstärkung auf. Gehen Sie dabei durch die folgenden Punkte:\n",
    "\n",
    "- Überprüfen Sie die Funktion und erklären Sie die Wirkungsweise der Schaltung.\n",
    "- Leiten Sie die Verstärkung her.\n",
    "\n",
    "---"
   ]
  },
  {
   "cell_type": "markdown",
   "id": "317ca5ad-05dc-49cd-bcc4-60399eefd4fe",
   "metadata": {},
   "source": [
    "**Lösung:**\n",
    "\n",
    "*Sie können Ihr Protokoll direkt in dieses Dokument einfügen. Wenn Sie dieses Dokument als Grundlage für ein [Jupyter notebook](https://jupyter.org/) verwenden wollen können Sie die Auswertung, Skripte und ggf. bildliche Darstellungen mit Hilfe von [python](https://www.python.org/) ebenfalls hier einfügen. Löschen Sie hierzu diesen kursiv gestellten Text aus dem Dokument.* \n",
    "\n",
    "---"
   ]
  },
  {
   "cell_type": "markdown",
   "id": "df4ff381-ce33-4d6a-b616-82daa48db91f",
   "metadata": {},
   "source": [
    "#### Aufgabe 3.2\n",
    "\n",
    "Bauen Sie einen **Addierer** für zwei Eingangssignale auf. Als Eingangssignale können Sie eine Dreieck-, Rechteck- oder Sinusspannung (bis $1\\,\\mathrm{kHz}$) und eine mit den auf der Platine vorhandenen Potentiometern realisierbare regelbare Gleichspannungen im Bereich $-15\\,\\mathrm{V}$ bis $+15\\,\\mathrm{V}$ verwenden. Beobachten Sie die Ausgangsspannung oszilloskopisch. Schalten Sie dazu den Eingang des Oszilloskops auf „DC-Kopplung“, damit die Gleichspannung korrekt dargestellt wird. Diskutieren Sie Ihre Beobachtung.\n",
    "\n",
    "---"
   ]
  },
  {
   "cell_type": "markdown",
   "id": "fa707bf8-e8a9-4609-8d10-0e0586b37963",
   "metadata": {},
   "source": [
    "**Lösung:**\n",
    "\n",
    "*Sie können Ihr Protokoll direkt in dieses Dokument einfügen. Wenn Sie dieses Dokument als Grundlage für ein [Jupyter notebook](https://jupyter.org/) verwenden wollen können Sie die Auswertung, Skripte und ggf. bildliche Darstellungen mit Hilfe von [python](https://www.python.org/) ebenfalls hier einfügen. Löschen Sie hierzu diesen kursiv gestellten Text aus dem Dokument.* \n",
    "\n",
    "---"
   ]
  },
  {
   "cell_type": "markdown",
   "id": "cdf0c697-1fb4-478d-8ed4-46073047da30",
   "metadata": {},
   "source": [
    "#### Aufgabe 3.3\n",
    "\n",
    "Bauen Sie einen **lntegrierer** auf. Schalten Sie das Oszilloskop wieder zurück auf „AC-Kopplung“. Verwenden Sie als Eingangssignal Rechteck- und Dreieckspannungen niedriger Frequenz (im Bereich $50\\,\\mathrm{Hz}$ bis $100\\,\\mathrm{Hz}$) und großer Amplitude. Gehen Sie dabei durch die folgenden Punkte:\n",
    "\n",
    "- Beobachten Sie wieder oszilloskopisch.\n",
    "- Erklären Sie die Wirkungsweise der Schaltung (ohne Berücksichtigung des Widerstandes $R_{s}$, der nur der Stabilisierung des Integrierers dient).\n",
    "  \n",
    "---  "
   ]
  },
  {
   "cell_type": "markdown",
   "id": "fda4508c-c4a6-468e-99e9-7f9ddb987571",
   "metadata": {},
   "source": [
    "**Lösung:**\n",
    "\n",
    "*Sie können Ihr Protokoll direkt in dieses Dokument einfügen. Wenn Sie dieses Dokument als Grundlage für ein [Jupyter notebook](https://jupyter.org/) verwenden wollen können Sie die Auswertung, Skripte und ggf. bildliche Darstellungen mit Hilfe von [python](https://www.python.org/) ebenfalls hier einfügen. Löschen Sie hierzu diesen kursiv gestellten Text aus dem Dokument.* \n",
    "\n",
    "---"
   ]
  },
  {
   "cell_type": "markdown",
   "id": "2404b228-42a5-4c10-afed-1114b89b8ce3",
   "metadata": {},
   "source": [
    "#### Aufgabe 3.4\n",
    "\n",
    "Bauen Sie einen **Differenzierer** auf. Gehen sie dabei durch die folgenden Punkte:\n",
    "\n",
    "- Testen Sie die Funktion mit Rechteck- und Dreiecksignalen (im Bereich $50\\,\\mathrm{Hz}$ bis $500\\.\\mathrm{Hz}$).\n",
    "- Erklären Sie die Wirkungsweise der Schaltung.\n",
    "\n",
    "---"
   ]
  },
  {
   "cell_type": "markdown",
   "id": "7899ba91-10b2-437b-bc64-e559b2aedeb1",
   "metadata": {},
   "source": [
    "**Lösung:**\n",
    "\n",
    "*Sie können Ihr Protokoll direkt in dieses Dokument einfügen. Wenn Sie dieses Dokument als Grundlage für ein [Jupyter notebook](https://jupyter.org/) verwenden wollen können Sie die Auswertung, Skripte und ggf. bildliche Darstellungen mit Hilfe von [python](https://www.python.org/) ebenfalls hier einfügen. Löschen Sie hierzu diesen kursiv gestellten Text aus dem Dokument.* \n",
    "\n",
    "---"
   ]
  },
  {
   "cell_type": "markdown",
   "id": "ab39479d-61ee-41a4-8966-16687890fa92",
   "metadata": {},
   "source": [
    "### Aufgabe 4: Komplexere Schaltungen mit Operationsverstärkern\n",
    "\n",
    "Im Folgenden werden nun einige etwas komplexere Schaltungen aufgebaut und untersucht. Welche der beiden Grundschaltungen erkennen Sie dabei amhäufigsten wieder?\n",
    "\n",
    "#### Aufgabe 4.1\n",
    "\n",
    "Bauen Sie mit einem Operationsverstärker einen idealen **Einweggleichrichter** auf und überprüfen Sie seine Funktion mit verschiedenen Eingangswechselspannungssignalen ($f<1\\,\\mathrm{kHz}$). Gehen Sie dabei durch die folgenden Punkte:\n",
    "\n",
    "- Was sind die Vorteile dieser Schaltung gegenüber einer einfachen Gleichrichterschaltung mit einer Diode und einem Widerstand? Probieren Sie es aus!\n",
    "- Wofür könnte ein solcher idealer Gleichrichter Verwendung finden?\n",
    "\n",
    "---"
   ]
  },
  {
   "cell_type": "markdown",
   "id": "cf2b5e74-8518-4d4f-93a0-419b9f63dbb8",
   "metadata": {},
   "source": [
    "**Lösung:**\n",
    "\n",
    "*Sie können Ihr Protokoll direkt in dieses Dokument einfügen. Wenn Sie dieses Dokument als Grundlage für ein [Jupyter notebook](https://jupyter.org/) verwenden wollen können Sie die Auswertung, Skripte und ggf. bildliche Darstellungen mit Hilfe von [python](https://www.python.org/) ebenfalls hier einfügen. Löschen Sie hierzu diesen kursiv gestellten Text aus dem Dokument.* \n",
    "\n",
    "---"
   ]
  },
  {
   "cell_type": "markdown",
   "id": "0e5f5e8e-e18b-4fa5-830f-d5b007a0fe47",
   "metadata": {},
   "source": [
    "#### Aufgabe 4.2\n",
    "\n",
    "Bauen Sie mit zwei Operationsverstärkern einen **Generator für Dreieck- und Rechtecksignale** auf. Erklären Sie die Funktionsweise der angegebenen Schaltung.\n",
    "\n",
    "*Hinweis: Einer der Operationsverstärker arbeitet als Schwellenwertschalter, der andere als Integrierer.*\n",
    "\n",
    "---"
   ]
  },
  {
   "cell_type": "markdown",
   "id": "0243d662-d4f6-4f66-978e-fdea22eb5980",
   "metadata": {},
   "source": [
    "**Lösung:**\n",
    "\n",
    "*Sie können Ihr Protokoll direkt in dieses Dokument einfügen. Wenn Sie dieses Dokument als Grundlage für ein [Jupyter notebook](https://jupyter.org/) verwenden wollen können Sie die Auswertung, Skripte und ggf. bildliche Darstellungen mit Hilfe von [python](https://www.python.org/) ebenfalls hier einfügen. Löschen Sie hierzu diesen kursiv gestellten Text aus dem Dokument.* \n",
    "\n",
    "---"
   ]
  },
  {
   "cell_type": "markdown",
   "id": "1b465394-ea65-4fe1-8f9b-88a17374b98b",
   "metadata": {},
   "source": [
    "#### Aufgabe 4.3\n",
    "\n",
    "Bauen Sie die so genannte **Programmierte Differentialgleichung 2. Ordnung** auf. Diese Generatorschaltung zur Erzeugung von Sinuswechselspannungen ermöglicht die Simulation einer Integralgleichung 2. Ordnung. Sie erkennen die beiden hintereinandergeschalteten Integrierer. Mit dem Potentiometer können Sie die Dämpfung der Schwingung einstellen. Die Schwingungsamplitude wächst an oder klingt ab, je nachdem ob Sie den Schleifer des Potentiometers aus der Mittelstellung nach rechts oder nach links gedreht haben.\n",
    "\n",
    "Versuchen Sie, durch Variation des Potentiometerwiderstands die drei Fälle (Schwingfall, aperiodischer Grenzfall und Kriechfall) zu simulieren.\n",
    "\n",
    "*Hinweis: Eine genaue Beschreibung dieser Schaltung finden Sie in \"Tietze, Schenk: Halbleiterschaltungstechnik\".*\n",
    "\n",
    "---"
   ]
  },
  {
   "cell_type": "markdown",
   "id": "8f876426-e474-403c-b541-17d498e4837c",
   "metadata": {},
   "source": [
    "**Lösung:**\n",
    "\n",
    "*Sie können Ihr Protokoll direkt in dieses Dokument einfügen. Wenn Sie dieses Dokument als Grundlage für ein [Jupyter notebook](https://jupyter.org/) verwenden wollen können Sie die Auswertung, Skripte und ggf. bildliche Darstellungen mit Hilfe von [python](https://www.python.org/) ebenfalls hier einfügen. Löschen Sie hierzu diesen kursiv gestellten Text aus dem Dokument.* "
   ]
  }
 ],
 "metadata": {
  "kernelspec": {
   "display_name": "Python 3 (ipykernel)",
   "language": "python",
   "name": "python3"
  },
  "language_info": {
   "codemirror_mode": {
    "name": "ipython",
    "version": 3
   },
   "file_extension": ".py",
   "mimetype": "text/x-python",
   "name": "python",
   "nbconvert_exporter": "python",
   "pygments_lexer": "ipython3",
   "version": "3.10.10"
  }
 },
 "nbformat": 4,
 "nbformat_minor": 5
}
