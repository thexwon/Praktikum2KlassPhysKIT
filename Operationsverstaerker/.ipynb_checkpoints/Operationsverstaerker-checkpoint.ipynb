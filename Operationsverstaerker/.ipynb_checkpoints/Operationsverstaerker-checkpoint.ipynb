{
 "cells": [
  {
   "cell_type": "markdown",
   "id": "0827c0d2-1c67-46dd-8518-09dc27ee5711",
   "metadata": {},
   "source": [
    "<img src=\"./figures/Logo_KIT.svg\" width=\"250\" height=\"250\" style=\"zoom:15%;float:right;\" />\n",
    "\n",
    "# Fakultät für Physik\n",
    "\n",
    "## Physikalisches Praktikum P2 für Studierende der Physik\n",
    "\n",
    "Versuch P2-59, 60, 61 (Stand: April 2023)\n",
    "\n",
    "[Raum F1-15](http://www-ekp.physik.uni-karlsruhe.de/~simonis/praktikum/layoutobjekte/Lageplan_P1.png)"
   ]
  },
  {
   "cell_type": "markdown",
   "id": "7297858c-c874-40af-b86c-5fac9566bdb0",
   "metadata": {},
   "source": [
    "Name: Schwarz Vorname: Felix E-Mail: unuhz@student.kit.edu\n",
    "\n",
    "\\begin{equation*}\n",
    "\\begin{split}\n",
    "&\\\\\n",
    "&\\\\\n",
    "\\end{split}\n",
    "\\end{equation*}\n",
    "\n",
    "Name: Steib Vorname: Lukas E-Mail: uzmpb@student.kit.edu\n",
    "\n",
    "\\begin{equation*}\n",
    "\\begin{split}\n",
    "&\\\\\n",
    "&\\\\\n",
    "&\\\\\n",
    "\\end{split}\n",
    "\\end{equation*}\n",
    "\n",
    "Gruppennummer: Mo-21\n",
    "\n",
    "\\begin{equation*}\n",
    "\\begin{split}\n",
    "&\\\\\n",
    "&\\\\\n",
    "&\\\\\n",
    "\\end{split}\n",
    "\\end{equation*}\n",
    "\n",
    "\n",
    "Betreuer: Jonathan Huschle\n",
    "\n",
    "\\begin{equation*}\n",
    "\\begin{split}\n",
    "&\\\\\n",
    "&\\\\\n",
    "&\\\\\n",
    "\\end{split}\n",
    "\\end{equation*}\n",
    "\n",
    "Versuch durchgeführt am: 12.06.2023"
   ]
  },
  {
   "cell_type": "markdown",
   "id": "890c46ee-35b0-434a-b08e-e4ad748da35c",
   "metadata": {},
   "source": [
    "---\n",
    "\n",
    "**Beanstandungen:**\n",
    "\n",
    "\\begin{equation*}\n",
    "\\begin{split}\n",
    "&\\\\\n",
    "&\\\\\n",
    "&\\\\\n",
    "&\\\\\n",
    "&\\\\\n",
    "&\\\\\n",
    "&\\\\\n",
    "&\\\\\n",
    "&\\\\\n",
    "&\\\\\n",
    "\\end{split}\n",
    "%\\text{\\vspace{10cm}}\n",
    "\\end{equation*}\n",
    "\n",
    "<br>\n",
    "Testiert am: __________________ Vermerk: __________________"
   ]
  },
  {
   "cell_type": "markdown",
   "id": "35ee49d1-9b3b-4e29-babb-bc95d08f8491",
   "metadata": {},
   "source": [
    "# Operationsverstärker\n",
    "\n",
    "## Motivation\n",
    "\n",
    "Einfache elektrische Verstärkerschaltungen sind vielfach verwendete Hilfsmittel im physikalischen Labor. Jede:r Experimentalphysiker:in (und auch jPhysiklehrer:in) sollte in der Lage sein, Sie bei Bedarf rasch zu konzipieren und aufzubauen.\n",
    "\n",
    "## Lernziele\n",
    "\n",
    "Wir listen im Folgenden die wichtigsten **Lernziele** auf, die wir Ihnen mit dem Versuch **Operationsverstärker** vermitteln möchten: \n",
    "\n",
    "- Sie lernen zwei Grundbausteine von Verstärkerschaltungen kennen: den Transistor und den Operationsverstärker. Im Vordergrund steht dabei die Anwendung dieser beiden Elemente in konkreten Schaltungen und nicht ihr \"halbleiterphysikalisches Innenleben\", das erst in späteren Vorlesungen behandelt werden wird. An dieser Stelle genügen zunächst einfache Modellvorstellungen."
   ]
  },
  {
   "cell_type": "markdown",
   "id": "338beca2-52d7-445d-b5ab-12e97dd6a962",
   "metadata": {},
   "source": [
    "## Versuchsaufbau\n",
    "\n",
    "Im Folgenden sehen Sie den Arbeitsplatz an dem der Versuch durchegführt wird abgebildet: ([Link](https://git.scc.kit.edu/etp-lehre/p2-for-students/-/raw/main/Operationsverstaerker/figures/Operationsverstaerker.jpg))\n",
    "\n",
    "<img src=\"./figures/Operationsverstaerker.jpg\" width=\"750\" height=\"750\" style=\"zoom:50%;\" />\n",
    "\n",
    "Alle Schaltungen werden auf der abgebildeten Experimentier-Platine (*breed board*) aufgebaut. Es besteht aus vier Bereichen, die für verschiedene Aufgabenteile verwendet werden.\n",
    "\n",
    "1. Transistor: Hier wird die Emitterschaltung aus Aufgabe 1 aufgebaut.\n",
    "2. Operationsverstärker (OPV) 1 und 2: In diesem Bereich werden die Aufgaben bis 4.2 aufgebaut. Links und rechts beﬁndet sich jeweils ein bereits an die Spannungsversorgung angeschlossener Operationsverstärker. In der Mitte ist ein $10\\,\\mathrm{k\\Omega}$ Potentiometer angebracht.\n",
    "3. Operationsverstärker 3: Dieser OPV ist nicht an die Spannungsversorgung angeschlossen und wird bei keiner der Aufgaben 1 bis 4 verwendet.\n",
    "4. Spannungsversorgung: Hier ist das Netzteil untergebracht, das die OPV mit $\\pm15\\,\\mathrm{V}$ versorgt (blau: $-15\\,\\mathrm{V}$, weiß: $+15\\,\\mathrm{V}$, schwarz: $0\\,\\mathrm{V}$ / GND).\n",
    "\n",
    "In der folgenden Abbilding sind die angegebenen Bereiche rot hervorgehoben: ([Link](https://git.scc.kit.edu/etp-lehre/p2-for-students/-/raw/main/Operationsverstaerker/figures/Experimentierboard.png)) \n",
    "<img src=\"./figures/Experimentierboard.png\" width=\"750\" height=\"750\" style=\"zoom:30%;\" />"
   ]
  },
  {
   "cell_type": "markdown",
   "id": "b29a90f9-638c-48e5-af7d-4635e8ca3947",
   "metadata": {},
   "source": [
    "## Durchführung\n",
    "\n",
    "### Aufgabe 1: Emitterschaltung eines Transistors\n",
    "\n",
    "Hierbei handelt es sich um die am häufigsten verwendete Transistorverstärkerschaltung. Verwenden Sie dafür aber hier nicht zuviel Zeit. Die Aufgaben zum Operationsverstärker (ab Aufgabe 2) sollten vorrangig erarbeitet werden.\n",
    "\n",
    "#### Aufgabe 1.1\n",
    "\n",
    "Bauen Sie auf der Experimentier-Platine den einstufigen gleichstromgegengekoppelten Transistorverstärker auf. Gehen Sie dabei durch die folgenden Punkte:\n",
    "\n",
    "- Welche Funktionen haben die einzelnen Bauelemente, speziell $R_{e}$?\n",
    "- Überprüfen Sie die Lage des Arbeitspunktes.\n",
    "- Wozu dient der Kondensator $C_{e}$?\n",
    "- Erläutern Sie Sinn und Wirkungsweise der Gegenkopplung.\n",
    "\n",
    "---"
   ]
  },
  {
   "cell_type": "markdown",
   "id": "9456da37-179b-403c-a047-ef34a98b6972",
   "metadata": {},
   "source": [
    "**Lösung:** \\\n",
    "Bei dem gleichstromgegengekoppelter Transistorverstärker wird mit einem Transistor das Eingangssignal verstärkt. Der Schaltplan sieht wiefolgt aus: \\\n",
    "<img src=\"./figures/Schaltplan_einstufiger_gleichstromgegengekoppelter_Transistorverstärker.png\" width=\"400\" height=\"400\" style=\"zoom:50%;\" /> \\\n",
    "(https://git.scc.kit.edu/etp-lehre/p2-for-students/-/blob/main/Operationsverstaerker/Operationsverstaerker-Vorbereitungshilfe.pdf) \\\n",
    "Dies ist die aufgebaute Schaltung:\\\n",
    "<img src=\"./figures/1.1_Schaltung.png\" width=\"400\" height=\"400\" style=\"zoom:50%;\" /> \\\n",
    "Das ausgegebene Signal am Oszilloskop ist in Aufgabe 1.2 dargestellt. \\\n",
    "Es wird eine Eingangsspannung von $60 \\pm 4 mV$ angelegt. \\\n",
    "Der Verstärkungsfaktor des Transistors hängt von der Temperatur dieses Bauteils ab. Um dieses Problem zu beseitigen wird der Widerstand $R_e$ eingebaut. \\\n",
    "\"Legt man nun am Eingang ein höheres Potential an, so fließt ein größerer Basisstrom und damit auch einen größerer Strom durch den Kollektor und den ”neuen“ Widerstand. An diesem Widerstand fällt hierdurch eine höhere Spannung ab, wodurch das Emitterpotential angehoben wird, was zu einer Absenkung der Spannungsdifferenz zwischen Basis und Emitter führt. Dies wirkt dem Anstieg des Ausgangsstroms entgegen ⇒ Stromgegenkopplung\" (https://git.scc.kit.edu/etp-lehre/p2-for-students/-/blob/main/Operationsverstaerker/Operationsverstaerker-Vorbereitungshilfe.pdf) \\\n",
    "Der Kondensator $C_{e}$ leitet den Wechselstromanteil des Signals weiter und blockiert den Gleichstromanteil. Dadurch ist eine eine Wechselstromverstärkung möglich und es wird ausgeschlossen, dass der Arbeitspunkt durch den Emitterstrom beeinflusst wird. \\\n",
    "Die Gegenkopplung führt zu einer Stabilisation des Verstärkers. Das Ausgangssignal ist aber schwächer verstärkt. Die Gegenkopplung bringt einen Anteil des Ausgangssignals zu dem Emitter. Dadurch wird der Verstärker stabiler und schwächer."
   ]
  },
  {
   "cell_type": "markdown",
   "id": "055ce4d2-e20b-4266-8e27-6029a6cd9530",
   "metadata": {},
   "source": [
    "#### Aufgabe 1.2\n",
    "\n",
    "Führen Sie dem Verstärker als Eingangssignal eine Dreieckspannung mittlerer Frequenz (ca. $1\\,\\mathrm{kHz}$) zu, beobachten Sie oszilloskopisch das Ausgangssignal und bestimmen Sie die Verstärkung. Stellen Sie durch Variation der Amplitude des Eingangssignals verschiedene Ausgangsamplituden (etwa $3V_{SS}$ und $10V_{SS}$) ein und beurteilen Sie die Qualität des Verstärkers.\n",
    "\n",
    "---"
   ]
  },
  {
   "cell_type": "markdown",
   "id": "a3aade1b-8257-47b4-92e3-2f4c9201550c",
   "metadata": {},
   "source": [
    "**Lösung:** \\\n",
    "Mit den gemessenen Spannungen für Eingangssignal und Ausgangssignal wird die Verstärkung des aufgebauten Verstärkers bestimmt.\\\n",
    "Die Unsicherheit der Werte kann abgelesen werden, da die Anzeige des Messgerätes um einen bestimmten Wert sichtbar schwankt. \\\n",
    "Folgendes Bild wird am Oszillosgraph für  $3V_{SS}$ beobachtet: \\\n",
    "<img src=\"./figures/1.2_3V.png\" width=\"400\" height=\"400\" style=\"zoom:50%;\" /> \\\n",
    "Folgendes Bild wird am Oszillosgraph für  $3V_{SS}$ beobachtet: \\\n",
    "<img src=\"./figures/1.2_10V.png\" width=\"400\" height=\"400\" style=\"zoom:50%;\" /> "
   ]
  },
  {
   "cell_type": "code",
   "execution_count": 1,
   "id": "9ad53ab6-3204-4728-8454-7c4f73f41aae",
   "metadata": {
    "tags": []
   },
   "outputs": [
    {
     "name": "stderr",
     "output_type": "stream",
     "text": [
      "/opt/conda/lib/python3.10/site-packages/kafe2/core/minimizers/__init__.py:34: UserWarning: iminuit is not installed. While not strictly needed its use is heavily recommended for better performance and convergence.\n",
      "  warnings.warn(\n",
      "cling::DynamicLibraryManager::loadLibrary(): libGL.so.1: cannot open shared object file: No such file or directory\n",
      "Error in <AutoloadLibraryMU>: Failed to load library /opt/conda/lib/libEve.so.6.28.00cling JIT session error: Failed to materialize symbols: { (main, { _ZeqRK7TStringRKNSt7__cxx1112basic_stringIcSt11char_traitsIcESaIcEEE }) }\n"
     ]
    },
    {
     "name": "stdout",
     "output_type": "stream",
     "text": [
      "Welcome to JupyROOT 6.28/00\n"
     ]
    }
   ],
   "source": [
    "import numpy as np \n",
    "import matplotlib.pyplot as plt\n",
    "from PhyPraKit import readPicoScope, resample\n",
    "from scipy import signal\n",
    "from scipy import interpolate\n",
    "import sys\n",
    "from kafe2 import  XYContainer, Fit, XYFit, Plot, ContoursProfiler                            \n",
    "from uncertainties import ufloat, unumpy\n",
    "from math import log10, floor\n",
    "import scipy.integrate as integrate\n",
    "import pandas as pd\n",
    "import csv"
   ]
  },
  {
   "cell_type": "code",
   "execution_count": 2,
   "id": "76fc8135-b4d1-42cc-94ea-832a2c9537e5",
   "metadata": {},
   "outputs": [
    {
     "name": "stdout",
     "output_type": "stream",
     "text": [
      "Die Verstärkung beträgt 127+/-11 sowie 142+/-7\n"
     ]
    }
   ],
   "source": [
    "U_a_stromgleich1=np.array([3.04,10])\n",
    "U_a_stromgleich1=unumpy.uarray(U_a_stromgleich1,[0.1,0.2])  #Unsicherheiten einfügen\n",
    "U_e_stromgleich1=np.array([24.0,70.4])*10**(-3)\n",
    "U_e_stromgleich1=unumpy.uarray(U_e_stromgleich1,[0.002,0.003])\n",
    "Verstaerkung_stromgleich1=U_a_stromgleich1/U_e_stromgleich1\n",
    "print('Die Verstärkung beträgt',Verstaerkung_stromgleich1[0],'sowie',Verstaerkung_stromgleich1[1])                              "
   ]
  },
  {
   "cell_type": "markdown",
   "id": "ceb13ceb-1aa0-4e7c-ab87-c446e5fe1ba7",
   "metadata": {},
   "source": [
    "\n",
    "|U_A in V|U_E in V|Verstärkungsfaktor|\n",
    "|:------:|:------:|:----------------:|\n",
    "|   0.0240  +/- 0.002   |   0.00304 +/- 0.0001     |    127 +/- 11              |\n",
    "|   0.0704  +/- 0.003     | 0.010   +/- 0.0002       |  142 +/- 7                |\n",
    "\n",
    "Die Verstärkung ist sehr groß. Es ist aber eine große Abweichung der einzelnen Verstärkungen zueinander erkennbar. Daher ist die Qualität der Verstärkung nicht so gut. Bei verschiedenen Spannung ist eine große Variation der Verstärkung zu erkennen."
   ]
  },
  {
   "cell_type": "markdown",
   "id": "72016d01-643b-44a0-875c-ab3beacec56f",
   "metadata": {},
   "source": [
    "#### Aufgabe 1.3\n",
    "\n",
    "Entfernen Sie den Emitterkondensator $C_{e}$. Beobachten Sie wieder das Ausgangssignal bei verschiedenen Amplituden und bestimmen Sie die Verstärkung dieses stromgegengekoppelten Verstärkers. Gehen Sie dabei durch die folgenden Punkte:\n",
    "\n",
    "- Warum finden Sie gerade den Wert $R_{c}/R_{e}$ als Verstärkungsfaktor?\n",
    "- Erklären Sie die Wirkungsweise der Gegenkopplung durch $R_{e}$ (stromgegengekoppelter Verstärker).\n",
    "\n",
    "---"
   ]
  },
  {
   "cell_type": "markdown",
   "id": "9c2abffd-e49e-4a48-a0d9-f2e39fb98636",
   "metadata": {},
   "source": [
    "**Lösung:**\n",
    "\n",
    "Es wird der Kondensator $C_e$ entfernt und wie bei Aufgabe 1.2 das Ein- und Ausgangssignal gemessen. Es werden als Spannungen $60 mV$, $120 mV$ und $180 mV$ angelegt.\\\n",
    "Für $60 mV$ wird folgendes am Oszillosgraph beobachtet: \\\n",
    "<img src=\"./figures/1.3_60mV.png\" width=\"400\" height=\"400\" style=\"zoom:50%;\" /> \\\n",
    "Für $120 mV$ wird folgendes am Oszillosgraph beobachtet: \\\n",
    "<img src=\"./figures/1.3_120mV.png\" width=\"400\" height=\"400\" style=\"zoom:50%;\" /> \\\n",
    "Für $180 mV$ wird folgendes am Oszillosgraph beobachtet: \\\n",
    "<img src=\"./figures/1.3_180mV.png\" width=\"400\" height=\"400\" style=\"zoom:50%;\" /> \\\n",
    "Anschließend wird wieder die Verstärkung berechnet. Die Verstärkung wird mithilfe eines linearen Fits berechnet. Dabei ist die Steigung der Fitgeraden der Verstärkungsfaktor."
   ]
  },
  {
   "cell_type": "code",
   "execution_count": 3,
   "id": "268aa8c3-8531-4a37-8a32-deb3efc7d60d",
   "metadata": {},
   "outputs": [
    {
     "data": {
      "image/png": "[encoded data removed]",
      "text/plain": [
       "<Figure size 1200x500 with 2 Axes>"
      ]
     },
     "metadata": {},
     "output_type": "display_data"
    }
   ],
   "source": [
    "U_a_strom1=np.array([240, 512, 760])*10**(-3)\n",
    "U_a_strom1_err=np.array([4,8,20])*10**(-3)  #Unsicherheiten einfügen\n",
    "U_e_strom1=np.array([60,120,174])*10**(-3)\n",
    "U_e_strom1_err=np.array([3,4,2])*10**(-3)\n",
    "\n",
    "x_error = U_e_strom1_err\n",
    "y_error = U_a_strom1_err\n",
    "xy_data = XYContainer(U_e_strom1,U_a_strom1)\n",
    "def linear(x,a=0,b=0):\n",
    "    return a*x+b \n",
    "line_fit=Fit(data=xy_data,model_function=linear)\n",
    "line_fit.add_error(axis='x', err_val=x_error,relative=False)  # add the x-error to the fit\n",
    "line_fit.add_error(axis='y', err_val=y_error,relative=False)\n",
    "\n",
    "line_fit.do_fit()\n",
    "line_fit.assign_parameter_latex_names(x='U_e', a='a',b='b')\n",
    "line_fit.assign_model_function_latex_name('U_a')\n",
    "line_fit.assign_model_function_latex_expression('{a} \\\\cdot {x} + {b}')\n",
    "\n",
    "\n",
    "line_fit.data_container.label = \"Verwendete Daten\"\n",
    "line_fit.model_label = \"Modellfunktion\"\n",
    "\n",
    "line_fit.data_container.axis_labels = [\"U_e in V\", \"U_a in V\"]\n",
    "plot = Plot(fit_objects= line_fit)\n",
    "\n",
    "plot.plot()\n",
    "plt.show()"
   ]
  },
  {
   "cell_type": "markdown",
   "id": "5254a215-395f-4a98-884d-cd21e45f5098",
   "metadata": {},
   "source": [
    "\n",
    "|U_A in mV|U_E in mV|\n",
    "|:------:|:------:|\n",
    "|   240  +/- 4  |  60 +/- 3 |   \n",
    "|   512  +/- 8  |  120  +/- 4  |  \n",
    "|   760  +/- 20  |  174  +/- 2  |   \n",
    "\n",
    "Die Spannungsverstärkung beträgt durch Berechung mit einem linearen Fit $4.54 \\pm 0.22 $. \\\n",
    "Bei der Gegenkopplung wird über $R_e$ gegenphasig ein Teil der Ausgangsspannung zum Emitter gebracht. Dieser Anteil gleicht die Variationen des Transistors, die unteranderem durch verschiedene Temperaturen entstehen, aus. Dadurch ist das Ausgangssignal schwächer und stabiler.  "
   ]
  },
  {
   "cell_type": "markdown",
   "id": "f62ab445-6a57-4901-8b8f-c58a8005844e",
   "metadata": {},
   "source": [
    "#### Aufgabe 1.4\n",
    "\n",
    "Bestimmen Sie die Verstärkung des strom- und gleichstromgegengekoppelten Verstärkers für verschiedene Frequenzen ($10,\\:25,\\:50,\\:100\\:\\mathrm{und}\\:500\\,\\mathrm{Hz}$ sowie  $1,\\:5,\\:10,\\:50\\:\\mathrm{und}\\:100\\,\\mathrm{kHz}$). Besonders wichtig ist hierbei der Frequenzbereich $10\\,\\mathrm{Hz}$ bis $500\\,\\mathrm{Hz}$. Stellen Sie für beide Schaltungen den Verlauf der Verstärkung dar und erklären Sie ihn.\n",
    "\n",
    "---"
   ]
  },
  {
   "cell_type": "markdown",
   "id": "49585891-d132-4b80-855b-73307d509c2c",
   "metadata": {},
   "source": [
    "**Lösung:** \\\n",
    "In diesem Versuchsteil wird die Auswirkung von verschiedenen Frequenzen auf die Verstärkung des Verstärkers bestimmt. \\\n",
    "Es wird die Ein- und Ausgangsspannung bei verschiedenen Frequenzen für den strom- und gleichstromgegengekoppelten Verstärker gemessen.\\ Es wird bei der stromgegengekoppelten Verstärkung eine Spannung von $120 mV$ angelegt. Bei der stromgegengekoppelten Verstärkung wird eine Spannung von $60 mV$ angelegt.\n",
    "Der Verlauf der Verstärkung wird außerdem graphisch dargestellt."
   ]
  },
  {
   "cell_type": "code",
   "execution_count": 4,
   "id": "70e19bfb-a641-4e0a-ada5-9e37df87cdeb",
   "metadata": {},
   "outputs": [
    {
     "name": "stdout",
     "output_type": "stream",
     "text": [
      "Die Verstärkung für gleichstromgegengekoppelter Verstärker beträgt: 9.7+/-1.0 , 19.0+/-1.4 , 30.7+/-1.8 , 45.3+/-3.1 , 127+/-6 , 147+/-7 , 167+/-6 , 163+/-9 , 167+/-9 , 163+/-11\n",
      "Die Verstärkung für stromgegengekoppelter Verstärker beträgt: 1.33+/-0.09 , 1.88+/-0.12 , 2.66+/-0.23 , 3.75+/-0.28 , 4.33+/-0.33 , 4.33+/-0.33 , 4.17+/-0.32 , 4.17+/-0.32 , 4.17+/-0.32 , 4.17+/-0.32\n"
     ]
    },
    {
     "data": {
      "image/png": "[encoded data removed]",
      "text/plain": [
       "<Figure size 640x480 with 1 Axes>"
      ]
     },
     "metadata": {},
     "output_type": "display_data"
    }
   ],
   "source": [
    "f=np.array([10,25,50,100,500,1000,5000,10000,50000,100000]) #120mv stromgegen 60mv gleichstromgegen\n",
    "U_a_stromgleich=np.array([580,1140,1840,2720,7600,8800,10000,9800,10000,9800])*10**(-3)\n",
    "U_a_stromgleich_unsi=np.array([50,40,60,40,10,10,200,200,200,200])*10**(-3)  #Unsicherheiten einfügen\n",
    "U_e_stromgleich=np.array([60,60,60,60,60,60,60,60,60,60])*10**(-3)\n",
    "U_e_stromgleich_unsi=np.array([3,4,3,4,3,3,2,3,3,4])*10**(-3)\n",
    "U_a_strom=np.array([160,240,340,480,520,520,500,500,500,500])*10**(-3)\n",
    "U_a_strom_unsi=np.array([1,1,20,20,20,20,20,20,20,20])*10**(-3)\n",
    "U_e_strom=np.array([120,128,128,128,120,120,120,120,120,120])*10**(-3)\n",
    "U_e_strom_unsi=np.array([8,8,8,8,8,8,8,8,8,8])*10**(-3)\n",
    "U_a_stromgleich_ges=unumpy.uarray(U_a_stromgleich,U_a_stromgleich_unsi)\n",
    "U_e_stromgleich_ges=unumpy.uarray(U_e_stromgleich,U_e_stromgleich_unsi)\n",
    "U_a_strom_ges=unumpy.uarray(U_a_strom,U_a_strom_unsi)\n",
    "U_e_strom_ges=unumpy.uarray(U_e_strom,U_e_strom_unsi)\n",
    "Verstaerkung_stromgleich_ges=U_a_stromgleich_ges/U_e_stromgleich_ges\n",
    "Verstaerkung_strom_ges=U_a_strom_ges/U_e_strom_ges \n",
    "print('Die Verstärkung für gleichstromgegengekoppelter Verstärker beträgt:',Verstaerkung_stromgleich_ges[0],',',Verstaerkung_stromgleich_ges[1],',',Verstaerkung_stromgleich_ges[2],',',Verstaerkung_stromgleich_ges[3],',',Verstaerkung_stromgleich_ges[4],',',Verstaerkung_stromgleich_ges[5],',',Verstaerkung_stromgleich_ges[6],',',Verstaerkung_stromgleich_ges[7],',',Verstaerkung_stromgleich_ges[8],',',Verstaerkung_stromgleich_ges[9])                        \n",
    "print('Die Verstärkung für stromgegengekoppelter Verstärker beträgt:',Verstaerkung_strom_ges[0],',',Verstaerkung_strom_ges[1],',',Verstaerkung_strom_ges[2],',',Verstaerkung_strom_ges[3],',',Verstaerkung_strom_ges[4],',',Verstaerkung_strom_ges[5],',',Verstaerkung_strom_ges[6],',',Verstaerkung_strom_ges[7],',',Verstaerkung_strom_ges[8],',',Verstaerkung_strom_ges[9])\n",
    "                     \n",
    "#plt.plot(f, unumpy.nominal_values(Verstaerkung_stromgleich_ges), color = 'pink', linestyle='None',marker='.',label='Verstärkung gleichstromgegengekoppelt')\n",
    "#plt.plot(f, unumpy.nominal_values(Verstaerkung_strom_ges), color = 'darkblue', linestyle='None',marker='x',label='Verstärkung stromgegengekoppelt')\n",
    "plt.errorbar(f, unumpy.nominal_values(Verstaerkung_stromgleich_ges), unumpy.std_devs(Verstaerkung_stromgleich_ges),fmt ='o',markersize=3,label='Verstärkung gleichstromgegengekoppelt')\n",
    "plt.errorbar(f, unumpy.nominal_values(Verstaerkung_strom_ges), unumpy.std_devs(Verstaerkung_strom_ges),fmt ='o',markersize=3,label='Verstärkung stromgegengekoppelt')\n",
    "plt.xlabel('Frequenz in Hz')\n",
    "plt.ylabel('Verstärkung')\n",
    "plt.yscale('log')\n",
    "plt.xscale('log')\n",
    "plt.legend()\n",
    "plt.show()                        "
   ]
  },
  {
   "cell_type": "markdown",
   "id": "f346a5d8-3fc9-4e4e-b074-d6b3ef14614e",
   "metadata": {},
   "source": [
    "gleichstromgegengekoppelter Verstärker (Schaltung von 1.2):\n",
    "\n",
    "|Frequenz in Hz|U_A in V     |U_E in V|Verstärkungsfaktor|\n",
    "|:-------------|:------------|:-------|:-----------------|\n",
    "|    10        |   0.580  +/-  0.050 |   0.060  +/-  0.003   |         9.7 +/- 1.0         |\n",
    "|    25        |   1.140  +/-  0.040 |   0.060  +/-  0.004   |        19.0 +/- 1.4         |\n",
    "|    50        |   1.840  +/-  0.060 |   0.060  +/-  0.003   |        30.7 +/- 1.8         |\n",
    "|    100       |   2.720  +/-  0.040 |   0.060  +/-  0.004   |        45.3 +/- 3.1         |\n",
    "|    500       |   7.600  +/-  0.010 |   0.060  +/-  0.003   |         127 +/- 6         |\n",
    "|    1000      |   8.800  +/-  0.010 |   0.060  +/-  0.003   |         147 +/- 7         |\n",
    "|    5000      |  10.000  +/-  0.200 |   0.060  +/-  0.002   |         167 +/- 6         |\n",
    "|    10000     |   9.800  +/-  0.200 |   0.060  +/-  0.003   |         163 +/- 9         |\n",
    "|    50000     |  10.000  +/-  0.200 |   0.060  +/-  0.003   |         167 +/- 9         |\n",
    "|    100000    |   9.800  +/-  0.200 |   0.060  +/-  0.004   |         163 +/- 11         |\n",
    "\n",
    "stromgegengekoppelter Verstärker (Schaltung von 1.3):\n",
    "\n",
    "|Frequenz in Hz|U_A in V|U_E in V|Verstärkungsfaktor|\n",
    "|:-------------|:-------|:-------|:-----------------|\n",
    "|    10        |  0.160 +/- 0.001     |  0.120 +/-  0.008     |    1.33 +/- 0.09              |\n",
    "|    25        |  0.240 +/- 0.001     |  0.128 +/-  0.008     |    1.88 +/- 0.12              |\n",
    "|    50        |  0.340 +/- 0.020     |  0.128 +/-  0.008     |    2.66 +/- 0.23              |\n",
    "|    100       |  0.480 +/- 0.020     |  0.128 +/-  0.008     |    3.75 +/- 0.28              |\n",
    "|    500       |  0.520 +/- 0.020     |  0.120 +/-  0.008     |    4.33 +/- 0.33              |\n",
    "|    1000      |  0.520 +/- 0.020     |  0.120 +/-  0.008     |    4.33 +/- 0.33              |\n",
    "|    5000      |  0.500 +/- 0.020     |  0.120 +/-  0.008     |    4.17 +/- 0.32              |\n",
    "|    10000     |  0.500 +/- 0.020     |  0.120 +/-  0.008     |    4.17 +/- 0.32              |\n",
    "|    50000     |  0.500 +/- 0.020     |  0.120 +/-  0.008     |    4.17 +/- 0.32              |\n",
    "|    100000    |  0.500 +/- 0.020     |  0.120 +/-  0.008     |    4.17 +/- 0.32              |\n",
    "\n",
    "Die Gegenkopplung des Wechselstroms verringert die Verstärkung der stromgegengekoppelten Schaltung im Vergleich zur gleichstromgegengekoppelten Schaltung. "
   ]
  },
  {
   "cell_type": "markdown",
   "id": "b1f5e251-6139-4acd-8d6d-815fb2d901f8",
   "metadata": {},
   "source": [
    "### Aufgabe 2: Grundschaltung eines Operationsverstärkers\n",
    "\n",
    "#### Aufgabe 2.1\n",
    "\n",
    "Bauen Sie auf der Experimentier-Platine mit einem Operationsverstärker einen nichtinvertierenden Verstärker mit etwa zehnfacher Verstärkung. Gehen Sie dabei durch die folgenden Punkte:\n",
    "\n",
    "- Überprüfen Sie die Funktion der Schaltung.\n",
    "- Führen Sie dem Eingang eine Dreieckspannung mittlerer Frequenz ($1\\,\\mathrm{kHz}$) zu und beobachten Sie oszilloskopisch das Ausgangssignal.\n",
    "- Vergleichen Sie die experimentell und rechnerisch ermittelten Verstärkungsfaktoren.\n",
    "\n",
    "---"
   ]
  },
  {
   "cell_type": "markdown",
   "id": "46efccf9-7172-4f3c-bac2-a6609b0eddb2",
   "metadata": {},
   "source": [
    "**Lösung:** \\\n",
    "Der Schaltplan für einen nichtinvertierenden Verstärker sieht wiefolgt aus: \\\n",
    "<img src=\"./figures/Schaltplan_nichtinvertierende_Grundschaltung2.png\" width=\"400\" height=\"400\" style=\"zoom:50%;\" /> \\\n",
    "(https://git.scc.kit.edu/etp-lehre/p2-for-students/-/blob/main/Operationsverstaerker/Operationsverstaerker-Vorbereitungshilfe.pdf) \\\n",
    "Es wird folgendes Bild oszillographisch aufgezeichnet, dabei wird eine Frequenz von 1kHz und eine Eingangsspannung von $ 500 mV$ angelegt : \\\n",
    "<img src=\"./figures/2_1.png\" width=\"400\" height=\"400\" style=\"zoom:50%;\" /> \\\n",
    "Es kann die Verstärkung $v$ mit der Formel $v=1+\\frac{R_2}{R_1}$. Es wird ein Widerstand $R_1$ von $1 k\\Omega$ und ein Widerstand $R_2$ von $10 k\\Omega$ verwendet. Daher ist die bei dem nichtinvertierenden Verstärker die theoretische Verstärkung eine elffache Verstärkung. \\\n",
    "Die experimentell zu bestimmende Verstärkung lässt sich mit der Formel $v=\\frac{U_A}{U_E}$ bestimmen."
   ]
  },
  {
   "cell_type": "code",
   "execution_count": 5,
   "id": "fef7f19d-3054-4c5b-93e3-10c8f4627e09",
   "metadata": {},
   "outputs": [
    {
     "name": "stdout",
     "output_type": "stream",
     "text": [
      "Für die gemessenen Werte ergeben sich folgende Verstärkungen:  11.111 +/- 0.434\n"
     ]
    }
   ],
   "source": [
    "U_a=np.array([5.600])\n",
    "U_a=unumpy.uarray(U_a,[0.200])  #Unsicherheiten einfügen\n",
    "U_e=np.array([0.504])\n",
    "U_e=unumpy.uarray(U_e,[0.008])\n",
    "v=U_a/U_e\n",
    "print('Für die gemessenen Werte ergeben sich folgende Verstärkungen: ',np.round(unumpy.nominal_values(v)[0],3),'+/-',np.round(unumpy.std_devs(v)[0],3))"
   ]
  },
  {
   "cell_type": "markdown",
   "id": "4949fed2-0da6-49cf-8b79-acc4c230b48c",
   "metadata": {},
   "source": [
    "Es wurden folgende Werte gemessen:\n",
    "\n",
    "|U_A in V|U_E in V|Verstärkungsfaktor|\n",
    "|:------:|:------:|:----------------:|\n",
    "|   0.504 +/- 0.008     |  5.600 +/- 0.200      |      11.111 +/- 0.434            |\n",
    " \n",
    "\n",
    "Der experimentell ermittelte Wert passt mit dem Literaturwert sehr gut überein."
   ]
  },
  {
   "cell_type": "markdown",
   "id": "5c5e648a-0717-4dbe-a4e0-c9f10ba6917d",
   "metadata": {
    "tags": []
   },
   "source": [
    "#### Aufgabe 2.2\n",
    "\n",
    "Demonstrieren Sie den hohen Eingangswiderstand und den kleinen Ausgangswiderstand dieser Schaltung mit Hilfe geeigneter Verfahren.\n",
    "\n",
    "---"
   ]
  },
  {
   "cell_type": "markdown",
   "id": "04a21c24-0138-4b54-8e51-7bb8195a851b",
   "metadata": {},
   "source": [
    "**Lösung:** \\\n",
    "Um den Eingangswiderstand zu bestimmen wird die Schaltung benötigt:\\\n",
    "<img src=\"./figures/Eingangsimpendanz.png\" width=\"400\" height=\"400\" style=\"zoom:50%;\" /> \\\n",
    "(https://git.scc.kit.edu/etp-lehre/p2-for-students/-/blob/main/Operationsverstaerker/Operationsverstaerker-Vorbereitungshilfe.pdf) \\\n",
    "Der Eingangswiderstand wird mit einem Vorwiderstand in Reihe geschalten. \\\n",
    "Der Eingangswiderstand $X$ kann nach dem Messen der Gesamtspannung $U_E$, dem Spannungsabfall $U_{R_{M}}$ und dem Widerstand $R_M$ von dem Vorwiderstand berechnet werden. Dazu wird die Formel $X=R_M \\cdot \\left(\\frac{U_E}{U_{R_{M}}}-1\\right)$ benutzt. \\\n",
    "Um den Ausgangswiderstand zu bestimmen wird die Schaltung benötigt:\\\n",
    "<img src=\"./figures/Ausgangsimpendanz.png\" width=\"400\" height=\"400\" style=\"zoom:50%;\" /> \\\n",
    "(https://git.scc.kit.edu/etp-lehre/p2-for-students/-/blob/main/Operationsverstaerker/Operationsverstaerker-Vorbereitungshilfe.pdf) \\\n",
    "Den genauen Ausgangswiderstand zu bestimmen ist nicht einfach wegen internen \"Nachreglungen\". Grob kann der Wert aber durch ein Potentiometer parallel zum Ausgang bestimmt werden. Außerdem wird der Innenwiderstand solange veringert solange die Ausgangsspannung nicht abfällt. \\\n",
    "Zu dem Zeitpunkt, wenn das Ausgangssignal um die Hälfte abgenommen hat, kommt der Ausgangswiderstand ungefähr der aktuellen Einstellung des Potentiometers gleich. "
   ]
  },
  {
   "cell_type": "code",
   "execution_count": 6,
   "id": "d930716b-d4ee-43ac-8e3f-d26f43b7f890",
   "metadata": {
    "tags": []
   },
   "outputs": [
    {
     "name": "stdout",
     "output_type": "stream",
     "text": [
      "Der Eingangswiderstand beträgt (1.46+/-0.04)e+09 Ω\n"
     ]
    }
   ],
   "source": [
    "# Eingansimpendanzberechnung\n",
    "R_m=ufloat(10000000,10)\n",
    "U_e=ufloat(1.03,0.01)\n",
    "U_r=ufloat(0.007,0.0002)\n",
    "X=R_m*(U_e/U_r-1)\n",
    "print('Der Eingangswiderstand beträgt',X,'\\u03A9')\n",
    "#Ausgangsimpedanz\n",
    "U_0 = 11.8\n",
    "R_aus  = 280 "
   ]
  },
  {
   "cell_type": "markdown",
   "id": "e758647b-ca7b-4305-81f5-c4095e4d99cb",
   "metadata": {
    "tags": []
   },
   "source": [
    "Mit den gemessenen Daten ergibt sich für den Eingangswiderstand:\n",
    "    \n",
    "|R_M in Ohm|U_E in V|U_R in V|X in Ohm|\n",
    "|----------|--------|--------|--------|\n",
    "|     1000000     |     1.03 +/- 0.01   |  0.007 +/- 0.0002     |    1.46 * 10^9 +/- 0.04 * 10^9    |\n",
    "\n",
    "Und für den Ausgangswiderstand wird ein Wert von $1.46\\cdot 10^9 \\pm 0.04\\cdot 10^9 \\Omega$ ermittelt."
   ]
  },
  {
   "cell_type": "markdown",
   "id": "19bd111f-d2cd-4669-91ff-16eda9979efc",
   "metadata": {},
   "source": [
    "#### Aufgabe 2.3\n",
    "\n",
    "Bestimmen Sie die Verstärkung in Abhängigkeit von der Frequenz ($10\\:\\mathrm{und}\\:100\\,\\mathrm{Hz}$ sowie $1,\\:10,\\:25,\\:50,\\:75\\:\\mathrm{und}\\:100\\,\\mathrm{kHz}$). Gehen Sie dazu wie folgt vor: \n",
    "\n",
    "- Wählen Sie als Eingangssignal eine Sinuswechselspannung mit einer Amplitude von $0,5V_{SS}$ und beobachten Sie das Ausgangssignal oszilloskopisch.\n",
    "- Können Sie die bei hohen Frequenzen auftretenden Verzerrungen erklären?\n",
    "\n",
    "---"
   ]
  },
  {
   "cell_type": "markdown",
   "id": "15d5da59-dc43-47ae-afd8-20ca37c2082a",
   "metadata": {},
   "source": [
    "**Lösung:** \\\n",
    "In diesem Versuchsteil wird die Auswirkung von verschiedenen Frequenzen auf die Verstärkung des Verstärkers bestimmt. \\\n",
    "Dabei wird der Spitze-Spitze-Wert der Ausgangs- und Eingangsspannung notiert.\n",
    "Es wird analog zu Aufgabe 1.4 vorgegangen. \\\n",
    "Der Verlauf der Verstärkung wird außerdem graphisch dargestellt."
   ]
  },
  {
   "cell_type": "code",
   "execution_count": 7,
   "id": "31b113d5-7c0f-48ef-9c23-250e41fc38e5",
   "metadata": {},
   "outputs": [
    {
     "name": "stdout",
     "output_type": "stream",
     "text": [
      "Die Verstärkung für einen nichtinvertierenden Verstärker beträgt: 10.24+/-0.21 10.4+/-0.4 11+/-4 9.6+/-0.8 9.3+/-0.5 8.2+/-0.4 6.56+/-0.31 5.44+/-0.27\n"
     ]
    },
    {
     "data": {
      "image/png": "[encoded data removed]",
      "text/plain": [
       "<Figure size 640x480 with 1 Axes>"
      ]
     },
     "metadata": {},
     "output_type": "display_data"
    }
   ],
   "source": [
    "f=np.array([10,100,1000,10000,25000,50000,75000,100000])\n",
    "U_a_fre=np.array([5.12,5.2,5.28,4.8,4.64,4.08,3.28,2.72])\n",
    "U_a_fre=unumpy.uarray(U_a_fre,[0.01,0.08,0.01,0.08,0.2,0.08,0.08,0.08])  #Unsicherheiten einfügen\n",
    "U_e_fre=np.array([0.5,0.5,0.5,0.5,0.5,0.5,0.5,0.5])\n",
    "U_e_fre=unumpy.uarray(U_e_fre,[0.01,0.02,0.2,0.04,0.02,0.02,0.02,0.02])                         \n",
    "Verstaerkung_fre=U_a_fre/U_e_fre\n",
    "print('Die Verstärkung für einen nichtinvertierenden Verstärker beträgt:',Verstaerkung_fre[0],Verstaerkung_fre[1],Verstaerkung_fre[2],Verstaerkung_fre[3],Verstaerkung_fre[4],Verstaerkung_fre[5],Verstaerkung_fre[6],Verstaerkung_fre[7])                        \n",
    "                     \n",
    "plt.errorbar(f, unumpy.nominal_values(Verstaerkung_fre), unumpy.std_devs(Verstaerkung_fre),fmt ='o',markersize=3,label='Verstärkung gleichstromgegengekoppelt')\n",
    "plt.legend()\n",
    "plt.xlabel('Frequenz in Hz')\n",
    "plt.ylabel('Verstärkung')\n",
    "plt.yscale('log')\n",
    "plt.xscale('log')\n",
    "plt.show()  "
   ]
  },
  {
   "cell_type": "markdown",
   "id": "3244a4d0-c379-4e1f-8d5c-e4fd11a5a9d4",
   "metadata": {},
   "source": [
    "nichtinvertierender Verstärker (Schaltung von 2.1): \n",
    "\n",
    "|Frequenz in Hz|U_A in V|U_E in V|Verstärkungsfaktor|\n",
    "|:-------------|:-------:|:-------:|:-----------------:|\n",
    "|    10        |   5.12  +/-  0.01  |  0.5 +/- 0.01    |     10.24 +/- 0.21        |\n",
    "|    100       |   5.2   +/-  0.08  |  0.5 +/- 0.02    |     10.4  +/- 0.4         |\n",
    "|    1000      |   5.28  +/-  0.01  |  0.5 +/- 0.2     |     11    +/- 4           |\n",
    "|    10000     |   4.8   +/-  0.08  |  0.5 +/- 0.04    |     9.6   +/- 0.8         |\n",
    "|    25000     |   4.64  +/-  0.2   |  0.5 +/- 0.02    |     9.3   +/- 0.5         |\n",
    "|    50000     |   4.08  +/-  0.08  |  0.5 +/- 0.02    |     8.2   +/- 0.4         |\n",
    "|    75000     |   3.28  +/-  0.08  |  0.5 +/- 0.02    |     6.56  +/- 0.31        |\n",
    "|    100000    |   2.72  +/-  0.08  |  0.5 +/- 0.02    |     5.44  +/- 0.27        |\n",
    "\n",
    "Bei größeren Frequenzen ist die Verstärkung des Operationsverstärkers nicht mehr ganz so effektiv, da die Gegenkopplung der Verstärkung entgegen wirkt. Dies tritt ab der Frequenz von ungefähr $ 50 kHz$ bei der hier verwendeten Schaltung auf. \\\n",
    "$\\longrightarrow$ Bei hohen Frequenzen ist mit einer Verzerrung des Ausgangssignals zu rechnen."
   ]
  },
  {
   "cell_type": "markdown",
   "id": "73877967-75d1-4df3-8c86-5912858c7951",
   "metadata": {},
   "source": [
    "### Aufgabe 3: Die invertierende Grundschaltung\n",
    "\n",
    "Hierbei handelt es sich wohl die wichtigste Grundschaltung von Operationsverstärkern.\n",
    "\n",
    "#### Aufgabe 3.1\n",
    "\n",
    "Bauen Sie mit einem Operationsverstärker einen invertierenden Verstärker mit zehnfacher Verstärkung auf. Gehen Sie dabei durch die folgenden Punkte:\n",
    "\n",
    "- Überprüfen Sie die Funktion und erklären Sie die Wirkungsweise der Schaltung.\n",
    "- Leiten Sie die Verstärkung her.\n",
    "\n",
    "---"
   ]
  },
  {
   "cell_type": "markdown",
   "id": "317ca5ad-05dc-49cd-bcc4-60399eefd4fe",
   "metadata": {},
   "source": [
    "**Lösung:**\n",
    "Schaltplan der invertierenden Grundschaltung: \\\n",
    "<img src=\"./figures/Schaltplan_invertierende_Grundschaltung.png\" width=\"400\" height=\"400\" style=\"zoom:50%;\" /> \\\n",
    "(https://git.scc.kit.edu/etp-lehre/p2-for-students/-/blob/main/Operationsverstaerker/Operationsverstaerker-Vorbereitungshilfe.pdf) \\\n",
    "Die aufgebaute Schaltung sieht folgendermaßen aus:\\\n",
    "<img src=\"./figures/3_1_Schaltplan.png\" width=\"400\" height=\"400\" style=\"zoom:50%;\" /> \\\n",
    "Am Oszilloskop wird graphisch dargestellt:\\\n",
    "<img src=\"./figures/3_1_Oszi.png\" width=\"400\" height=\"400\" style=\"zoom:50%;\" /> \\\n",
    "Ein invertierender Verstärker wird aufgebaut mit einem Operationsverstärker (OPV) und einem Rückkopplungswiderstand,  der die Eingangsspannung verstärkt und invertiert. Mit dem OPV wird die Differenzspannung zwischen den Eingängen null, da der OPV die Ausgangsspannung entsprechend anpasst wird. Durch den Eingangswiderstand geht der Eingangsstrom in den invertierenden Eingang des OPV. Die Größe des Rückkopplungswiderstands im Vergleich zum Eingangswiderstand bestimmt die Verstärkung des Verstärkers. Die Ausgangsspannung des invertierenden Verstärkers ist proportional zur Eingangsspannung, jedoch mit umgekehrtem Vorzeichen. Insgesamt ermöglicht der invertierende Verstärker die Inversion und Verstärkung der Eingangssignale. \\\n",
    "Die Verstärkung lässt sich folgendermaßen herleiten:\n",
    "\n",
    "$$v_U = \\frac{U_A}{U_E} = \\frac{R_2 \\cdot (-I)}{R_1 \\cdot I} = -\\frac{R_2}{R_1}$$\n",
    "\n",
    "Für die verwendeten Widerstände $R_1 = 1$kOhm und $R_2 = 10$kOhm ergibt sich somit eine Verstärkung von $v_U = -10$. "
   ]
  },
  {
   "cell_type": "code",
   "execution_count": 8,
   "id": "ab7628d7-f874-4732-bba7-99d00e9adecf",
   "metadata": {
    "tags": []
   },
   "outputs": [
    {
     "name": "stdout",
     "output_type": "stream",
     "text": [
      "Verstärkungsfaktor:  -9.6+/-0.4\n"
     ]
    }
   ],
   "source": [
    "U_a = ufloat(4.80,0.08)\n",
    "U_e = ufloat(0.5,0.02)\n",
    "v =- U_a/U_e\n",
    "print(\"Verstärkungsfaktor: \",v )"
   ]
  },
  {
   "cell_type": "markdown",
   "id": "c7ba7f0c-bd6d-42a6-957e-ce7ba1a4c4c7",
   "metadata": {
    "tags": []
   },
   "source": [
    "Die theoretische Verstärkung und die experimentell Bestimmte passen gut überein."
   ]
  },
  {
   "cell_type": "markdown",
   "id": "df4ff381-ce33-4d6a-b616-82daa48db91f",
   "metadata": {},
   "source": [
    "#### Aufgabe 3.2\n",
    "\n",
    "Bauen Sie einen **Addierer** für zwei Eingangssignale auf. Als Eingangssignale können Sie eine Dreieck-, Rechteck- oder Sinusspannung (bis $1\\,\\mathrm{kHz}$) und eine mit den auf der Platine vorhandenen Potentiometern realisierbare regelbare Gleichspannungen im Bereich $-15\\,\\mathrm{V}$ bis $+15\\,\\mathrm{V}$ verwenden. Beobachten Sie die Ausgangsspannung oszilloskopisch. Schalten Sie dazu den Eingang des Oszilloskops auf „DC-Kopplung“, damit die Gleichspannung korrekt dargestellt wird. Diskutieren Sie Ihre Beobachtung.\n",
    "\n",
    "---"
   ]
  },
  {
   "cell_type": "markdown",
   "id": "fa707bf8-e8a9-4609-8d10-0e0586b37963",
   "metadata": {},
   "source": [
    "**Lösung:** \\\n",
    "Schaltplan für den Addierer: \\\n",
    "<img src=\"./figures/3_2_schaltplan.png\" width=\"400\" height=\"400\" style=\"zoom:50%;\" /> \\\n",
    "(https://git.scc.kit.edu/etp-lehre/p2-for-students/-/blob/main/Operationsverstaerker/Operationsverstaerker-Vorbereitungshilfe.pdf) \\\n",
    "Die Schaltung kann durch eine Gleichung beschrieben werden: \\\n",
    "\n",
    "$$\n",
    "U_A = R_2 \\cdot I_2 = -R_2(I_{11}+I_{12})= -R_2 \\cdot \\left(\\frac{U_{E1}}{R_{11}} + \\frac{U_{E2}}{R_{12}}\\right)\n",
    "$$\n",
    "\n",
    "Für gleiche Widerstände wird das Signal addiert. Durch $R_{2}$ lässt sich das Signal verstärken oder abschwächen\n",
    "\n",
    "Für gleiche Widerstände wird das Signal addiert. Durch $R_{2}$ lässt sich das Signal verstärken oder abschwächen, durch eine Änderung von $R_{11}$ und $R_{12}$ die zu addierenden Signale gewichten.\n",
    "---"
   ]
  },
  {
   "cell_type": "markdown",
   "id": "cdf0c697-1fb4-478d-8ed4-46073047da30",
   "metadata": {},
   "source": [
    "#### Aufgabe 3.3\n",
    "\n",
    "Bauen Sie einen **lntegrierer** auf. Schalten Sie das Oszilloskop wieder zurück auf „AC-Kopplung“. Verwenden Sie als Eingangssignal Rechteck- und Dreieckspannungen niedriger Frequenz (im Bereich $50\\,\\mathrm{Hz}$ bis $100\\,\\mathrm{Hz}$) und großer Amplitude. Gehen Sie dabei durch die folgenden Punkte:\n",
    "\n",
    "- Beobachten Sie wieder oszilloskopisch.\n",
    "- Erklären Sie die Wirkungsweise der Schaltung (ohne Berücksichtigung des Widerstandes $R_{s}$, der nur der Stabilisierung des Integrierers dient).\n",
    "  \n",
    "---  "
   ]
  },
  {
   "cell_type": "markdown",
   "id": "fda4508c-c4a6-468e-99e9-7f9ddb987571",
   "metadata": {},
   "source": [
    "**Lösung:**\n",
    "<img src=\"./figures/Schaltplan_Integrierer.png\" width=\"400\" height=\"400\" style=\"zoom:50%;\" /> \\\n",
    "(https://git.scc.kit.edu/etp-lehre/p2-for-students/-/blob/main/Operationsverstaerker/Operationsverstaerker-Vorbereitungshilfe.pdf)\n",
    "\n",
    "\n",
    "---"
   ]
  },
  {
   "cell_type": "markdown",
   "id": "2404b228-42a5-4c10-afed-1114b89b8ce3",
   "metadata": {},
   "source": [
    "#### Aufgabe 3.4\n",
    "\n",
    "Bauen Sie einen **Differenzierer** auf. Gehen sie dabei durch die folgenden Punkte:\n",
    "\n",
    "- Testen Sie die Funktion mit Rechteck- und Dreiecksignalen (im Bereich $50\\,\\mathrm{Hz}$ bis $500\\.\\mathrm{Hz}$).\n",
    "- Erklären Sie die Wirkungsweise der Schaltung.\n",
    "\n",
    "---"
   ]
  },
  {
   "cell_type": "markdown",
   "id": "7899ba91-10b2-437b-bc64-e559b2aedeb1",
   "metadata": {},
   "source": [
    "**Lösung:**\n",
    "\n",
    "---"
   ]
  },
  {
   "cell_type": "markdown",
   "id": "ab39479d-61ee-41a4-8966-16687890fa92",
   "metadata": {},
   "source": [
    "### Aufgabe 4: Komplexere Schaltungen mit Operationsverstärkern\n",
    "\n",
    "Im Folgenden werden nun einige etwas komplexere Schaltungen aufgebaut und untersucht. Welche der beiden Grundschaltungen erkennen Sie dabei amhäufigsten wieder?\n",
    "\n",
    "#### Aufgabe 4.1\n",
    "\n",
    "Bauen Sie mit einem Operationsverstärker einen idealen **Einweggleichrichter** auf und überprüfen Sie seine Funktion mit verschiedenen Eingangswechselspannungssignalen ($f<1\\,\\mathrm{kHz}$). Gehen Sie dabei durch die folgenden Punkte:\n",
    "\n",
    "- Was sind die Vorteile dieser Schaltung gegenüber einer einfachen Gleichrichterschaltung mit einer Diode und einem Widerstand? Probieren Sie es aus!\n",
    "- Wofür könnte ein solcher idealer Gleichrichter Verwendung finden?\n",
    "\n",
    "---"
   ]
  },
  {
   "cell_type": "markdown",
   "id": "cf2b5e74-8518-4d4f-93a0-419b9f63dbb8",
   "metadata": {},
   "source": [
    "**Lösung:**\n",
    "Nicht idealer Einweggleichrichter:\\\n",
    "\n",
    "Idealer Einweggleichrichter: \\\n",
    "\n",
    "\n",
    "---"
   ]
  },
  {
   "cell_type": "markdown",
   "id": "0e5f5e8e-e18b-4fa5-830f-d5b007a0fe47",
   "metadata": {},
   "source": [
    "#### Aufgabe 4.2\n",
    "\n",
    "Bauen Sie mit zwei Operationsverstärkern einen **Generator für Dreieck- und Rechtecksignale** auf. Erklären Sie die Funktionsweise der angegebenen Schaltung.\n",
    "\n",
    "*Hinweis: Einer der Operationsverstärker arbeitet als Schwellenwertschalter, der andere als Integrierer.*\n",
    "\n",
    "---"
   ]
  },
  {
   "cell_type": "markdown",
   "id": "0243d662-d4f6-4f66-978e-fdea22eb5980",
   "metadata": {},
   "source": [
    "**Lösung:**\n",
    "\n",
    "\n",
    "\n",
    "---"
   ]
  },
  {
   "cell_type": "markdown",
   "id": "1b465394-ea65-4fe1-8f9b-88a17374b98b",
   "metadata": {},
   "source": [
    "#### Aufgabe 4.3\n",
    "\n",
    "Bauen Sie die so genannte **Programmierte Differentialgleichung 2. Ordnung** auf. Diese Generatorschaltung zur Erzeugung von Sinuswechselspannungen ermöglicht die Simulation einer Integralgleichung 2. Ordnung. Sie erkennen die beiden hintereinandergeschalteten Integrierer. Mit dem Potentiometer können Sie die Dämpfung der Schwingung einstellen. Die Schwingungsamplitude wächst an oder klingt ab, je nachdem ob Sie den Schleifer des Potentiometers aus der Mittelstellung nach rechts oder nach links gedreht haben.\n",
    "\n",
    "Versuchen Sie, durch Variation des Potentiometerwiderstands die drei Fälle (Schwingfall, aperiodischer Grenzfall und Kriechfall) zu simulieren.\n",
    "\n",
    "*Hinweis: Eine genaue Beschreibung dieser Schaltung finden Sie in \"Tietze, Schenk: Halbleiterschaltungstechnik\".*\n",
    "\n",
    "---"
   ]
  },
  {
   "cell_type": "markdown",
   "id": "8f876426-e474-403c-b541-17d498e4837c",
   "metadata": {},
   "source": [
    "\n",
    "\n",
    "**Lösung:**\n",
    "\n"
   ]
  }
 ],
 "metadata": {
  "kernelspec": {
   "display_name": "Python 3 (ipykernel)",
   "language": "python",
   "name": "python3"
  },
  "language_info": {
   "codemirror_mode": {
    "name": "ipython",
    "version": 3
   },
   "file_extension": ".py",
   "mimetype": "text/x-python",
   "name": "python",
   "nbconvert_exporter": "python",
   "pygments_lexer": "ipython3",
   "version": "3.10.10"
  }
 },
 "nbformat": 4,
 "nbformat_minor": 5
}
