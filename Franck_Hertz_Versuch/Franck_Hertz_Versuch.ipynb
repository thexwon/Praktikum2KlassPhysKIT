{
 "cells": [
  {
   "cell_type": "markdown",
   "id": "4a5ce289-f376-4c7c-bc57-3914f11d0bae",
   "metadata": {},
   "source": [
    "<img src=\"./figures/Logo_KIT.svg\" width=\"250\" height=\"250\" style=\"zoom:15%;float:right;\" />\n",
    "\n",
    "# Fakultät für Physik \n",
    "\n",
    "## Physikalisches Praktikum P2 für Studierende der Physik\n",
    "\n",
    "\n",
    "\n",
    "Versuch P2-53, 54, 55 (Stand: April 2023)\n",
    "\n",
    "[Raum F1-08](http://www-ekp.physik.uni-karlsruhe.de/~simonis/praktikum/layoutobjekte/Lageplan_P1.png)"
   ]
  },
  {
   "cell_type": "markdown",
   "id": "f603ee40-2e77-4c13-a205-5dcf9b24b2c2",
   "metadata": {},
   "source": [
    "Name: Schwarz Vorname: Felix E-Mail: unuhz@student.kit.edu\n",
    "\n",
    "\\begin{equation*}\n",
    "\\begin{split}\n",
    "&\\\\\n",
    "&\\\\\n",
    "\\end{split}\n",
    "\\end{equation*}\n",
    "\n",
    "Name: Steib Vorname: Lukas E-Mail: uzmpb@student.kit.edu\n",
    "\n",
    "\\begin{equation*}\n",
    "\\begin{split}\n",
    "&\\\\\n",
    "&\\\\\n",
    "&\\\\\n",
    "\\end{split}\n",
    "\\end{equation*}\n",
    "\n",
    "Gruppennummer: Mo-21\n",
    "\n",
    "\\begin{equation*}\n",
    "\\begin{split}\n",
    "&\\\\\n",
    "&\\\\\n",
    "&\\\\\n",
    "\\end{split}\n",
    "\\end{equation*}\n",
    "\n",
    "\n",
    "Betreuer: Lovis Hardeweg\n",
    "\n",
    "\\begin{equation*}\n",
    "\\begin{split}\n",
    "&\\\\\n",
    "&\\\\\n",
    "&\\\\\n",
    "\\end{split}\n",
    "\\end{equation*}\n",
    "\n",
    "Versuch durchgeführt am: 22.05.2023"
   ]
  },
  {
   "cell_type": "markdown",
   "id": "beb08c66-ad9c-4a8d-ac4e-ad9543130813",
   "metadata": {},
   "source": [
    "---\n",
    "\n",
    "**Beanstandungen:**\n",
    "\n",
    "\\begin{equation*}\n",
    "\\begin{split}\n",
    "&\\\\\n",
    "&\\\\\n",
    "&\\\\\n",
    "&\\\\\n",
    "&\\\\\n",
    "&\\\\\n",
    "&\\\\\n",
    "&\\\\\n",
    "&\\\\\n",
    "&\\\\\n",
    "\\end{split}\n",
    "%\\text{\\vspace{10cm}}\n",
    "\\end{equation*}\n",
    "\n",
    "<br>\n",
    "Testiert am: __________________ Vermerk: __________________"
   ]
  },
  {
   "cell_type": "markdown",
   "id": "0400aee5-e12a-4146-a7cf-d95d4906ceb0",
   "metadata": {},
   "source": [
    "# Franck-Hertz-Versuch\n",
    "\n",
    "\n",
    "\n",
    "## Motivation\n",
    "\n",
    "Zwischen 1912–14 führten [James Franck](https://de.wikipedia.org/wiki/James_Franck) und [Gustav Hertz](https://de.wikipedia.org/wiki/Gustav_Hertz) Versuche zur Untersuchung der Ionisationsenergie einatomiger Gase mit Hilfe von [Röhrendioden](https://de.wikipedia.org/wiki/R%C3%B6hrendiode) durch, die sie kontrolliert mit Quecksilbergas ($\\mathrm{Hg}$) befüllten. Damals war über die diskreten Energieniveaus im Atom nichts bekannt. Es bestand die verbreitete Ansicht, dass Ionisation die einzige Form sei, in der Atome außer durch elastische Stöße Energie aufnehmen könnten. Die Energieaufnahme einatomiger Gase konnte jedoch durch die anerkannte Theorie der [Gasentladung](https://de.wikipedia.org/wiki/Gasentladung) nicht beschrieben werden, worin für Franck und Hertz die Motivation ihrer Versuche bestand. Der letzte in einer Reihe von Versuchen ging als [Franck-Hertz-Versuch](https://de.wikipedia.org/wiki/Franck-Hertz-Versuch) in die Geschichte der Quantenphysik ein und führte zur Verleihung des Physik-Nobelpreises 1925. Franck und Hertz führten diese Versuche nicht durch, um das 1913 durch Niels Bohr entwickelte [Bohrsche Atommodell](https://de.wikipedia.org/wiki/Bohrsches_Atommodell) zu bestätigen, das zu dieser Zeit noch wenig bekannt war. Tatsächlich, gingen beide bis 1917 noch davon aus, das die von ihnen beobachteten Effekte auf die Rekombination ionisierter $\\mathrm{Hg}$-Atome zurückzuführen seien. \n",
    "\n",
    "Damals war durch mehrere Experimente bekannt, dass Atome nur mit diskreten Lichtquanten in Wechselwirkung traten. Es war jedoch nicht klar, ob dieses Phänomen nicht eine Eigenschaft nur des Lichts sei. Mit dem Franck-Hertz-Versuch konnte die von Niels Bohr postulierte quantisierte Aufnahme von Energie im Atom auch in Stößen von Atomen mit Elektronen nachgewiesen und die anschließende Energieabgabe durch Lichtquanten gleicher Energie beobachtet werden. Der Franck-Herz-Versuch trug so entscheidend zum Durchbruch und zur Entwicklung der Quantenphysik und unserer heutigen Vorstellung des Atoms im Rahmen der Quantenmechanik bei. Im P2-Praktikum haben Sie die Möglichkeit diesen historischen Versuch selbst durchzuführen.  \n",
    "\n",
    "## Lernziele\n",
    "\n",
    "Wir listen im Folgenden die wichtigsten **Lernziele** auf, die wir Ihnen mit dem **Franck-Hertz-Versuch** vermitteln möchten: \n",
    "\n",
    "- Sie experimentieren mit dem Oszilloskop und nehmen in verschiedenen Betriebsmoden Daten auf.\n",
    "- Sie führen einen historischen Versuch der Quantenphysik eigenhändig durch. Sie haben dabei die Chance sich mit den Feinheiten dieses Versuchs eingehend vertraut zu machen.\n",
    "- Sie beschäftigen sich mit dem Zusammenhang zwischen dem temperaturabhängigen Dampfdruck von $\\mathrm{Hg}$ und der [mittleren freien Weglänge](https://de.wikipedia.org/wiki/Mittlere_freie_Wegl%C3%A4nge) in einer evakuierten Röhre (die Vorbereitungshilfe ist in diesem Punkt sehr detailliert.) \n",
    "- Sie untersuchen, wie mit einfachen Mitteln die elektrischen Felder, die den Weg elektrischer Ladungen bestimmen, manipuliert werden können und betreiben den Versuch in verschiedenen Konfigurationen.\n",
    "- Sie beobachten den Effekt der Anregung von $\\mathrm{Hg}$ und Neon ($\\mathrm{Ne}$) sowohl im Auffängerstrom der Röhre (siehe Abschnitt Versuchsaufbau), als auch als sichtbares Licht, dessen Emission Sie qualitativ untersuchen. \n",
    "- Sie schätzen die Energie des niedrigsten beobachtbaren Übergangs im $\\mathrm{Hg}$-Atom quantitativ ab und untersuchen Sie durch geschicktes Experimentieren die Überlagerung mit Übergängen in höhere Anregungszustände."
   ]
  },
  {
   "cell_type": "markdown",
   "id": "750e28f2-67e9-4313-b54f-9427c23226c8",
   "metadata": {},
   "source": [
    "## Versuchsaufbau\n",
    "\n",
    "Der grundsätzliche Aufbau der im P2 Praktikum verwendeten Franck-Hertz-[Tetroden](https://de.wikipedia.org/wiki/Elektronenr%C3%B6hre#Tetrode) ist im folgenden Bild gezeigt: ([Link](https://git.scc.kit.edu/etp-lehre/p2-for-students/-/raw/main/Franck_Hertz_Versuch/figures/FranckHertzSkizze.png))  \n",
    "\n",
    "<img src=\"./figures/FranckHertzSkizze.png\" height=\"700\" width=\"700\" style=\"zoom:80%;\" />\n",
    "\n",
    "Auf der linken Seite der Zeichnung befindet sich eine Glühkathode (K, im Bild nicht näher bezeichnet). In geringem Abstand zu K  befindet sich das *grobmaschige* Raumladungsgitter G1 (im Bild mit g1 bezeichnet; auch [Steuergitter](https://de.wikipedia.org/wiki/Steuergitter) genannt), mit dessen Hilfe Sie den Strom der freien Elektronen beeinflussen können. Zwischen K und G1 liegt die Spannung $U_{1}$ an. Das *feinmaschige* Beschleunigungsgitter G2 (im Bild mit g2 bezeichnet; auch [Schirmgitter](https://de.wikipedia.org/wiki/Schirmgitter) genannt) fungiert als Anode. Zwischen G1 und G2 liegt die Beschleunigungsspannung $U_{\\mathrm{B}}=U_{2}$ an. In wiederum geringem Abstand zu G2 befindet sich die Auffängerelektrode A. Zwischen G2 und A befindet sich die Gegenspannung $U_{3}$. \n",
    "\n",
    "Aus K treten Elektronen aus und werden auf G1 zu beschleunigt. Wegen des geringen Abstands zwischen K und G1 kommt es hier nur sehr selten zu Stößen der Elektronen mit den Atomen des $\\mathrm{Hg}$-Gases. Während einige Elektronen auf G1 aufschlagen und zu K zurückgeführt werden, durchdringen die meisten die Maschen von G1 und werden auf G2 zu beschleunigt. Auf diesem deutlich längeren Weg kommt es sowohl zu **elastischen** als auch zu **unelastischen** Stößen der Elektronen mit den Atomen des $\\mathrm{Hg}$-Gases. Der Dampfdruck des $\\mathrm{Hg}$-Gases lässt sich dabei so einstellen, dass die Elektronen kaum Energie durch elastische Stöße verlieren (siehe Vorbereitungshilfe). Die meisten Elektronen treffen daraufhin auf G2 auf und erzeugen dort einen messbaren **Anodenstrom**. Einige Elektronen treten jedoch auch durch die Maschen von G2 und werden daraufhin durch das elektrische Feld zwischen G2 und A in Gegenrichtung beschleunigt. Je nach Konfiguration aus $U_{1}$, $U_{2}$ und $U_{3}$ werden die Elektronen wieder zu G2 zurück beschleunigt, oder sie erreichen A. Dort können sie mit Hilfe eines Operationsverstärkers über den Spannungsabfall ($U_{\\mathrm{A}}$) an einem hochohmigen Widerstand als **Auffängerstrom** ($I_{\\mathrm{A}}$) nachgewiesen werden. \n",
    "\n",
    "Unter [diesem Link](https://www.kippenbergs.de/mint-franckhertz) können Sie eine Simulation des Wegs der Elektronen durch eine etwas einfachere Franck-Hertz-[Triode](https://de.wikipedia.org/wiki/Elektronenr%C3%B6hre#Triode) beobachten. \n",
    "\n",
    "Für die verschiedenen Versuchsteile stehen Ihnen die folgenden Geräte zur Verfügung: \n",
    "\n",
    "- Eine koaxiale Franck-Hertz-[Tetrode](https://de.wikipedia.org/wiki/Elektronenr%C3%B6hre#Tetrode) mit einem Tropfen $\\mathrm{Hg}$ im Innern. Die Tetrode befindet sich in einem Heizofen mit einstellbarem Thermostat, Sichtfenstern, $\\mathrm{NiCr}$-$\\mathrm{Ni}$ Temperaturfühler, Schutzwiderständen und Anschlussbuchsen.\n",
    "  - Der max. erlaubte Heizstrom der indirekt geheizten $\\mathrm{BaO}$-Kathode (K) beträgt $0,4\\,\\mathrm{A}$. \n",
    "  - Der Abstand K-G1 beträgt $\\approx0,5\\,\\mathrm{mm}$. \n",
    "  - Der Abstand K-G2 beträgt $\\approx6\\,\\mathrm{mm}$.\n",
    "\n",
    "- Hinweise für das Gerät zum Betrieb der Franck-Hertz-$\\mathrm{Hg}$-Röhre: \n",
    "  - Der erlaubte Grenzwert der Heizspannung für K beträgt $6,4\\,\\mathrm{V}$; \n",
    "  - Die Gleichspannung $U_{1}$ ist bis auf $5\\,\\mathrm{V}$ regelbar. Der Minuspol ist mit einem Pol der Heizstromquelle für K verbunden (siehe Bild); \n",
    "  - Für $U_{\\mathrm{B}}=U_{2}$ können Sie zwischen drei Einstellungen wählen: Einer einstellbaren Gleichspannung, einer linearen Rampe oder einer Sägezahnspannung jeweils mit Werten von $0-30\\,\\mathrm{V}$; \n",
    "  - Für $U_{3}$ können Sie eine Spannung bis $-10\\,\\mathrm{V}$ einstellen. \n",
    "  - Am Gerät befinden sich Ausgabebuchsen für $U_{\\mathrm{B}}/10$ und $U_{\\mathrm{A}}$. Die Spannung $U_{\\mathrm{A}}$ wird von einem Operationsverstärker ausgegeben und ist proportional zu $I_{\\mathrm{A}}$. Es gilt: $1\\,\\mathrm{V} \\approx1\\,\\mathrm{nA}$.\n",
    "\n",
    "- Ein USB-Oszilloskop (Picoscope) mit Computer.\n",
    "- Ein Multimeter.\n",
    "- Ein Taschenspektroskop mit Stativ.\n",
    "- Eine Franck-Hertz-Tetrode mit $\\mathrm{Ne}$-Füllung, Lichtschutzgehäuse, Sichtfenster, Sockelplatte mit Anschlussbuchsen und $10\\,\\mathrm{k\\Omega}$-Schutzwiderstand in der Anodenleitung. \n",
    "  - Der maximale Anodenstrom für die Franck-Hertz-$\\mathrm{Ne}$-Röhre beträgt $5\\,\\mathrm{\\mu A}$. \n",
    "  - Die Elektroden sind planparallel und der Abstand zwischen Kathode und Anode beträgt $\\approx7\\,\\mathrm{mm}$. \n",
    "  - Die Franck-Hertz-$\\mathrm{Ne}$-Röhre wird mit Hilfe von zwei Betriebsgeräten angesteuert. \n",
    "\n",
    "- Hinweise für das **erste Gerät** zum Betrieb der Franck-Hertz-$\\mathrm{Ne}$-Röhre:\n",
    "  - Hiermit steuern Sie den regelbaren Heizstrom. \n",
    "  - Für $U_{\\mathrm{B}}$ können Sie wahlweise eine Gleich- oder Sägezahnspannung bis zu $70\\,\\mathrm{V}$ einstellen. \n",
    "  - Zudem können Sie eine Sägezahnspannung für die $x$-Ablenkung des Oszillographen separat einstellen. \n",
    "  - Ebenso wird der Verstärker für die Messung von  $I_{\\mathrm{A}}$ über dieses Gerät angesteuert.\n",
    "\n",
    "- Hinweise für das **zweite Gerät** zum Betrieb der Franck-Hertz-$\\mathrm{Ne}$-Röhre: \n",
    "  - Hiermit stellen Sie eine feste Gleichspannung ($U_{1}$) für G1 bereit; \n",
    "  - Für $U_{3}$ lässt sich eine Gleichspannung bis zu $10\\,\\mathrm{V}$ einstellen.\n",
    "\n",
    "\n",
    "## Wichtige Hinweise\n",
    "\n",
    "- Für die oszillographische Darstellung von $I_{\\mathrm{A}}$ wird eine periodische Beschleunigungsspannung benötigt. Diese darf man aber nicht zu schnell ändern, da sich ein **stationärer Zustand in der Röhre** nur relativ langsam einstellt. Langsame Vorgänge sind z.B. die Bewegung und Rekombination der Ionen, sowie die Rückkehr von angeregten Zuständen in den Grundzustand, wenn diese optisch verboten sind. Das Betriebsgerät stellt eine periodische Sägezahnspannung zwischen $0-30\\,\\mathrm{V}$ zur Verfügung. Die Oszillographennutzung in diesem Modus empfiehlt sich zum Kennenlernen der Apparatur und beim Einstellen von Temperatur, $U_{1}$ und $U_{3}$. Um die Verhältnisse im quasi-stationären Zustand aufzuzeichnen, wird das Speicheroszilloskop mit der (langsamen) linearen Rampe oder per Hand als \"Einmalvorgang\" ausgelöst. Der Unterschied zu der sich wiederholenden Darstellung mit Hilfe der Sägezahnspannung wird in diesem Fall deutlich sichtbar. Die Daten ($U$-$I$-Wertepaare) können auf dem Rechner abgespeichert und anschließend analysiert werden.\n",
    "- Der Heizofen für die Franck-Hertz-$\\mathrm{Hg}$-Röhre ist mit einem $\\mathrm{NiCr}$-$\\mathrm{Ni}$ Temperaturfühler und mit einem Thermostaten ausgestattet. Bei Erreichen der Solltemperatur leuchtet die Leuchtdiode am Betriebsgerät grün. Der Ofen ist nicht geeignet, die Röhre homogen zu beheizen. Man kann beobachten, dass das $\\mathrm{Hg}$ bevorzugt in bestimmten Bereichen der Glaswand kondensiert. Für den Dampfdruck ist die kälteste Stelle maßgebend. Ihre Temperatur kann von der des Temperaturfühlers geringfügig abweichen, auch wenn der empfindliche Teil des Temperaturfühlers sich im Ofen auf gleicher Höhe befindet.\n",
    "- Eine weitere Konsequenz der nicht homogenen Beheizung der Franck-Hertz-$\\mathrm{Hg}$-Röhre ist, dass es zu Ablagerungen von $\\mathrm{Hg}$ an den Glaswänden kommen kann, wenn der Versuchsaufbau längere Zeit nicht in Betrieb ist. Kontinuierliche Ausgasungen von den Wänden der Röhre können gerade zu Beginn des Praktikumsbetriebs zu veränderlichem $\\mathrm{Hg}$-Dampfdruck in der Röhre führen. Es empfiehlt sich daher die Röhre bereits einige Tage vor Beginn des Praktikumsbetriebs auszuheizen.  \n"
   ]
  },
  {
   "cell_type": "markdown",
   "id": "f0726035-9c5e-452e-99c4-9e9c0a336e23",
   "metadata": {},
   "source": [
    "## Durchführung\n",
    "\n",
    "### Aufgabe 1.1: Aufbau\n",
    "\n",
    "Bauen Sie die Schaltung der Franck-Hertz-$\\mathrm{Hg}$-Röhre mit dem zugehörigen Betriebsgerät auf. Diskutieren Sie die Schaltung in allen wesentlichen Einzelheiten. Für die Beschleunigungsspannung an der Anode können Sie zwischen drei Einstellungen jeweils für $U_{\\mathrm{B}} = 0-30\\,\\mathrm{V}$ wählen: \n",
    "\n",
    "- Sägezahnspannung zur oszillographischen Aufnahme von $I_{\\mathrm{A}}$; \n",
    "- Lineare Rampe für die Aufzeichnung der Kurve als \"Einmalereignis\" mit dem Speicheroszillographen; oder \n",
    "- Eine über ein Potentiometer einstellbare Gleichspannung für eine punktweise Aufnahme von $I_{\\mathrm{A}}$. \n",
    "\n",
    "Die im Schaltplan eingezeichneten Widerstände zwischen den Röhrenelektroden und ihren Anschlussbuchsen sind im Heizofengehäuse fest eingebaut.\n",
    "\n",
    "---"
   ]
  },
  {
   "cell_type": "markdown",
   "id": "621733a4-c489-4256-9df0-e46b6d9eb235",
   "metadata": {},
   "source": [
    "**Lösung:** \\\n",
    "Weiter oben wird der Schaltplan der Franck-Hertz-$Hg$-Röhre aufgezeichnet. \\\n",
    "Es wird eine Heizspannung angelegt von $f$ nach $f_{k}$. Zwischen der Glühkathode und dem Gitter $g_2$ werden Elektronen beschleunigt. Dabei ist nach der Kathode ist ein Gitter $g_{1}$ angebracht um die Raumladung in Kathodennähe zu beeinflussen und die Elektronenstromstärke zu regeln.\\\n",
    "Nach dem Gitter $g_2$ wird eine Spannung $U_3$ eingestellt, die der Bewegung der Elektronen entgegen wirkt und sie abbremst. Dadurch kommen nur Elektronen, die genügend Energie haben um den Raumbereich mit $U_3$ zu durchqueeren an der Anode an. \\\n",
    "Dabei befindet sich die ganze Apperatur in gasförmigem Quecksilber.\\\n",
    "-> Bild Franck-Hertz-Röhre mit Heizung\\\n",
    "-> Bild Betriebsgerät Spannungen und so\\\n",
    "-> Bild Franck-Hertz-Röhre Anschlüsse\\\n",
    "-> Bild Schaltbox"
   ]
  },
  {
   "cell_type": "markdown",
   "id": "7553a19b-9625-42f7-ad91-1dea7f45c777",
   "metadata": {},
   "source": [
    "### Aufgabe 1.2: Niedrigste beobachtbare Anregung von $\\mathrm{Hg}$ durch Elektronenstoß\n",
    "\n",
    "Schätzen Sie die Energie für die niedrigste beobachtbare Anregung von $\\mathrm{Hg}$ durch Elektronenstoß ab. Bestimmen Sie außerdem die Größe der Kontaktspannung zwischen K und G2. Gehen Sie dabei wie folgt vor:\n",
    "\n",
    "- Schalten Sie die Kathodenheizung ein —lassen Sie sie eingeschaltet, solange die Röhre heiß ist!— und heizen Sie dann mit der Ofenheizung die Röhre auf $\\approx160^{\\circ}\\mathrm{C}$ auf. Die Kontrollleuchte wird grün, sobald die Solltemperatur erreicht worden ist. Vermeiden Sie, die Röhre jemals über $190^{\\circ}\\mathrm{C}$ zu erhitzen. \n",
    "- Ermitteln Sie durch oszillographische Beobachtung bei verschiedenen Temperaturen (z.B. $160,\\,150,\\,140,\\,120^{\\circ}\\mathrm{C}$) die günstigsten Betriebsbedingungen von Kathodenheizung, $U_{1}$ und $U_{3}$. \n",
    "  - Diskutieren Sie (qualitativ) den Einfluss dieser Parameter auf die Form von $I_{\\mathrm{A}}$. \n",
    "  - Nehmen Sie jeweils das beste Ergebnis für $I_{\\mathrm{A}}$ mit Hilfe des Speicheroszilloskops auf. Beachten Sie die Unterschiede zwischen den Bildern bei durchlaufender Rampe und beim \"Einmalvorgang\". \n",
    "- Diskutieren Sie das Zustandekommen der typischen Franck-Hertz-Kurve für $I_{\\mathrm{A}}$. \n",
    "- Bestimmen Sie aus den aufgezeichneten Daten die Energie für die niedrigste beobachtbare Anregung von $\\mathrm{Hg}$ durch Elektronenstoß. Beachten Sie hierzu die Eichung der $x$-Achse!\n",
    "\n",
    "---"
   ]
  },
  {
   "cell_type": "markdown",
   "id": "e134e783-36ad-4834-a1e8-a0a7dd888c1c",
   "metadata": {},
   "source": [
    "**Lösung:** \\\n",
    "Bei der Arbeitung mit dem Pikoskop treten bei der Datenaufnahme viele Störquellen auf. Die Daten sind im Allgemeinen verauscht. Deshalb wird nach dem Einlesen dem Datensatz geglättet, die Störungen werden entfernt.  \\\n",
    "-> was soll man eichen? wir dürfen doch gar nicht eichen "
   ]
  },
  {
   "cell_type": "code",
   "execution_count": 1,
   "id": "d8837dfb-fa50-4458-b19e-ac78a2c31e58",
   "metadata": {
    "tags": []
   },
   "outputs": [
    {
     "name": "stdout",
     "output_type": "stream",
     "text": [
      "Requirement already satisfied: iminuit in /opt/conda/lib/python3.10/site-packages (2.21.3)\n",
      "Requirement already satisfied: numpy>=1.21 in /opt/conda/lib/python3.10/site-packages (from iminuit) (1.24.3)\n",
      "Note: you may need to restart the kernel to use updated packages.\n"
     ]
    }
   ],
   "source": [
    "pip install -U iminuit"
   ]
  },
  {
   "cell_type": "code",
   "execution_count": 7,
   "id": "1f4b3b07-27d2-49f7-ac28-3b4078a8b21a",
   "metadata": {
    "tags": []
   },
   "outputs": [],
   "source": [
    "import numpy as np #Lade Pakete\n",
    "import matplotlib.pyplot as plt\n",
    "from PhyPraKit import readPicoScope, resample\n",
    "from scipy import signal\n",
    "from scipy import interpolate\n",
    "import sys\n",
    "from kafe2 import  XYContainer, Fit, XYFit, Plot, ContoursProfiler                            \n",
    "from uncertainties import ufloat, unumpy\n",
    "import uncertainties.unumpy as unp\n",
    "from math import log10, floor\n",
    "import scipy.integrate as integrate\n",
    "import pandas as pd\n",
    "import sympy as sp\n",
    "from sympy import symbols\n",
    "import csv\n",
    "import iminuit\n",
    "import PhyPraKit as ppk"
   ]
  },
  {
   "cell_type": "code",
   "execution_count": 8,
   "id": "30a4194b-7522-429d-a401-575c3779337d",
   "metadata": {
    "tags": []
   },
   "outputs": [],
   "source": [
    "data=pd.read_csv('Werte/Aufgabe 4 6v,200mA.txt',delimiter='\\t',decimal=\",\",skiprows=1) #importiere Daten\n",
    "data.columns=['t1_120','U1_120','U3_120']\n",
    "t1_120 = data['t1_120'].to_numpy()\n",
    "U1_120 = data['U1_120'].to_numpy()\n",
    "U3_120 = data['U3_120'].to_numpy()\n",
    "#data=pd.read_csv('Werte/Aufgabe1_2_140.txt',delimiter='\\t',decimal=\",\",skiprows=1) \n",
    "#data.columns=['t_140','U1_140','U3_140']\n",
    "#t1_140 = data['t1_140'].to_numpy()\n",
    "#U1_140 = data['U1_140'].to_numpy()\n",
    "#U3_140 = data['U3_140'].to_numpy()\n",
    "#data=pd.read_csv('Werte/Aufgabe1_2_150.txt',delimiter='\\t',decimal=\",\",skiprows=1) \n",
    "#data.columns=['t_150','U1_150','U3_150']\n",
    "#t1_150 = data['t1_150'].to_numpy()\n",
    "#U1_150 = data['U1_150'].to_numpy()\n",
    "#U3_150 = data['U3_150'].to_numpy()\n",
    "#data=pd.read_csv('Werte/Aufgabe1_2_160.txt',delimiter='\\t',decimal=\",\",skiprows=1) \n",
    "#data.columns=['t_160','U1_160','U3_160']\n",
    "#t1_160 = data['t1_160'].to_numpy()\n",
    "#U1_160 = data['U1_160'].to_numpy()\n",
    "#U3_160 = data['U3_160'].to_numpy()"
   ]
  },
  {
   "cell_type": "code",
   "execution_count": 40,
   "id": "4ea466ad-6b6a-4f78-acd1-1e1431383c14",
   "metadata": {
    "tags": []
   },
   "outputs": [
    {
     "name": "stdout",
     "output_type": "stream",
     "text": [
      "<class 'numpy.ndarray'>\n"
     ]
    },
    {
     "data": {
      "text/plain": [
       "2.4707142857142856"
      ]
     },
     "execution_count": 40,
     "metadata": {},
     "output_type": "execute_result"
    }
   ],
   "source": [
    "U3_120_glatt = ppk.meanFilter(U3_120, width=20)\n",
    "U3_120_peaks = ppk.convolutionPeakfinder(U3_120_glatt, width=20)  \n",
    "U3_120_peaks = U3_120_peaks[0:-1]\n",
    "print(type(U3_120_glatt))\n",
    "np.ndarray.max(U3_120_glatt)"
   ]
  },
  {
   "cell_type": "code",
   "execution_count": 70,
   "id": "63bed576-f80b-4f32-ae8b-c5b2012d1275",
   "metadata": {
    "tags": []
   },
   "outputs": [
    {
     "name": "stdout",
     "output_type": "stream",
     "text": [
      "8\n",
      "8\n"
     ]
    },
    {
     "data": {
      "image/png": "[encoded data removed]",
      "text/plain": [
       "<Figure size 640x480 with 1 Axes>"
      ]
     },
     "metadata": {},
     "output_type": "display_data"
    },
    {
     "name": "stdout",
     "output_type": "stream",
     "text": [
      "[ 0.00238095 -0.0047619   0.00428571  0.00761905  0.00142857 -0.00714286\n",
      " -0.00428571]\n",
      "Anzahl der Peaks: 8\n",
      "U1 peaks:  [-0.4 -0.8  0.  -0.8 -1.1  1.  -0.7  0.3]\n",
      "von Maxima bis Maxima U_1: [-0.4  0.8 -0.8 -0.3  2.1 -1.7  1. ]\n",
      "Mittelwert Differenz: 0.09999999999999999\n",
      "Standardabweichung der Differenz: 1.1807987611298187\n",
      "U3 peaks:  [2.33619048 2.33857143 2.33380952 2.33809524 2.34571429 2.34714286\n",
      " 2.34       2.33571429]\n",
      "von Maxima bis Maxima U_3: [ 0.00238095 -0.0047619   0.00428571  0.00761905  0.00142857 -0.00714286\n",
      " -0.00428571]\n",
      "Mittelwert Differenz: -6.802721088388404e-05\n",
      "Standardabweichung der Differenz: 0.00501651675226915\n"
     ]
    }
   ],
   "source": [
    "U3_120_glatt = ppk.meanFilter(U3_120, width=20)\n",
    "U3_120_peaks = ppk.convolutionPeakfinder(U3_120_glatt, width=20)  \n",
    "U3_120_peaks = U3_120_peaks[1:-1]\n",
    "plt.plot(U1_120, U3_120, c='black', lw=1, label='orginal')  # Daten plotten\n",
    "plt.plot(U1_120, U3_120_glatt, c='red', lw=2, ls='--', label='gefiltert')\n",
    "plt.title('Franck-Hertz-Kurve 120°C')\n",
    "diff1_120=np.zeros(len(U3_120_peaks))\n",
    "diff3_120=np.zeros(len(U3_120_peaks))\n",
    "i=0\n",
    "currentu120_1=0\n",
    "currentu120_3=0\n",
    "print\n",
    "for peak in U3_120_peaks:\n",
    "    if(i>0&i<len(U3_120_peaks)):\n",
    "        plt.vlines(U1_120[U3_120_peaks], 0, np.ndarray.max(U3_120_glatt), color='red', ls='--')\n",
    "        diff1_120[i]=U1_120[peak].copy()-currentu120_1\n",
    "        diff3_120[i]=U3_120_glatt[peak].copy()-currentu120_3\n",
    "    i=i+1\n",
    "    currentu120_1=U1_120[peak].copy()\n",
    "    currentu120_3=U3_120_glatt[peak].copy()\n",
    "plt.xlabel('U1 in V')\n",
    "plt.ylabel('U3 in V')\n",
    "plt.legend()\n",
    "plt.show()\n",
    "diff3_120=diff3_120[1:]\n",
    "diff1_120=diff1_120[1:]\n",
    "print(diff3_120)\n",
    "print('Anzahl der Peaks:',len(U3_120_peaks))\n",
    "print('U1 peaks: ',U1_120[U3_120_peaks])\n",
    "print('von Maxima bis Maxima U_1:',diff1_120)\n",
    "print('Mittelwert Differenz:',np.mean(diff1_120))     #Mittelwert Periodendauer\n",
    "print('Standardabweichung der Differenz:',np.sqrt(np.var(diff1_120)))#Standardabweichung \n",
    "print('U3 peaks: ',U3_120_glatt[U3_120_peaks])\n",
    "print('von Maxima bis Maxima U_3:',diff3_120)\n",
    "print('Mittelwert Differenz:',np.mean(diff3_120))     #Mittelwert Periodendauer\n",
    "print('Standardabweichung der Differenz:',np.sqrt(np.var(diff3_120)))#Standardabweichung "
   ]
  },
  {
   "cell_type": "code",
   "execution_count": 74,
   "id": "f3416dfd-49bf-4a91-af25-97b2ebaa60d2",
   "metadata": {},
   "outputs": [
    {
     "data": {
      "image/png": "[encoded data removed]",
      "text/plain": [
       "<Figure size 640x480 with 1 Axes>"
      ]
     },
     "metadata": {},
     "output_type": "display_data"
    },
    {
     "name": "stdout",
     "output_type": "stream",
     "text": [
      "Anzahl der Peaks: 8\n",
      "U1 peaks:  [-0.4 -0.8  0.  -0.8 -1.1  1.  -0.7  0.3]\n",
      "von Maxima bis Maxima U_1: [-0.4  0.8 -0.8 -0.3  2.1 -1.7  1. ]\n",
      "Mittelwert Differenz: 0.09999999999999999\n",
      "Standardabweichung der Differenz: 1.1807987611298187\n",
      "U3 peaks:  [2.33619048 2.33857143 2.33380952 2.33809524 2.34571429 2.34714286\n",
      " 2.34       2.33571429]\n",
      "von Maxima bis Maxima U_1: [ 0.00238095 -0.0047619   0.00428571  0.00761905  0.00142857 -0.00714286\n",
      " -0.00428571]\n",
      "Mittelwert Differenz: -6.802721088388404e-05\n",
      "Standardabweichung der Differenz: 0.00501651675226915\n"
     ]
    },
    {
     "ename": "NameError",
     "evalue": "name 'U1_140' is not defined",
     "output_type": "error",
     "traceback": [
      "\u001b[0;31m---------------------------------------------------------------------------\u001b[0m",
      "\u001b[0;31mNameError\u001b[0m                                 Traceback (most recent call last)",
      "Cell \u001b[0;32mIn[74], line 48\u001b[0m\n\u001b[1;32m     45\u001b[0m \u001b[38;5;28mprint\u001b[39m(\u001b[38;5;124m'\u001b[39m\u001b[38;5;124mMittelwert Differenz:\u001b[39m\u001b[38;5;124m'\u001b[39m,np\u001b[38;5;241m.\u001b[39mmean(diff3_120))     \u001b[38;5;66;03m#Mittelwert Periodendauer\u001b[39;00m\n\u001b[1;32m     46\u001b[0m \u001b[38;5;28mprint\u001b[39m(\u001b[38;5;124m'\u001b[39m\u001b[38;5;124mStandardabweichung der Differenz:\u001b[39m\u001b[38;5;124m'\u001b[39m,np\u001b[38;5;241m.\u001b[39msqrt(np\u001b[38;5;241m.\u001b[39mvar(diff3_120)))\u001b[38;5;66;03m#Standardabweichung \u001b[39;00m\n\u001b[0;32m---> 48\u001b[0m plt\u001b[38;5;241m.\u001b[39mplot(\u001b[43mU1_140\u001b[49m, U3_140, c\u001b[38;5;241m=\u001b[39m\u001b[38;5;124m'\u001b[39m\u001b[38;5;124mblack\u001b[39m\u001b[38;5;124m'\u001b[39m, lw\u001b[38;5;241m=\u001b[39m\u001b[38;5;241m1\u001b[39m, label\u001b[38;5;241m=\u001b[39m\u001b[38;5;124m'\u001b[39m\u001b[38;5;124morginal\u001b[39m\u001b[38;5;124m'\u001b[39m)  \u001b[38;5;66;03m# Daten plotten\u001b[39;00m\n\u001b[1;32m     49\u001b[0m plt\u001b[38;5;241m.\u001b[39mplot(U1_140, U3_140_glatt, c\u001b[38;5;241m=\u001b[39m\u001b[38;5;124m'\u001b[39m\u001b[38;5;124mred\u001b[39m\u001b[38;5;124m'\u001b[39m, lw\u001b[38;5;241m=\u001b[39m\u001b[38;5;241m2\u001b[39m, ls\u001b[38;5;241m=\u001b[39m\u001b[38;5;124m'\u001b[39m\u001b[38;5;124m--\u001b[39m\u001b[38;5;124m'\u001b[39m, label\u001b[38;5;241m=\u001b[39m\u001b[38;5;124m'\u001b[39m\u001b[38;5;124mgefiltert\u001b[39m\u001b[38;5;124m'\u001b[39m)\n\u001b[1;32m     50\u001b[0m plt\u001b[38;5;241m.\u001b[39mtitle(\u001b[38;5;124m'\u001b[39m\u001b[38;5;124mFranck-Hertz-Kurve 140°C\u001b[39m\u001b[38;5;124m'\u001b[39m)\n",
      "\u001b[0;31mNameError\u001b[0m: name 'U1_140' is not defined"
     ]
    }
   ],
   "source": [
    "U3_120_glatt = ppk.meanFilter(U3_120, width=20) # U_3 glätten, passendes width ausprobieren\n",
    "#U3_140_glatt = ppk.meanFilter(U3_140, width=20)\n",
    "#U3_150_glatt = ppk.meanFilter(U3_150, width=20)\n",
    "#U3_160_glatt = ppk.meanFilter(U3_160, width=20)\n",
    "\n",
    "U3_120_peaks = ppk.convolutionPeakfinder(U3_120_glatt, width=20)  \n",
    "#U3_140_peaks = ppk.convolutionPeakfinder(U3_140_glatt, width=20)\n",
    "#U3_150_peaks = ppk.convolutionPeakfinder(U3_150_glatt, width=20)\n",
    "#U3_160_peaks = ppk.convolutionPeakfinder(U3_160_glatt, width=20)\n",
    "U3_120_peaks = U3_120_peaks[1:-1]\n",
    "#U3_140_peaks = U3_140_peaks[1:-1]\n",
    "#U3_150_peaks = U3_150_peaks[1:-1]\n",
    "#U3_160_peaks = U3_160_peaks[1:-1]\n",
    "\n",
    "\n",
    "plt.plot(U1_120, U3_120, c='black', lw=1, label='orginal')  # Daten plotten\n",
    "plt.plot(U1_120, U3_120_glatt, c='red', lw=2, ls='--', label='gefiltert')\n",
    "plt.title('Franck-Hertz-Kurve 120°C')\n",
    "diff1_120=np.zeros(len(U3_120_peaks))\n",
    "diff3_120=np.zeros(len(U3_120_peaks))\n",
    "i=0\n",
    "currentu120_1=0\n",
    "currentu120_3=0\n",
    "for peak in U3_120_peaks:\n",
    "    if(i>=0&i<=len(U3_120_peaks)):\n",
    "        plt.vlines(U1_120[U3_120_peaks], 0, np.ndarray.max(U3_120_glatt), color='red', ls='--')\n",
    "        diff1_120[i]=U1_120[peak].copy()-currentu120_1\n",
    "        diff3_120[i]=U3_120_glatt[peak].copy()-currentu120_3\n",
    "    i=i+1\n",
    "    currentu120_1=U1_120[peak].copy()\n",
    "    currentu120_3=U3_120_glatt[peak].copy()\n",
    "plt.xlabel('U1 in V')\n",
    "plt.ylabel('U3 in V')\n",
    "plt.legend()\n",
    "plt.show()\n",
    "diff3_120=diff3_120[1:]\n",
    "diff1_120=diff1_120[1:]\n",
    "print('Anzahl der Peaks:',len(U3_120_peaks))\n",
    "print('U1 peaks: ',U1_120[U3_120_peaks])\n",
    "print('von Maxima bis Maxima U_1:',diff1_120)\n",
    "print('Mittelwert Differenz:',np.mean(diff1_120))     #Mittelwert Periodendauer\n",
    "print('Standardabweichung der Differenz:',np.sqrt(np.var(diff1_120)))#Standardabweichung \n",
    "print('U3 peaks: ',U3_120_glatt[U3_120_peaks])\n",
    "print('von Maxima bis Maxima U_1:',diff3_120)\n",
    "print('Mittelwert Differenz:',np.mean(diff3_120))     #Mittelwert Periodendauer\n",
    "print('Standardabweichung der Differenz:',np.sqrt(np.var(diff3_120)))#Standardabweichung \n",
    "\n",
    "plt.plot(U1_140, U3_140, c='black', lw=1, label='orginal')  # Daten plotten\n",
    "plt.plot(U1_140, U3_140_glatt, c='red', lw=2, ls='--', label='gefiltert')\n",
    "plt.title('Franck-Hertz-Kurve 140°C')\n",
    "diff1_140=np.zeros(len(U3_140_peaks))\n",
    "diff3_140=np.zeros(len(U3_140_peaks))\n",
    "i=0\n",
    "currentu140_1=0\n",
    "currentu140_3=0\n",
    "for peak in U3_140_peaks:\n",
    "    if(i>=0&i<=len(U3_140_peaks)):\n",
    "        plt.vlines(U1_140[U3_140_peaks], 0, np.ndarray.max(U3_140_glatt), color='red', ls='--')\n",
    "        diff1_140[i]=U1_140[peak].copy()-currentu140_1\n",
    "        diff3_140[i]=U3_140_glatt[peak].copy()-currentu140_3\n",
    "    i=i+1\n",
    "    currentu140_1=U1_140[peak].copy()\n",
    "    currentu140_3=U3_140_glatt[peak].copy()\n",
    "plt.xlabel('U1 in V')\n",
    "plt.ylabel('U3 in V')\n",
    "plt.legend()\n",
    "plt.show()\n",
    "diff3_140=diff3_140[1:]\n",
    "diff1_140=diff1_140[1:]\n",
    "print('Anzahl der Peaks:',len(U3_140_peaks))\n",
    "print('U1 peaks: ',U1_140[U3_140_peaks])\n",
    "print('von Maxima bis Maxima U_1:',diff_140)\n",
    "print('Mittelwert Differenz:',np.mean(diff_140))     #Mittelwert \n",
    "print('Standardabweichung der Differenz:',np.sqrt(np.var(diff_140)))#Standardabweichung \n",
    "print('U3 peaks: ',U3_140_glatt[U3_140_peaks])\n",
    "print('von Maxima bis Maxima U_1:',diff3_140)\n",
    "print('Mittelwert Differenz:',np.mean(diff3_140))     #Mittelwert Periodendauer\n",
    "print('Standardabweichung der Differenz:',np.sqrt(np.var(diff3_140)))#Standardabweichung \n",
    "\n",
    "plt.plot(U1_150, U3_150, c='black', lw=1, label='orginal')  # Daten plotten\n",
    "plt.plot(U1_150, U3_150_glatt, c='red', lw=2, ls='--', label='gefiltert')\n",
    "plt.title('Franck-Hertz-Kurve 150°C')\n",
    "diff1_150=np.zeros(len(U3_150_peaks))\n",
    "diff3_150=np.zeros(len(U3_150_peaks))\n",
    "i=0\n",
    "currentu150_1=0\n",
    "currentu150_3=0\n",
    "for peak in U3_150_peaks:\n",
    "    if(i>=0&i<=len(U3_150_peaks)):\n",
    "        plt.vlines(U1_150[U3_150_peaks], 0, np.ndarray.max(U3_150_glatt), color='red', ls='--')\n",
    "        diff1_150[i]=U1_150[peak].copy()-currentu150_1\n",
    "        diff3_150[i]=U3_150_glatt[peak].copy()-currentu150_3\n",
    "    i=i+1\n",
    "    currentu150_1=U1_150[peak].copy()\n",
    "    currentu150_3=U3_150_glatt[peak].copy()\n",
    "plt.xlabel('U1 in V')\n",
    "plt.ylabel('U3 in V')\n",
    "plt.legend()\n",
    "plt.show()\n",
    "diff3_150=diff3_150[1:]\n",
    "diff1_150=diff1_150[1:]\n",
    "print('Anzahl der Peaks:',len(U3_150_peaks))\n",
    "print('U1 peaks: ',U1_120[U3_150_peaks])\n",
    "print('von Maxima bis Maxima U_1:',diff_150)\n",
    "print('Mittelwert Differenz:',np.mean(diff_150))     #Mittelwert \n",
    "print('Standardabweichung der Differenz:',np.sqrt(np.var(diff_150)))#Standardabweichung \n",
    "print('U3 peaks: ',U3_150_glatt[U3_150_peaks])\n",
    "print('von Maxima bis Maxima U_1:',diff3_150)\n",
    "print('Mittelwert Differenz:',np.mean(diff3_150))     #Mittelwert Periodendauer\n",
    "print('Standardabweichung der Differenz:',np.sqrt(np.var(diff3_150)))#Standardabweichung \n",
    "\n",
    "plt.plot(U1_160, U3_160, c='black', lw=1, label='orginal')  # Daten plotten\n",
    "plt.plot(U1_160, U3_160_glatt, c='red', lw=2, ls='--', label='gefiltert')\n",
    "plt.title('Franck-Hertz-Kurve 160°C')\n",
    "diff1_160=np.zeros(len(U3_160_peaks))\n",
    "diff3_160=np.zeros(len(U3_160_peaks))\n",
    "i=0\n",
    "currentu160_1=0\n",
    "currentu160_3=0\n",
    "for peak in U3_160_peaks:\n",
    "    if(i>=0&i<=len(U3_160_peaks)):\n",
    "        plt.vlines(U1_160[U3_160_peaks], 0, np.ndarray.max(U3_160_glatt), color='red', ls='--')\n",
    "        diff1_160[i]=U1_160[U3_160_peaks].copy()-currentu160_1\n",
    "        diff3_160[i]=U3_160_glatt[U3_160_peaks].copy()-currentu160_3\n",
    "    i=i+1\n",
    "    currentu160_1=U1_160[peak].copy()\n",
    "    currentu160_3=U3_160_glatt[peak].copy()\n",
    "plt.xlabel('U1 in V')\n",
    "plt.ylabel('U3 in V')\n",
    "plt.legend()\n",
    "plt.show()\n",
    "diff3_160=diff3_160[1:]\n",
    "diff1_160=diff1_160[1:]\n",
    "print('Anzahl der Peaks:',len(U3_160_peaks))\n",
    "print('U1 peaks: ',U1_160[U3_160_peaks])\n",
    "print('von Maxima bis Maxima U_1:',diff_160)\n",
    "print('Mittelwert Differenz:',np.mean(diff_160))     #Mittelwert \n",
    "print('Standardabweichung der Differenz:',np.sqrt(np.var(diff_160)))#Standardabweichung \n",
    "print('U3 peaks: ',U3_160_glatt[U3_160_peaks])\n",
    "print('von Maxima bis Maxima U_1:',diff3_160)\n",
    "print('Mittelwert Differenz:',np.mean(diff3_160))     #Mittelwert Periodendauer\n",
    "print('Standardabweichung der Differenz:',np.sqrt(np.var(diff3_160)))#Standardabweichung "
   ]
  },
  {
   "cell_type": "markdown",
   "id": "f1d5bb3d-5f44-4719-966c-6c6bf11f8893",
   "metadata": {},
   "source": [
    "Die ermittelten Spannungsdifferenzen kommen den Anregungsenergien gleich.\n",
    "<table>\n",
    "    <tr>\n",
    "        <td>Temperatur in °C</td>\n",
    "        <td>Δ U1 in V</td>\n",
    "        <td>Δ U3 in V</td>\n",
    "    </tr>\n",
    "    <tr>\n",
    "        <td>120</td>\n",
    "        <td>1</td>\n",
    "        <td>1</td>\n",
    "    </tr>\n",
    "    <tr>\n",
    "        <td>140</td>\n",
    "        <td>2</td>\n",
    "        <td>2</td>\n",
    "    </tr>\n",
    "    <tr>\n",
    "        <td>150</td>\n",
    "        <td>3</td>\n",
    "        <td>3</td>\n",
    "    </tr>\n",
    "    <tr>\n",
    "        <td>160</td>\n",
    "        <td>3</td>\n",
    "        <td>3</td>\n",
    "    </tr>\n",
    "<table>\n",
    "    \n",
    "Mit steigenden Temperaturen nähern sich die Ergebnisse immer weiter dem Literaturwert an, der bei $4.89 eV$ liegt. (https://git.scc.kit.edu/etp-lehre/p2-for-students/-/blob/main/Franck_Hertz_Versuch/Franck-Hertz-Vorbereitungshilfe.pdf)     "
   ]
  },
  {
   "cell_type": "markdown",
   "id": "51314eff-f682-46e3-8fa1-e02b83738373",
   "metadata": {},
   "source": [
    "### Aufgabe 1.3: Aufnahme der Anodenstromkurve\n",
    "\n",
    "Nehmen Sie bei $\\approx150^{\\circ}\\mathrm{C}$ mit Hilfe eines empfindlichen Strommessinstruments in der Anodenleitung den Anodenstrom $I_{G_{2}}$ als Funktion von $U_{2}$ auf. Überprüfen Sie durch geeignete Auftragung die (aus dem [Raumladungsgesetz](https://de.wikipedia.org/wiki/Raumladungsgesetz)) erwartete $U^{3/2}$-Abhängigkeit. Diskutieren Sie warum $I_{G_{2}}(U_{2})$ keinerlei \"Franck-Hertz-Form\" aufweist?\n",
    "\n",
    "---"
   ]
  },
  {
   "cell_type": "markdown",
   "id": "8604012b-e8f0-4688-a4e6-a2dc927caae7",
   "metadata": {},
   "source": [
    "**Lösung:** \\\n",
    "Bei diesem Versuchsteil liegt eine Temperatur von $x°C$ vor.\n",
    "Das zu überprüfende Raumladungsgesetz sieht wiefolgt aus:\\\n",
    "$$ I_{G2}=K\\cdot U_{2}^{\\frac{3}{2}} $$\\\n",
    "K ist dabei die Raumladungskonstante. Um das Gesetz zu verifizieren wird es so umgestellt, sodass keine Potenzen mehr vorkommen, $log(I_{G2})=\\frac{3}{2}\\cdot log(U_{2})+log(K)$. Nun wird diese Gleichung linear gefittet um den Zusammenhang zwischen $log(I_{G2})$ und $log(U_{2})$ sichtbar zu machen. "
   ]
  },
  {
   "cell_type": "code",
   "execution_count": null,
   "id": "83b49d9a-1a1f-4b0b-b505-b0b45452752b",
   "metadata": {},
   "outputs": [],
   "source": [
    "data=pd.read_csv('Werte/Aufgabe1_3.txt',delimiter='\\t',decimal=\",\",skiprows=1) #importiere Daten\n",
    "data.columns=['I_G2','U2']\n",
    "I_G2 = data['I_G2'].to_numpy()\n",
    "U2 = data['U2'].to_numpy()\n",
    "yreal=np.log(I_G2)\n",
    "xreal=np.log(U2)\n",
    "\n",
    "xy_data = XYContainer(xreal,yreal)\n",
    "def linear(x,a=1.5,b=10):\n",
    "    return a*x + b\n",
    "line_fit=Fit(data=xy_data,model_function=linear)\n",
    "line_fit.do_fit()\n",
    "line_fit.assign_parameter_latex_names(x='log(U_2)', a='a' , b='log(K))\n",
    "line_fit.assign_model_function_latex_name('log(I_{G2})')\n",
    "line_fit.assign_model_function_latex_expression('{a} \\\\cdot {x} + {b}')\n",
    "\n",
    "\n",
    "line_fit.data_container.label = \"Verwendete Daten\"\n",
    "line_fit.model_label = \"Modellfunktion\"\n",
    "\n",
    "line_fit.data_container.axis_labels = [\"log(U_2) in V\", \"log(I_{G2}) in A\"]\n",
    "\n",
    "plot.plot()\n",
    "plt.show()"
   ]
  },
  {
   "cell_type": "markdown",
   "id": "b4ab27f8-67e4-4a1c-9b43-f6904ee331af",
   "metadata": {},
   "source": [
    "An dem linearen Fit ist erkennbar, dass ein linearer Zusammenhang besteht. Die Fitgerade hat eine Steigung von $x \\frac{A}{V}$. Der theoretische Wert beträgt $1,5\\frac{A}{V}$. Der experimentell bestimmte Wert hat eine Abweichung von $x\\%$ vom theoretischen Wert. \\\n",
    "$I_{G2}$ weißt keinerlei \"Frank-Hertz-Form\" auf, da bei der \"Frank-Hertz-Form\" an der Anode langsame Elektronen detektiert werden und bei diesem Versuchsteil die Elektronen zu der Anode beschleunigt werden.  "
   ]
  },
  {
   "cell_type": "markdown",
   "id": "4166d7d8-03fa-467f-9a2d-a2175f286d93",
   "metadata": {},
   "source": [
    "### Aufgabe 1.4: Ionisierungsarbeit von $\\mathrm{Hg}$\n",
    "\n",
    "Bestimmen Sie aus $I_{G_{2}}(U_{2})$ die Ionisierungsarbeit von $\\mathrm{Hg}$ auf zwei Arten:\n",
    "\n",
    "1. Messen Sie mit dem Multimeter $I_{G_{2}}(U_{2})$; und\n",
    "2. Stellen Sie den Auffängerstrom mit Hilfe des Oszillographen dar.\n",
    "\n",
    "Stellen Sie hierzu für Stoßionisation günstige Betriebsbedingungen ein. Um deutliche Effekte zu erhalten, müssen Sie **G1 als Anode verwenden**: Setzen hierzu G1 auf das gleiche Potential wie G2. Die Beschleunigungsspannung ist dann $U_{1} + U_{2}$. Verwenden Sie die gleiche Schaltung später für Aufgabe 2.\n",
    "\n",
    "---"
   ]
  },
  {
   "cell_type": "markdown",
   "id": "c9588856-e1b1-47ab-9208-b30ec2ed354a",
   "metadata": {},
   "source": [
    "**Lösung:** \\\n",
    "Für die Bestimmung der Ionisierungsarbeit müssen die Temperatur und Spannungen an $U_1$ bis $U_3$ gemessen werden in beiden Fällen.\n",
    "<style>\n",
    "table.GeneratedTable {\n",
    "  width: 100%;\n",
    "  background-color: #ffffff;\n",
    "  border-collapse: collapse;\n",
    "  border-width: 2px;\n",
    "  border-color: #000000;\n",
    "  border-style: solid;\n",
    "  color: #000000;\n",
    "}\n",
    "\n",
    "table.GeneratedTable td, table.GeneratedTable th {\n",
    "  border-width: 2px;\n",
    "  border-color: #000000;\n",
    "  border-style: solid;\n",
    "  padding: 3px;\n",
    "}\n",
    "\n",
    "table.GeneratedTable thead {\n",
    "  background-color: #c0c0c0;\n",
    "}\n",
    "</style>\n",
    "\n",
    "<table class=\"GeneratedTable\">\n",
    "  <thead>\n",
    "    <tr>\n",
    "      <th>T in °C</th>\n",
    "      <th>U_1 in V</th>\n",
    "      <th>U_2 in V</th>\n",
    "      <th>U_3 in V</th>\n",
    "    </tr>\n",
    "  </thead>\n",
    "  <tbody>\n",
    "    <tr>\n",
    "      <td>Cell</td>\n",
    "      <td>Cell</td>\n",
    "      <td>U_1</td>\n",
    "      <td>Cell</td>\n",
    "    </tr>\n",
    "  </tbody>\n",
    "</table>\n",
    "\n",
    "\n",
    "Zuerst wird die Ionisierungsarbeit mit Hilfe des Multimeter $I_{G_{2}}(U_{2})$ bestimmt:\\\n",
    "Dazu wird der Anodenstrom $I_{G_2}$und die Spannung $U_2$ gemessen. \n",
    "Anschließend werden zwei lineare Fits gemacht. Die Fitgeraden haben verschiedene Steigungen. An dem Punkt, wo die Geraden sich schneiden liegt die Spannung vor, die der Ionisationsarbeit entspricht.\n"
   ]
  },
  {
   "cell_type": "code",
   "execution_count": null,
   "id": "6cf5b310-462c-4f80-b7e5-bc017b496422",
   "metadata": {},
   "outputs": [],
   "source": [
    "data=pd.read_csv('Werte/Aufgabe1_4.txt',delimiter='\\t',decimal=\",\",skiprows=1) #importiere Daten\n",
    "data.columns=['U_2I','I_GI']\n",
    "I_GI = data['I_GI'].to_numpy()\n",
    "U_2I = data['U_2I'].to_numpy()\n",
    "\n",
    "knick=                 # knick vor zahl\n",
    "xy_data = XYContainer(U_2I[0,knick],I_GI[0:knick])\n",
    "def linear(x,a=1.5,b=10):\n",
    "    return a*x + b\n",
    "line_fit=Fit(data=xy_data,model_function=linear)\n",
    "line_fit.do_fit()\n",
    "line_fit.assign_parameter_latex_names(x='U_2', a='a' , b='off1')\n",
    "line_fit.assign_model_function_latex_name('I_G')\n",
    "line_fit.assign_model_function_latex_expression('{a} \\\\cdot {x} + {b}')\n",
    "\n",
    "line_fit.data_container.label = \"Verwendete Daten\"\n",
    "line_fit.model_label = \"Modellfunktion\"\n",
    "\n",
    "line_fit.data_container.axis_labels = [\"U_2 in V\", \"I_G in A\"]\n",
    "\n",
    "\n",
    "xy_data2 = XYContainer(U[knick:-1],I_GI[knick:-1])\n",
    "def lin(x,c=2,d=10):\n",
    "    return c*x + d\n",
    "line_fit2=Fit(data=xy_data2,model_function=lin)\n",
    "line_fit2.do_fit()\n",
    "\n",
    "line_fit2.data_container.label = \"Verwendete Daten\"\n",
    "line_fit2.model_label = \"Modellfunktion\"\n",
    "\n",
    "line_fit.data_container.axis_labels = [\"U_2 in V\", \"I_G in A\"]\n",
    "plot = Plot(fit_objects=[line_fit,line_fit2])\n",
    "plot.plot()\n",
    "plt.show()\n"
   ]
  },
  {
   "cell_type": "code",
   "execution_count": null,
   "id": "ae253339-b53c-4e43-a81a-9209a9597f1e",
   "metadata": {},
   "outputs": [],
   "source": [
    "U_2I_grenz = sp.S('U_2I_grenz')\n",
    "a, b, c, d = symbols(\"a b c d\")\n",
    "eq = sp.Eq( a*U_2I_grenz+b,c*U_2I_grenz+d)\n",
    "\n",
    "# Gleichung allgemein mit x als Variable lösen:\n",
    "U_2I_grenz=sp.solve( eq.subs( {a:, b:, c:, d:} ) ) #Fitparameter eingeben nach doppelpunkt\n",
    "I_GI_grenz=a*U_2I_grenz+b                          #Fitparameter eingeben\n",
    "print('Die Ionisierungsarbeit liegt bei einer Spannung $U_2$ von ',U_2I_grenz,'V und einer Stromstärke von',I_GI_grenz,'A')"
   ]
  },
  {
   "cell_type": "markdown",
   "id": "4db7e31b-9f80-41d6-a461-f0a7411a82d5",
   "metadata": {},
   "source": [
    "Jetzt wird die Ionisierungsarbeit auf die zweite Art ermittelt:\\\n",
    "Die Spannung $U_1$ wird solange erhöht/erniedrigt bis die die Energie groß genug ist um Ionisation im Quecksilber hervorzurufen, dabei bricht die Spannung $U_3$ ein. "
   ]
  },
  {
   "cell_type": "code",
   "execution_count": null,
   "id": "9edc65ac-b659-4fc9-8545-19694644fd26",
   "metadata": {},
   "outputs": [],
   "source": [
    "data=pd.read_csv('Werte/Aufgabe1_4_b.txt',delimiter='\\t',decimal=\",\",skiprows=1) #importiere Daten\n",
    "data.columns=['t','U_1I','U_3I']\n",
    "t = data['t'].to_numpy()\n",
    "U_1I = data['U_1I'].to_numpy()\n",
    "U_3I_b = data['U_3I_b'].to_numpy()\n",
    "U_3I_bglatt = ppk.meanFilter(U_2I_b, width=20)\n",
    "einbruch=U_3I_bglatt.tolist().index(min(U_3I_bglatt[:])) # Bereich mit ungefährem Minimum einfügen\n",
    "\n",
    "plt.plot(U_1I, U_3I_b, c='black', lw=1, label='orginal')  # Daten plotten\n",
    "plt.plot(U_1I, U_3I_bglatt, c='red', lw=2, ls='--', label='gefiltert')\n",
    "plt.title('Ionisierungsarbeit zweite Art ')\n",
    "plt.vlines(U_1I[einbruch], 0, max[U_3I_bglatt], color='red', ls='--')\n",
    "plt.xlabel('U1 in V')\n",
    "plt.ylabel('U3 in V')\n",
    "plt.legend()\n",
    "plt.show()\n",
    "\n",
    "print('Bei dem Einbruch ist U1', U_1I, 'V.')"
   ]
  },
  {
   "cell_type": "markdown",
   "id": "7e13d3e4-e568-4b03-88c6-a616560dbd85",
   "metadata": {},
   "source": [
    "### Aufgabe 1.5: Emissionslinien bei brennender Gasentladung\n",
    "\n",
    "Beobachten Sie mit einem Taschenspektroskop die im Bereich des sichtbaren Lichts liegenden Emissionslinien bei brennender Gasentladung. Lassen Sie hierzu eine ständige Gasentladung zünden. Es besteht dabei keine Gefahr für die Apparatur, der $10\\,\\mathrm{k\\Omega}$-Widerstand in der Anodenleitung (siehe Bild zum Versuchsaufbau) begrenzt den Strom. Diskutieren Sie, ob man den Spannungsabfall an diesem Widerstand bei den vorangegangenen Aufgaben hätte berücksichtigen müssen.\n",
    "\n",
    "---"
   ]
  },
  {
   "cell_type": "markdown",
   "id": "7f4c1734-0bda-44fc-908f-d183ddd8f9d0",
   "metadata": {},
   "source": [
    "**Lösung:** \\\n",
    "-> Bilder on Spektrallinien bei Quecksilbergasentladung einfügen \\\n",
    "Das Licht der Quecksilber-Gasentladung entsteht durch optische Übergänge zwischen präzise definierten angeregten Zuständen der Elektronenhülle, was zu einem Linienspektrum anstatt eines kontinuierlichen Spektrums führt. Diese Beobachtung passt zu den Ergebnissen des Franck-Hertz-Versuchs."
   ]
  },
  {
   "cell_type": "markdown",
   "id": "cb8d84e8-0055-4be8-91bf-093663321029",
   "metadata": {},
   "source": [
    "### Aufgabe 2: Beobachtung der nächst-höheren Anregungen von $\\mathrm{Hg}$\n",
    "\n",
    "Bestimmen Sie die Energie für die nächst-höheren Anregungen von $\\mathrm{Hg}$. Benutzen Sie hierzu die Schaltung von Aufgabe 1.4, so dass die Wahrscheinlichkeit höhere Anregungsenergien zu beobachten erheblich vergrößert wird (beachten Sie hierzu den entsprechenden Abschnitt in der [Vorbereitungshilfe](https://git.scc.kit.edu/etp-lehre/p2-for-students/-/blob/main/Franck_Hertz_Versuch/Franck-Hertz-Vorbereitungshilfe.pdf)). Suchen Sie mit Hilfe des oszillographischen Beobachtungsmodus günstige Betriebsbedingungen auf und drucken Sie einen Verlauf von $I_{\\mathrm{A}}$ aus, aus dem Sie auf entsprechende höhere Anregungen im $\\mathrm{Hg}$ schließen können. Die Struktur dieser Kurve wird im Wesentlichen durch Linearkombinationen der beiden niedrigsten Anregungsenergien bestimmt.\n",
    "\n",
    "Das Ergebnisbild ist ähnlich zu (aber nicht identisch mit) Bild 7 in der [Vorbereitungshilfe](https://git.scc.kit.edu/etp-lehre/p2-for-students/-/blob/main/Franck_Hertz_Versuch/Franck-Hertz-Vorbereitungshilfe.pdf), das jedoch mit einer ganz anderen Röhre gewonnen wurde. Franck-Hertz-$\\mathrm{Hg}$-Röhren können erhebliche Fertigungstoleranzen aufweisen und altern unterschiedlich schnell. Es ist deshalb möglich, dass Sie mit den drei Franck-Hertz-Versuchen unterschiedlich gute Ergebnisse erreichen. Besonders deutlich können solche Unterschiede bei dieser Aufgabe zutage treten. Falls Sie keine geeignete Kurve aufzeichnen können, können Sie für diese Aufgabe die Ergebnisse einer Nachbargruppe für Ihre Auswertung verwenden. Fügen Sie Ihrer Auswertung in diesem Fall einen entsprechenden Verweis zu. \n",
    "\n",
    "---"
   ]
  },
  {
   "cell_type": "markdown",
   "id": "a19b1d3a-8b0d-4658-b83a-4b453878e073",
   "metadata": {},
   "source": [
    " analog zu Aufgabe 1.4, d.h. wir nutzten G1\n",
    "als Beschleunigungsgitter und legten G2 auf dasselbe Potential, um einen feldfreien Stoßraum\n",
    "zu erhalten. Mit dem Oszilloskop beobachteten wir den Strom durch die Auff ̈angerelektrode A\n",
    "(Spannungsabfall UA) in Abh ̈angigkeit von der an G1 anliegende Beschleunigungsspannung. \n",
    "\n",
    "Beschleunigungsspannung um Thermokontaktspannung korrigieren\n",
    "\n",
    "I_a über Beschleunigungsspannung U_b plotten. \n",
    "Maxima mit v_bar markieren\n",
    "\n",
    "aus linear Kombination von Anregungsniveaus die peaks erklären\n",
    "a_1 = 4,9 eV, a_2 = 6,7 eV\n"
   ]
  },
  {
   "cell_type": "markdown",
   "id": "c34dfb2c-33f8-4df6-b30a-fde515f4606f",
   "metadata": {},
   "source": [
    "### Aufgabe 3: Bestimmung der mittleren Energie für die Anregung von $\\mathrm{Ne}$ durch Elektronenstoß\n",
    "\n",
    "Bestimmen Sie die mittlere Energie für die vorherrschenden Anregungen von $\\mathrm{Ne}$ durch Elektronenstoß aus der oszillographischen Dargestellung von $I_{\\mathrm{A}}$ für die Franck-Hertz-$\\mathrm{Ne}$-Röhre. Bei den vorherrschenden Anregungen handelt es sich um eine Gruppe von Niveaus, die in einem etwa $0,5\\,\\mathrm{eV}$ breiten Energiebereich liegen. Das zugehörige emittierte Licht ist rot. Wenn Sie die Beschleunigungsspannung erhöhen, können Sie die Verlagerung und die Vermehrung von Leuchtschichten im Stoßraum beobachten. \n",
    "\n",
    "Für diesen Versuchsteil benutzen Sie eine spezielle Röhre mit indirekter Kathodenheizung, planparalleler Elektrodenanordnung und $\\mathrm{Ne}$-Füllung. Die Kontaktspannung zwischen der $\\mathrm{BaO}$-Kathode und der Metallanode mindert die angelegte Spannung um etwa $2,5\\,\\mathrm{V}$. Die Schaltung entspricht der der Franck-Hertz-$\\mathrm{Hg}$-Röhre. Die Franck-Hertz-$\\mathrm{Ne}$-Röhre ist nur einmal vorhanden, Sie müssen sie also mit den anderen Gruppen gemeinsam benutzen. Weil die Schaltung bereits fertig aufgebaut ist und Wartezeiten für das Aufheizen oder Abkühlen entfallen, benötigen Sie aber nur wenig Zeit für diese Aufgabe. Diskutieren Sie, ob es bei dieser Röhre Sinn macht zu heizen. Was würde sich dabei ändern und was nicht? Wenn ein besonderes Interesse daran besteht, können Sie auch hier Kurven mit dem Speicheroszilloskop aufzeichnen. Die Röhre soll allerdings nicht in der für Aufgabe 2 modifizierten Schaltung betrieben werden.\n",
    "\n",
    "---"
   ]
  },
  {
   "cell_type": "markdown",
   "id": "73c35370-8498-44e1-a256-dcb9d61e998d",
   "metadata": {},
   "source": [
    "**Lösung:**\n",
    "\n",
    "Neon ist bei Raumtemperatur gasförmig, somit ist heizen unnötig.\n",
    "\n",
    "Verlauf der Leuchtringe beschreiben\n"
   ]
  },
  {
   "cell_type": "code",
   "execution_count": null,
   "id": "0aa7d123-43e8-4ffa-be61-cdb6f1eb5479",
   "metadata": {},
   "outputs": [],
   "source": [
    "d_U1 = \n",
    "d_U2 = \n",
    "d_U3 = \n",
    "delta_U = ufloat(np.mean([d_U1,d_U2,d_U3]),np.std([d_U1,d_U2,d_U3]))\n",
    "print(delta_U)\n",
    "#Literatur wert zwischen 18, 4 und 19, 0 eV\n",
    "#delta_U *e = delta_E"
   ]
  },
  {
   "cell_type": "markdown",
   "id": "ec3bf939-5e47-4a6e-8a32-8a001e9e7917",
   "metadata": {},
   "source": [
    "Somit ergibt sich eine mittlere Spannungsdifferenz von $x \\pm x $V, \\\n",
    "woraus die mittlere niedriegste Anregungsenergie von Neon folgt als $x \\pm x$eV"
   ]
  }
 ],
 "metadata": {
  "kernelspec": {
   "display_name": "Python 3 (ipykernel)",
   "language": "python",
   "name": "python3"
  },
  "language_info": {
   "codemirror_mode": {
    "name": "ipython",
    "version": 3
   },
   "file_extension": ".py",
   "mimetype": "text/x-python",
   "name": "python",
   "nbconvert_exporter": "python",
   "pygments_lexer": "ipython3",
   "version": "3.10.10"
  }
 },
 "nbformat": 4,
 "nbformat_minor": 5
}
