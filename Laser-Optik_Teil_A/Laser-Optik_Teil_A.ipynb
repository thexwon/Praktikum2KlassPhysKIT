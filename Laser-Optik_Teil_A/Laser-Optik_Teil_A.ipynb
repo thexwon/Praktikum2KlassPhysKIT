{
 "cells": [
  {
   "attachments": {},
   "cell_type": "markdown",
   "id": "4cdf645f-090d-4bfd-8484-0dd46cec6387",
   "metadata": {},
   "source": [
    "<img src=\"./figures/Logo_KIT.svg\" width=\"250\" height=\"250\" style=\"zoom:15%;float:right;\" />\n",
    "\n",
    "# Fakultät für Physik \n",
    "\n",
    "## Physikalisches Praktikum P2 für Studierende der Physik\n",
    "\n",
    "\n",
    "\n",
    "Versuch P2-16, 17, 18 (Stand: April 2023)\n",
    "\n",
    "[Raum F1-29](http://www-ekp.physik.uni-karlsruhe.de/~simonis/praktikum/layoutobjekte/Lageplan_P1.png)"
   ]
  },
  {
   "attachments": {},
   "cell_type": "markdown",
   "id": "7b321ec2-4974-4e50-90cd-0d564744a8fc",
   "metadata": {},
   "source": [
    "Name: Schwarz Vorname: Felix E-Mail: unuhz@student.kit.edu\n",
    "\n",
    "\\begin{equation*}\n",
    "\\begin{split}\n",
    "&\\\\\n",
    "&\\\\\n",
    "\\end{split}\n",
    "\\end{equation*}\n",
    "\n",
    "Name: Steib Vorname: Lukas E-Mail: uzmpb@student.kit.edu\n",
    "\n",
    "\\begin{equation*}\n",
    "\\begin{split}\n",
    "&\\\\\n",
    "&\\\\\n",
    "&\\\\\n",
    "\\end{split}\n",
    "\\end{equation*}\n",
    "\n",
    "Gruppennummer: Mo-21\n",
    "\n",
    "\\begin{equation*}\n",
    "\\begin{split}\n",
    "&\\\\\n",
    "&\\\\\n",
    "&\\\\\n",
    "\\end{split}\n",
    "\\end{equation*}\n",
    "\n",
    "\n",
    "Betreuer: Nola Warwick\n",
    "\n",
    "\\begin{equation*}\n",
    "\\begin{split}\n",
    "&\\\\\n",
    "&\\\\\n",
    "&\\\\\n",
    "\\end{split}\n",
    "\\end{equation*}\n",
    "\n",
    "Versuch durchgeführt am: 19.06.2023"
   ]
  },
  {
   "attachments": {},
   "cell_type": "markdown",
   "id": "28d70a09-b2db-4e57-a0ca-7e0513904557",
   "metadata": {},
   "source": [
    "---\n",
    "\n",
    "**Beanstandungen:**\n",
    "\n",
    "\\begin{equation*}\n",
    "\\begin{split}\n",
    "&\\\\\n",
    "&\\\\\n",
    "&\\\\\n",
    "&\\\\\n",
    "&\\\\\n",
    "&\\\\\n",
    "&\\\\\n",
    "&\\\\\n",
    "&\\\\\n",
    "&\\\\\n",
    "\\end{split}\n",
    "%\\text{\\vspace{10cm}}\n",
    "\\end{equation*}\n",
    "\n",
    "<br>\n",
    "Testiert am: __________________ Vermerk: __________________"
   ]
  },
  {
   "attachments": {},
   "cell_type": "markdown",
   "id": "f78f4f32-5529-4bcf-b5fe-f0456bcc3760",
   "metadata": {},
   "source": [
    "# Laser-Optik, Teil A\n",
    "\n",
    "## Motivation\n",
    "\n",
    "Mit diesem Versuch lernen Sie die grundlegenden Konzepte von [Lasern](https://de.wikipedia.org/wiki/Laser) und ihrer Anwendung in der modernen Physik kennen. Darüber hinaus können Sie Ihr Verständnis der Eigenschaften von Licht und elektromagnetischen Wellen vertiefen. \n",
    "\n",
    "Das Laser (*light amplification by stimulated emission of radiation*)-Prinzip beruht auf der 1916 von Albert Einstein erstmals beschriebenen stimulierten Emission elektromagnetischer Wellen. Der erste funktionsfähige Maser –noch im Mikrowellenbereich– wurde 1954 von [Charles Townes](https://de.wikipedia.org/wiki/Charles_H._Townes) realisiert. Die Übertragung des Maser-Prinzips zu den kürzeren Wellenlängen des sichtbaren Lichts gelang [Theodore Maiman](https://de.wikipedia.org/wiki/Theodore_Maiman) 1960 mit dem ersten [Rubinlaser](https://de.wikipedia.org/wiki/Rubinlaser). Seitdem wurden die Eigenschaften und Leistungsfähigkeit von Lasern kontinuierlich erweitert und verbessert. Laser sind eine brillante Quelle für [hoch-kohärentes Licht](https://de.wikipedia.org/wiki/Koh%C3%A4renzl%C3%A4nge). Sie sind damit Wegbereiter für interferometrische Längenmessungen oder die Untersuchung quantenmechanisch verschränkter Zustände. Sie finden Anwendung beim Nachweis von [Gravitationswellen](https://de.wikipedia.org/wiki/Gravitationswelle) sowie bei der Erzeugung von Qbits im [Quantencomputing](https://de.wikipedia.org/wiki/Quantencomputer). Von der Kommunikation und Datenspeicherung bis hin zur Materialbearbeitung und Medizin sind Laser zu wichtigen Werkzeugen in Wissenschaft und Technik geworden. \n",
    "\n",
    "## Lernziele\n",
    "\n",
    "Wir listen im Folgenden die wichtigsten **Lernziele** auf, die wir Ihnen mit dem Versuch **Laser-Optik, Teil A** vermitteln möchten: \n",
    "\n",
    "- Sie machen sich mit dem Funktionsprinzip und den Eigenschaften eines Lasers vertraut.\n",
    "- Sie üben sich darin optische Bauelemente entlang eines Laserstrahls auszurichten.\n",
    "- Sie verwenden den Laser als ideale (kohärente) Lichtquelle für verschiedene Beugungs- und Interferenzmessungen.\n",
    "- Sie erstellen eine holographische Abbildung.\n",
    "- Sie erfahren, wie Laser in modernen Forschungsfeldern, so wie der Kommunikation, der medizinischen Diagnostik und der Materialbearbeitung eingesetzt werden."
   ]
  },
  {
   "attachments": {},
   "cell_type": "markdown",
   "id": "dcd1a54a-e6db-4c38-98f3-1a6d5884d29c",
   "metadata": {},
   "source": [
    "## Versuchsaufbau\n",
    "\n",
    "Auf einer optischen Bank können neben einem $\\mathrm{He}$-$\\mathrm{Ne}$-Laser mehrere optische Bauelemente montiert werden. Zur Verfügung stehen mehrere Spalte, Blenden und Gitter, wie in der folgenden Photographie abgebildet: ([Link](https://git.scc.kit.edu/etp-lehre/p2-for-students/-/raw/main/Laser-Optik_Teil_A/figures/LaserA.jpg))  \n",
    "\n",
    "<img src=\"./figures/LaserA.jpg\" style=\"zoom:100%;\" />\n",
    "\n",
    "Für die verschiedenen Versuchsteile stehen Ihnen die folgenden Geräte und Materialien zur Verfügung: \n",
    "\n",
    "- Ein offener $\\mathrm{He}$-$\\mathrm{Ne}$-Laser, (Spindler & Hoyer Typ 500, zu Demonstrationszwecken). Der Laser hat eine Leistung von $P=2\\,\\mathrm{mW}$ bei einer Wellenlänge von $\\lambda=632,8\\,\\mathrm{nm}$. Er verfügt über ein Entladungsrohr, (um eine horizontale Achse gekippte) Brewster-Fenster, zwei Resonatorspiegel (mit Reflexionsgraden $R=99,7\\,\\%$ und $R=98\\,\\%$), entsprechende Schutzkappen, ein Versorgungsgerät, Filterkappen und ein Justierkreuz. Der Bereich zwischen Spiegel und Brewster-Fenster ist für Experimente zugänglich. **Dieser Aufbau ist nur einfach vorhanden!**\n",
    "- $\\mathrm{He}$-$\\mathrm{Ne}$-Laser, Polytec PL-610P, mit einer Leistung von $P=5\\,\\mathrm{mW}$ (in geschlossener Bauform mit integriertem Netzteil, für polarisiertes Licht, siehe Bild). Ein solcher Laser befindet sich an allen Plätzen.\n",
    "- Ein Experimentiertisch (mit $3\\,\\mathrm{m}$-Zeißschiene), diverse Reiter und Verschiebereiter.\n",
    "- Ein kleinflächiger Lichtdetektor mit Phototransistor, in einem Gehäuse mit Anschlussbuchsen für eine Betriebsgleichspannung zwischen $9-15\\,\\mathrm{V}$ und ein entsprechendes Messinstrument. Dieser Lichtdetektor besitzt, durch eine entsprechende Frontlinse, eine ausgeprägte [Richtcharakteristik](https://de.wikipedia.org/wiki/Richtcharakteristik). Er ist sehr lichtempfindlich und leicht übersteuerbar. Er ist deshalb nur für geringe Lichtintensität vorgesehen.\n",
    "- Ein Netzgerät ($2\\times15\\,\\mathrm{V}$), für den Phototransistor. Sie können $1\\times15\\,\\mathrm{V}$ sowohl an der roten als auch an der schwarzen Buchse abgreifen. \n",
    "- Ein großflächiger Lichtdetektor mit $\\mathrm{Si}$-Photoelement (Durchmesser der Photodiode $d=12\\,\\mathrm{mm}$). Betreiben Sie diesen Lichtdetektor nur im Elementbetrieb, d.h. schließen Sie ihn ohne Betriebsspannung direkt an ein Spannungs- oder Strommessgerät an.\n",
    "- Vielfachmessinstrument (Metex 3800 mit digitaler LCD-Anzeige, alle benötigten Messbereiche verfügbar), mit gleichem Innenwiderstand für alle Gleichstrombereiche. Daher ist die Anzeige auch über die Bereichsgrenzen hinaus proportional zur Intensität im $\\mathrm{Si}$-Photoelement; Achtung: Verwenden Sie für die Schalterstellung des $20\\,\\mathrm{A}$-Bereichs die spezielle $20\\,\\mathrm{A}$-Buchse, die allgemeine $\\mathrm{A}$-Buchse ist nur für Messungen im $20\\,\\mu\\mathrm{A}$-Bereich vorgesehen.\n",
    "- Ein Strahlaufweitungssystem, bestehend aus einer Mikrobank auf einem Stift. Auf der Mikrobank befinden sich in entsprechenden Haltern spezielle, für die Laserlicht-Wellenlänge korrigierte Linsen mit Brennweiten von $f_{1}=10\\,\\mathrm{mm}$ und $f_{2}=150\\,\\mathrm{mm}$ im Abstand $f_{1}+f_{2}$, als [telezentrisches System](https://de.wikipedia.org/wiki/Telezentrisches_Objektiv). \n",
    "- Ein Justieraufbau, bestehend aus einer Mikrobank auf einem Stift. Auf der Mikrobank befinden sich drei verschiebbare $25\\,\\mathrm{mm}$-Bauteil-Halter, von denen mindestens einer transversal justierbar ist. \n",
    "- Diverse Halter für Linsen, Blenden, Hologramme und sonstiges.\n",
    "- Ein Eisen-Schirm mit Haftmagneten, um Papier daran zu befestigen, ein Planspiegel auf einem Stift mit Kugelgelenk.\n",
    "- Eine Mattscheibe (in einem Halter auf einem Stift), eine Glasplatte (in einem Halter, drehbar um die horizontale Achse, mit Winkelskala).\n",
    "- Ein Polarisationsfilter (mit Durchmesser $d=10\\,\\mathrm{cm}$, auf einem Stift, drehbar, mit Winkelskala). **Diesen sollten Sie nicht im unaufgeweiten Strahl benutzen!**\n",
    "- Ein Hologramm ($8,5\\,\\mathrm{cm}\\times10\\,\\mathrm{cm}$), in einem Halter auf einem Stift.\n",
    "- Im Dia-Format: \n",
    "  - Strichgitter mit $570\\,\\mathrm{Strichen/mm}$, \n",
    "  - Kreuzgitter mit $13,4\\,\\mathrm{Strichen/mm}\\times15\\,\\mathrm{Strichen/mm}$, \n",
    "  - Kreuzgitter mit $2,6\\,\\mathrm{Strichen/mm}\\times3,8\\,\\mathrm{Strichen/mm}$;\n",
    "  - Kreisblende mit Durchmessern $d=1;\\,1.5;\\,2\\,\\mathrm{mm}$.\n",
    "- In $25\\,\\mathrm{mm}$-Fassungen: \n",
    "  - Strichgitter mit $100\\,\\mathrm{Strichen/cm}$, \n",
    "  - Kreuz- und Wabengitter (ohne Dimensionsangabe), \n",
    "  - Beugungsordnungsblende mit 5 speziellen Öffnungen, \n",
    "  - Beugungskante, \n",
    "  - Lochblende, mit Durchmesser $d=1\\,\\mathrm{mm}$, \n",
    "  - Scheibenblende, mit Durchmesser $d=1\\,\\mathrm{mm}$, \n",
    "  - Beugungssteg mit Breite $b=0,3\\,\\mathrm{mm}$, \n",
    "  - Verschiedene Spalten mit Breite $b=0,2\\,\\mathrm{mm}$, $0,3\\,\\mathrm{mm}$ und $0,4\\,\\mathrm{mm}$.\n",
    "  - Doppelspalte mit den folgenden Spaltbreiten ($b$) und Abständen ($\\ell$): $b=0,25\\,\\mathrm{mm}$, $\\ell=0,5\\,\\mathrm{mm}$ und $b=0,25\\,\\mathrm{mm}$, $\\ell=0,75\\,\\mathrm{mm}$, \n",
    "  - Dreifachspalt mit Spaltbreite $b=0,25\\,\\mathrm{mm}$ und Abstand $\\ell=0,5\\,\\mathrm{mm}$, \n",
    "  - Vierfachspalt mit Spaltbreite $b=0,2\\,\\mathrm{mm}$ und Abstand $\\ell=0,3\\,\\mathrm{mm}$,\n",
    "  - Einstellspalt, Irisblende, Polarisationsfilter ohne Skala.\n",
    "  - Linsen mit verschiedenen Brennweiten zwischen $10-150\\,\\mathrm{mm}$.\n",
    "- Tischlampe, Taschenlampe, Maßband, Reinigungsutensilien.\n",
    "\n",
    "\n",
    "## Wichtige Hinweise\n",
    "\n",
    "- Bei diesem Versuch arbeiten Sie mit einem Laser, der entsprechend **gefährlich für Ihre Augen** sein kann. Gehen Sie daher **vorsichtig und verantwortungsbewusst** mit dem Laser um und halten Sie sich an die Anweisungen des/der Tutor:in.\n",
    "- Achten Sie darauf, dass alle Personen im Raum bei der Durchführung des Versuchs eine **Schutzbrille** tragen. \n",
    "- Vermeiden Sie direkten Blickkontakt mit dem Laserstrahl und richten Sie ihn niemals auf andere Personen. Bleiben Sie beim Experimentieren in der Regel stehen, mit den Augen also weit oberhalb der Strahlhöhe.\n",
    "- Stellen Sie sicher, dass die Laserleistung und -frequenz auf die vorgesehenen Werte eingestellt sind und überprüfen Sie dies regelmäßig während des Experiments.\n",
    "- Beachten Sie, dass der Laserstrahl bei falscher Handhabung Schäden an optischen Elementen verursachen kann. Verwenden Sie nur die bereitgestellten optischen Elemente und reinigen Sie sie nur mit geeigneten Materialien.\n",
    "- Vor dem Einschalten des Lasers müssen alle Geräte sorgfältig aufgebaut und justiert werden. Führen Sie diese Schritte **erst nach Rücksprache mit dem/der Tutor:in** durch."
   ]
  },
  {
   "attachments": {},
   "cell_type": "markdown",
   "id": "9a26e19d-372b-44c0-9748-204d3265a277",
   "metadata": {},
   "source": [
    "## Durchführung\n",
    "\n",
    "### **Aufgabe 1: Bestimmung des [Brewsterwinkels](https://de.wikipedia.org/wiki/Brewster-Winkel)**\n",
    "\n",
    "Bei Gaslasern wird das [Entladungsrohr](https://de.wikipedia.org/wiki/Gasentladungsr%C3%B6hre) meist mit \"Brewster-Fenstern\" abgeschlossen. Überlegen Sie sich den Sinn dafür und demonstrieren Sie die Notwendigkeit. Gehen Sie dabei wie folgt vor: \n",
    "\n",
    "Montieren Sie einen drehbaren Plattenhalter mit planparalleler, sorgfältig geputzter Glasscheibe vor den Laser, verändern Sie den Einfallswinkel und beobachten Sie die Strahlintensität. Bestimmen Sie den Brewsterwinkel, und daraus den Brechungsindex $n$ des Glases. Sie können das Minimum der Reflexion ohne Intensitätsmessung an der Zimmerdecke beobachten. Für die Beobachtung des Maximums der Transmission können Sie z.B. das Si-Photoelement mit geeignetem Messinstrument benutzen. Ein solches Vorgehen ist aber ungenauer als die Beobachtung des Minimums. Diskutieren Sie warum dies so ist.\n",
    "\n",
    "---"
   ]
  },
  {
   "attachments": {},
   "cell_type": "markdown",
   "id": "3c46c6c1-f93d-4640-85a1-b634c25dae6a",
   "metadata": {},
   "source": [
    "**Lösung:** \\\n",
    "Beim Brewster-Winkel ist der reflektierte Anteil des Lichts an der Glasscheibe s-polarisiert. Der transmittierte Lichtanteil ist nahezu vollständig p-polarisiert. Wenn der immer transmittierte Anteil eine Anzahl von Glassscheiben unter diesem Winkel durchlaufen hat ist das austretende Licht in guter Näherung p-polarisiert. \\\n",
    "Bei der Verstellung des Winkels verschiebt sich die Position des Minimums im Raum. Daher wird das Maximum bestimmt. Ein Minimum ist von der Intensität leicht und gut zu beobachten, da dort kein Licht sich befindet. Ein Maximum grenzt sich nicht so stark von den angrenzenden Intensitäten ab. Es wandert aber nicht. Deshalb wird das Maximum beobachtet.\\\n",
    "Der Brewster-Winkel lässt sich allgemein mit der Formel $\\Theta_{B}=arctan \\left(\\frac{n_2}{n_1}\\right)$ bestimmen. \\\n",
    "In diesem Fall ist $n_1 \\approx 1 $, da $n_1$ der Brechungsindex von Luft ist.\\\n",
    "Damit ergibt sich für die Berechnung des Brechungsindex die Formel $n_2=tan\\left(\\Theta_1\\right)$"
   ]
  },
  {
   "cell_type": "code",
   "execution_count": 2,
   "id": "6dca9408-d313-405f-9a21-3926963cc087",
   "metadata": {
    "tags": []
   },
   "outputs": [],
   "source": [
    "import numpy as np \n",
    "import matplotlib.pyplot as plt\n",
    "from PhyPraKit import readPicoScope, resample\n",
    "from scipy import signal\n",
    "\n",
    "from scipy import interpolate\n",
    "import sys\n",
    "from kafe2 import  XYContainer, Fit, XYFit, Plot, ContoursProfiler                            \n",
    "from uncertainties import ufloat, unumpy\n",
    "from math import log10, floor\n",
    "import scipy.integrate as integrate\n",
    "import pandas as pd\n",
    "import csv"
   ]
  },
  {
   "cell_type": "code",
   "execution_count": 3,
   "id": "bc57e1c1-05a2-4612-85c5-0702b36d2faf",
   "metadata": {
    "tags": []
   },
   "outputs": [
    {
     "ename": "AttributeError",
     "evalue": "'int' object has no attribute 'strip'",
     "output_type": "error",
     "traceback": [
      "\u001b[1;31m---------------------------------------------------------------------------\u001b[0m",
      "\u001b[1;31mTypeError\u001b[0m                                 Traceback (most recent call last)",
      "File \u001b[1;32mc:\\Users\\felix\\AppData\\Local\\Programs\\Python\\Python311\\Lib\\site-packages\\uncertainties\\core.py:3297\u001b[0m, in \u001b[0;36mufloat\u001b[1;34m(nominal_value, std_dev, tag)\u001b[0m\n\u001b[0;32m   3295\u001b[0m \u001b[39mtry\u001b[39;00m:\n\u001b[0;32m   3296\u001b[0m     \u001b[39m# Standard case:\u001b[39;00m\n\u001b[1;32m-> 3297\u001b[0m     \u001b[39mreturn\u001b[39;00m Variable(nominal_value, std_dev, tag\u001b[39m=\u001b[39;49mtag)\n\u001b[0;32m   3298\u001b[0m \u001b[39m# Exception types raised by, respectively: tuple or string that\u001b[39;00m\n\u001b[0;32m   3299\u001b[0m \u001b[39m# can be converted through float() (case of a number with no\u001b[39;00m\n\u001b[0;32m   3300\u001b[0m \u001b[39m# uncertainty), and string that cannot be converted through\u001b[39;00m\n\u001b[0;32m   3301\u001b[0m \u001b[39m# float():\u001b[39;00m\n",
      "File \u001b[1;32mc:\\Users\\felix\\AppData\\Local\\Programs\\Python\\Python311\\Lib\\site-packages\\uncertainties\\core.py:2778\u001b[0m, in \u001b[0;36mVariable.__init__\u001b[1;34m(self, value, std_dev, tag)\u001b[0m\n\u001b[0;32m   2776\u001b[0m \u001b[39msuper\u001b[39m(Variable, \u001b[39mself\u001b[39m)\u001b[39m.\u001b[39m\u001b[39m__init__\u001b[39m(value, LinearCombination({\u001b[39mself\u001b[39m: \u001b[39m1.\u001b[39m}))\n\u001b[1;32m-> 2778\u001b[0m \u001b[39mself\u001b[39;49m\u001b[39m.\u001b[39;49mstd_dev \u001b[39m=\u001b[39m std_dev  \u001b[39m# Assignment through a Python property\u001b[39;00m\n\u001b[0;32m   2780\u001b[0m \u001b[39mself\u001b[39m\u001b[39m.\u001b[39mtag \u001b[39m=\u001b[39m tag\n",
      "File \u001b[1;32mc:\\Users\\felix\\AppData\\Local\\Programs\\Python\\Python311\\Lib\\site-packages\\uncertainties\\core.py:2798\u001b[0m, in \u001b[0;36mVariable.std_dev\u001b[1;34m(self, std_dev)\u001b[0m\n\u001b[0;32m   2790\u001b[0m \u001b[39m@std_dev\u001b[39m\u001b[39m.\u001b[39msetter\n\u001b[0;32m   2791\u001b[0m \u001b[39mdef\u001b[39;00m \u001b[39mstd_dev\u001b[39m(\u001b[39mself\u001b[39m, std_dev):\n\u001b[0;32m   2792\u001b[0m \n\u001b[1;32m   (...)\u001b[0m\n\u001b[0;32m   2796\u001b[0m     \u001b[39m# separately for NaN. But this is not guaranteed, even if it\u001b[39;00m\n\u001b[0;32m   2797\u001b[0m     \u001b[39m# should work on most platforms.)\u001b[39;00m\n\u001b[1;32m-> 2798\u001b[0m     \u001b[39mif\u001b[39;00m std_dev \u001b[39m<\u001b[39;49m \u001b[39m0\u001b[39;49m \u001b[39mand\u001b[39;00m \u001b[39mnot\u001b[39;00m isinfinite(std_dev):\n\u001b[0;32m   2799\u001b[0m         \u001b[39mraise\u001b[39;00m NegativeStdDev(\u001b[39m\"\u001b[39m\u001b[39mThe standard deviation cannot be negative\u001b[39m\u001b[39m\"\u001b[39m)\n",
      "\u001b[1;31mTypeError\u001b[0m: '<' not supported between instances of 'NoneType' and 'int'",
      "\nDuring handling of the above exception, another exception occurred:\n",
      "\u001b[1;31mAttributeError\u001b[0m                            Traceback (most recent call last)",
      "Cell \u001b[1;32mIn[3], line 1\u001b[0m\n\u001b[1;32m----> 1\u001b[0m thetamax \u001b[39m=\u001b[39mufloat(\u001b[39m50\u001b[39;49m,)  \u001b[39m# in °\u001b[39;00m\n\u001b[0;32m      2\u001b[0m thetamin \u001b[39m=\u001b[39m ufloat(\u001b[39m45\u001b[39m,) \n\u001b[0;32m      3\u001b[0m n_2\u001b[39m=\u001b[39munumpy\u001b[39m.\u001b[39mtan(theta)\n",
      "File \u001b[1;32mc:\\Users\\felix\\AppData\\Local\\Programs\\Python\\Python311\\Lib\\site-packages\\uncertainties\\core.py:3310\u001b[0m, in \u001b[0;36mufloat\u001b[1;34m(nominal_value, std_dev, tag)\u001b[0m\n\u001b[0;32m   3307\u001b[0m     tag_arg \u001b[39m=\u001b[39m std_dev  \u001b[39m# 2 positional arguments form\u001b[39;00m\n\u001b[0;32m   3309\u001b[0m \u001b[39mtry\u001b[39;00m:\n\u001b[1;32m-> 3310\u001b[0m     final_ufloat \u001b[39m=\u001b[39m ufloat_obsolete(nominal_value, tag_arg)\n\u001b[0;32m   3311\u001b[0m \u001b[39mexcept\u001b[39;00m:  \u001b[39m# The input is incorrect, not obsolete\u001b[39;00m\n\u001b[0;32m   3312\u001b[0m     \u001b[39mraise\u001b[39;00m\n",
      "File \u001b[1;32mc:\\Users\\felix\\AppData\\Local\\Programs\\Python\\Python311\\Lib\\site-packages\\uncertainties\\core.py:3253\u001b[0m, in \u001b[0;36mufloat_obsolete\u001b[1;34m(representation, tag)\u001b[0m\n\u001b[0;32m   3251\u001b[0m     \u001b[39mreturn\u001b[39;00m ufloat(representation[\u001b[39m0\u001b[39m], representation[\u001b[39m1\u001b[39m], tag)\n\u001b[0;32m   3252\u001b[0m \u001b[39melse\u001b[39;00m:\n\u001b[1;32m-> 3253\u001b[0m     \u001b[39mreturn\u001b[39;00m ufloat_fromstr(representation, tag)\n",
      "File \u001b[1;32mc:\\Users\\felix\\AppData\\Local\\Programs\\Python\\Python311\\Lib\\site-packages\\uncertainties\\core.py:3237\u001b[0m, in \u001b[0;36mufloat_fromstr\u001b[1;34m(representation, tag)\u001b[0m\n\u001b[0;32m   3177\u001b[0m \u001b[39mdef\u001b[39;00m \u001b[39mufloat_fromstr\u001b[39m(representation, tag\u001b[39m=\u001b[39m\u001b[39mNone\u001b[39;00m):\n\u001b[0;32m   3178\u001b[0m \u001b[39m    \u001b[39m\u001b[39m\"\"\"\u001b[39;00m\n\u001b[0;32m   3179\u001b[0m \u001b[39m    Return a new random variable (Variable object) from a string.\u001b[39;00m\n\u001b[0;32m   3180\u001b[0m \n\u001b[1;32m   (...)\u001b[0m\n\u001b[0;32m   3233\u001b[0m \u001b[39m    uncertainty on the last digits of the nominal value).\u001b[39;00m\n\u001b[0;32m   3234\u001b[0m \u001b[39m    \"\"\"\u001b[39;00m\n\u001b[0;32m   3236\u001b[0m     (nominal_value, std_dev) \u001b[39m=\u001b[39m str_to_number_with_uncert(\n\u001b[1;32m-> 3237\u001b[0m         representation\u001b[39m.\u001b[39;49mstrip())\n\u001b[0;32m   3239\u001b[0m     \u001b[39mreturn\u001b[39;00m ufloat(nominal_value, std_dev, tag)\n",
      "\u001b[1;31mAttributeError\u001b[0m: 'int' object has no attribute 'strip'"
     ]
    }
   ],
   "source": [
    "thetamax =ufloat(50,)  # in °\n",
    "thetamin = ufloat(45,) \n",
    "n_2=unumpy.tan(theta)\n",
    "print('Das Glas hat einen Brechungsindex von',np.round(unumpy.nominal_values(n_2),3),'+/-',np.round(unumpy.std_devs(n_2),3))"
   ]
  },
  {
   "attachments": {},
   "cell_type": "markdown",
   "id": "2d761d95-f150-4839-91f0-cc7fbac4fe7c",
   "metadata": {
    "tags": []
   },
   "source": [
    "Der theoretische Brechungsindex von Glas liegt bei 1.45 bis 2.14. \\\n",
    "Unser berechneter Wert passt mit ..."
   ]
  },
  {
   "attachments": {},
   "cell_type": "markdown",
   "id": "a8c4fe93-5e8b-4d23-a3e3-32ea5a42efaf",
   "metadata": {},
   "source": [
    "### **Aufgabe 2: Beugung an Spalt, Steg, Kreisloch, Kreisblende und Kante**\n",
    "\n",
    "**2.1:** Bestimmen Sie aus der Lage der Beugungsmaxima und -minima die nur ungefähr angegebenen Breiten ($b_{1}\\approx 0,2\\,\\mathrm{mm}$ und $b_{2}\\approx 0,3\\,\\mathrm{mm}$) der beiden Spalten.\n",
    "\n",
    "**2.2:** Vergleichen Sie die Beugungsfigur eines gleichbreiten Steges mit der des entsprechenden Spalts ([Babinetsches Theorem](https://de.wikipedia.org/wiki/Babinetsches_Prinzip)).\n",
    "\n",
    "**2.3:** Betrachten Sie die Beugungsbilder einer Kreisöffnung, einer gleichgroßen Kreisscheibe sowie einer Kante. Diskutieren Sie warum die Mitte der Beugungsfigur (der [Poisson-Fleck](https://de.wikipedia.org/wiki/Poisson-Fleck)) einer Scheibenblende stets hell ist.\n",
    "\n",
    "**2.4:** Bestimmen Sie aus seiner Beugungsfigur den Durchmesser eines Haares. Vergleichen Sie das Ergebnis mit dem einer Messung mit Mikrometerschraube.\n",
    "\n",
    "---"
   ]
  },
  {
   "attachments": {},
   "cell_type": "markdown",
   "id": "2e3b9e7a-1803-4b0a-8268-6ff49910264c",
   "metadata": {},
   "source": [
    "**Lösung:**\n",
    "**2.1**\n",
    "Die Breiten der Spalte lassen sich für die Minima mit der Formel $b=\\frac{n \\cdot \\lambda \\cdot l}{y_n}$ berechnen. Der Abstand vom Mittelpunkt zum Minimum ist $y_n$ und n ist das n-te Minimum. \\\n",
    "Für Maxima gilt die Formel $d=\\frac{\\left(n+\\frac{1}{2}\\right) \\cdot  \\lambda \\cdot l}{y_n}$. \\\n",
    "Mit der Formel für die Minima wird die genaue Breite der Spalte ermittelt. \\\n",
    "Der Laser benutzte Laser ($632.8 nm$) überprüfen hat kein diskretes Spektrum, sondern es ist gaußverteilt. Deshalb wird eine Standardabweichung von $0.1 nm$ angenommen. \\\n",
    "Es werden die Positionen der Minima bestimmt. Bei der Berechnung muss die Gaus'sche Fehlerfortpflanzung beachtet werden. Dies macht das Paket uncertainties automatisch, wenn Werte mit Unsicherheiten übergeben werden."
   ]
  },
  {
   "cell_type": "code",
   "execution_count": null,
   "id": "85170364-7c3b-4ea5-a77e-a1b582ce8af4",
   "metadata": {
    "tags": []
   },
   "outputs": [
    {
     "ename": "NameError",
     "evalue": "name 'ufloat' is not defined",
     "output_type": "error",
     "traceback": [
      "\u001b[1;31m---------------------------------------------------------------------------\u001b[0m",
      "\u001b[1;31mNameError\u001b[0m                                 Traceback (most recent call last)",
      "Cell \u001b[1;32mIn[1], line 2\u001b[0m\n\u001b[0;32m      1\u001b[0m \u001b[39m# mit Minima\u001b[39;00m\n\u001b[1;32m----> 2\u001b[0m abstand \u001b[39m=\u001b[39m ufloat(\u001b[39m2\u001b[39m,\u001b[39m0.01\u001b[39m) \u001b[39m# 2m abstand zwischen spalt und schirm\u001b[39;00m\n\u001b[0;32m      4\u001b[0m lamda\u001b[39m=\u001b[39mufloat(\u001b[39m632.8\u001b[39m,\u001b[39m0.1\u001b[39m)\u001b[39m*\u001b[39m\u001b[39m10\u001b[39m\u001b[39m*\u001b[39m\u001b[39m*\u001b[39m(\u001b[39m-\u001b[39m\u001b[39m9\u001b[39m)\n\u001b[0;32m      5\u001b[0m l\u001b[39m=\u001b[39mufloat(\u001b[39m1\u001b[39m,\u001b[39m0.01\u001b[39m)\n",
      "\u001b[1;31mNameError\u001b[0m: name 'ufloat' is not defined"
     ]
    }
   ],
   "source": [
    "# mit Minima\n",
    "abstand = ufloat(2,0.01) # 2m abstand zwischen spalt und schirm\n",
    "\n",
    "lamda=ufloat(632.8,0.1)*10**(-9)\n",
    "l=ufloat(1,0.01)\n",
    "n=np.array([1,2,3,4,5])\n",
    "\n",
    "\n",
    "\n",
    "re1_1=np.array([7,13,19,26,33])*10**(-3)\n",
    "re1_1_2=np.array([8,14,21,28,34])*10**(-3)\n",
    "re1_2=np.array([8,15,21,27,33])*10**(-3)\n",
    "re1_2_2=np.array([7,14,22,28,34])*10**(-3)\n",
    "re1_3=np.array([8,14,21,28,34])*10**(-3)\n",
    "re1_3_2=np.array([8,14,20,27,33])*10**(-3)\n",
    "re1 = np.zeros(len(re1_1))\n",
    "ab1 = np.zeros(len(re1_1))\n",
    "for i in range(len(re1_1)):\n",
    "               re=re1_1[i],re1_2[i],re1_3[i]\n",
    "               re1[i]=np.mean(re)\n",
    "               ab1[i]=np.std(re)\n",
    "y1=unumpy.uarray(re1,ab1)\n",
    "d1=(n*lamda*l)/y1\n",
    "re2 = np.zeros(len(re1_1))\n",
    "ab2 = np.zeros(len(re1_1))\n",
    "\n",
    "re2_1=np.array([5,11,16,21,25])*10**(-3)\n",
    "re2_2=np.array([5,10,16,20,24,29])*10**(-3)\n",
    "re2_3=np.array([5,9,15,20,24])*10**(-3)\n",
    "re2_1_2=np.array([6,11,16,22,26])*10**(-3)\n",
    "re2_2_2=np.array([5,10,15,20,25])*10**(-3)\n",
    "re2_3_2=np.array([5,11,15,19,25])*10**(-3)\n",
    "for i in range(len(re2_1)):\n",
    "               ree=re2_1[i],re2_2[i],re2_3[i]\n",
    "               re2[i]=np.mean(ree)\n",
    "               ab2[i]=np.std(ree)\n",
    "y2=unumpy.uarray(re2,ab2)\n",
    "d2=(n*lamda*l)/y2\n",
    "print('Für den Spalt mit ungefähr 0.02mm ergibt sich eine genaue Spaltbreite von',np.round(unumpy.nominal_values(np.mean(d1)),6),'+/-',np.round(unumpy.std_devs(np.mean(d1)),6),'m.')\n",
    "print('Für den Spalt mit ungefähr 0.03mm ergibt sich eine genaue Spaltbreite von',np.round(unumpy.nominal_values(np.mean(d2)),6),'+/-',np.round(unumpy.std_devs(np.mean(d2)),6),'m.')"
   ]
  },
  {
   "attachments": {},
   "cell_type": "markdown",
   "id": "dcbd21cb-2636-4de0-afcc-dc4966f8f7d1",
   "metadata": {},
   "source": [
    "Der ermittelte Wert und der ungefähre Wert passen ..."
   ]
  },
  {
   "attachments": {},
   "cell_type": "markdown",
   "id": "93e51def-e908-4500-9974-69400c48f5bd",
   "metadata": {},
   "source": [
    "**2.2 Vergleich Beugungsfigur gleichbreiter Steges und entsprechender Spalt** \\\n",
    "\"Das Babinet’sche Prinzip (auch Babinet’sches Theorem) ist ein Satz aus der Optik und besagt, dass die Beugungsbilder zweier zueinander komplementärer Blenden (beispielsweise Spaltblende und ein Draht gleicher Dicke) außerhalb des Bereiches, in den die geometrisch-optische Abbildung fällt (also die Abbildung ohne Beugungseffekte), gleich sind.\" (https://de.wikipedia.org/wiki/Babinetsches_Prinzip) \\\n",
    "Nach diesem Prinzip ist es equivalent, ob das Licht auf den Steg oder auf den Spalt tritt. In beiden Fällen wird das gleiche Beugungsmuster erzeugt.\n",
    "-> **Bilder**"
   ]
  },
  {
   "attachments": {},
   "cell_type": "markdown",
   "id": "eab5355c-8906-43af-98d6-cbb3ed753338",
   "metadata": {},
   "source": [
    "**2.3 Betrachtung Beugungsbilder Kreisöffnung, gleichgroßen Kreisscheibe und Kante** \\\n",
    "Es werden die Beugungbilder für Kreisöffnung, gleichgroßer Kreisscheibe und Kante fotographiert. \\\n",
    "Kreisöffnung: \\\n",
    "gleichgroße Kreisscheibe: \\\n",
    "Kante: \\\n",
    "Die Mitte der Beugungsfigur ist aufgrund des Poisson-Flecks immer hell. \\\n",
    "Der Fleck entsteht, wenn die Beugungsfigur rotationssymmetrisch ist. Von der Mitte sind alle Randpunkte gleich weit entfernt, dies führt zu konstruktiver Interferenz auf dem Schirm."
   ]
  },
  {
   "attachments": {},
   "cell_type": "markdown",
   "id": "379b7d2e-26eb-437c-bd40-a4c55ac00276",
   "metadata": {},
   "source": [
    "**2.4 Haardurchmesser** \\\n",
    "Es wird analog zu Aufgabe 2.1 hier vorgegangen. Das Haar dient als Steg, welcher ein Beugungsmuster erzeugt. Über die Lage der Minima wird die Dicke des Haars bestimmt."
   ]
  },
  {
   "cell_type": "code",
   "execution_count": null,
   "id": "aefcc5ae-1d56-47e2-abd4-8e36277a298e",
   "metadata": {},
   "outputs": [],
   "source": [
    "#Haardicke = 0.06 mm gemessen Haardickenmessgerät\n",
    "\n",
    "lamda2=ufloat(632.8,0.1)*10**(-9)\n",
    "l2=ufloat(2,0.01)\n",
    "n2=np.array([1,2,3,4,5])\n",
    "\n",
    "re3_1=np.array([15,30,45,60,74])*10**(-3)\n",
    "re3_2=np.array([15,32,46,60,75])*10**(-3)\n",
    "for i in range(len(re3_1)):\n",
    "               reee=re3_1[i],re3_2[i],re3_3[i]\n",
    "               re3[i]=np.mean(reee)\n",
    "               ab3[i]=np.std(reee)\n",
    "y3=unumpy.uarray(re3,ab3)\n",
    "d3=(n2*lamda2*l2)/y3\n",
    "print('Das zu bestimmende Haar hat eine Dicke von',np.round(unumpy.nominal_values(np.mean(d3)),12),'+/-',np.round(unumpy.std_devs(np.mean(d3)),12),'m.')"
   ]
  },
  {
   "attachments": {},
   "cell_type": "markdown",
   "id": "c7fb0357-fd15-4d5f-8c6a-59a3a699c929",
   "metadata": {},
   "source": [
    "Ein menschliches Kopfhaar hat eine durchschnittliche Größe von $0.05 - 0.08 mm$. (https://de.wikipedia.org/wiki/Kopfhaar) \\\n",
    "Unser experimentell bestimmter Wert passt ..."
   ]
  },
  {
   "attachments": {},
   "cell_type": "markdown",
   "id": "b7a48d7a-8953-458c-9813-fbc25a572381",
   "metadata": {},
   "source": [
    "### **Aufgabe 3: Beugung an Mehrfachspalten und Gittern**\n",
    "\n",
    "**3.1:**  Bestimmen Sie die Spaltbreite $b$ und den -abstand ($\\ell$) eines der Doppelspalte aus dessen Beugungsbild.\n",
    "\n",
    "**3.2:** Machen Sie eine Voraussage und beobachten Sie dann: \n",
    "\n",
    "1. wie sich das Beugungsbild bei Verwendung eines zweiten Doppelspalts ändert; und \n",
    "2. wie sich das Beugungsbild des Dreifachspalts von dem des Doppelspalts (jeweils mit der Spaltbreite $b=0,25\\,\\mathrm{mm}$ und dem Spaltabstand $\\ell=0,5\\,\\mathrm{mm}$) unterscheidet.\n",
    "\n",
    "\n",
    "**3.3:**  Bestimmen Sie die Gitterkonstante $g$ eines der Strichgitter. Beobachten Sie das Beugungsbild. Diskutieren Sie welche Rolle dabei die Ausleuchtung spielt.\n",
    "\n",
    "**3.4:** Beobachten Sie Beugungsbilder von Kreuz- und Wabengittern.\n",
    "\n",
    "---"
   ]
  },
  {
   "attachments": {},
   "cell_type": "markdown",
   "id": "3f4d9c7f-e1b9-4836-8190-3cfea1079ebb",
   "metadata": {},
   "source": [
    "**Lösung:** \\\n",
    "**3.1 Spaltbreite $b$ und -abstand $\\ell$ Doppelspalt** \\\n",
    "Die Spaltbreite wird analog zu Aufgabe 2.1 bestimmt. Es wird nur ein Spalt beleuchtet. "
   ]
  },
  {
   "cell_type": "code",
   "execution_count": null,
   "id": "6fa54042-4459-4555-8289-6947bef55c63",
   "metadata": {},
   "outputs": [],
   "source": [
    "lamda3=ufloat(,)*10**(-9)\n",
    "l3=ufloat(2,0.01)\n",
    "n3=np.array([1,2,3,4,5])\n",
    "\n",
    "re4_1=np.array([6,11,17,21,25])*10**(-3)\n",
    "re4_1_2=np.array([5,9,15,20,25])*10**(-3)\n",
    "re4_2=np.array([5,10,15,20,25])*10**(-3)\n",
    "re4_2_2=np.array([5,11,16,21,25])*10**(-3)\n",
    "re4_3=np.array([6,11,16,22,27])*10**(-3)\n",
    "re4_3_2=np.array([5,10,14,19,25])*10**(-3)\n",
    "for i in range(len(re4_1)):\n",
    "               reeee=re4_1[i],re4_2[i],re4_3[i]\n",
    "               re4[i]=np.mean(reeee)\n",
    "               ab4[i]=np.std(reeee)\n",
    "y4=unumpy.uarray(re4,ab4)\n",
    "d4=(n3*lamda3*l3)/y4\n",
    "print('Der Spalt hat eine Breite von',np.round(unumpy.nominal_values(np.mean(d4)),6),'+/-',np.round(unumpy.std_devs(np.mean(d4)),6),'m.')"
   ]
  },
  {
   "attachments": {},
   "cell_type": "markdown",
   "id": "18beffc1-bfaa-4acd-a788-779087d20b54",
   "metadata": {},
   "source": [
    "Jetzt werden beide Spalte beleuchtet. \\\n",
    "Um den Spaltabstand zu bestimmen muss bei Minimas gelten, dass sich die beiden Teilwellen an diesem Punkt auslöschen. Es herrscht destruktive Interferenz. Der Spaltabstand lässt sich dann mit der Formel $b=\\frac{\\left(n+\\frac{1}{2}\\right)\\cdot \\lambda \\cdot l}{y_n}$ berechnen. \\\n",
    "Es werden wieder die Minimas am Schirm bestimmt."
   ]
  },
  {
   "cell_type": "code",
   "execution_count": null,
   "id": "fca0558a-99e8-4deb-8336-462537087753",
   "metadata": {},
   "outputs": [],
   "source": [
    "lamdal=ufloat(,)*10**(-9)\n",
    "ll=ufloat(2,0.01)\n",
    "#0.25/0.5 doppelspalt\n",
    "n_l=np.array([1,2,3,4,5])\n",
    "rel_1=np.array([2,5,7,9,12])*10**(-3)\n",
    "rel_1_2=np.array([2,5,9,14,16])*10**(-3)\n",
    "rel_2=np.array([2,4,7,9,13])*10**(-3)\n",
    "rel_2_2=np.array([2,7,12,14,16])*10**(-3)\n",
    "rel_3=np.array([2,5,7,10,13])*10**(-3)\n",
    "rel_3_2=np.array([1,5,10,15,17])*10**(-3)\n",
    "for i in range(len(rel_1)):\n",
    "               rel=rel_1[i],rel_2[i],rel_3[i]\n",
    "               rell[i]=np.mean(rel)\n",
    "               abl[i]=np.std(rel)\n",
    "yl=unumpy.uarray(rell,abl)\n",
    "dl=(n_l*lamdal*ll)/yl\n",
    "print('Die Spalte haben einen Abstand von',np.round(unumpy.nominal_values(np.mean(dl)),6),'+/-',np.round(unumpy.std_devs(np.mean(dl)),6),'m.')"
   ]
  },
  {
   "attachments": {},
   "cell_type": "markdown",
   "id": "ba9370aa-282a-47f2-8c81-5dde0c0d2969",
   "metadata": {},
   "source": [
    "**3.2 zweiter Doppelspalt und Dreifachspalt**  \n",
    "1. Vewendung zweiter Doppelspalt  \n",
    "Wenn ei"
   ]
  },
  {
   "cell_type": "code",
   "execution_count": null,
   "id": "94905b09",
   "metadata": {},
   "outputs": [],
   "source": [
    "#strichgitter 100/cm  CODE ANPASSEN\n",
    "lamdal=ufloat(,)*10**(-9)\n",
    "ll=ufloat(2,0.01)\n",
    "#0.25/0.5 doppelspalt\n",
    "n_l=np.array([1,2,3,4,5])\n",
    "rel_1=np.array([12,22,34,45,55])*10**(-3)\n",
    "rel_1_2=np.array([11,23,35,47,57])*10**(-3)\n",
    "rel_2=np.array([10,19,31,43,55])*10**(-3)\n",
    "rel_2_2=np.array([12,25,35,46,57])*10**(-3)\n",
    "rel_3=np.array([10,21,33,44,56])*10**(-3)\n",
    "rel_3_2=np.array([11,21,34,45,58])*10**(-3)\n",
    "for i in range(len(rel_1)):\n",
    "               rel=rel_1[i],rel_2[i],rel_3[i]\n",
    "               rell[i]=np.mean(rel)\n",
    "               abl[i]=np.std(rel)\n",
    "yl=unumpy.uarray(rell,abl)\n",
    "dl=(n_l*lamdal*ll)/yl"
   ]
  },
  {
   "attachments": {},
   "cell_type": "markdown",
   "id": "c16bd78b-9f29-4cb3-9500-ec3bcdf6073e",
   "metadata": {},
   "source": [
    "### **Aufgabe 4: Abbildung nichtselbstleuchtender Gegenstände ([Abbésche Theorie](https://de.wikipedia.org/wiki/Auflösung_(Mikroskopie)#Abbe-Limit))**\n",
    "\n",
    "Zeigen Sie, dass für die Abbildung durchstrahlter Objekte das Beugungsmuster des Lichts eine wichtige Rolle spielt. Gehen Sie dabei wie folgt vor:\n",
    "\n",
    "Beleuchten Sie, je nach Wahl, ein Waben- oder Strichgitter (mit $100\\,\\mathrm{Strichen/cm}$) mit parallelem Licht und bilden Sie das Beugungsbild mit Hilfe einer Linse mit $150\\,\\mathrm{mm}$ Brennweite auf eine Mattscheibe ab. Sie können das Licht zuvor mit Hilfe eines fernen Planspiegels umlenken, so dass Sie die Mattscheibe in Lasernähe neben der optischen Bank positionieren und das Beugungsbild beim Justieren beobachten können. \n",
    "\n",
    "Eine [Beugungsordnungsblende](https://de.wikipedia.org/wiki/Beugungsscheibchen) in der bildseitigen Brennebene der Linse lässt das Beugungslicht entweder nur 0. oder 0. und 1. Ordnung durch. Da die Beugungsordnungsblende schwierig zu justieren ist, können Sie die 0. Ordnung auch mit einer Kreisblende (mit Durchmesser $d=1\\,\\mathrm{mm}$) ausblenden. Beobachten Sie das jeweils auf der Mattscheibe entstehende Bild. Versuchen Sie auch die Beobachtung der folgenden zwei weiteren Fälle: **Nur die 1. Ordnung** oder **nur die 2. Ordnung** passieren die Beugungsordnungsblende. Gitter, Linse und die dazu passende Beugungsordnungsblende werden in einem Justieraufbau montiert, die Beugungsordnungsblende kommt dabei in die nach allen Richtungen transversal zum Strahl verschiebbare Fassung. Zeichnen Sie zu diesem Versuch bei der Vorbereitung den Strahlengang. Wie könnte man den beobachteten Effekt benutzen, um etwa bei einem digitalisiert empfangenen Zeitungsbild das störende Raster verschwinden zu lassen? (Stichwort 'Image Enhancement'; Literatur: [Hecht/Zajac](Hecht/Zajac))\n",
    "\n",
    "---"
   ]
  },
  {
   "attachments": {},
   "cell_type": "markdown",
   "id": "f3034f59-bcfa-4056-b963-83e6bb464b1f",
   "metadata": {},
   "source": [
    "**Lösung:**\n",
    "\n",
    "**Strichgitter**:\n",
    "\n",
    "Das Strichgitter wird in der Brennebene der Linse positioniert. Mit der Beugungsordnungsblende lassen sich verschiedene Beugungsordnungen abblenden, wodurch sich das auf den Mattscheibe entstehende Bild verändert. \n",
    "\n",
    "Für die 0. Ordnung verwenden wir eine Kreisblende, da die Beugungsordnungsblende schwierig zu justieren ist, aber die gleiche Wirkung erzielt. \n",
    "\n",
    "#bild nullter ordnung\n",
    "\n",
    "Das in der nullten Ordnung sichtbare Licht hat ohne Ablenkung das Gitter passiert. Deswegen ist nur ein Lichtfleck sichtbar, der nach der abbeschen Theorie keine Informationen über das Gitter enthält. \n",
    "\n",
    "#bild erster Ordnung\n",
    "\n",
    "Trägt man nur die erste Ordnung auf, ist die Intensität sichtbar geringer. Es sind aber auch Strukturen sichtbar, die Informationen über das Gitter enthalten. Da wir nicht alle Ordnungen durchlassen, ist die Abbildung etwas unscharf.\n",
    "\n",
    "#bild zweiter Ordnung\n",
    "\n",
    "**Wabengitter**\n",
    "\n",
    "Das gleiche nun für ein Wabengitter durchgeführt.\n",
    "\n",
    "#bild nullter ordnung\n",
    "\n",
    "#bild erster ordnung\n",
    "\n",
    "#bild zweiter ordnung\n",
    "\n",
    "\n",
    "\n",
    "---"
   ]
  },
  {
   "attachments": {},
   "cell_type": "markdown",
   "id": "e4352b2a-61f9-46f2-bfef-49d6e5ba4153",
   "metadata": {},
   "source": [
    "### **Aufgabe 5: Holographie** \n",
    "\n",
    "Reproduzieren Sie ein Hologramm. Vergleichen Sie das reelle mit dem virtuellen Bild.\n",
    "\n",
    "Weiten Sie den Laserstrahl hierzu jeweils geeignet auf. Überzeugen Sie sich davon, dass Sie wirklich **dreidimensional** beobachten können, d.h. dass sich je nach Beobachtungsposition die Perspektive ändert und zunächst verborgene Details des Hologramms ggf. sichtbar werden. Das reelle Bild kann auf einem Schirm (weißes Papier) aufgefangen werden. Bewegen Sie den Schirm durch das Strahlungsfeld. Zeigen Sie, dass die Information über ein Gegenstandsdetail nicht nur an einer bestimmten Stelle des Hologramms gespeichert ist. Decken Sie hierzu verschiedene Bereiche des zunächst weit ausgeleuchteten Hologramms ab. Dokumentieren und diskutieren Sie Ihre Beobachtungen.\n",
    "\n",
    "---"
   ]
  },
  {
   "attachments": {},
   "cell_type": "markdown",
   "id": "3765fe26-dd03-4e13-bf06-be6ff21cca3e",
   "metadata": {},
   "source": [
    "**Lösung:**\n",
    "\n",
    "Das Licht des Lasers wird durch eine Linse aufgeweitet und auf das Interferenzbild gerichtet. Dann lässt sich das Hologramm auf der Seite hinter dem Laser beobachten. Durch Änderung des Blickwinkels ist es möglich vorher verdeckte Objekte im Bild zu beobachten, es ist also dreidimensional. Wenn man verschiedene Bereiche des Interferenzmusters vor dem Laser abschirmt, bleibt dennoch das ganze Hologramm erhalten. Somit kann man darauf schließen, das die Information über ein Gegenstandsdeteil nicht nur an einer bestimmten Stelle des Hologramms gespeichert ist.    \n"
   ]
  }
 ],
 "metadata": {
  "kernelspec": {
   "display_name": "Python 3 (ipykernel)",
   "language": "python",
   "name": "python3"
  },
  "language_info": {
   "codemirror_mode": {
    "name": "ipython",
    "version": 3
   },
   "file_extension": ".py",
   "mimetype": "text/x-python",
   "name": "python",
   "nbconvert_exporter": "python",
   "pygments_lexer": "ipython3",
   "version": "3.11.2"
  }
 },
 "nbformat": 4,
 "nbformat_minor": 5
}
